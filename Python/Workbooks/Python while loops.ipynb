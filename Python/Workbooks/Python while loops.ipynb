{
  "nbformat": 4,
  "nbformat_minor": 0,
  "metadata": {
    "colab": {
      "provenance": []
    },
    "kernelspec": {
      "name": "python3",
      "display_name": "Python 3"
    }
  },
  "cells": [
    {
      "cell_type": "markdown",
      "metadata": {
        "id": "Bk0oq2A9bkX2"
      },
      "source": [
        "## Section 2c. While Loops\n"
      ]
    },
    {
      "cell_type": "markdown",
      "metadata": {
        "id": "Rr2aU86AcLdx"
      },
      "source": [
        "The earlier section discussed about for loops, where we talk about us eating for as long as we are hungry.\n",
        "\n",
        "In this section, we have another similar control flow statement called the while loop. You can consider the while loop to look something like the following:\n",
        "\n",
        "```\n",
        "I am hungry\n",
        "while still hungry:\n",
        "  eat wantan mee\n",
        "  ask myself if i am still hungry\n",
        "```\n",
        "\n",
        "Similar to for control statements, while loops contains four items:\n",
        "*   initialization of a variable which will be tested in the while loop\n",
        "*   a condition to be tested (True or False)\n",
        "*   statements to be run as long as condition is true\n",
        "*   update the variable to be tested\n",
        "\n",
        "Lets look at an example to make this more concrete. Assume we want to print out the text \"hey\" five times. The for loop version will look like this:"
      ]
    },
    {
      "cell_type": "code",
      "metadata": {
        "colab": {
          "base_uri": "https://localhost:8080/"
        },
        "id": "CW2XvmL1hlhw",
        "outputId": "bdf43e9a-7900-4269-fbb0-85b78ba05e09"
      },
      "source": [],
      "execution_count": null,
      "outputs": [
        {
          "output_type": "stream",
          "name": "stdout",
          "text": [
            "hey\n",
            "hey\n",
            "hey\n",
            "hey\n",
            "hey\n"
          ]
        }
      ]
    },
    {
      "cell_type": "markdown",
      "metadata": {
        "id": "8VVdpBsUhw7Z"
      },
      "source": [
        "The while loop version will look like the following:"
      ]
    },
    {
      "cell_type": "code",
      "metadata": {
        "colab": {
          "base_uri": "https://localhost:8080/"
        },
        "id": "pI7ujIwJh1AG",
        "outputId": "9c0b4ba6-6020-4a94-d31c-e8f52a909f29"
      },
      "source": [],
      "execution_count": null,
      "outputs": [
        {
          "output_type": "stream",
          "name": "stdout",
          "text": [
            "hey\n",
            "hey\n",
            "hey\n",
            "hey\n",
            "hey\n"
          ]
        }
      ]
    },
    {
      "cell_type": "markdown",
      "metadata": {
        "id": "OYNKdr0jicgc"
      },
      "source": [
        "We will be using one variable to keep track if the loop. This variable needs to be initialized at the start before the while loop. Everytime before the while loop is executed,  the variable is tested to check. Within the while loop, you execute the print statement. It is also important to update the variable explicitly.\n"
      ]
    },
    {
      "cell_type": "markdown",
      "metadata": {
        "id": "SRdGPe3GhsQF"
      },
      "source": [
        "*Question 2c.1*\n",
        "\n",
        "Can every for loop be converted to a while loop?\n",
        "\n",
        "*Question 2c.2*\n",
        "\n",
        "Convert the following for loops into while loop:\n"
      ]
    },
    {
      "cell_type": "code",
      "metadata": {
        "colab": {
          "base_uri": "https://localhost:8080/"
        },
        "id": "_5E3RaWibqj6",
        "outputId": "d419d9b3-1dca-4061-8369-4fb4c59f7abd"
      },
      "source": [],
      "execution_count": null,
      "outputs": [
        {
          "output_type": "stream",
          "name": "stdout",
          "text": [
            "4\n",
            "5\n",
            "6\n",
            "7\n"
          ]
        }
      ]
    },
    {
      "cell_type": "code",
      "source": [],
      "metadata": {
        "colab": {
          "base_uri": "https://localhost:8080/"
        },
        "id": "c711DDVRmzJC",
        "outputId": "e66c0cdf-28f2-4e75-cf06-f3fc65612a63"
      },
      "execution_count": null,
      "outputs": [
        {
          "output_type": "stream",
          "name": "stdout",
          "text": [
            "4\n",
            "5\n",
            "6\n",
            "7\n"
          ]
        }
      ]
    },
    {
      "cell_type": "markdown",
      "metadata": {
        "id": "LJ8fNf-Cs5Y9"
      },
      "source": [
        "*Question 2c.3*\n",
        "\n",
        "Convert the following for loops into while loop:"
      ]
    },
    {
      "cell_type": "markdown",
      "source": [
        "```\n",
        "count = 0\n",
        "for j in range(3):\n",
        "  for j in range(5):\n",
        "    count = count + 1\n",
        "print(count)\n",
        "```"
      ],
      "metadata": {
        "id": "udXwMFp56cfz"
      }
    },
    {
      "cell_type": "code",
      "source": [],
      "metadata": {
        "colab": {
          "base_uri": "https://localhost:8080/"
        },
        "id": "9hf9M7PJzmvD",
        "outputId": "430ab5af-de61-4cd0-85e1-92e6c4184c7b"
      },
      "execution_count": null,
      "outputs": [
        {
          "output_type": "stream",
          "name": "stdout",
          "text": [
            "5\n"
          ]
        }
      ]
    },
    {
      "cell_type": "markdown",
      "metadata": {
        "id": "0AQPgM4-utVh"
      },
      "source": [
        "*Question 2c.4*\n",
        "\n",
        "Given the following piece of code, what will be the value of the number at the end of the while loop?\n",
        "\n",
        "```\n",
        "count = 1\n",
        "while count < 100:\n",
        "  print(count)\n",
        "  count = count * 3\n",
        "```"
      ]
    },
    {
      "cell_type": "code",
      "metadata": {
        "colab": {
          "base_uri": "https://localhost:8080/"
        },
        "id": "cTdZR-aUwOAR",
        "outputId": "8851ae51-8405-4918-f6a4-f2bde8a07ff9"
      },
      "source": [],
      "execution_count": null,
      "outputs": [
        {
          "output_type": "stream",
          "text": [
            "243\n"
          ],
          "name": "stdout"
        }
      ]
    },
    {
      "cell_type": "markdown",
      "metadata": {
        "id": "OW4dRWpUvIEQ"
      },
      "source": [
        "*Question 2c.5*\n",
        "\n",
        "Given the following piece of code, what will be the value of the number at the end of the while loop?\n",
        "\n",
        "```\n",
        "count = 1\n",
        "while count >= 1:\n",
        "  print(count)\n",
        "  count = count + 1\n",
        "```"
      ]
    },
    {
      "cell_type": "markdown",
      "metadata": {
        "id": "XQn8lepyvpBx"
      },
      "source": [
        "*Question 2c.6*\n",
        "\n",
        "Write a While Loop that would increment number by 10 until number > 100. The initial value of number is 0.\n",
        "* if the number is >= 10, print \"foo\"  \n",
        "* if the number is >=50, print \"bar\"  "
      ]
    },
    {
      "cell_type": "code",
      "metadata": {
        "colab": {
          "base_uri": "https://localhost:8080/"
        },
        "id": "-6LoCk5btfxe",
        "outputId": "44993af5-6240-4d9e-f1ec-8681dd5753ce"
      },
      "source": [],
      "execution_count": null,
      "outputs": [
        {
          "output_type": "stream",
          "name": "stdout",
          "text": [
            "foo\n",
            "foo\n",
            "foo\n",
            "foo\n",
            "bar\n",
            "bar\n",
            "bar\n",
            "bar\n",
            "bar\n",
            "bar\n"
          ]
        }
      ]
    },
    {
      "cell_type": "code",
      "metadata": {
        "id": "Z3mYHYpWw0qA"
      },
      "source": [],
      "execution_count": null,
      "outputs": []
    }
  ]
}