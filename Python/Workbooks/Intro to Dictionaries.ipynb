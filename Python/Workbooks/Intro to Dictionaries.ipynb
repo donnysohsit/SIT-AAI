{
  "nbformat": 4,
  "nbformat_minor": 0,
  "metadata": {
    "colab": {
      "provenance": []
    },
    "kernelspec": {
      "name": "python3",
      "display_name": "Python 3"
    }
  },
  "cells": [
    {
      "cell_type": "markdown",
      "metadata": {
        "id": "Bk0oq2A9bkX2"
      },
      "source": [
        "## Section 2d. Introduction to Dictionaries\n"
      ]
    },
    {
      "cell_type": "markdown",
      "metadata": {
        "id": "Rr2aU86AcLdx"
      },
      "source": [
        "A dictionary is a collection of key value pairs. We use curly braces to initialize a dictionary. If you are familiar with other languages, this is similar to a hashtable."
      ]
    },
    {
      "cell_type": "code",
      "metadata": {
        "colab": {
          "base_uri": "https://localhost:8080/"
        },
        "id": "CW2XvmL1hlhw",
        "outputId": "2c3e9fe7-99a1-4470-827e-a06ac15acd0a"
      },
      "source": [],
      "execution_count": null,
      "outputs": [
        {
          "output_type": "stream",
          "name": "stdout",
          "text": [
            "{}\n"
          ]
        }
      ]
    },
    {
      "cell_type": "code",
      "source": [],
      "metadata": {
        "id": "AuO__yKnJ4N8",
        "colab": {
          "base_uri": "https://localhost:8080/"
        },
        "outputId": "4d1bd7f2-e417-4aa0-aaa3-cfc37538e6bf"
      },
      "execution_count": null,
      "outputs": [
        {
          "output_type": "stream",
          "name": "stdout",
          "text": [
            "{'SR7A': 20.3, 'SR7B': 20.5}\n"
          ]
        }
      ]
    },
    {
      "cell_type": "markdown",
      "source": [
        "Note that when defining a dictionary, individual key value pairs are seperated by the comma. Within each key value pair, they are seperated by the colon. The left element is the key and the right element is the value."
      ],
      "metadata": {
        "id": "W3zKkc_m2Rq0"
      }
    },
    {
      "cell_type": "code",
      "source": [],
      "metadata": {
        "colab": {
          "base_uri": "https://localhost:8080/"
        },
        "id": "KsaKuQX52eUy",
        "outputId": "e65bacde-403a-42b9-df29-967dee739c8e"
      },
      "execution_count": null,
      "outputs": [
        {
          "output_type": "execute_result",
          "data": {
            "text/plain": [
              "dict_keys(['SR7A', 'SR7B'])"
            ]
          },
          "metadata": {},
          "execution_count": 5
        }
      ]
    },
    {
      "cell_type": "code",
      "source": [],
      "metadata": {
        "colab": {
          "base_uri": "https://localhost:8080/"
        },
        "id": "KNCQBonG2gRu",
        "outputId": "bb5ee770-37cd-47e4-e031-898ae1be241b"
      },
      "execution_count": null,
      "outputs": [
        {
          "output_type": "execute_result",
          "data": {
            "text/plain": [
              "dict_values([20.3, 20.5])"
            ]
          },
          "metadata": {},
          "execution_count": 6
        }
      ]
    },
    {
      "cell_type": "markdown",
      "source": [
        "Note that the key can only hold one value. Hence if we set the same key to two values, it will only take the last value."
      ],
      "metadata": {
        "id": "ExpW1o8P2i11"
      }
    },
    {
      "cell_type": "code",
      "source": [],
      "metadata": {
        "colab": {
          "base_uri": "https://localhost:8080/"
        },
        "id": "vBKe-8E808Mk",
        "outputId": "e8dba9a0-5a12-424e-c62b-fb0e9ae995b9"
      },
      "execution_count": null,
      "outputs": [
        {
          "output_type": "stream",
          "name": "stdout",
          "text": [
            "{'SR7A': 20.3, 'sr7A': 20.5}\n"
          ]
        }
      ]
    },
    {
      "cell_type": "code",
      "source": [],
      "metadata": {
        "colab": {
          "base_uri": "https://localhost:8080/"
        },
        "id": "XDkFvtKO0--1",
        "outputId": "b50e6cb9-8e89-4a77-99eb-4e72b1502473"
      },
      "execution_count": null,
      "outputs": [
        {
          "output_type": "execute_result",
          "data": {
            "text/plain": [
              "2"
            ]
          },
          "metadata": {},
          "execution_count": 9
        }
      ]
    },
    {
      "cell_type": "markdown",
      "source": [
        "The value in the key value pair can be anything, for example a string, a list, another dictionary. To access the value in the key, we use the square brackets."
      ],
      "metadata": {
        "id": "vpjkx6BG2zkp"
      }
    },
    {
      "cell_type": "code",
      "source": [],
      "metadata": {
        "colab": {
          "base_uri": "https://localhost:8080/"
        },
        "id": "ZiMEnqIf2_hp",
        "outputId": "d870db35-9029-4399-a736-d0c998318535"
      },
      "execution_count": null,
      "outputs": [
        {
          "output_type": "stream",
          "name": "stdout",
          "text": [
            "20.3\n",
            "20.5\n"
          ]
        }
      ]
    },
    {
      "cell_type": "code",
      "source": [],
      "metadata": {
        "colab": {
          "base_uri": "https://localhost:8080/"
        },
        "id": "-VkpbjZS-dzV",
        "outputId": "80f0edfa-ddb4-4a2e-d310-aea4c8ad732b"
      },
      "execution_count": null,
      "outputs": [
        {
          "output_type": "stream",
          "name": "stdout",
          "text": [
            "SR7A holds the value 20.3\n",
            "sr7A holds the value 20.5\n"
          ]
        }
      ]
    },
    {
      "cell_type": "code",
      "source": [],
      "metadata": {
        "id": "coH2qp5V_qKx"
      },
      "execution_count": null,
      "outputs": []
    },
    {
      "cell_type": "code",
      "source": [],
      "metadata": {
        "id": "9Qn0VeIr364A"
      },
      "execution_count": null,
      "outputs": []
    },
    {
      "cell_type": "code",
      "source": [],
      "metadata": {
        "colab": {
          "base_uri": "https://localhost:8080/"
        },
        "id": "n796Wblj1Adb",
        "outputId": "e2e2698a-2388-4fc4-c39f-da60ba2c3e51"
      },
      "execution_count": null,
      "outputs": [
        {
          "output_type": "execute_result",
          "data": {
            "text/plain": [
              "{'SR7A': 20.3, 'sr7A': 20.5, 'SR7B': 21}"
            ]
          },
          "metadata": {},
          "execution_count": 17
        }
      ]
    },
    {
      "cell_type": "code",
      "source": [],
      "metadata": {
        "colab": {
          "base_uri": "https://localhost:8080/"
        },
        "id": "M44WWib5__7E",
        "outputId": "97241f4b-763d-497a-c7e6-3e7864212bd8"
      },
      "execution_count": null,
      "outputs": [
        {
          "output_type": "stream",
          "name": "stdout",
          "text": [
            "SR5A has no sensor\n",
            "SR7A has temperature 20.3\n"
          ]
        }
      ]
    },
    {
      "cell_type": "markdown",
      "source": [
        "To create a new value, we just assign it using the square brackets."
      ],
      "metadata": {
        "id": "05N5HMs14Z9t"
      }
    },
    {
      "cell_type": "code",
      "source": [],
      "metadata": {
        "id": "OXOTfamf1Uiw"
      },
      "execution_count": null,
      "outputs": []
    },
    {
      "cell_type": "code",
      "source": [],
      "metadata": {
        "colab": {
          "base_uri": "https://localhost:8080/"
        },
        "id": "aUpbLLNf4hn9",
        "outputId": "9e769a8b-82f5-4542-c5c6-124b27c00791"
      },
      "execution_count": null,
      "outputs": [
        {
          "output_type": "stream",
          "name": "stdout",
          "text": [
            "{'SR7A': 20.3, 'SR7B': 20.5, 'SR7C': 21.5, 'SR7D': 19.5, 'SR7E': 19.0}\n"
          ]
        }
      ]
    },
    {
      "cell_type": "markdown",
      "source": [
        "If we try to access a key which is not present, an error will be thrown. Hence it is always good to check if the key is present in the dictionary or not. For instance, if we have a list with all the rooms in the building:"
      ],
      "metadata": {
        "id": "uvkNEC2y4lo0"
      }
    },
    {
      "cell_type": "code",
      "source": [],
      "metadata": {
        "id": "PCMwImn24jqw"
      },
      "execution_count": null,
      "outputs": []
    },
    {
      "cell_type": "code",
      "source": [],
      "metadata": {
        "colab": {
          "base_uri": "https://localhost:8080/"
        },
        "id": "frOVL3DW5Pfa",
        "outputId": "8e7e2fb5-9d64-42b5-8be6-90c026baf70a"
      },
      "execution_count": null,
      "outputs": [
        {
          "output_type": "stream",
          "name": "stdout",
          "text": [
            "SR7A: 20.3\n",
            "SR7B: 20.5\n",
            "SR7E: 19.0\n"
          ]
        }
      ]
    },
    {
      "cell_type": "code",
      "source": [
        "temperature_list = [20.4, 25.3, 20.1, 20.4]"
      ],
      "metadata": {
        "id": "1pDnNKjS5VSG"
      },
      "execution_count": null,
      "outputs": []
    },
    {
      "cell_type": "code",
      "source": [],
      "metadata": {
        "id": "GvExCzSwAyug"
      },
      "execution_count": null,
      "outputs": []
    },
    {
      "cell_type": "code",
      "source": [],
      "metadata": {
        "colab": {
          "base_uri": "https://localhost:8080/"
        },
        "id": "SinoLlEdBV_4",
        "outputId": "5c727a03-edca-48e3-e8cf-e0317aa2dab2"
      },
      "execution_count": null,
      "outputs": [
        {
          "output_type": "stream",
          "name": "stdout",
          "text": [
            "20.4\n",
            "25.3\n",
            "20.1\n",
            "20.4\n",
            "{'low_temp': {0: 20.4, 2: 20.1, 3: 20.4}}\n"
          ]
        }
      ]
    },
    {
      "cell_type": "code",
      "source": [],
      "metadata": {
        "colab": {
          "base_uri": "https://localhost:8080/"
        },
        "id": "pK_UNpZuBfE1",
        "outputId": "6c995e0f-0b63-47f5-e583-a704bf3a9c17"
      },
      "execution_count": null,
      "outputs": [
        {
          "output_type": "execute_result",
          "data": {
            "text/plain": [
              "dict_keys([0, 2, 3])"
            ]
          },
          "metadata": {},
          "execution_count": 37
        }
      ]
    },
    {
      "cell_type": "markdown",
      "source": [
        "##### Quiz 2d.1"
      ],
      "metadata": {
        "id": "fWhdxmfV-Aze"
      }
    },
    {
      "cell_type": "markdown",
      "source": [
        "https://www.hackerrank.com/challenges/finding-the-percentage/problem?isFullScreen=true"
      ],
      "metadata": {
        "id": "IoKsKq89-A_D"
      }
    },
    {
      "cell_type": "code",
      "source": [],
      "metadata": {
        "id": "uzJ5l30SGLQj"
      },
      "execution_count": null,
      "outputs": []
    }
  ]
}