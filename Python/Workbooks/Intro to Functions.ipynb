{
  "nbformat": 4,
  "nbformat_minor": 0,
  "metadata": {
    "colab": {
      "provenance": []
    },
    "kernelspec": {
      "name": "python3",
      "display_name": "Python 3"
    }
  },
  "cells": [
    {
      "cell_type": "markdown",
      "metadata": {
        "id": "Bk0oq2A9bkX2"
      },
      "source": [
        "## Section 3a. Functions\n"
      ]
    },
    {
      "cell_type": "markdown",
      "metadata": {
        "id": "Rr2aU86AcLdx"
      },
      "source": [
        "### Section 3a.1 Introducing Functions\n",
        "\n",
        "We have crossed one huge hurdle and currently am now in the final section in our introduction to python section of software engineering. Today we are going to start talking about something called functions. This is our first taste of programming methodology and is one of the first instances we get exposed to a form of programming known as functional programming. What functions mean is that they allow us to pack a list of statements together.\n",
        "\n",
        "For example, let's assume the following. You may need to drive from one place to another during Chinese New Year (while observing social distancing rules of course). If you are driving a manual car, there are a set of instructions you need to observe. For example you need to maintain a half clutch position as you are moving off from start. You need to step on the clutch while you are changing gears, and you also need to remember when you should be changing gears.\n",
        "\n",
        "This set of instructions can be considered to be abstracted with a semi-automatic car. In a sumi-automatic car, you no longer need to be concerned with the many steps, but you have full confidence that all the steps required in changing the gear are managed by the car and you just need to press the up or the down button to change up or change down the gear.\n",
        "\n",
        "This up or down button is essentially what a function is. That function abstracts away the many steps required to change up and down a gear and reduces it down to an up and down button."
      ]
    },
    {
      "cell_type": "markdown",
      "metadata": {
        "id": "YkvVTrLVCJr4"
      },
      "source": [
        "### Section 3a.2 Anatomy of a function\n",
        "\n",
        "Let's look at a very simple example of a function:"
      ]
    },
    {
      "cell_type": "code",
      "metadata": {
        "id": "Cgmtlf4p1vMi"
      },
      "source": [
        "def say_hello():\n",
        "  print(\"hello world\")\n",
        "  print(\"does this print?\")"
      ],
      "execution_count": null,
      "outputs": []
    },
    {
      "cell_type": "code",
      "source": [
        "say_hello()"
      ],
      "metadata": {
        "colab": {
          "base_uri": "https://localhost:8080/"
        },
        "id": "T0v-5I1Blpg8",
        "outputId": "7f604573-9d7d-4713-efdc-244d62468294"
      },
      "execution_count": null,
      "outputs": [
        {
          "output_type": "stream",
          "name": "stdout",
          "text": [
            "hello world\n",
            "does this print?\n"
          ]
        }
      ]
    },
    {
      "cell_type": "markdown",
      "metadata": {
        "id": "LiAHhqBt1ylt"
      },
      "source": [
        "Let's break this down step by step. The term\n",
        "\n",
        "```\n",
        "def\n",
        "```\n",
        "\n",
        "is known as a keyword. This keyword defines that what is to follow will be a function. In this case, the name of the function is say_hello. We will first ignore the two round brackets that follow, but notice that there is a colon symbol.\n",
        "\n",
        "What the colon symbolizes is that this is the start of the function. What is to follow will be the statements within the function call. In this function call, we only have one statement, which is the print statement. Notice that this print statement is indented as well. Like the if or for commands, this indentation denotes a code block.\n",
        "\n",
        "The code cell above has one command, which is\n",
        "\n",
        "```\n",
        "say_hello()\n",
        "```\n",
        "\n",
        "This calls the function say_hello() and hence prints out the statement \"hello world\".\n",
        "\n",
        "Let's try to write a function that has more lines:"
      ]
    },
    {
      "cell_type": "code",
      "metadata": {
        "id": "0cALwZuk-B45"
      },
      "source": [
        "def say_hello_and_tada():\n",
        "  print(\"hello\")\n",
        "  print(\"tada\")"
      ],
      "execution_count": null,
      "outputs": []
    },
    {
      "cell_type": "code",
      "source": [
        "say_hello_and_tada()"
      ],
      "metadata": {
        "colab": {
          "base_uri": "https://localhost:8080/"
        },
        "id": "8AWSs-J8mcy-",
        "outputId": "58e1cbd7-0551-47af-c89c-4a5ad533e261"
      },
      "execution_count": null,
      "outputs": [
        {
          "output_type": "stream",
          "name": "stdout",
          "text": [
            "hello\n",
            "tada\n"
          ]
        }
      ]
    },
    {
      "cell_type": "markdown",
      "metadata": {
        "id": "wLVPyVXg-L7G"
      },
      "source": [
        "In the function above, notice now we have two print statements in the function, and both are indented with the same amount of space. When we call out the function say_hello_and_tada, it prints out both the lines hello and tada.\n",
        "\n",
        "Let's now do a function that is just slightly more complex. Here we have a function which has a for loop within. Now we are writing a function which prints out the hello statement five times."
      ]
    },
    {
      "cell_type": "code",
      "metadata": {
        "colab": {
          "base_uri": "https://localhost:8080/"
        },
        "id": "wx4spctB9i9I",
        "outputId": "eb1f0c68-243c-493c-8e22-a48d51f672b9"
      },
      "source": [
        "def say_hello_five_times():\n",
        "  for i in range(5):\n",
        "    print(f\"hello {i}\")\n",
        "  print(\"if i am tired, i drink water\")\n",
        "print(\"I feeling more awake\")"
      ],
      "execution_count": null,
      "outputs": [
        {
          "output_type": "stream",
          "name": "stdout",
          "text": [
            "I feeling more awake\n"
          ]
        }
      ]
    },
    {
      "cell_type": "code",
      "source": [
        "say_hello_five_times()"
      ],
      "metadata": {
        "colab": {
          "base_uri": "https://localhost:8080/"
        },
        "id": "SW_QTbxtm1CA",
        "outputId": "5fe9d9c7-7f23-470b-9f31-d8a800d13948"
      },
      "execution_count": null,
      "outputs": [
        {
          "output_type": "stream",
          "name": "stdout",
          "text": [
            "hello 0\n",
            "hello 1\n",
            "hello 2\n",
            "hello 3\n",
            "hello 4\n",
            "if i am tired, i drink water\n"
          ]
        }
      ]
    },
    {
      "cell_type": "markdown",
      "metadata": {
        "id": "oYxhuqbUABGC"
      },
      "source": [
        "In the first portion, we have the for loop which uses the range function. It prints out the hello line for five times.\n",
        "\n",
        "After printing the hello line, notice that the next line \"tired drink water\" is outside of the for loop, but still within the function. Hence the line \"tired drink water\" is only printed out once.\n",
        "\n",
        "After that line notice that we have a \"feeling very strong\" line. However this line is outside of the function. Hence it gets printed out regardless if the function is being called. Hence in the cell, note that the \"feeling very strong\" line is printed out first, followed by the five hellos and then the line on drinking water."
      ]
    },
    {
      "cell_type": "markdown",
      "metadata": {
        "id": "XmV9mVn59_2y"
      },
      "source": [
        "### Section 3a.3 Function Parameters and Return\n",
        "\n",
        "In the earlier examples, we have seen functions with multiple lines of instructions. However sometimes it is often useful for the function to accept certain parameters. For instance, let's say instead of just a generic hello world, we want to be able to great the person's name? That can be achieved by this:"
      ]
    },
    {
      "cell_type": "code",
      "metadata": {
        "id": "CW2XvmL1hlhw",
        "colab": {
          "base_uri": "https://localhost:8080/"
        },
        "outputId": "6e4fc4e1-a10e-41a2-cd68-f81653123678"
      },
      "source": [
        "x = 5\n",
        "print(f\"this is the print {x}\")\n",
        "x"
      ],
      "execution_count": null,
      "outputs": [
        {
          "output_type": "stream",
          "name": "stdout",
          "text": [
            "this is the print 5\n"
          ]
        },
        {
          "output_type": "execute_result",
          "data": {
            "text/plain": [
              "5"
            ]
          },
          "metadata": {},
          "execution_count": 21
        }
      ]
    },
    {
      "cell_type": "code",
      "source": [
        "def say_hello(name):\n",
        "  print(f\"hello {name}\")"
      ],
      "metadata": {
        "id": "W_cUdzmb4ZOk"
      },
      "execution_count": null,
      "outputs": []
    },
    {
      "cell_type": "code",
      "source": [
        "say_hello(\"Eric\")"
      ],
      "metadata": {
        "colab": {
          "base_uri": "https://localhost:8080/"
        },
        "id": "Zjn_iUEgnyf2",
        "outputId": "467386fc-845a-4895-9c8f-d2d77ee89462"
      },
      "execution_count": null,
      "outputs": [
        {
          "output_type": "stream",
          "name": "stdout",
          "text": [
            "hello Eric\n"
          ]
        }
      ]
    },
    {
      "cell_type": "markdown",
      "metadata": {
        "id": "ZIFz2dxuCijR"
      },
      "source": [
        "Note that in this example, we passed in a parameter known as name, and it is being used in the print statement. Such parameters are useful in many situations (for example) where the function is example calculating a certain mathematical formula.\n",
        "\n",
        "Typically a function also has an instruction known as a return statement. You can consider the parameter to be what the function requires. The function will take in the parameter, work on the necessary actions on it and then return the value of the worked parameters. Lets do a simple example again. Let's assume you want to write a function that calculates the square of a number. You may end up with something like the following:\n",
        "\n",
        "```\n",
        "def square_number(x):\n",
        "  print(x * x)\n",
        "```\n",
        "\n",
        "Let's break down what the statement is doing. The function's name is square _number and it takes in a single object known as X."
      ]
    },
    {
      "cell_type": "code",
      "metadata": {
        "id": "BzGpDzlxCezz"
      },
      "source": [
        "def square_number_1(x):\n",
        "  print(x*x)"
      ],
      "execution_count": null,
      "outputs": []
    },
    {
      "cell_type": "code",
      "source": [
        "the_square_of_five = square_number_1(5)"
      ],
      "metadata": {
        "colab": {
          "base_uri": "https://localhost:8080/"
        },
        "id": "CtQpgpFrA5os",
        "outputId": "b06e8a89-1c50-460d-ce56-115198e5f3c5"
      },
      "execution_count": null,
      "outputs": [
        {
          "output_type": "stream",
          "name": "stdout",
          "text": [
            "25\n"
          ]
        }
      ]
    },
    {
      "cell_type": "code",
      "source": [
        "print(the_square_of_five)"
      ],
      "metadata": {
        "colab": {
          "base_uri": "https://localhost:8080/"
        },
        "id": "5AzmPN2mBGoU",
        "outputId": "0b998fa7-411a-467c-bb93-c361b32fdc52"
      },
      "execution_count": null,
      "outputs": [
        {
          "output_type": "stream",
          "name": "stdout",
          "text": [
            "None\n"
          ]
        }
      ]
    },
    {
      "cell_type": "markdown",
      "metadata": {
        "id": "JkCBgFgYFIJP"
      },
      "source": [
        "Notice here that the correct result is not returned. When we try to print out the squared_number, we get no printouts returned. The reason why it is so is that the numbers are calculated within the function. After the calculation has completed, the function ends and hence nothing is assigned back to squared_number.\n",
        "\n",
        "What then should have been done was to introduce a return at the end of the function, and it will return the relevant numbers to the person who had called the function.\n"
      ]
    },
    {
      "cell_type": "code",
      "metadata": {
        "id": "OuqrWYDPFDrG"
      },
      "source": [
        "def square_number_3(x_in_function):\n",
        "  c_in_function = x_in_function * x_in_function\n",
        "  print(f\"c_in_function {c_in_function}\")\n",
        "  return (c_in_function)"
      ],
      "execution_count": null,
      "outputs": []
    },
    {
      "cell_type": "code",
      "source": [
        "number_to_be_squared = 8\n",
        "temp_number = square_number_3(number_to_be_squared)\n",
        "print(temp_number)"
      ],
      "metadata": {
        "colab": {
          "base_uri": "https://localhost:8080/"
        },
        "id": "w70E4p0NBzlo",
        "outputId": "4630fe36-3bda-4760-c67f-fc91f89317dc"
      },
      "execution_count": null,
      "outputs": [
        {
          "output_type": "stream",
          "name": "stdout",
          "text": [
            "c_in_function 64\n",
            "64\n"
          ]
        }
      ]
    },
    {
      "cell_type": "code",
      "source": [],
      "metadata": {
        "colab": {
          "base_uri": "https://localhost:8080/"
        },
        "id": "RbgzV6OFB7wR",
        "outputId": "f4386ad2-7994-472b-ef28-fa1dc4e71c8b"
      },
      "execution_count": null,
      "outputs": [
        {
          "output_type": "stream",
          "name": "stdout",
          "text": [
            "81\n"
          ]
        }
      ]
    },
    {
      "cell_type": "markdown",
      "metadata": {
        "id": "-KuHiWrZGjRZ"
      },
      "source": [
        "*Exercise 3a.1*\n",
        "\n",
        "Write a function which sums up and returns the sum of all the elements of a list."
      ]
    },
    {
      "cell_type": "code",
      "source": [
        "temp_list = [1,3,4,5,6]\n",
        "\n",
        "temp_sum = 0\n",
        "for i in temp_list:\n",
        "  temp_sum += i\n",
        "print(temp_sum)"
      ],
      "metadata": {
        "colab": {
          "base_uri": "https://localhost:8080/"
        },
        "id": "IwSa4oJgH7IV",
        "outputId": "f7e18a7f-0732-41d2-804a-7e75d94c0127"
      },
      "execution_count": null,
      "outputs": [
        {
          "output_type": "stream",
          "name": "stdout",
          "text": [
            "19\n"
          ]
        }
      ]
    },
    {
      "cell_type": "code",
      "source": [
        "temp_list_2 = [999,888,777]"
      ],
      "metadata": {
        "id": "xdvYpJ_7JOKh"
      },
      "execution_count": null,
      "outputs": []
    },
    {
      "cell_type": "code",
      "source": [
        "def sum_list(list_to_sum):\n",
        "  total = 0\n",
        "  print(\"this is inside the function\")\n",
        "  print(f\"this is the list_to_sum vairable {list_to_sum}\")\n",
        "  for i in list_to_sum:\n",
        "    print(f\"this is inside the for loop {i}\")\n",
        "    total += i\n",
        "  return total"
      ],
      "metadata": {
        "id": "i-y5vjM7DQFC"
      },
      "execution_count": null,
      "outputs": []
    },
    {
      "cell_type": "code",
      "source": [
        "# sum_list(temp_list_2)\n",
        "sum_list(temp_list)"
      ],
      "metadata": {
        "colab": {
          "base_uri": "https://localhost:8080/"
        },
        "id": "YQDB8O_XIEpZ",
        "outputId": "4cd7db1b-3797-4008-97a6-c2189c8f5ded"
      },
      "execution_count": null,
      "outputs": [
        {
          "output_type": "stream",
          "name": "stdout",
          "text": [
            "this is inside the function\n",
            "this is the list_to_sum vairable [1, 3, 4, 5, 6]\n",
            "this is inside the for loop 1\n",
            "this is inside the for loop 3\n",
            "this is inside the for loop 4\n",
            "this is inside the for loop 5\n",
            "this is inside the for loop 6\n"
          ]
        },
        {
          "output_type": "execute_result",
          "data": {
            "text/plain": [
              "19"
            ]
          },
          "metadata": {},
          "execution_count": 85
        }
      ]
    },
    {
      "cell_type": "code",
      "metadata": {
        "colab": {
          "base_uri": "https://localhost:8080/"
        },
        "id": "0hvJW4ZoG0AE",
        "outputId": "77d9e34a-7ab8-4a88-9baa-a8426e026c86"
      },
      "source": [
        "temp_list = [1,3,4,5,6]\n",
        "\n",
        "sum_list([1,3,4,5,6])\n"
      ],
      "execution_count": null,
      "outputs": [
        {
          "output_type": "execute_result",
          "data": {
            "text/plain": [
              "19"
            ]
          },
          "metadata": {},
          "execution_count": 61
        }
      ]
    },
    {
      "cell_type": "code",
      "source": [
        "def sum_list(list_to_sum):\n",
        "  total = 0\n",
        "  for i in list_to_sum:\n",
        "    total += i\n",
        "  return total"
      ],
      "metadata": {
        "id": "Zb_V5zkAMVmm"
      },
      "execution_count": null,
      "outputs": []
    },
    {
      "cell_type": "code",
      "source": [
        "sum_list([1,3,4,5,6])"
      ],
      "metadata": {
        "colab": {
          "base_uri": "https://localhost:8080/"
        },
        "id": "IPesUb7wMfFL",
        "outputId": "7447700c-b236-4a26-9fe9-2503fb21badb"
      },
      "execution_count": null,
      "outputs": [
        {
          "output_type": "execute_result",
          "data": {
            "text/plain": [
              "19"
            ]
          },
          "metadata": {},
          "execution_count": 91
        }
      ]
    },
    {
      "cell_type": "markdown",
      "metadata": {
        "id": "HPQBdLCTLM_X"
      },
      "source": [
        "*Exercise 3a.2*\n",
        "\n",
        "Write a function which takes in a list of numbers and returns the square of elements of previous list. (Please use a for loop..!)"
      ]
    },
    {
      "cell_type": "markdown",
      "source": [
        "input: [1,2,3]\n",
        "\n",
        "ouput: [1,4,9]"
      ],
      "metadata": {
        "id": "AUV0IqF7NJwx"
      }
    },
    {
      "cell_type": "code",
      "metadata": {
        "id": "K_Tr78QVMBO7"
      },
      "source": [
        "def return_square_list(list_to_square):\n",
        "  temp_list = []\n",
        "  for value in list_to_square:\n",
        "    squared_value = value * value\n",
        "    temp_list.append(squared_value)\n",
        "  return temp_list"
      ],
      "execution_count": null,
      "outputs": []
    },
    {
      "cell_type": "code",
      "source": [
        "return_square_list([5,2,3,4])"
      ],
      "metadata": {
        "colab": {
          "base_uri": "https://localhost:8080/"
        },
        "id": "J7axCk-Fu3dN",
        "outputId": "d5fad097-7f71-4cbc-a8d5-bab2a182909d"
      },
      "execution_count": null,
      "outputs": [
        {
          "output_type": "execute_result",
          "data": {
            "text/plain": [
              "[25, 4, 9, 16]"
            ]
          },
          "metadata": {},
          "execution_count": 93
        }
      ]
    },
    {
      "cell_type": "markdown",
      "metadata": {
        "id": "XJsPEx8FHTof"
      },
      "source": [
        "*Exercise 3a.3*\n",
        "\n",
        "Write a function which takes in a list of numbers and calculates the standard deviation of the list. The standard deviation is given by the formula:\n",
        "\n",
        "$\\sigma = \\sqrt{\\frac{\\sum^n_{(i=1)}{(x_i-\\mu)^2}}{n}}$"
      ]
    },
    {
      "cell_type": "code",
      "metadata": {
        "id": "Hj4yVR8JG2gX"
      },
      "source": [
        "def find_std_dev(array_list):\n",
        "  list_mean = sum(array_list) / len(array_list)\n",
        "  numerator = 0\n",
        "  for every element in the list:\n",
        "    element - list_mean\n",
        "    square it\n",
        "    add to a total_sum\n",
        "\n",
        "  n = length of the list\n",
        "\n",
        "  std_dev = 0\n",
        "  return(std_dev)"
      ],
      "execution_count": null,
      "outputs": []
    },
    {
      "cell_type": "code",
      "metadata": {
        "colab": {
          "base_uri": "https://localhost:8080/"
        },
        "id": "ujqU61GPKFIq",
        "outputId": "1ba9a9e8-9eb2-4dfc-e379-863c79b2f128"
      },
      "source": [
        "find_std_dev([1,2,3])"
      ],
      "execution_count": null,
      "outputs": [
        {
          "output_type": "execute_result",
          "data": {
            "text/plain": [
              "0.816496580927726"
            ]
          },
          "metadata": {},
          "execution_count": 70
        }
      ]
    },
    {
      "cell_type": "markdown",
      "metadata": {
        "id": "1J_MX354MiZ8"
      },
      "source": [
        "*Exercise 3a.4*\n",
        "\n",
        "Police and Thief\n",
        "\n",
        "We have two policemen and one thief. They are standing at random positions of a straight line.\n",
        "\n",
        "The thief broke into a house and triggered a silent alarm, alerting the two police officers to the location of the break-in. Assume that he is busy stealing and will not be moving.\n",
        "\n",
        "The two policemen start to make their way to the thief. Assume that the Policeman A reaches the thief first, return Policeman A. IF Policeman B reaches the thief first, return Policeman B. If they reach the scene at the same time, the Policemen will be dis-orientated and the thief will be able to escape. In that case return Thief.\n",
        "\n",
        "Reference:\n",
        "https://www.hackerrank.com/challenges/cats-and-a-mouse/problem"
      ]
    },
    {
      "cell_type": "code",
      "metadata": {
        "id": "VUCmWUVZKJMB"
      },
      "source": [],
      "execution_count": null,
      "outputs": []
    },
    {
      "cell_type": "markdown",
      "metadata": {
        "id": "2BDeoqy6Quqn"
      },
      "source": [
        "*Exercise 3a.5*\n",
        "\n",
        "Jumping Jim\n",
        "\n",
        "Suppose we are building a game and a character in the game is a person known as Jim that loves to jump. Let's say that he can jump a maximum height of $n$. He is next presented with a list of buildings that he needs to jump over. Within the list are the individual heights of buildings. Hence it means that if we have the list\n",
        "[4, 6, 7]\n",
        "\n",
        "it would mean three buildings of height 4, 6, 7\n",
        "\n",
        "In this game, Jim can drink a magic potion which allows him to increase the height of his jump by one unit. This lasts for the entire list of buildings.\n",
        "\n",
        "So if say his maximum height is 5, he would need to drink 2 magic potions in the example above.\n",
        "\n",
        "Your task is to write a function which takes as input the value n, the maximum height he can jump and array_list, the list of buildings. The function should return the number of magic potions he needs to drink. If he does not need to drink any potions, return 0.\n",
        "\n",
        "You may use the max function if you want.\n",
        "\n",
        "Reference:\n",
        "https://www.hackerrank.com/challenges/the-hurdle-race/problem"
      ]
    },
    {
      "cell_type": "code",
      "metadata": {
        "id": "Yr01tJFSOIeH",
        "colab": {
          "base_uri": "https://localhost:8080/"
        },
        "outputId": "70775ff3-b365-454a-df06-99880959a2a6"
      },
      "source": [
        "t_list = [1,4,5,6,7]\n",
        "max(t_list)"
      ],
      "execution_count": null,
      "outputs": [
        {
          "output_type": "execute_result",
          "data": {
            "text/plain": [
              "7"
            ]
          },
          "metadata": {},
          "execution_count": 71
        }
      ]
    },
    {
      "cell_type": "code",
      "source": [],
      "metadata": {
        "id": "GZTv_X-F7G7v"
      },
      "execution_count": null,
      "outputs": []
    },
    {
      "cell_type": "markdown",
      "metadata": {
        "id": "A-m-etBz026c"
      },
      "source": [
        "*Exercise 3a.6*\n",
        "\n",
        "Jumping Jim II\n",
        "\n",
        "Suppose we are building a game and a character in the game is a person known as Jim that loves to jump. Let's say that he can jump a maximum height of $n$. He is next presented with a list of buildings that he needs to jump over. Within the list are the individual heights of buildings. Hence it means that if we have the list\n",
        "[4, 6, 7]\n",
        "\n",
        "it would mean three buildings of height 4, 6, 7\n",
        "\n",
        "In this game, Jim can drink a magic potion which allows him to increase the height of his jump by one unit. Suppose now the potion only allows him one jump.\n",
        "\n",
        "So if say his maximum height is 5, he would need to drink 3 magic potions in the example above.\n",
        "\n",
        "Your task is to write a function which takes as input the value n, the maximum height he can jump and array_list, the list of buildings. The function should return the number of magic potions he needs to drink. If he does not need to drink any potions, return 0.\n",
        "\n",
        "You may use the max function if you want.\n",
        "\n",
        "Reference:\n",
        "https://www.hackerrank.com/challenges/the-hurdle-race/problem"
      ]
    },
    {
      "cell_type": "code",
      "metadata": {
        "id": "l27afzhdTpOl"
      },
      "source": [],
      "execution_count": null,
      "outputs": []
    },
    {
      "cell_type": "code",
      "metadata": {
        "colab": {
          "base_uri": "https://localhost:8080/"
        },
        "id": "n9k3EdTc2AqY",
        "outputId": "e5f90713-ec89-44ce-f673-cb954bd52e3c"
      },
      "source": [],
      "execution_count": null,
      "outputs": [
        {
          "output_type": "execute_result",
          "data": {
            "text/plain": [
              "3"
            ]
          },
          "metadata": {
            "tags": []
          },
          "execution_count": 2
        }
      ]
    },
    {
      "cell_type": "markdown",
      "metadata": {
        "id": "TwhBRz5o2TJY"
      },
      "source": [
        "*Exercise 3a.7*\n",
        "\n",
        "Jumping Jim III\n",
        "\n",
        "Suppose we are building a game and a character in the game is a person known as Jim that loves to jump. Let's say that he can jump a maximum height of $n$. He is next presented with a list of buildings that he needs to jump over. Within the list are the individual heights of buildings. Hence it means that if we have the list\n",
        "[4, 6, 7]\n",
        "\n",
        "it would mean three buildings of height 4, 6, 7\n",
        "\n",
        "In this game, Jim can drink a magic potion which allows him to increase the height of his jump by one unit. Suppose now the potion only allows him two jumps.\n",
        "\n",
        "So if say his maximum height is 5, he would need to drink 1 magic potion in the first jump over the building of height 6. He will need to take another drink to jump over the building of height 7. The number of potions he would require would then be equal to two in the example above.\n",
        "\n",
        "Your task is to write a function which takes as input the value n, the maximum height he can jump and array_list, the list of buildings. The function should return the number of magic potions he needs to drink. If he does not need to drink any potions, return 0.\n",
        "\n",
        "You may use the max function if you want.\n",
        "\n",
        "Reference:\n",
        "https://www.hackerrank.com/challenges/the-hurdle-race/problem"
      ]
    },
    {
      "cell_type": "code",
      "metadata": {
        "id": "_sipQj0A2Sbf"
      },
      "source": [],
      "execution_count": null,
      "outputs": []
    }
  ]
}