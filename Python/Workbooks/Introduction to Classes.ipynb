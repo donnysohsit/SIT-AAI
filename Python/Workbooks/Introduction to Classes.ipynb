{
  "nbformat": 4,
  "nbformat_minor": 0,
  "metadata": {
    "kernelspec": {
      "display_name": "Python 3",
      "language": "python",
      "name": "python3"
    },
    "language_info": {
      "codemirror_mode": {
        "name": "ipython",
        "version": 3
      },
      "file_extension": ".py",
      "mimetype": "text/x-python",
      "name": "python",
      "nbconvert_exporter": "python",
      "pygments_lexer": "ipython3",
      "version": "3.7.3"
    },
    "colab": {
      "provenance": []
    }
  },
  "cells": [
    {
      "cell_type": "markdown",
      "metadata": {
        "id": "3HBFNrbW8643"
      },
      "source": [
        "## Section 3b. Classes"
      ]
    },
    {
      "cell_type": "markdown",
      "metadata": {
        "id": "DC3SINaX9F8y"
      },
      "source": [
        "There are a few methods how programs can be written. So far we have been looking at writing of small functions. This form of development may not be able to work for large programs. Today our discussion will be another form of development process known as object orientated programming."
      ]
    },
    {
      "cell_type": "markdown",
      "metadata": {
        "id": "g6JrfgQFSWyv"
      },
      "source": [
        "### Section 3b.1 Procedural versus Object Orientated Programming\n"
      ]
    },
    {
      "cell_type": "markdown",
      "metadata": {
        "id": "YYAyVPbVCnzA"
      },
      "source": [
        "Definition from wikipedia:\n",
        "\n",
        "*   Procedural programming is a programming paradigm, derived from structured programming, based upon the concept of the procedure call. Procedures, also known as routines, subroutines, or functions, simply contain a series of computational steps to be carried out.\n",
        "\n",
        "*   Object-oriented programming (OOP) is a programming paradigm based on the concept of “objects”, which may contain data, in the form of fields, often known as attributes; and code, in the form of procedures, often known as methods."
      ]
    },
    {
      "cell_type": "markdown",
      "metadata": {
        "id": "Gk2q1O2_E39i"
      },
      "source": [
        "This means that procedural focuses on **functions / processes**. Object Orientated focuses on **objects and their behaviours**.\n",
        "\n",
        "\n",
        "So for instance, if we are looking at a bank application, a procedural way of writing the code will be to have functions deposit, withdraw, transfer.\n",
        "\n",
        "However a OOP way would be to focus on objects and their behaviours. Hence we will have objects such as customer, branch, account. This does not mean that the functions deposit, withdraw etc does not exist. It means that the focus will be on the classes, rather than on the functions themselves.\n",
        "\n",
        "Consider the following problem statement:\n",
        "\n",
        "**Customers are allowed to have different types of bank accounts, deposit money, withdraw money and transfer money between accounts.**\n",
        "\n",
        "\n",
        "<img src='https://4.bp.blogspot.com/-1ROdWNxn7v8/XBQ3W1emmmI/AAAAAAAAALU/C05s5HEb93QzB2weQXli829rK95aQpAxACLcBGAs/s1600/procedural-vs-oop-learn-java-oop.jpg' style=\"max-width:100%;\" />\n",
        "\n"
      ]
    },
    {
      "cell_type": "markdown",
      "metadata": {
        "id": "aoEbIfPUHTGC"
      },
      "source": [
        "In procedural programming we focus only on the functions withdraw, deposit and transfer.  \n",
        "\n",
        "However what the OOP way does is to group such functions or variables into a class. Hence we may have an Account class. Within the account class we will then have the functions\n",
        "\n",
        "*   withdraw\n",
        "*   deposit\n",
        "*   transfer"
      ]
    },
    {
      "cell_type": "markdown",
      "metadata": {
        "id": "qhzchrxZJqzJ"
      },
      "source": [
        "### Section 3b.2 Sample Class\n",
        "\n",
        "In the BankAccount class, we group the functions and variables together like so.\n",
        "\n",
        "| BankAccount |\n",
        "|-|\n",
        "|accountNumber|\n",
        "|balance|\n",
        "|----------------------------|\n",
        "|open()|\n",
        "|close()|\n",
        "|deposit()|\n",
        "|withdraw()|\n",
        "|transfer()|\n",
        "\n",
        "However we instantiate objects (instances) of such classes. You can think of the class like a mold and the instance to be the objects created from these molds.\n",
        "\n",
        "| joeAccount |amyAccount |\n",
        "|-|-|\n",
        "|555-7777|333-5555|\n",
        "|9999.99|7000.00|\n",
        "|----------------------------|----------------------------|\n",
        "|open()|open()|\n",
        "|close()|close()|\n",
        "|deposit()|deposit()|\n",
        "|withdraw()|withdraw()|\n",
        "|transfer()|transfer()|\n",
        "\n",
        "In the example above, we have two accounts, the first instance is that of joeAccount while the second instance is that of amyAccount. Notice that both instances have access to exactly the same functions. These functions are typically known as the interface.\n",
        "\n",
        "<img src='https://www.notimeforflashcards.com/wp-content/uploads/2014/08/playdough-egg-mold-.jpg' style=\"max-width:100%;\" />\n",
        "\n",
        "\n"
      ]
    },
    {
      "cell_type": "markdown",
      "metadata": {
        "id": "MZ0f9fdYPmWw"
      },
      "source": [
        "### Section 3b.3 What is in a Class?\n",
        "\n",
        "A class consists of two items. The first will be the attributes and the second will be the functions / methods.\n",
        "\n",
        "| BankAccount |\n",
        "|-|\n",
        "|accountNumber|\n",
        "|balance|\n",
        "|----------------------------|\n",
        "|open()|\n",
        "|close()|\n",
        "|deposit()|\n",
        "|withdraw()|\n",
        "|transfer()|\n",
        "\n",
        "Which are the attributes and which are the methods?"
      ]
    },
    {
      "cell_type": "markdown",
      "metadata": {
        "id": "Jppkp7c6QC04"
      },
      "source": [
        "Attributes:\n",
        "*   accountNumber\n",
        "*   balance\n",
        "\n",
        "Methods:\n",
        "*   open\n",
        "*   close\n",
        "*   deposit\n",
        "*   withdraw\n",
        "*   transfer"
      ]
    },
    {
      "cell_type": "markdown",
      "metadata": {
        "id": "9zTUCIeCR85V"
      },
      "source": [
        "### Section 3b.4 How do I define a class, attributes and functions?\n"
      ]
    },
    {
      "cell_type": "markdown",
      "metadata": {
        "id": "NzloML5KSFpA"
      },
      "source": [
        "#### Defining a Class\n",
        "\n",
        "We use first the keyword known as **class**. The next word is the name of the class. Do also note that there is a semicolon at the end of the name of the class.\n",
        "\n",
        "```\n",
        "class Account:\n",
        "```\n",
        "\n",
        "#### Defining a Function\n",
        "\n",
        "What follows from the class would be the various functions / methods of the class. Within the class, there must be a special function known as **\\_\\_init\\_\\_**. This function is known as the Constructor and this function is always called when a new object is instantiated from the class.\n",
        "\n",
        "```\n",
        "class Account:\n",
        "  def __init__ (self, name, accountNo):\n",
        "    other initialization code\n",
        "```\n",
        "\n",
        "Do note that these are class methods / functions and there is a *self*  function parameter. This self parameter needs not be passed in and is automatically added. This self parameter is also required for other class functions, not just the constructor.\n",
        "\n",
        "```\n",
        "class Account:\n",
        "  def __init__ (self, name, accountNo):\n",
        "    other initialization code\n",
        "  \n",
        "  def withdraw (self, amount):\n",
        "    other withdraw code\n",
        "\n",
        "```"
      ]
    },
    {
      "cell_type": "markdown",
      "metadata": {
        "id": "whoVnU3zWeTa"
      },
      "source": [
        "#### Defining Attributes\n",
        "\n",
        "It is important that the attributes be defined in the constructor. And they must have the self. keywords. An example is the following:\n",
        "\n",
        "```\n",
        "class Account:\n",
        "  def __init__ (self, name, accountNo):\n",
        "    self.name = name\n",
        "    self.accountNo = accountNo\n",
        "    self.balance = 0\n",
        "```\n",
        "\n",
        "This creates the class attributes of name, accountNo and balance and these attributes can be accessed from the different class methods.\n"
      ]
    },
    {
      "cell_type": "markdown",
      "metadata": {
        "id": "8qif8HcGXYdY"
      },
      "source": [
        "#### Defining \"Static Variables\"\n",
        "\n",
        "A static variable is a variable that will be shared among all the instance objects of a class. An example of a relevant static variable here is accountCount, where we want to keep a record of the number of accounts that have been created. We create a static variable in the following manner:\n",
        "\n",
        "```\n",
        "class Account:\n",
        "  accountCount = 0\n",
        "  def __init__ (self, name, accountNo):\n",
        "    self.name = name\n",
        "    self.accountNo = accountNo\n",
        "    self.balance = 0\n",
        "    Account.accountCount += 1\n",
        "```\n",
        "\n",
        "Note that to access this static variable we use the name of the class Account instead, reinforcing the fact that this variable is to be shared among all the objects of class Account."
      ]
    },
    {
      "cell_type": "markdown",
      "metadata": {
        "id": "lFl62i78SWyw"
      },
      "source": [
        "#### Defining Documentation\n",
        "\n",
        "Typically you should wish to add some comments to your class. How you may want to add these class comments would be to include them directly after the class definition.\n"
      ]
    },
    {
      "cell_type": "code",
      "metadata": {
        "id": "uqLf4uG-SWyw"
      },
      "source": [],
      "execution_count": null,
      "outputs": []
    },
    {
      "cell_type": "code",
      "metadata": {
        "colab": {
          "base_uri": "https://localhost:8080/"
        },
        "id": "jnVJGgQmSWyx",
        "outputId": "4fa58a05-0f7e-4e29-c991-1128053656f6"
      },
      "source": [],
      "execution_count": null,
      "outputs": [
        {
          "output_type": "stream",
          "name": "stdout",
          "text": [
            "This is a long comment.\n",
            "  It should work for multiple lines.\n",
            "  \n"
          ]
        }
      ]
    },
    {
      "cell_type": "markdown",
      "metadata": {
        "id": "O0vnraDEaeRT"
      },
      "source": [
        "### Section 3b.5 ATM Example\n"
      ]
    },
    {
      "cell_type": "code",
      "metadata": {
        "id": "YMuyet8HcTjG"
      },
      "source": [],
      "execution_count": null,
      "outputs": []
    },
    {
      "cell_type": "code",
      "metadata": {
        "id": "8MkyVjeacXio"
      },
      "source": [],
      "execution_count": null,
      "outputs": []
    },
    {
      "cell_type": "code",
      "metadata": {
        "colab": {
          "base_uri": "https://localhost:8080/"
        },
        "id": "khR_VA5ek-o2",
        "outputId": "8c3fc404-c061-4536-c4f9-01620a557c5c"
      },
      "source": [],
      "execution_count": null,
      "outputs": [
        {
          "output_type": "stream",
          "name": "stdout",
          "text": [
            "john has account 000 with balence 0\n",
            "peter has account 001 with balence 0\n"
          ]
        }
      ]
    },
    {
      "cell_type": "code",
      "source": [],
      "metadata": {
        "colab": {
          "base_uri": "https://localhost:8080/"
        },
        "id": "b1tuLE9lLrTR",
        "outputId": "8983cd34-fc6b-4cf6-9996-ae84b519d4ab"
      },
      "execution_count": null,
      "outputs": [
        {
          "output_type": "stream",
          "name": "stdout",
          "text": [
            "peter now has 500 in the bank account.\n"
          ]
        }
      ]
    },
    {
      "cell_type": "code",
      "metadata": {
        "colab": {
          "base_uri": "https://localhost:8080/"
        },
        "id": "HY8ikIDYcalN",
        "outputId": "4879353c-e20d-4b18-942e-16687f1226d8"
      },
      "source": [],
      "execution_count": null,
      "outputs": [
        {
          "output_type": "stream",
          "name": "stdout",
          "text": [
            "john now has 200 in the bank account.\n"
          ]
        }
      ]
    },
    {
      "cell_type": "code",
      "metadata": {
        "colab": {
          "base_uri": "https://localhost:8080/"
        },
        "id": "Z_CrvdMhcjZj",
        "outputId": "9db9ef0a-23e3-4db3-fff2-e3bb13aa7c8e"
      },
      "source": [],
      "execution_count": null,
      "outputs": [
        {
          "output_type": "stream",
          "name": "stdout",
          "text": [
            "Nice try dude\n"
          ]
        }
      ]
    },
    {
      "cell_type": "code",
      "metadata": {
        "colab": {
          "base_uri": "https://localhost:8080/"
        },
        "id": "YKi09A3YcnP7",
        "outputId": "59c88b9e-2ec8-4e5b-fbb8-21283d484ea0"
      },
      "source": [],
      "execution_count": null,
      "outputs": [
        {
          "output_type": "stream",
          "text": [
            "You now have this amount in your account: 100300\n"
          ],
          "name": "stdout"
        }
      ]
    },
    {
      "cell_type": "markdown",
      "metadata": {
        "id": "UAZ31x8dSWyx"
      },
      "source": [
        "### Section 3b.6 Employee Class Example"
      ]
    },
    {
      "cell_type": "code",
      "metadata": {
        "id": "113X55IOSWyx"
      },
      "source": [],
      "execution_count": null,
      "outputs": []
    },
    {
      "cell_type": "code",
      "source": [],
      "metadata": {
        "id": "5n2BYa96RX0B"
      },
      "execution_count": null,
      "outputs": []
    },
    {
      "cell_type": "code",
      "metadata": {
        "id": "awlCB1-Z5me-"
      },
      "source": [],
      "execution_count": null,
      "outputs": []
    },
    {
      "cell_type": "code",
      "metadata": {
        "id": "mXMAxvAxSWyy",
        "colab": {
          "base_uri": "https://localhost:8080/"
        },
        "outputId": "a6e983af-bdf8-48e7-99c6-4eb716a2aeee"
      },
      "source": [],
      "execution_count": null,
      "outputs": [
        {
          "output_type": "stream",
          "name": "stdout",
          "text": [
            "grasshopper has salary 4000\n"
          ]
        }
      ]
    },
    {
      "cell_type": "code",
      "source": [],
      "metadata": {
        "colab": {
          "base_uri": "https://localhost:8080/"
        },
        "id": "tKwF5xJ_TrHv",
        "outputId": "8b004438-7978-410b-d304-0feccf8175a4"
      },
      "execution_count": null,
      "outputs": [
        {
          "output_type": "execute_result",
          "data": {
            "text/plain": [
              "1"
            ]
          },
          "metadata": {},
          "execution_count": 53
        }
      ]
    },
    {
      "cell_type": "code",
      "metadata": {
        "colab": {
          "base_uri": "https://localhost:8080/"
        },
        "id": "sY8WPGcX59fe",
        "outputId": "a325e034-688b-4986-9f0f-593c24a4aaa2"
      },
      "source": [],
      "execution_count": null,
      "outputs": [
        {
          "output_type": "stream",
          "name": "stdout",
          "text": [
            "1\n"
          ]
        }
      ]
    },
    {
      "cell_type": "code",
      "metadata": {
        "id": "6KbBoPg0SWyy"
      },
      "source": [],
      "execution_count": null,
      "outputs": []
    },
    {
      "cell_type": "code",
      "metadata": {
        "colab": {
          "base_uri": "https://localhost:8080/"
        },
        "id": "xN4LLnQBSWyy",
        "outputId": "64506ada-e6a6-45bb-bb7e-1b7076143e8d"
      },
      "source": [],
      "execution_count": null,
      "outputs": [
        {
          "output_type": "stream",
          "name": "stdout",
          "text": [
            "grasshopper has salary 4000\n"
          ]
        }
      ]
    },
    {
      "cell_type": "code",
      "metadata": {
        "colab": {
          "base_uri": "https://localhost:8080/"
        },
        "id": "JK9bh3hPSWyz",
        "outputId": "b88cc888-b37b-4d0d-bd60-728d37294861"
      },
      "source": [],
      "execution_count": null,
      "outputs": [
        {
          "output_type": "stream",
          "name": "stdout",
          "text": [
            "manager can print.\n"
          ]
        }
      ]
    },
    {
      "cell_type": "code",
      "source": [],
      "metadata": {
        "colab": {
          "base_uri": "https://localhost:8080/",
          "height": 166
        },
        "id": "BgM43ZnsSL_5",
        "outputId": "0f59f548-4296-4152-c704-2b2744eefadc"
      },
      "execution_count": null,
      "outputs": [
        {
          "output_type": "error",
          "ename": "AttributeError",
          "evalue": "ignored",
          "traceback": [
            "\u001b[0;31m---------------------------------------------------------------------------\u001b[0m",
            "\u001b[0;31mAttributeError\u001b[0m                            Traceback (most recent call last)",
            "\u001b[0;32m<ipython-input-47-7a1eaea0640a>\u001b[0m in \u001b[0;36m<module>\u001b[0;34m\u001b[0m\n\u001b[0;32m----> 1\u001b[0;31m \u001b[0memployee2\u001b[0m\u001b[0;34m.\u001b[0m\u001b[0mtest_function\u001b[0m\u001b[0;34m(\u001b[0m\u001b[0;34m)\u001b[0m\u001b[0;34m\u001b[0m\u001b[0;34m\u001b[0m\u001b[0m\n\u001b[0m",
            "\u001b[0;31mAttributeError\u001b[0m: 'Employee' object has no attribute 'test_function'"
          ]
        }
      ]
    },
    {
      "cell_type": "markdown",
      "metadata": {
        "id": "GR9rrugpSWyz"
      },
      "source": [
        "#### Destructor Example"
      ]
    },
    {
      "cell_type": "code",
      "metadata": {
        "colab": {
          "base_uri": "https://localhost:8080/"
        },
        "id": "Bciu2X7HSWyz",
        "outputId": "62c53d77-e226-41d7-c2c4-64ac762538ca"
      },
      "source": [],
      "execution_count": null,
      "outputs": [
        {
          "output_type": "stream",
          "text": [
            "Employee with instance name  grasshopper  destroyed\n",
            "Employee with instance name  ant  destroyed\n"
          ],
          "name": "stdout"
        }
      ]
    },
    {
      "cell_type": "markdown",
      "metadata": {
        "id": "2A76KFJvSWy0"
      },
      "source": [
        "#### Class Example: Parent HR Class"
      ]
    },
    {
      "cell_type": "code",
      "metadata": {
        "id": "-zgd_d3SSWy0"
      },
      "source": [],
      "execution_count": null,
      "outputs": []
    },
    {
      "cell_type": "code",
      "metadata": {
        "id": "kLQnK-3jSWy0"
      },
      "source": [],
      "execution_count": null,
      "outputs": []
    },
    {
      "cell_type": "code",
      "metadata": {
        "id": "vJIGhsJdSWy1"
      },
      "source": [],
      "execution_count": null,
      "outputs": []
    },
    {
      "cell_type": "code",
      "metadata": {
        "colab": {
          "base_uri": "https://localhost:8080/"
        },
        "id": "jVeuoIk-SWy1",
        "outputId": "0bdae860-94c1-415b-9ff2-846aa90b8e3a"
      },
      "source": [],
      "execution_count": null,
      "outputs": [
        {
          "output_type": "stream",
          "text": [
            "can this be called?\n"
          ],
          "name": "stdout"
        }
      ]
    }
  ]
}