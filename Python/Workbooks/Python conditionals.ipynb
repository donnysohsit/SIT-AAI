{
  "nbformat": 4,
  "nbformat_minor": 0,
  "metadata": {
    "colab": {
      "provenance": []
    },
    "kernelspec": {
      "name": "python3",
      "display_name": "Python 3"
    }
  },
  "cells": [
    {
      "cell_type": "markdown",
      "metadata": {
        "id": "ZHaCixLqo6XO"
      },
      "source": [
        "## Section 1c. Conditionals in Python"
      ]
    },
    {
      "cell_type": "markdown",
      "metadata": {
        "id": "8DFAwARmpUBn"
      },
      "source": [
        "### Section 1c.1 The if statement\n",
        "\n",
        "Conditionals allow you to specify a certain condition, and to run various pieces of code, depending if the condition is True or False.\n",
        "\n",
        "For example, let's say you are coming to school today, and you can either take the bus or the train. If it rains, you would have to take the shelter and you have a direct shelter to the bus stop. However the MRT is quite far away from your home and you will get wet. Hence the if statement condition for your decision making is:\n",
        "\n",
        "```\n",
        "if it rains,\n",
        "  I will take the bus\n",
        "else,\n",
        "  I will take the MRT\n",
        "```"
      ]
    },
    {
      "cell_type": "markdown",
      "metadata": {
        "id": "laibtsbPqZdS"
      },
      "source": [
        "Let's look at a few examples of the if statement. Using our example above:"
      ]
    },
    {
      "cell_type": "code",
      "metadata": {
        "colab": {
          "base_uri": "https://localhost:8080/"
        },
        "id": "1qb63H4no-WB",
        "outputId": "5e2c9718-86c8-44f0-9fba-a16e6175cf78"
      },
      "source": [
        "rain = True\n",
        "not_rain = None\n",
        "public_transport = None\n",
        "\n",
        "if rain:\n",
        "  public_transport = \"bus\"\n",
        "else:\n",
        "  not_rain = True\n",
        "public_transport = \"train\"\n",
        "\n",
        "print(f\"Today I think I will be taking the {public_transport} to school\")"
      ],
      "execution_count": null,
      "outputs": [
        {
          "output_type": "stream",
          "name": "stdout",
          "text": [
            "Today I think I will be taking the train to school\n"
          ]
        }
      ]
    },
    {
      "cell_type": "markdown",
      "metadata": {
        "id": "DrFHqYimq52_"
      },
      "source": [
        "We will break this simple example down step by step.\n",
        "\n",
        "**Initialization**\n",
        "\n",
        "Firstly, I have defined the variable rain as True and public_transport as None.\n",
        "\n",
        "**if conditional**\n",
        "\n",
        "In the second part\n",
        "\n",
        "```\n",
        "if rain:\n",
        "  public_transport = \"bus\"\n",
        "```\n",
        "\n",
        "The rain variable is used as a conditional. Hence the if statement checks the rain variable if it is True or False. Note that after the conditional, there is an essential semi colon \":\" to show the end of a conditional.\n",
        "\n",
        "The next line sets the public_transport variable to that of a bus. However note that there is a space. It means that the lines that come indented fall under the scope of the earlier if statement.\n",
        "\n",
        "```\n",
        "if rain:\n",
        "  public_transport = \"bus\"\n",
        "```"
      ]
    },
    {
      "cell_type": "markdown",
      "metadata": {
        "id": "HVcUUWoYr7LB"
      },
      "source": [
        "**Indentation**\n",
        "\n",
        "Let's discuss more this indentation. Indentation is used to indicate a code block. Let's show this with a simple example. Suppose we wish to print out an additional statement if it is raining. Let's just extract out a portion of the earlier code to obtain the following:"
      ]
    },
    {
      "cell_type": "code",
      "metadata": {
        "colab": {
          "base_uri": "https://localhost:8080/"
        },
        "id": "O-z5LL3PqzcZ",
        "outputId": "0b04616a-bd80-4986-a7ee-ee5258ce2d13"
      },
      "source": [],
      "execution_count": null,
      "outputs": [
        {
          "output_type": "stream",
          "name": "stdout",
          "text": [
            "Its raining today\n"
          ]
        }
      ]
    },
    {
      "cell_type": "markdown",
      "metadata": {
        "id": "TmRylA7Ps4gh"
      },
      "source": [
        "Suppose if it's not raining, we set rain to False. We however still get the print out its raining today."
      ]
    },
    {
      "cell_type": "code",
      "metadata": {
        "colab": {
          "base_uri": "https://localhost:8080/"
        },
        "id": "jXHqZd_Usjo4",
        "outputId": "b854caeb-e79e-4253-e61c-318d0c161c08"
      },
      "source": [],
      "execution_count": null,
      "outputs": [
        {
          "output_type": "stream",
          "name": "stdout",
          "text": [
            "Its raining today\n"
          ]
        }
      ]
    },
    {
      "cell_type": "markdown",
      "metadata": {
        "id": "GthKOr-WtKwo"
      },
      "source": [
        "The issue here is that the print statement is not indented correctly. For it to work properly, it must be indented in the same line as public_transport for it to be considered to be under the same scope. Hence we should change it to:"
      ]
    },
    {
      "cell_type": "code",
      "metadata": {
        "id": "HsOF9dXitJW_"
      },
      "source": [],
      "execution_count": null,
      "outputs": []
    },
    {
      "cell_type": "code",
      "metadata": {
        "colab": {
          "base_uri": "https://localhost:8080/"
        },
        "id": "772jm9-etZeW",
        "outputId": "a4d7d237-e50e-458e-d4db-3662b1f4cb25"
      },
      "source": [],
      "execution_count": null,
      "outputs": [
        {
          "output_type": "stream",
          "text": [
            "Its raining today\n"
          ],
          "name": "stdout"
        }
      ]
    },
    {
      "cell_type": "markdown",
      "metadata": {
        "id": "LyaflSHhtePY"
      },
      "source": [
        "This indentation will also apply during functions, loops and classes."
      ]
    },
    {
      "cell_type": "markdown",
      "metadata": {
        "id": "YXIgYhaituMt"
      },
      "source": [
        "**else conditional**\n",
        "\n",
        "The next portion of the code illustrates what happens if rain is equals to False. Hence if it is not raining, public_transport will be set to \"Train\"\n",
        "\n",
        "```\n",
        "if rain:\n",
        "  public_transport = \"bus\"\n",
        "else:\n",
        "  public_transport = \"train\"\n",
        "\n",
        "```\n",
        "\n",
        "\n"
      ]
    },
    {
      "cell_type": "code",
      "metadata": {
        "colab": {
          "base_uri": "https://localhost:8080/"
        },
        "id": "uRZqoGnOta5t",
        "outputId": "531abbb9-5c17-4eaa-ddea-a6d50e3af870"
      },
      "source": [],
      "execution_count": null,
      "outputs": [
        {
          "output_type": "stream",
          "text": [
            "Today I think I will be taking the train to school.\n"
          ],
          "name": "stdout"
        }
      ]
    },
    {
      "cell_type": "markdown",
      "metadata": {
        "id": "Ya-6PSm3uRg7"
      },
      "source": [
        "In this very simple example, we are only using if and else. There is one more conditional within if else known as the elif. It is short for \"else if\".\n",
        "\n",
        "Let's assume that if it is not raining and if you are late, you will take the cab. So the conditional will look like the following in english.\n",
        "\n",
        "```\n",
        "if it rains,\n",
        "  I will take the bus\n",
        "else if it is not raining and I am late,\n",
        "  I will take the cab\n",
        "else,\n",
        "  I will take the MRT\n",
        "```\n",
        "\n",
        "Let's now try to tweak our code with the new conditionals."
      ]
    },
    {
      "cell_type": "code",
      "metadata": {
        "colab": {
          "base_uri": "https://localhost:8080/"
        },
        "id": "CoVLX4luuE13",
        "outputId": "80946703-18ca-40f8-a3f9-70da12a0990e"
      },
      "source": [],
      "execution_count": null,
      "outputs": [
        {
          "output_type": "stream",
          "name": "stdout",
          "text": [
            "True False bus\n"
          ]
        }
      ]
    },
    {
      "cell_type": "markdown",
      "metadata": {
        "id": "tcmJn96gvZD2"
      },
      "source": [
        "### Section 1c.2 Operators\n",
        "\n",
        "The if else statements above all assumed that the variable rain returned a value True or False. However most of the time, we may want to test a certain condition, and then decide based on a certain condition. For instance, lets say we have a car and if the amount of oil in the fuel tank falls below a certain fraction, we will then have to refuel the tank.\n",
        "\n",
        "```\n",
        "if fuel_tank almost empty,\n",
        "  refill it\n",
        "```\n",
        "If we convert this to code, we get:\n",
        "\n"
      ]
    },
    {
      "cell_type": "code",
      "metadata": {
        "colab": {
          "base_uri": "https://localhost:8080/"
        },
        "id": "_Otu6C84vISy",
        "outputId": "3333f8c8-b093-42d5-98dd-5551c762fc9c"
      },
      "source": [],
      "execution_count": null,
      "outputs": [
        {
          "output_type": "stream",
          "name": "stdout",
          "text": [
            "fuel tank is almost empty\n"
          ]
        }
      ]
    },
    {
      "cell_type": "markdown",
      "metadata": {
        "id": "MO7lus4j0az4"
      },
      "source": [
        "Of course we have many types of conditionals. The full list can be seen here:\n",
        "\n",
        "|Operator|Meaning|\n",
        "|-|-|\n",
        "|==|equal|\n",
        "|!=|not equal|\n",
        "|<|less than|\n",
        "|>|greater than|\n",
        "|<=|equal or less than|\n",
        "|>=|equal or greater than|\n",
        "|and|and across all conditions|\n",
        "|or|or across all conditions|\n",
        "\n",
        "Let's reuse the earlier example and add more conditions to it."
      ]
    },
    {
      "cell_type": "code",
      "metadata": {
        "colab": {
          "base_uri": "https://localhost:8080/"
        },
        "id": "Zs3i2zLF0M_M",
        "outputId": "4f0f7440-8cbf-48ce-d852-b9a9fce7245c"
      },
      "source": [],
      "execution_count": null,
      "outputs": [
        {
          "output_type": "stream",
          "name": "stdout",
          "text": [
            "almost empty\n"
          ]
        }
      ]
    },
    {
      "cell_type": "markdown",
      "metadata": {
        "id": "teM0SkLN14En"
      },
      "source": [
        "Let's say we have an additional condition, if the fuel tank is less than or equals to 0.2 and its the morning (before 12 noon), I should go and pump petrol now.\n",
        "\n",
        "if it is less than or equals to 0.2 and it is 12 noon onwards. output pump next morning~"
      ]
    },
    {
      "cell_type": "code",
      "source": [],
      "metadata": {
        "colab": {
          "base_uri": "https://localhost:8080/"
        },
        "id": "_oQPEO4pKBcB",
        "outputId": "f4429a21-5ca7-4001-8817-8aa17c3d4f5a"
      },
      "execution_count": null,
      "outputs": [
        {
          "output_type": "execute_result",
          "data": {
            "text/plain": [
              "0.1"
            ]
          },
          "metadata": {},
          "execution_count": 23
        }
      ]
    },
    {
      "cell_type": "code",
      "metadata": {
        "colab": {
          "base_uri": "https://localhost:8080/"
        },
        "id": "IntGrmio1sLJ",
        "outputId": "5792cc5e-ef41-4634-85cb-d8cf79e7c2fd"
      },
      "source": [],
      "execution_count": null,
      "outputs": [
        {
          "output_type": "stream",
          "name": "stdout",
          "text": [
            "almost empty\n"
          ]
        }
      ]
    },
    {
      "cell_type": "markdown",
      "metadata": {
        "id": "XMgwvwxP2nK5"
      },
      "source": [
        "*Exercise 1c.1*\n",
        "\n",
        "Create a set of if else statements which tests if the time_in_oven variable. If it is equal to the recipe_cake variable, print out \"the cake is perfect\". If it is less than recipe_cake print out \"the cake is undercooked\". Else print out \"the cake is burnt\""
      ]
    },
    {
      "cell_type": "code",
      "metadata": {
        "colab": {
          "base_uri": "https://localhost:8080/"
        },
        "id": "DilLpqgG2VXE",
        "outputId": "9e5f120d-9441-4cbb-c831-020de7a584a5"
      },
      "source": [],
      "execution_count": null,
      "outputs": [
        {
          "output_type": "stream",
          "name": "stdout",
          "text": [
            "undercooked\n"
          ]
        }
      ]
    },
    {
      "cell_type": "markdown",
      "metadata": {
        "id": "fSCenNnW4HZ6"
      },
      "source": [
        "*Exercise 1c.2*\n",
        "\n",
        "Create a set of if else statements that does the following:\n",
        "\n",
        "1. If energy is high and raining is False, print \"Go to the park\"\n",
        "2. Else if energy is high and raining is True, print \"Play fortnite\"  \n",
        "3. Else if energy is low and raining is True, print \"Sleep\"  \n",
        "3. Else if energy is low and raining is False, print \"Study how to play fortnite\"  "
      ]
    },
    {
      "cell_type": "code",
      "metadata": {
        "colab": {
          "base_uri": "https://localhost:8080/"
        },
        "id": "C7Lw5PsK75KO",
        "outputId": "f6e9437d-689c-4285-c89d-01e488ce3c2e"
      },
      "source": [],
      "execution_count": null,
      "outputs": [
        {
          "output_type": "stream",
          "name": "stdout",
          "text": [
            "error\n"
          ]
        }
      ]
    },
    {
      "cell_type": "markdown",
      "metadata": {
        "id": "qZhvNCHR5SLk"
      },
      "source": [
        "*Exercise 1c.3*\n",
        "\n",
        "Create a set of if else statements that does the following:\n",
        "\n",
        "1. If both numbers are a multiple of 2: Adds both numbers\n",
        "2. Else multiple them\n",
        "\n",
        "You can use the modulo operator to check if are they a multiple of two or not.\n",
        "\n",
        "*https://realpython.com/python-modulo-operator/*"
      ]
    },
    {
      "cell_type": "code",
      "metadata": {
        "colab": {
          "base_uri": "https://localhost:8080/"
        },
        "id": "vNnAYZFn7nuW",
        "outputId": "b8ca3287-2a67-45a5-93f8-ea852576b543"
      },
      "source": [],
      "execution_count": null,
      "outputs": [
        {
          "output_type": "stream",
          "name": "stdout",
          "text": [
            "120\n"
          ]
        }
      ]
    },
    {
      "cell_type": "markdown",
      "metadata": {
        "id": "u0KoViZS9Cf9"
      },
      "source": [
        "*Exercise 1c.4*\n",
        "\n",
        "Consider the following if statement. Simplify to just one condition.\n",
        "\n",
        "\n",
        "\n",
        "```\n",
        "doesSignificantWork = True\n",
        "makesBreakthrough = False\n",
        "\n",
        "if doesSignificantWork:\n",
        "  if (makesBreakthrough):\n",
        "    nobelPrizeCandidate = True\n",
        "  else:\n",
        "    nobelPrizeCandidate = False\n",
        "elif doesSignificantWork == False:\n",
        "  nobelPrizeCandidate = False\n",
        "\n",
        "print(nobelPrizeCandidate)\n",
        "```\n",
        "\n"
      ]
    },
    {
      "cell_type": "code",
      "metadata": {
        "colab": {
          "base_uri": "https://localhost:8080/"
        },
        "id": "8_4mvg0E9DPC",
        "outputId": "b5800b58-561b-4055-93e2-f71f95e3cf47"
      },
      "source": [],
      "execution_count": null,
      "outputs": [
        {
          "output_type": "stream",
          "text": [
            "False\n"
          ],
          "name": "stdout"
        }
      ]
    },
    {
      "cell_type": "markdown",
      "metadata": {
        "id": "gCVzAoAt6jzh"
      },
      "source": [
        "*Exercise 1c.5*\n",
        "\n",
        "You are given a number i:\n",
        "\n",
        "*   if i is a multiple of 3 but not 5, print Fizz\n",
        "*   if i is a multiple of both 3 and 5, print FizzBuzz\n",
        "*   if i is neither a multiple of 3 and 5, print the value of i\n",
        "*   if i is a multiple of 5 but not 3, print Buzz\n"
      ]
    },
    {
      "cell_type": "code",
      "metadata": {
        "colab": {
          "base_uri": "https://localhost:8080/"
        },
        "id": "dKnrRa6M7PBE",
        "outputId": "3292dcc5-7b3a-481f-a880-3fd2b20014de"
      },
      "source": [],
      "execution_count": null,
      "outputs": [
        {
          "output_type": "stream",
          "name": "stdout",
          "text": [
            "Fizz\n"
          ]
        }
      ]
    },
    {
      "cell_type": "markdown",
      "source": [
        "##### Quiz 1c.1"
      ],
      "metadata": {
        "id": "baVhYPM53xC-"
      }
    },
    {
      "cell_type": "markdown",
      "source": [
        "https://www.hackerrank.com/challenges/py-if-else/problem?isFullScreen=true"
      ],
      "metadata": {
        "id": "y8mZ7g1y4A-t"
      }
    },
    {
      "cell_type": "markdown",
      "source": [
        "Quiz 1c.2\n",
        "\n",
        "https://www.hackerrank.com/2023-python-quiz01"
      ],
      "metadata": {
        "id": "wgqTNjx43tCe"
      }
    },
    {
      "cell_type": "code",
      "source": [],
      "metadata": {
        "id": "EllCOkA74KHp"
      },
      "execution_count": null,
      "outputs": []
    }
  ]
}