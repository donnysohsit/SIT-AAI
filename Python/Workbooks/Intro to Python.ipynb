{
  "nbformat": 4,
  "nbformat_minor": 0,
  "metadata": {
    "colab": {
      "provenance": []
    },
    "kernelspec": {
      "name": "python3",
      "display_name": "Python 3"
    }
  },
  "cells": [
    {
      "cell_type": "markdown",
      "metadata": {
        "id": "2DVrwLcT32X0"
      },
      "source": [
        "## Section 1b. Introduction to Python"
      ]
    },
    {
      "cell_type": "markdown",
      "metadata": {
        "id": "Tuc-myY835nv"
      },
      "source": [
        "### Section 1b.1 What is Python\n",
        "\n",
        "Python is an interpreted, object-oriented, high-level programming language with dynamic semantics.\n",
        "\n",
        "**What is interpreted language?**\n",
        "\n",
        "An interpreted language is a type of programming language for which most of its implementations execute instructions directly and freely, without previously compiling a program into machine-language instructions. Essentially, you don't need to compile it.\n",
        "\n",
        "**What is object oriented language?**\n",
        "\n",
        "An object-oriented language is a computer programming language that revolves around the concept of an object. Object-oriented languages were developed to make it easier to develop, debug, reuse, and maintain software than is possible with earlier languages.\n",
        "\n",
        "**What is high level programming language?**\n",
        "\n",
        "High-level languages intend to provide features which standardize common tasks, permit rich debugging, and maintain architectural agnosticism; while low-level languages often produce more efficient code through optimization for a specific system architecture.\n",
        "\n",
        "Examples are python, java, perl, php. Examples of low level programming languages are C and assembly. Some of these low level programming languages are also known as close to the metal / bare metal languages because they allow you to interact directly with the metal (computer machine).\n",
        "\n",
        "**What is dynamic semantics?**\n",
        "\n",
        "Dynamics objects are instances of values instantiated during run time. If we assign an object different types of values during the course of the run time, the value type will update itself. For instance, if we assign the value of 5 to object temp_value, it will be stored as an int 5. If we thereafter assign it to 'hello world', it will be updated to a string of value \"hello world\".\n",
        "\n",
        "*Source: https://www.python.org/doc/essays/blurb/*"
      ]
    },
    {
      "cell_type": "markdown",
      "metadata": {
        "id": "3ZI1Dua94gV6"
      },
      "source": [
        "### Section 1b.2 Simple \"Hello World\" code snippets"
      ]
    },
    {
      "cell_type": "markdown",
      "metadata": {
        "id": "oIeylCS19AOa"
      },
      "source": [
        "You can just do the print using the typical print command.This is interpreted as a text!"
      ]
    },
    {
      "cell_type": "markdown",
      "source": [
        "I can type whatever I want inside here.!"
      ],
      "metadata": {
        "id": "yy-Q6soT8w-i"
      }
    },
    {
      "cell_type": "code",
      "metadata": {
        "colab": {
          "base_uri": "https://localhost:8080/"
        },
        "id": "YDQjxmmr334P",
        "outputId": "a448b4d7-792d-4da8-f784-a9637d2ad877"
      },
      "source": [],
      "execution_count": null,
      "outputs": [
        {
          "output_type": "stream",
          "name": "stdout",
          "text": [
            "change this to another string~\n"
          ]
        }
      ]
    },
    {
      "cell_type": "markdown",
      "metadata": {
        "id": "IjYm_Je79Ewe"
      },
      "source": [
        "Let's try to do it by putting the another text in a string."
      ]
    },
    {
      "cell_type": "code",
      "metadata": {
        "colab": {
          "base_uri": "https://localhost:8080/"
        },
        "id": "6xRHRc8d8j2P",
        "outputId": "f68ccd9b-fb42-40a4-c498-af1a85f702c3"
      },
      "source": [],
      "execution_count": null,
      "outputs": [
        {
          "output_type": "stream",
          "name": "stdout",
          "text": [
            "Nice to meet you\n"
          ]
        }
      ]
    },
    {
      "cell_type": "markdown",
      "metadata": {
        "id": "QFRE4DWo9NJf"
      },
      "source": [
        "If we want to add in the name to the statement"
      ]
    },
    {
      "cell_type": "code",
      "metadata": {
        "colab": {
          "base_uri": "https://localhost:8080/"
        },
        "id": "Qp5xaWqg89vh",
        "outputId": "44e69342-38cd-4cdd-e0c3-5b87a570b540"
      },
      "source": [],
      "execution_count": null,
      "outputs": [
        {
          "output_type": "stream",
          "name": "stdout",
          "text": [
            "Nice to meet you Alice and Bob\n"
          ]
        }
      ]
    },
    {
      "cell_type": "code",
      "source": [],
      "metadata": {
        "colab": {
          "base_uri": "https://localhost:8080/"
        },
        "id": "jQnPzrHCBFPi",
        "outputId": "1669bc59-4433-4912-84b5-f312d0692010"
      },
      "execution_count": null,
      "outputs": [
        {
          "output_type": "stream",
          "name": "stdout",
          "text": [
            "Nice to meet you , Alice\n"
          ]
        }
      ]
    },
    {
      "cell_type": "markdown",
      "metadata": {
        "id": "dHFIIXRW9to0"
      },
      "source": [
        "But you notice there is a strange space there. So what you can do is:"
      ]
    },
    {
      "cell_type": "code",
      "metadata": {
        "colab": {
          "base_uri": "https://localhost:8080/"
        },
        "id": "mj0Msq5Q9dUc",
        "outputId": "9ae6f375-abd0-4dd7-bdd4-067762b10dfd"
      },
      "source": [],
      "execution_count": null,
      "outputs": [
        {
          "output_type": "stream",
          "name": "stdout",
          "text": [
            "something here something else here\n"
          ]
        }
      ]
    },
    {
      "cell_type": "code",
      "source": [],
      "metadata": {
        "colab": {
          "base_uri": "https://localhost:8080/"
        },
        "id": "ozfmWlCKrFVG",
        "outputId": "b0e9fd1d-3140-4482-9b74-0229e121d3cf"
      },
      "execution_count": null,
      "outputs": [
        {
          "output_type": "stream",
          "name": "stdout",
          "text": [
            "Nice to meet you, Alice\n"
          ]
        }
      ]
    },
    {
      "cell_type": "code",
      "source": [],
      "metadata": {
        "id": "byEbyvyKCm-c"
      },
      "execution_count": null,
      "outputs": []
    },
    {
      "cell_type": "markdown",
      "metadata": {
        "id": "Q4uMwgPD90f5"
      },
      "source": [
        "This plus symobol means that we are defining two strings, one is temp_string and the other is \", Alice\". We are then going to combine / concatenate these strings together."
      ]
    },
    {
      "cell_type": "markdown",
      "metadata": {
        "id": "DNU4Ky7F_MqP"
      },
      "source": [
        "**f-strings**"
      ]
    },
    {
      "cell_type": "markdown",
      "metadata": {
        "id": "U8Md560W_fn-"
      },
      "source": [
        "If you read some older python programming syntaxes, you would find that there are several other ways of formatting text strings. Examples of these are using the .format or the %s formats. These are still supported by Python but they are discouraged because of the low level of readibility. What is recommended now is to use a f-string like this:"
      ]
    },
    {
      "cell_type": "code",
      "source": [],
      "metadata": {
        "colab": {
          "base_uri": "https://localhost:8080/"
        },
        "id": "tAFex5caDx3A",
        "outputId": "6852857c-2dbb-43fb-8b8a-bdf06861bbc1"
      },
      "execution_count": null,
      "outputs": [
        {
          "output_type": "stream",
          "name": "stdout",
          "text": [
            "Nice to meet you, Alice\n",
            "Nice to meet you, name_to_greet\n"
          ]
        }
      ]
    },
    {
      "cell_type": "code",
      "source": [],
      "metadata": {
        "id": "mvAd-0iDFm-A"
      },
      "execution_count": null,
      "outputs": []
    },
    {
      "cell_type": "code",
      "source": [],
      "metadata": {
        "colab": {
          "base_uri": "https://localhost:8080/"
        },
        "id": "ILCvQGmHppUX",
        "outputId": "710f2246-af79-4ed2-bed5-692b4a455066"
      },
      "execution_count": null,
      "outputs": [
        {
          "output_type": "stream",
          "name": "stdout",
          "text": [
            "Nice to meet you Alice and Bob.\n",
            "Nice to meet you Alice and Bob.\n"
          ]
        }
      ]
    },
    {
      "cell_type": "code",
      "metadata": {
        "colab": {
          "base_uri": "https://localhost:8080/"
        },
        "id": "MuEYp5fW_XH2",
        "outputId": "28a209eb-270a-42e3-d8cb-8994d5c626c7"
      },
      "source": [],
      "execution_count": null,
      "outputs": [
        {
          "output_type": "stream",
          "name": "stdout",
          "text": [
            "Alice and Bob\n"
          ]
        }
      ]
    },
    {
      "cell_type": "code",
      "source": [],
      "metadata": {
        "colab": {
          "base_uri": "https://localhost:8080/"
        },
        "id": "gyo5nMWMr9Fm",
        "outputId": "0b99def9-5775-4009-c3e0-67dcb4abe605"
      },
      "execution_count": null,
      "outputs": [
        {
          "output_type": "stream",
          "name": "stdout",
          "text": [
            "{child_name} height is 1.8 and the weight is 50\n"
          ]
        }
      ]
    },
    {
      "cell_type": "markdown",
      "metadata": {
        "id": "jJRa0zEo-UfC"
      },
      "source": [
        "*Exercise 1b.1*\n",
        "\n",
        "Try to write the code to print out the following statement:\n",
        "\n",
        "Nice to meet you, Ben and Alice.\n",
        "\n",
        "Make sure to use all three variables and the f string command."
      ]
    },
    {
      "cell_type": "code",
      "metadata": {
        "id": "kRkXvq8c9zHO"
      },
      "source": [],
      "execution_count": null,
      "outputs": []
    },
    {
      "cell_type": "code",
      "source": [],
      "metadata": {
        "id": "wvWi7FN3uTwu",
        "colab": {
          "base_uri": "https://localhost:8080/"
        },
        "outputId": "dbfddb92-54f3-474c-e7cb-2aa955531e44"
      },
      "execution_count": null,
      "outputs": [
        {
          "output_type": "stream",
          "name": "stdout",
          "text": [
            "Good afternoon, Ben and Alice.\n"
          ]
        }
      ]
    },
    {
      "cell_type": "code",
      "source": [],
      "metadata": {
        "id": "KirixpCRuVZ1"
      },
      "execution_count": null,
      "outputs": []
    },
    {
      "cell_type": "code",
      "metadata": {
        "colab": {
          "base_uri": "https://localhost:8080/"
        },
        "id": "9I1w0kUQ-vYa",
        "outputId": "627e7128-587a-41b2-96ac-fc7857cdae64"
      },
      "source": [],
      "execution_count": null,
      "outputs": [
        {
          "output_type": "stream",
          "name": "stdout",
          "text": [
            "Nice to meet you, Ben and Jerry\n"
          ]
        }
      ]
    },
    {
      "cell_type": "markdown",
      "metadata": {
        "id": "8CueF0kLA7AQ"
      },
      "source": [
        "### Section 1b.3 Variable Types"
      ]
    },
    {
      "cell_type": "markdown",
      "metadata": {
        "id": "9aYmUz6dB2YE"
      },
      "source": [
        "Python has five standard data types and they are:\n",
        "*   Numbers\n",
        "*   String\n",
        "*   List\n",
        "*   Dictionary\n",
        "*   Tuple\n",
        "\n",
        "**Numbers**\n",
        "\n",
        "Number Types\n",
        "\n",
        "Python supports three types of numbers. They are int, float and complex. For this course we will only be working with int and floating numbers.\n",
        "\n",
        "Int numbers are whole numbers while floating numbers are decimal numbers."
      ]
    },
    {
      "cell_type": "code",
      "metadata": {
        "colab": {
          "base_uri": "https://localhost:8080/"
        },
        "id": "80NAAnkLDOOQ",
        "outputId": "0650ab53-fb31-4d61-a955-b24ba403bc00"
      },
      "source": [],
      "execution_count": null,
      "outputs": [
        {
          "output_type": "stream",
          "name": "stdout",
          "text": [
            "Nice to meet you, my name is Ben and I am 6 years old.\n"
          ]
        }
      ]
    },
    {
      "cell_type": "code",
      "metadata": {
        "colab": {
          "base_uri": "https://localhost:8080/"
        },
        "id": "ZBnzJq--DcP9",
        "outputId": "b8805092-7d22-411f-b2a5-0456da7934d0"
      },
      "source": [],
      "execution_count": null,
      "outputs": [
        {
          "output_type": "stream",
          "name": "stdout",
          "text": [
            "Nice to meet you, my name is Ben and I am 3 years old.\n"
          ]
        }
      ]
    },
    {
      "cell_type": "code",
      "metadata": {
        "colab": {
          "base_uri": "https://localhost:8080/"
        },
        "id": "q4D_BxeFDoNJ",
        "outputId": "23491c28-dbcb-43ab-9a82-fa41c5d68383"
      },
      "source": [],
      "execution_count": null,
      "outputs": [
        {
          "output_type": "stream",
          "text": [
            "Nice to meet you, my name is Ben and I am 3 years old. I am very tall for my age, about 87.3cm.\n"
          ],
          "name": "stdout"
        }
      ]
    },
    {
      "cell_type": "markdown",
      "source": [
        "##### Quiz 1b.1"
      ],
      "metadata": {
        "id": "0rauaSn91EyL"
      }
    },
    {
      "cell_type": "markdown",
      "source": [
        "https://www.hackerrank.com/challenges/py-hello-world/problem?isFullScreen=true"
      ],
      "metadata": {
        "id": "nYInLLg51yRP"
      }
    },
    {
      "cell_type": "markdown",
      "metadata": {
        "id": "SU1u40wSEsS8"
      },
      "source": [
        "Number manipulation\n",
        "\n",
        "The typical operators apply.\n",
        "\n",
        "*   \\+ addition\n",
        "*   \\- subtraction\n",
        "*   \\* multiplication\n",
        "*   \\/ division"
      ]
    },
    {
      "cell_type": "code",
      "metadata": {
        "colab": {
          "base_uri": "https://localhost:8080/"
        },
        "id": "BGo_XeNGDvY6",
        "outputId": "23c70dc1-0238-4198-a202-51b407959d22"
      },
      "source": [],
      "execution_count": null,
      "outputs": [
        {
          "output_type": "stream",
          "name": "stdout",
          "text": [
            "10\n",
            "2\n",
            "24\n",
            "1.5\n"
          ]
        }
      ]
    },
    {
      "cell_type": "code",
      "metadata": {
        "colab": {
          "base_uri": "https://localhost:8080/"
        },
        "id": "NXz7pDw7FLSw",
        "outputId": "07609fb9-1642-4318-fa80-9c644623825c"
      },
      "source": [],
      "execution_count": null,
      "outputs": [
        {
          "output_type": "stream",
          "name": "stdout",
          "text": [
            "10\n",
            "2\n",
            "24\n",
            "1.5\n"
          ]
        }
      ]
    },
    {
      "cell_type": "code",
      "source": [],
      "metadata": {
        "colab": {
          "base_uri": "https://localhost:8080/"
        },
        "id": "RVw_tIntxlnE",
        "outputId": "1930a774-00f9-4590-f94c-2dd6e0d4adba"
      },
      "execution_count": null,
      "outputs": [
        {
          "output_type": "stream",
          "name": "stdout",
          "text": [
            "10\n"
          ]
        }
      ]
    },
    {
      "cell_type": "markdown",
      "metadata": {
        "id": "TR_SrhgbFqan"
      },
      "source": [
        "There is also a math library that we can use. From the math library we will be able to get certain constants or carry out functions such as square root etc."
      ]
    },
    {
      "cell_type": "code",
      "metadata": {
        "colab": {
          "base_uri": "https://localhost:8080/"
        },
        "id": "trjUqVljFQbJ",
        "outputId": "59e0f11f-b65c-4fbe-e02b-3738992c7a6d"
      },
      "source": [],
      "execution_count": null,
      "outputs": [
        {
          "output_type": "stream",
          "name": "stdout",
          "text": [
            "3.141592653589793\n"
          ]
        }
      ]
    },
    {
      "cell_type": "markdown",
      "metadata": {
        "id": "T8vHL9-_GMnT"
      },
      "source": [
        "Notice that the number of decimal points are quite a lot. If we only want to see 2 of them, we can do the following:"
      ]
    },
    {
      "cell_type": "code",
      "metadata": {
        "colab": {
          "base_uri": "https://localhost:8080/"
        },
        "id": "FYQqIHwxGJbq",
        "outputId": "736dfb25-fe20-43be-c608-a0b42c8e5b48"
      },
      "source": [],
      "execution_count": null,
      "outputs": [
        {
          "output_type": "stream",
          "name": "stdout",
          "text": [
            "3.14\n"
          ]
        }
      ]
    },
    {
      "cell_type": "markdown",
      "metadata": {
        "id": "aUQaASkkGw2l"
      },
      "source": [
        "Note that this does not change the value of the variable, just the way it is displayed."
      ]
    },
    {
      "cell_type": "code",
      "metadata": {
        "colab": {
          "base_uri": "https://localhost:8080/"
        },
        "id": "jOo8fD6AGoIL",
        "outputId": "be1edfa9-c371-4f35-9b6a-b270b7b85604"
      },
      "source": [],
      "execution_count": null,
      "outputs": [
        {
          "output_type": "stream",
          "name": "stdout",
          "text": [
            "3.141592653589793\n",
            "3.14\n"
          ]
        }
      ]
    },
    {
      "cell_type": "code",
      "metadata": {
        "colab": {
          "base_uri": "https://localhost:8080/"
        },
        "id": "tx4bRNtuG7Mw",
        "outputId": "1cea91f9-2d37-48d3-a399-90f3a37718a2"
      },
      "source": [],
      "execution_count": null,
      "outputs": [
        {
          "output_type": "stream",
          "name": "stdout",
          "text": [
            "3.141592653589793\n"
          ]
        }
      ]
    },
    {
      "cell_type": "markdown",
      "metadata": {
        "id": "69qZJrMKG_hl"
      },
      "source": [
        "If we really want to convert the variable to just two decimal places, we have to use the *round* function:"
      ]
    },
    {
      "cell_type": "code",
      "metadata": {
        "colab": {
          "base_uri": "https://localhost:8080/"
        },
        "id": "ZIRJT-UbG-8F",
        "outputId": "a93aadde-3563-4a51-d0ea-3f0dd80e952c"
      },
      "source": [],
      "execution_count": null,
      "outputs": [
        {
          "output_type": "execute_result",
          "data": {
            "text/plain": [
              "3.14"
            ]
          },
          "metadata": {},
          "execution_count": 62
        }
      ]
    },
    {
      "cell_type": "code",
      "source": [],
      "metadata": {
        "colab": {
          "base_uri": "https://localhost:8080/"
        },
        "id": "pBtGBgjmZB2H",
        "outputId": "0d1c30ab-a3f8-4fd6-9582-a8808dc84ac8"
      },
      "execution_count": null,
      "outputs": [
        {
          "output_type": "execute_result",
          "data": {
            "text/plain": [
              "3.141592653589793"
            ]
          },
          "metadata": {},
          "execution_count": 63
        }
      ]
    },
    {
      "cell_type": "code",
      "source": [],
      "metadata": {
        "colab": {
          "base_uri": "https://localhost:8080/"
        },
        "id": "iOSxp7gxaGeL",
        "outputId": "69c0c5ff-b759-40f1-937e-de915299450f"
      },
      "execution_count": null,
      "outputs": [
        {
          "output_type": "stream",
          "name": "stdout",
          "text": [
            "3.14\n"
          ]
        }
      ]
    },
    {
      "cell_type": "markdown",
      "metadata": {
        "id": "Yeh2r1mmjtYU"
      },
      "source": [
        "*Exercise 1b.2*\n",
        "\n",
        "Calculate the area of a square with sides 5cm. Store it in a variable known as square_area. Print out the entire statement:\n",
        "\n",
        "\"The area of a square of sides 5 cm is xxx cm squared\""
      ]
    },
    {
      "cell_type": "code",
      "metadata": {
        "colab": {
          "base_uri": "https://localhost:8080/"
        },
        "id": "7Kz3w8VdkAre",
        "outputId": "f16a3a94-3c21-4a79-b028-11283e653189"
      },
      "source": [],
      "execution_count": null,
      "outputs": [
        {
          "output_type": "stream",
          "name": "stdout",
          "text": [
            "The area of a square of sides 5cm is 25cm squared\n"
          ]
        }
      ]
    },
    {
      "cell_type": "markdown",
      "metadata": {
        "id": "YfAPZPsnkTPY"
      },
      "source": [
        "*Exercise 1b.3*\n",
        "\n",
        "Calculate the area of a rectangle with sides 10 cm and 5 cm. Store it in a variable known as rectangle_area. Print out the entire statement:\n",
        "\n",
        "\"The area of a rectangle of sides 10 cm and 5 cm is xxx cm squared\""
      ]
    },
    {
      "cell_type": "code",
      "source": [
        "# calculate the perimeter of the rectangle\n"
      ],
      "metadata": {
        "colab": {
          "base_uri": "https://localhost:8080/"
        },
        "id": "eIX_7Cmjes4H",
        "outputId": "f4180fc2-bb5d-40cf-f862-04a290449000"
      },
      "execution_count": null,
      "outputs": [
        {
          "output_type": "stream",
          "name": "stdout",
          "text": [
            "the perimeter is 31.0\n"
          ]
        }
      ]
    },
    {
      "cell_type": "code",
      "metadata": {
        "colab": {
          "base_uri": "https://localhost:8080/"
        },
        "id": "8wvxMGbNkl3E",
        "outputId": "05c0f2e5-f09a-4a73-803e-705848f93f1b"
      },
      "source": [],
      "execution_count": null,
      "outputs": [
        {
          "output_type": "stream",
          "name": "stdout",
          "text": [
            "The area of a rec of sides 10 and 5.5 is 50 cm squared.\n"
          ]
        }
      ]
    },
    {
      "cell_type": "markdown",
      "metadata": {
        "id": "oAlc6a3vInnA"
      },
      "source": [
        "*Exercise 1b.4*\n",
        "\n",
        "Calculate the area of a circle of radius 3.5 cm. Store it in a variable known as circle_area. Print out the value of the circle to 3 decimal points."
      ]
    },
    {
      "cell_type": "code",
      "metadata": {
        "colab": {
          "base_uri": "https://localhost:8080/"
        },
        "id": "BZOaUUgJIcYp",
        "outputId": "40c14e49-f106-4bd8-a0cb-84cf31af4778"
      },
      "source": [],
      "execution_count": null,
      "outputs": [
        {
          "output_type": "stream",
          "name": "stdout",
          "text": [
            "38.485\n"
          ]
        }
      ]
    },
    {
      "cell_type": "markdown",
      "metadata": {
        "id": "BUk2GPuhJOgR"
      },
      "source": [
        "*Exercise 1b.5*\n",
        "\n",
        "Given the following triangle, find the area of the triangle. Print it to 3 decimal places.\n",
        "\n",
        "![alt text](https://drive.google.com/uc?export=view&id=1NJgSCCx6t5tN51pykIkuo7IKFVVX08tv)\n",
        "\n",
        "Revision:\n",
        "\n",
        "The area of the triangle is:\n",
        "0.5 * height * width\n",
        "\n",
        "The width of this triangle is 20\n",
        "\n",
        "The height of this triangle can be found by taking the sine of the angle multiple by 11.\n",
        "\n",
        "You can use the sine by using the math.sin function. You can find out more about the function here:\n",
        "\n",
        "https://www.w3schools.com/python/ref_math_sin.asp"
      ]
    },
    {
      "cell_type": "code",
      "metadata": {
        "id": "cQnDZcozI-BL",
        "colab": {
          "base_uri": "https://localhost:8080/"
        },
        "outputId": "71a76d64-c422-4ea6-9b9e-4e28e1de920b"
      },
      "source": [],
      "execution_count": null,
      "outputs": [
        {
          "output_type": "stream",
          "name": "stdout",
          "text": [
            "84.26488874308758\n"
          ]
        }
      ]
    },
    {
      "cell_type": "code",
      "source": [],
      "metadata": {
        "id": "6zgBk05V009D"
      },
      "execution_count": null,
      "outputs": []
    },
    {
      "cell_type": "markdown",
      "source": [
        "##### Quiz 1b.2"
      ],
      "metadata": {
        "id": "O4mpp7ET2AOY"
      }
    },
    {
      "cell_type": "markdown",
      "source": [
        "https://www.hackerrank.com/challenges/python-arithmetic-operators/problem?isFullScreen=true"
      ],
      "metadata": {
        "id": "jfj3dk-b2Hkx"
      }
    },
    {
      "cell_type": "markdown",
      "source": [
        "##### Quiz 1b.3"
      ],
      "metadata": {
        "id": "dOv2iaM22SMQ"
      }
    },
    {
      "cell_type": "code",
      "source": [],
      "metadata": {
        "id": "-QR6agNLTv_7"
      },
      "execution_count": null,
      "outputs": []
    },
    {
      "cell_type": "markdown",
      "source": [
        "https://www.hackerrank.com/challenges/python-division/submissions/code/196765429"
      ],
      "metadata": {
        "id": "PoGiMk2A2SPM"
      }
    },
    {
      "cell_type": "code",
      "source": [],
      "metadata": {
        "id": "UyABV_Lf2Sz5"
      },
      "execution_count": null,
      "outputs": []
    }
  ]
}