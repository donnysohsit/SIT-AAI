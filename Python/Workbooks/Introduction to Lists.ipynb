{
  "nbformat": 4,
  "nbformat_minor": 0,
  "metadata": {
    "colab": {
      "provenance": []
    },
    "kernelspec": {
      "name": "python3",
      "display_name": "Python 3"
    }
  },
  "cells": [
    {
      "cell_type": "markdown",
      "metadata": {
        "id": "_-uLfjtzB9-J"
      },
      "source": [
        "## Section 2a. Lists\n",
        "\n",
        "Lists are used to store multiple items in a single variable. For instance, we may want to store many animals together.\n",
        "\n",
        "```\n",
        "animal1 = \"tiger\"\n",
        "animal2 = \"elephant\"\n",
        "animal3 = \"dog\"\n",
        "```\n",
        "\n",
        "However it may be difficult and inconvenient to access these individual animals. One easier way is to do the following:\n",
        "\n",
        "```\n",
        "animals = [\"tiger\", \"elephant\", \"dog\"]\n",
        "```\n",
        "\n",
        "Again, let's break down these statements step by step."
      ]
    },
    {
      "cell_type": "markdown",
      "metadata": {
        "id": "vRlQrHaGH44R"
      },
      "source": [
        "### Section 2a.1 Defining lists"
      ]
    },
    {
      "cell_type": "code",
      "metadata": {
        "id": "rZZha9CmDnMu"
      },
      "source": [],
      "execution_count": null,
      "outputs": []
    },
    {
      "cell_type": "code",
      "source": [],
      "metadata": {
        "id": "uP28fCFzBKA6"
      },
      "execution_count": null,
      "outputs": []
    },
    {
      "cell_type": "markdown",
      "metadata": {
        "id": "FLPtGi27GKhy"
      },
      "source": [
        "During the definition of the list, we encapsulate the values in square brackets, seperated with commas. Here what we have is a list of strings. The strings in the list is \"tiger\", \"elephant\" and \"dog\".\n",
        "\n",
        "If we have numerical arrays we have the following:"
      ]
    },
    {
      "cell_type": "code",
      "metadata": {
        "id": "uAt2uxfBFU-0"
      },
      "source": [],
      "execution_count": null,
      "outputs": []
    },
    {
      "cell_type": "code",
      "source": [
        "# write a print statement with the f-string that says that the length of a list is x."
      ],
      "metadata": {
        "id": "KssVrkaOy8x3"
      },
      "execution_count": null,
      "outputs": []
    },
    {
      "cell_type": "markdown",
      "metadata": {
        "id": "bz0q7lkJHqCu"
      },
      "source": [
        "This creates an array of three values 3, 4 and 7. There will be times where you may just want to create an empty array for the time being and then add values to the array. You will be able to achieve that with the following:"
      ]
    },
    {
      "cell_type": "code",
      "metadata": {
        "id": "TJc9I5YVKcKj"
      },
      "source": [],
      "execution_count": null,
      "outputs": []
    },
    {
      "cell_type": "markdown",
      "metadata": {
        "id": "WDkV2daLIL1R"
      },
      "source": [
        "### Section 2a.2 List functions\n",
        "\n",
        "Once again, one of the strengths of python is the in-built functions within the language. We see examples of these in-built functions in the list datatype. Some of these examples are for instance:\n",
        "\n",
        "\n",
        "1. Getting the length of the array using the *len* keyword. This is one of the most common functions that you will be using. In the above example, the list consists of three elements, 4, 7 and 3. Hence the length of the array is three."
      ]
    },
    {
      "cell_type": "code",
      "source": [],
      "metadata": {
        "id": "5f5wh75H2tWu"
      },
      "execution_count": null,
      "outputs": []
    },
    {
      "cell_type": "code",
      "metadata": {
        "id": "YXZDyEWFHo14"
      },
      "source": [],
      "execution_count": null,
      "outputs": []
    },
    {
      "cell_type": "markdown",
      "source": [
        "Print \"The length of the animals array is 3.\""
      ],
      "metadata": {
        "id": "QYAjIbHxmMIo"
      }
    },
    {
      "cell_type": "code",
      "source": [],
      "metadata": {
        "id": "B0vWVYYKmA85"
      },
      "execution_count": null,
      "outputs": []
    },
    {
      "cell_type": "code",
      "source": [],
      "metadata": {
        "id": "Tef6fdxdmbqI"
      },
      "execution_count": null,
      "outputs": []
    },
    {
      "cell_type": "code",
      "source": [],
      "metadata": {
        "id": "vxWRYX4L4E9G"
      },
      "execution_count": null,
      "outputs": []
    },
    {
      "cell_type": "markdown",
      "metadata": {
        "id": "tjjKwZtdLKot"
      },
      "source": [
        "2. Getting the maximum / minimum value of an array using the *max / min* function keyword. This operation is useful at times. For instance in a class context, you may want to find who is getting the highest score in a quiz."
      ]
    },
    {
      "cell_type": "code",
      "source": [],
      "metadata": {
        "id": "eyqijWCFEPS2"
      },
      "execution_count": null,
      "outputs": []
    },
    {
      "cell_type": "code",
      "source": [],
      "metadata": {
        "id": "_qL87NAZEFEF"
      },
      "execution_count": null,
      "outputs": []
    },
    {
      "cell_type": "code",
      "source": [],
      "metadata": {
        "id": "aLdcf9vLmvtq"
      },
      "execution_count": null,
      "outputs": []
    },
    {
      "cell_type": "code",
      "metadata": {
        "id": "gXvM_3UTIbkP"
      },
      "source": [],
      "execution_count": null,
      "outputs": []
    },
    {
      "cell_type": "code",
      "source": [],
      "metadata": {
        "id": "qSw_KDFOnHv5"
      },
      "execution_count": null,
      "outputs": []
    },
    {
      "cell_type": "markdown",
      "metadata": {
        "id": "my2ezV7JLfrS"
      },
      "source": [
        "3. Sorting the list using the *sorted* function keyword. This is another useful function. Example, it allows you to sort the scores of a list from lowest to highest."
      ]
    },
    {
      "cell_type": "code",
      "source": [],
      "metadata": {
        "id": "QAKrzqiFoJw_"
      },
      "execution_count": null,
      "outputs": []
    },
    {
      "cell_type": "code",
      "metadata": {
        "id": "JAAouHwwLqqJ"
      },
      "source": [],
      "execution_count": null,
      "outputs": []
    },
    {
      "cell_type": "code",
      "source": [],
      "metadata": {
        "id": "zrt5B4hj4-9M"
      },
      "execution_count": null,
      "outputs": []
    },
    {
      "cell_type": "code",
      "source": [],
      "metadata": {
        "id": "0EWHoG3_5EOC"
      },
      "execution_count": null,
      "outputs": []
    },
    {
      "cell_type": "markdown",
      "metadata": {
        "id": "2swEjplSLye8"
      },
      "source": [
        "Note that the original array remains unchanged and if you want to store the sorted array, you will need to store it in another array."
      ]
    },
    {
      "cell_type": "code",
      "metadata": {
        "id": "6WqJO0NIL8Ls"
      },
      "source": [],
      "execution_count": null,
      "outputs": []
    },
    {
      "cell_type": "markdown",
      "metadata": {
        "id": "v6xX2DsJIxo-"
      },
      "source": [
        "### Section 2a.3 Accessing elements in a list"
      ]
    },
    {
      "cell_type": "markdown",
      "metadata": {
        "id": "-POXiBoeI3g6"
      },
      "source": [
        "List elements are indexed starting from the number 0. Hence the first element of the list is at 0 and the last element of the list is at length -1. So if we want to find out the first element, we use index 0."
      ]
    },
    {
      "cell_type": "code",
      "source": [],
      "metadata": {
        "id": "IvJq0JV7o9k4"
      },
      "execution_count": null,
      "outputs": []
    },
    {
      "cell_type": "code",
      "source": [],
      "metadata": {
        "id": "HQeJz8KqGiTp"
      },
      "execution_count": null,
      "outputs": []
    },
    {
      "cell_type": "code",
      "metadata": {
        "id": "MnSDdRwKI2kt"
      },
      "source": [],
      "execution_count": null,
      "outputs": []
    },
    {
      "cell_type": "markdown",
      "metadata": {
        "id": "wSK1bEiGp8hF"
      },
      "source": [
        "Recall the number of items in the list is 3, as indictated with the len function. Hence to get the last item on the list, we use the following command:"
      ]
    },
    {
      "cell_type": "code",
      "metadata": {
        "id": "iuONvy2MqHkL"
      },
      "source": [],
      "execution_count": null,
      "outputs": []
    },
    {
      "cell_type": "markdown",
      "metadata": {
        "id": "n08hBpEKqVSG"
      },
      "source": [
        "Notice that we have the len(int_array) - 1. The minus 1 is required because the array starts from index 0.\n",
        "\n",
        "```\n",
        "int_array = [4, 7, 3]\n",
        "```\n",
        "\n",
        "index 0: number 4\n",
        "\n",
        "index 1: number 7\n",
        "\n",
        "index 2: number 3\n",
        "\n",
        "If we try to access the array at index 3, we will get the following error:"
      ]
    },
    {
      "cell_type": "code",
      "metadata": {
        "id": "9cnbANBFrhnj"
      },
      "source": [],
      "execution_count": null,
      "outputs": []
    },
    {
      "cell_type": "markdown",
      "metadata": {
        "id": "ZIdGyevCKLAW"
      },
      "source": [
        "### Section 2a.3 Adding and removing elements"
      ]
    },
    {
      "cell_type": "markdown",
      "metadata": {
        "id": "P8Jnuq5rsTS2"
      },
      "source": [
        "There are a few functions that allow you to add and remove elements. Some of these examples are append, remove and insert. These operations allow you to manipulate the array during the execution of the program. For instance the command we used earlire was only to initialize the array.\n",
        "\n",
        "```\n",
        "int_array = [4, 7, 3]\n",
        "```\n",
        "\n",
        "However many times we need to add elements into the array, remove or insert at certain positions. We will go through three functions how to carry these operations out."
      ]
    },
    {
      "cell_type": "markdown",
      "metadata": {
        "id": "bLM1_LFi03qo"
      },
      "source": [
        "**Append**\n",
        "\n",
        "This operation adds an element to the end of the array. Notice that the original array is changed. The syntax is the following:\n",
        "```\n",
        "append (value)\n",
        "```\n",
        "\n",
        "And the value will be added to the very end of the array."
      ]
    },
    {
      "cell_type": "code",
      "source": [],
      "metadata": {
        "id": "cV3J9-7BdMUd"
      },
      "execution_count": null,
      "outputs": []
    },
    {
      "cell_type": "code",
      "metadata": {
        "id": "PtCD5FIGKQBV"
      },
      "source": [],
      "execution_count": null,
      "outputs": []
    },
    {
      "cell_type": "code",
      "source": [],
      "metadata": {
        "id": "jyI5RYRrq1cH"
      },
      "execution_count": null,
      "outputs": []
    },
    {
      "cell_type": "markdown",
      "metadata": {
        "id": "fW0h3HvF1OgG"
      },
      "source": [
        "If we use the len function taught in the earlier section, you would also notice that the length of the array has increased by one. The length of the array is now equals to four."
      ]
    },
    {
      "cell_type": "code",
      "metadata": {
        "id": "Sms4yOKV1ILf"
      },
      "source": [],
      "execution_count": null,
      "outputs": []
    },
    {
      "cell_type": "markdown",
      "metadata": {
        "id": "9G_N3OXoEDIq"
      },
      "source": [
        "**Insert**\n",
        "\n",
        "The insert operation is used to insert an element in a certain location. The syntax is the following:\n",
        "```\n",
        "insert (index, value)\n",
        "```\n",
        "Which inserts the value within the array at location index. All elements after index are shifted one position to the right.\n"
      ]
    },
    {
      "cell_type": "code",
      "metadata": {
        "id": "nW_ArCgfF5fh"
      },
      "source": [],
      "execution_count": null,
      "outputs": []
    },
    {
      "cell_type": "code",
      "source": [],
      "metadata": {
        "id": "kGdb7DakUB-H"
      },
      "execution_count": null,
      "outputs": []
    },
    {
      "cell_type": "code",
      "source": [],
      "metadata": {
        "id": "cr3wInF1tI21"
      },
      "execution_count": null,
      "outputs": []
    },
    {
      "cell_type": "code",
      "source": [],
      "metadata": {
        "id": "aEcccxdnfMrQ"
      },
      "execution_count": null,
      "outputs": []
    },
    {
      "cell_type": "markdown",
      "metadata": {
        "id": "gkKwvto-GKgY"
      },
      "source": [
        "Note that if you give insert an index greater than the number of elements in the string, it turns into an append statement."
      ]
    },
    {
      "cell_type": "code",
      "metadata": {
        "id": "cIZUTlx6GYzl"
      },
      "source": [],
      "execution_count": null,
      "outputs": []
    },
    {
      "cell_type": "markdown",
      "metadata": {
        "id": "D1ODWzzPGArf"
      },
      "source": [
        "Note that negative indexing works in the insert statement. It will insert the element two elements before the end of the array."
      ]
    },
    {
      "cell_type": "code",
      "source": [],
      "metadata": {
        "id": "ENUgpZnYtedb"
      },
      "execution_count": null,
      "outputs": []
    },
    {
      "cell_type": "code",
      "source": [],
      "metadata": {
        "id": "kzNCCZcCtrbZ"
      },
      "execution_count": null,
      "outputs": []
    },
    {
      "cell_type": "code",
      "source": [],
      "metadata": {
        "id": "nr3ybCJFt0XK"
      },
      "execution_count": null,
      "outputs": []
    },
    {
      "cell_type": "markdown",
      "metadata": {
        "id": "Gp8OAZl94fVB"
      },
      "source": [
        "**Remove**\n",
        "\n",
        "The remove operation can be used to remove a certain element from the array. They syntax is the following:\n",
        "```\n",
        "remove(value)\n",
        "```\n",
        "\n",
        "And the first occurance of value within the array will be removed. For instance if we wish to remove the element 3 from the array, we will do the following"
      ]
    },
    {
      "cell_type": "code",
      "source": [],
      "metadata": {
        "id": "g9lcgcbVV7ZG"
      },
      "execution_count": null,
      "outputs": []
    },
    {
      "cell_type": "code",
      "source": [],
      "metadata": {
        "id": "jHizWEO5Vc_N"
      },
      "execution_count": null,
      "outputs": []
    },
    {
      "cell_type": "code",
      "source": [],
      "metadata": {
        "id": "9oG7N5Pqg0x7"
      },
      "execution_count": null,
      "outputs": []
    },
    {
      "cell_type": "code",
      "metadata": {
        "id": "okteyXJM1XCE"
      },
      "source": [],
      "execution_count": null,
      "outputs": []
    },
    {
      "cell_type": "code",
      "source": [],
      "metadata": {
        "id": "9p5beB5ruGxq"
      },
      "execution_count": null,
      "outputs": []
    },
    {
      "cell_type": "markdown",
      "metadata": {
        "id": "nj9t1QaJCGTE"
      },
      "source": [
        "Notice that the element 3 is gone. However if there are duplicated elements in the array list, only the first element of the array will be removed. This is illustrated when we try to remove the element 4."
      ]
    },
    {
      "cell_type": "code",
      "metadata": {
        "id": "vAZJqgNoCzYo"
      },
      "source": [],
      "execution_count": null,
      "outputs": []
    },
    {
      "cell_type": "markdown",
      "metadata": {
        "id": "KhJhcCGmC11D"
      },
      "source": [
        "Note that only the first occurance of the element 4 is removed."
      ]
    },
    {
      "cell_type": "markdown",
      "metadata": {
        "id": "9SkgE54_Dy3a"
      },
      "source": [
        "**Pop**\n",
        "\n",
        "Pop is used when we wish to remove elements located at certain indexes of the array. They syntax is the following:\n",
        "\n",
        "```\n",
        "pop(index)\n",
        "```\n",
        "\n",
        "where the index of the element to be removed is stated in the index variable."
      ]
    },
    {
      "cell_type": "code",
      "source": [],
      "metadata": {
        "id": "JqM4_KifXkGQ"
      },
      "execution_count": null,
      "outputs": []
    },
    {
      "cell_type": "code",
      "metadata": {
        "id": "dqb__DrKIj53"
      },
      "source": [],
      "execution_count": null,
      "outputs": []
    },
    {
      "cell_type": "code",
      "source": [],
      "metadata": {
        "id": "3weFOzmCutwb"
      },
      "execution_count": null,
      "outputs": []
    },
    {
      "cell_type": "markdown",
      "metadata": {
        "id": "nKzlVsy_Jckc"
      },
      "source": [
        "### Section 2a.4 Indexing elements within an array\n",
        "\n",
        "**Range indexing of elements in array**\n",
        "\n",
        "Recall earlier that arrays start from index 0. We are also able to access the arrays via the colon character. The syntax is\n",
        "\n",
        "```\n",
        "array_name[start_index : end_index]\n",
        "```\n",
        "\n",
        "Note that the number of elements returned will be up to (end_index - 1), meaning that the element at\n",
        "\n",
        "```\n",
        "array_name[end_index]\n",
        "```\n",
        "\n",
        "is not returned. The last element to be returned is\n",
        "\n",
        "```\n",
        "array_name[end_index - 1]\n",
        "```\n",
        "\n",
        "Hence the number of items returned is end_index - start_index."
      ]
    },
    {
      "cell_type": "code",
      "source": [],
      "metadata": {
        "id": "yMl3nHrpjyQf"
      },
      "execution_count": null,
      "outputs": []
    },
    {
      "cell_type": "code",
      "source": [],
      "metadata": {
        "id": "dGfquG0UmQrH"
      },
      "execution_count": null,
      "outputs": []
    },
    {
      "cell_type": "code",
      "metadata": {
        "id": "Z8jqvJYyJa6v"
      },
      "source": [],
      "execution_count": null,
      "outputs": []
    },
    {
      "cell_type": "code",
      "source": [],
      "metadata": {
        "id": "0heY0qQ5vgbT"
      },
      "execution_count": null,
      "outputs": []
    },
    {
      "cell_type": "code",
      "source": [],
      "metadata": {
        "id": "1D5XUMZ0vnHJ"
      },
      "execution_count": null,
      "outputs": []
    },
    {
      "cell_type": "code",
      "source": [],
      "metadata": {
        "id": "ySzJz0kvvx5x"
      },
      "execution_count": null,
      "outputs": []
    },
    {
      "cell_type": "code",
      "source": [],
      "metadata": {
        "id": "MDs6vWgOvuPB"
      },
      "execution_count": null,
      "outputs": []
    },
    {
      "cell_type": "code",
      "source": [],
      "metadata": {
        "id": "l_mOjVr3oBXJ"
      },
      "execution_count": null,
      "outputs": []
    },
    {
      "cell_type": "code",
      "source": [],
      "metadata": {
        "id": "-xaO5Jggwurh"
      },
      "execution_count": null,
      "outputs": []
    },
    {
      "cell_type": "markdown",
      "metadata": {
        "id": "DWbk8T6rn2i4"
      },
      "source": [
        "Do note that if we do not include the end index, it is automatically assigned to the end of the array."
      ]
    },
    {
      "cell_type": "code",
      "metadata": {
        "id": "4R3zew4Zn86Z"
      },
      "source": [],
      "execution_count": null,
      "outputs": []
    },
    {
      "cell_type": "markdown",
      "metadata": {
        "id": "n9sRy4TbMczg"
      },
      "source": [
        "**Negative indexing elements within an array**"
      ]
    },
    {
      "cell_type": "markdown",
      "metadata": {
        "id": "QestZVAwNEMf"
      },
      "source": [
        "We discussed a little bit on negative indexing of elements. How that works is the following:\n",
        "\n",
        "if index 0 is the first element on the list, then index -1 is the last element on the list. Likewise, index -2 is the second last element on the list."
      ]
    },
    {
      "cell_type": "code",
      "metadata": {
        "id": "YDYQgZuaOSOE"
      },
      "source": [],
      "execution_count": null,
      "outputs": []
    },
    {
      "cell_type": "markdown",
      "metadata": {
        "id": "Ib42pxJKORBj"
      },
      "source": [
        "Hence if we have int_array[-4:-2], we are taking the last fourth element and the last third element from the back of the list."
      ]
    },
    {
      "cell_type": "code",
      "metadata": {
        "id": "PxoZHj56MgOO"
      },
      "source": [],
      "execution_count": null,
      "outputs": []
    },
    {
      "cell_type": "markdown",
      "metadata": {
        "id": "krwN6DjePLgf"
      },
      "source": [
        "### Section 2a.5 Checking if an element is within the array or not"
      ]
    },
    {
      "cell_type": "markdown",
      "metadata": {
        "id": "sFzmb5v9P1aQ"
      },
      "source": [
        "Python has a very intuitive way of checking if it contains an element or not. There are at least two ways of doing this check. In the first way, we are able to use the in built function known as *count*. The syntax is:\n",
        "\n",
        "```\n",
        "count(value)\n",
        "```\n",
        "\n",
        "The count function counts the number of times an element of value is present within the array."
      ]
    },
    {
      "cell_type": "code",
      "metadata": {
        "id": "5IVqdi-jOGRp"
      },
      "source": [],
      "execution_count": null,
      "outputs": []
    },
    {
      "cell_type": "code",
      "source": [],
      "metadata": {
        "id": "RHk235oedoto"
      },
      "execution_count": null,
      "outputs": []
    },
    {
      "cell_type": "code",
      "source": [],
      "metadata": {
        "id": "vhcEbq4cqVAf"
      },
      "execution_count": null,
      "outputs": []
    },
    {
      "cell_type": "code",
      "source": [],
      "metadata": {
        "id": "JgkO4yPPxZ8x"
      },
      "execution_count": null,
      "outputs": []
    },
    {
      "cell_type": "markdown",
      "metadata": {
        "id": "agiHq59IRIPW"
      },
      "source": [
        "The other method is just using the typical syntax in if else statements\n",
        "\n",
        "```\n",
        "if value in int_array:\n",
        "  some other things here\n",
        "```"
      ]
    },
    {
      "cell_type": "code",
      "metadata": {
        "id": "FKHuM7kxQqpb"
      },
      "source": [],
      "execution_count": null,
      "outputs": []
    },
    {
      "cell_type": "markdown",
      "metadata": {
        "id": "K42xck8wTt6A"
      },
      "source": [
        "*Exercise 2a.1*\n",
        "\n",
        "Carry out the following steps:\n",
        "\n",
        "1.   Create a list called temp_list with the following items: 17, 40.2, “test work\", True.\n",
        "\n",
        "2.   Append \"hello world\" and 17 to the list.\n",
        "\n",
        "3.   Insert the value \"testing\" at the 4th position.\n",
        "\n",
        "4.   Insert the value \"starting\" at the start of the list.\n",
        "\n",
        "5.   Find the index of \"hello world\".\n",
        "\n",
        "6.   Count the number of 17s in the list.\n",
        "\n",
        "7.   Remove the first occurrence of 17 from the list.\n",
        "\n",
        "8.   Remove True from the list using pop and index."
      ]
    },
    {
      "cell_type": "code",
      "metadata": {
        "id": "12LW9YftWdK8"
      },
      "source": [],
      "execution_count": null,
      "outputs": []
    },
    {
      "cell_type": "code",
      "source": [],
      "metadata": {
        "id": "EakWE2D00fzE"
      },
      "execution_count": null,
      "outputs": []
    },
    {
      "cell_type": "code",
      "source": [],
      "metadata": {
        "id": "qZijgvBJww0U"
      },
      "execution_count": null,
      "outputs": []
    },
    {
      "cell_type": "code",
      "source": [],
      "metadata": {
        "id": "KTvshYfnx33z"
      },
      "execution_count": null,
      "outputs": []
    },
    {
      "cell_type": "code",
      "source": [],
      "metadata": {
        "id": "Yc8uP-Fdwz7H"
      },
      "execution_count": null,
      "outputs": []
    },
    {
      "cell_type": "code",
      "source": [],
      "metadata": {
        "id": "Vq0pPp2x1fTn"
      },
      "execution_count": null,
      "outputs": []
    },
    {
      "cell_type": "code",
      "source": [],
      "metadata": {
        "id": "WgdhW1G3xAA3"
      },
      "execution_count": null,
      "outputs": []
    },
    {
      "cell_type": "markdown",
      "metadata": {
        "id": "6l93SN2LZg2d"
      },
      "source": [
        "*Exercise 2a.2*\n",
        "\n",
        "Add item 555 after 444 in the following Python List\n",
        "\n",
        "list1 = [1, [22, [333, 444], 55], 6, 7]\n",
        "\n",
        "Expected output:\n",
        "list1 = [1, [22, [333, 444, 555], 55], 6, 7]"
      ]
    },
    {
      "cell_type": "code",
      "metadata": {
        "id": "xfT1t3RLYwCb"
      },
      "source": [],
      "execution_count": null,
      "outputs": []
    },
    {
      "cell_type": "code",
      "metadata": {
        "id": "5EpgM0HpaIb9"
      },
      "source": [],
      "execution_count": null,
      "outputs": []
    },
    {
      "cell_type": "code",
      "source": [],
      "metadata": {
        "id": "5ZR5ZtuW259g"
      },
      "execution_count": null,
      "outputs": []
    },
    {
      "cell_type": "code",
      "source": [],
      "metadata": {
        "id": "Vk2Cx6Y73jOJ"
      },
      "execution_count": null,
      "outputs": []
    }
  ]
}