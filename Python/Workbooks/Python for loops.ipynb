{
  "nbformat": 4,
  "nbformat_minor": 0,
  "metadata": {
    "colab": {
      "provenance": []
    },
    "kernelspec": {
      "name": "python3",
      "display_name": "Python 3"
    }
  },
  "cells": [
    {
      "cell_type": "markdown",
      "metadata": {
        "id": "fnuOVriG3ffL"
      },
      "source": [
        "## Section 2b. For Loops\n"
      ]
    },
    {
      "cell_type": "markdown",
      "metadata": {
        "id": "y3_4-E6P4c7c"
      },
      "source": [
        "### Section 2b.1 Introducing the for loop statement\n",
        "\n",
        "For loops allow you to run a series of statements, or various pieces of code until a certain condition is reached.\n",
        "\n",
        "**Eating eating**\n",
        "\n",
        "For example, let's say you are very hungry and you cannot and won't stop eat for as long as you are hungry. Hence the for loop condition for your decision making is:\n",
        "\n",
        "```\n",
        "for as long as my stomach is hungry,\n",
        "  I will take another mouth of this icecream\n",
        "```\n",
        "\n",
        "So what you do is that you eat a mouth of ice-cream. Then you think if you stomach is still hungry or not. Obviously the answer is no, and hence you will continue eating the ice-cream.\n",
        "\n",
        "What we have seen here is two things. The first is the condition (also known as the terminating condition):\n",
        "\n",
        "```\n",
        "is my stomach still hungry?\n",
        "```\n",
        "\n",
        "the second is the \"action\":\n",
        "\n",
        "```\n",
        "eat another mouth of ice cream\n",
        "```\n",
        "\n",
        "These are the two elements of a for loop which you should always have.\n",
        "\n",
        "**The wantan man**\n",
        "\n",
        "In the second example, imagine yourself at 5am, at the wantan noodle store before the store is open. It will not be surprising to see the wantan man wrapping wantan using the meat around the flour skin. In his mind, he is saying that today I need to wrap (eg) 500 wantans, in his mind, his for loop will be:\n",
        "\n",
        "```\n",
        "for number of wantans less than 500,\n",
        "  wrap wantan\n",
        "```"
      ]
    },
    {
      "cell_type": "markdown",
      "metadata": {
        "id": "ISLCpvay-K1m"
      },
      "source": [
        "### Section 2b.2 Importance of the for loop\n",
        "\n",
        "Such loops are important in computer programs as in real life. For example, if you are wearing shoes, you loop is,\n",
        "\n",
        "```\n",
        "for as long as feet is still bare:\n",
        "  wear shoes\n",
        "```\n",
        "\n",
        "```\n",
        "for as long as mind is bored:\n",
        "  play game (maybe genshin impact)\n",
        "```\n",
        "\n",
        "```\n",
        "for as long as legs are not tired:\n",
        "  run faster\n",
        "```\n",
        "\n",
        "In computer programming, this is also very common. For example, if you are updating the scores of students, one common statement that could happen is,\n",
        "\n",
        "```\n",
        "for all students in the class:\n",
        "  add one mark to their quiz 2\n",
        "```"
      ]
    },
    {
      "cell_type": "markdown",
      "metadata": {
        "id": "8jqlMxDRk_56"
      },
      "source": [
        "### Section 2b.3 Example for loop\n",
        "\n",
        "Let's say that there is list of students in the class, known as student list, and the list of their quiz 2 scores."
      ]
    },
    {
      "cell_type": "code",
      "metadata": {
        "id": "6EZt9a1Gd-dB"
      },
      "source": [
        "student_2251_list = ['amy', 'ben', 'cody']\n",
        "student_2251_quiz_2 = [50,60,70]"
      ],
      "execution_count": null,
      "outputs": []
    },
    {
      "cell_type": "code",
      "metadata": {
        "colab": {
          "base_uri": "https://localhost:8080/"
        },
        "id": "X9-KUJ7njPG5",
        "outputId": "11097f14-ca4a-402a-ba0b-3310a6085b7c"
      },
      "source": [
        "student = \"sss\"\n",
        "for student in student_2251_list:\n",
        "  print(student)\n",
        "\n",
        "print(student)"
      ],
      "execution_count": null,
      "outputs": [
        {
          "output_type": "stream",
          "name": "stdout",
          "text": [
            "amy\n",
            "ben\n",
            "cody\n",
            "cody\n"
          ]
        }
      ]
    },
    {
      "cell_type": "markdown",
      "metadata": {
        "id": "jJlx6rITgh65"
      },
      "source": [
        "Let's break down the earlier statements one by one. The first part:\n",
        "\n",
        "```\n",
        "student_2251_list = ['amy', 'ben', 'cody']\n",
        "student_2251_quiz_2 = [50,60,70]\n",
        "```\n",
        "\n",
        "Declares two lists / array. The first list is the list of student names in the course 2251 (if you name is one of the three names here, it is purely coincidental). The second list declares their scores for quiz 02. So Amy gets a score of 50, Ben a score of 60 and Cody a score of 70.\n",
        "\n",
        "In the second part, we see the following:\n",
        "\n",
        "```\n",
        "for student in student_2251_list:\n",
        "  print(student)\n",
        "```\n",
        "\n",
        "**First method of using a for loop**\n",
        "\n",
        "This means that for each of the student we find within the 2251 list, we will be printing out the name of the student. On a broad level, this means that the statement\n",
        "\n",
        "```\n",
        "for each_item in full_list\n",
        "```\n",
        "\n",
        "will iterate through every item in the full_list.\n",
        "\n",
        "The syntax is the following:\n",
        "\n",
        "1.   We first have the for loop terminating condition.\n",
        "2.   After the condition we have the colon character.\n",
        "3.   Below the colon character and indented, will be code block within the for loop.\n",
        "\n",
        "\n",
        "\n"
      ]
    },
    {
      "cell_type": "code",
      "metadata": {
        "colab": {
          "base_uri": "https://localhost:8080/"
        },
        "id": "6F91soLyydVf",
        "outputId": "08db932a-67e2-4616-8d91-cf3161c30d15"
      },
      "source": [
        "for student in student_2251_list:\n",
        "  print(student)\n",
        "  print(\"the name above is a student\")"
      ],
      "execution_count": null,
      "outputs": [
        {
          "output_type": "stream",
          "name": "stdout",
          "text": [
            "amy\n",
            "the name above is a student\n",
            "ben\n",
            "the name above is a student\n",
            "cody\n",
            "the name above is a student\n"
          ]
        }
      ]
    },
    {
      "cell_type": "markdown",
      "metadata": {
        "id": "ZKhKh_c-yujv"
      },
      "source": [
        "If we do not have the indentation correct, notice that the last line will only be printed once as it is not within the for loop."
      ]
    },
    {
      "cell_type": "code",
      "metadata": {
        "colab": {
          "base_uri": "https://localhost:8080/"
        },
        "id": "Erv48ijAysIR",
        "outputId": "11f17873-225a-4e1d-f43a-afa58d655c12"
      },
      "source": [
        "for student in student_2251_list:\n",
        "  print(student)\n",
        "print(\"the name above is a student\")"
      ],
      "execution_count": null,
      "outputs": [
        {
          "output_type": "stream",
          "name": "stdout",
          "text": [
            "amy\n",
            "ben\n",
            "cody\n",
            "the name above is a student\n"
          ]
        }
      ]
    },
    {
      "cell_type": "markdown",
      "metadata": {
        "id": "kXV_hnGqlbRa"
      },
      "source": [
        "Let's look at the next part of the example. Recall that in a list, we are able to access the individual elements through an index. Hence if we want to add in ten marks to every student in the list, one way of doing that is:\n",
        "\n",
        "```\n",
        "student_2251_quiz_2[0] += 10\n",
        "student_2251_quiz_2[1] += 10\n",
        "student_2251_quiz_2[2] += 10\n",
        "```\n",
        "\n",
        "Note that\n",
        "\n",
        "```\n",
        "student_2251_quiz_2[0] += 10\n",
        "```\n",
        "\n",
        "```\n",
        "student_2251_quiz_2[0] = student_2251_quiz_2[0] + 10\n",
        "```\n",
        "\n",
        "are the same."
      ]
    },
    {
      "cell_type": "markdown",
      "metadata": {
        "id": "eCUssLxhtz09"
      },
      "source": [
        "**Second method of using a for loop**\n",
        "\n",
        "But of course you will definately say that typing such instructions is a waste of time. Hence the proper way of doing that will be:"
      ]
    },
    {
      "cell_type": "code",
      "metadata": {
        "colab": {
          "base_uri": "https://localhost:8080/"
        },
        "id": "5N_XuYtdehSk",
        "outputId": "0620ffa4-d674-4760-cbcf-37b6b67812bc"
      },
      "source": [
        "for i in range(len(student_2251_quiz_2)):\n",
        "  student_2251_quiz_2[i] += 10\n",
        "\n",
        "print(student_2251_quiz_2)"
      ],
      "execution_count": null,
      "outputs": [
        {
          "output_type": "stream",
          "name": "stdout",
          "text": [
            "[60, 70, 80]\n"
          ]
        }
      ]
    },
    {
      "cell_type": "markdown",
      "metadata": {
        "id": "ZOqxlk4in760"
      },
      "source": [
        "Note that the student scores have increased by 10 points. Lets break down what the for loop is saying. In the earlier paragraph, we talked about accessing each element manually, by accessing the index one by one. What the for loop does is by automating this iteration of the index. The variable i holds the value of the index.\n",
        "\n",
        "If we are to print out the value of i, we get:"
      ]
    },
    {
      "cell_type": "code",
      "metadata": {
        "colab": {
          "base_uri": "https://localhost:8080/"
        },
        "id": "dzh3APehoeRE",
        "outputId": "9f8a3196-cc43-401d-e55b-92cf5aa80ba2"
      },
      "source": [
        "for i in range(len(student_2251_quiz_2)):\n",
        "  print(i)"
      ],
      "execution_count": null,
      "outputs": [
        {
          "output_type": "stream",
          "name": "stdout",
          "text": [
            "0\n",
            "1\n",
            "2\n"
          ]
        }
      ]
    },
    {
      "cell_type": "markdown",
      "metadata": {
        "id": "CxLIT_Q2ohD0"
      },
      "source": [
        "We see that the value of i increases from 0 all the way to 2. The value of 2 is determined by the length of the array. This length of array is obtained from the command:"
      ]
    },
    {
      "cell_type": "code",
      "metadata": {
        "colab": {
          "base_uri": "https://localhost:8080/"
        },
        "id": "eqpt_IfNfNXe",
        "outputId": "79f55ec4-c04a-4c80-e2a5-574f5953bdce"
      },
      "source": [
        "len(student_2251_quiz_2)"
      ],
      "execution_count": null,
      "outputs": [
        {
          "output_type": "execute_result",
          "data": {
            "text/plain": [
              "3"
            ]
          },
          "metadata": {},
          "execution_count": 30
        }
      ]
    },
    {
      "cell_type": "markdown",
      "metadata": {
        "id": "oqmAGtF4pGU6"
      },
      "source": [
        "So if we convert the first line to english, it means\n",
        "\n",
        "```\n",
        "for i in range(len(student_2251_quiz_2)):\n",
        "  print(i)\n",
        "```\n",
        "\n",
        "Iterate the value of i, from the value of 0 to length of array student_2251_quiz_2. For each value of i, print it out. We will be speaking more on this range function shortly. After updating the quiz scores, we will be able to print out the names and their scores."
      ]
    },
    {
      "cell_type": "code",
      "metadata": {
        "colab": {
          "base_uri": "https://localhost:8080/"
        },
        "id": "AI7xuYYNgH8S",
        "outputId": "482dc81c-447a-4dc0-c316-8cfb48fc02d9"
      },
      "source": [
        "for i in range(len(student_2251_quiz_2)):\n",
        "  print(f\"{student_2251_list[i]} scored {student_2251_quiz_2[i]} in quiz 2\")"
      ],
      "execution_count": null,
      "outputs": [
        {
          "output_type": "stream",
          "name": "stdout",
          "text": [
            "amy scored 60 in quiz 2\n",
            "ben scored 70 in quiz 2\n",
            "cody scored 80 in quiz 2\n"
          ]
        }
      ]
    },
    {
      "cell_type": "markdown",
      "metadata": {
        "id": "JH5wCcxysubn"
      },
      "source": [
        "*Exercise 2b.1*\n",
        "\n",
        "Find the sum of all elements in a list."
      ]
    },
    {
      "cell_type": "code",
      "metadata": {
        "id": "XMQTdCdcs6wa"
      },
      "source": [
        "# Do not delete this cell. The exercise 2b requires this array.\n",
        "\n",
        "temp_list = [4,6,2,5,7,4,5,2,4]"
      ],
      "execution_count": null,
      "outputs": []
    },
    {
      "cell_type": "code",
      "metadata": {
        "colab": {
          "base_uri": "https://localhost:8080/"
        },
        "id": "CwGbN2TZs2e6",
        "outputId": "39e5d1b6-fc11-48b2-b8bf-97e8d1cb8e9d"
      },
      "source": [
        "temp_sum = 0\n",
        "\n",
        "for i in temp_list:\n",
        "  temp_sum += i\n",
        "\n",
        "print(temp_sum)"
      ],
      "execution_count": null,
      "outputs": [
        {
          "output_type": "stream",
          "name": "stdout",
          "text": [
            "39\n"
          ]
        }
      ]
    },
    {
      "cell_type": "markdown",
      "metadata": {
        "id": "rswPI34vrMEF"
      },
      "source": [
        "*Exercise 2b.2*\n",
        "\n",
        "Find the maximum element in a list."
      ]
    },
    {
      "cell_type": "code",
      "metadata": {
        "colab": {
          "base_uri": "https://localhost:8080/"
        },
        "id": "tmMT72zNsSyx",
        "outputId": "c2905503-6de3-4f87-947a-ef9383d2b01e"
      },
      "source": [
        "import math\n",
        "temp_max = -math.inf\n",
        "\n",
        "for i in temp_list:\n",
        "  if temp_max < i:\n",
        "    temp_max = i\n",
        "\n",
        "print(temp_max)"
      ],
      "execution_count": null,
      "outputs": [
        {
          "output_type": "stream",
          "name": "stdout",
          "text": [
            "7\n"
          ]
        }
      ]
    },
    {
      "cell_type": "code",
      "source": [
        "import math\n",
        "\n",
        "def second_largest(lst):\n",
        "    first, second = -math.inf, -math.inf\n",
        "    for number in lst:\n",
        "        if number > first:\n",
        "            first, second = number, first\n",
        "        elif first > number and number > second:\n",
        "            second = number\n",
        "    return second\n",
        "\n",
        "numbers = [10, 20, 4, 45, 99]\n",
        "print(second_largest(numbers))"
      ],
      "metadata": {
        "id": "q7gVgZm-6cjp"
      },
      "execution_count": null,
      "outputs": []
    },
    {
      "cell_type": "markdown",
      "metadata": {
        "id": "HlPytQJot7PJ"
      },
      "source": [
        "*Exercise 2b.3*\n",
        "\n",
        "Find the average of a list."
      ]
    },
    {
      "cell_type": "code",
      "metadata": {
        "colab": {
          "base_uri": "https://localhost:8080/"
        },
        "id": "BW-p6zVjvIwD",
        "outputId": "908ed238-2474-4ed7-ebc9-5f1031df3dda"
      },
      "source": [
        "temp_sum = 0\n",
        "\n",
        "for i in temp_list:\n",
        "  temp_sum += i\n",
        "\n",
        "print(temp_sum / len(temp_list))"
      ],
      "execution_count": null,
      "outputs": [
        {
          "output_type": "stream",
          "name": "stdout",
          "text": [
            "4.333333333333333\n"
          ]
        }
      ]
    },
    {
      "cell_type": "markdown",
      "metadata": {
        "id": "uBt-H5rIq8qZ"
      },
      "source": [
        "### Section 2b.4 Range command\n",
        "\n",
        "The previous example of the for loop used the range command with the length of the list. The syntax of the for the range is the following:"
      ]
    },
    {
      "cell_type": "markdown",
      "metadata": {
        "id": "Z706HGhozdEB"
      },
      "source": [
        "```\n",
        "range(end_value)\n",
        "```\n",
        "\n",
        "When we have only one parameter in the range function, it means we will iterate from 0, to the value of end_value in steps of 1."
      ]
    },
    {
      "cell_type": "code",
      "metadata": {
        "colab": {
          "base_uri": "https://localhost:8080/"
        },
        "id": "K4LeV0WF1cHx",
        "outputId": "d95e797a-5c56-4ac7-a81e-c21da37d3174"
      },
      "source": [
        "temp_list = list(range(10))\n",
        "\n",
        "print(temp_list)"
      ],
      "execution_count": null,
      "outputs": [
        {
          "output_type": "stream",
          "name": "stdout",
          "text": [
            "[0, 1, 2, 3, 4, 5, 6, 7, 8, 9]\n"
          ]
        }
      ]
    },
    {
      "cell_type": "markdown",
      "metadata": {
        "id": "c4bvsEmz2snH"
      },
      "source": [
        "Note that the range value ends at end_value - 1. What this means is that it does not end at 10, but at 9."
      ]
    },
    {
      "cell_type": "markdown",
      "metadata": {
        "id": "MpJHrdfv01YS"
      },
      "source": [
        "```\n",
        "range(start_value, end_value)\n",
        "```\n",
        "\n",
        "When we have two parameters in the range function, it means we will iterate from start_value, to the value of end_value in steps of 1."
      ]
    },
    {
      "cell_type": "code",
      "metadata": {
        "colab": {
          "base_uri": "https://localhost:8080/"
        },
        "id": "7cUaGQkc08dv",
        "outputId": "d64675c9-e765-4ec8-f5d8-53a713541185"
      },
      "source": [
        "temp_list = list(range(5, 10))\n",
        "\n",
        "print(temp_list)"
      ],
      "execution_count": null,
      "outputs": [
        {
          "output_type": "stream",
          "name": "stdout",
          "text": [
            "[5, 6, 7, 8, 9]\n"
          ]
        }
      ]
    },
    {
      "cell_type": "markdown",
      "metadata": {
        "id": "ghSMkq2m0qNY"
      },
      "source": [
        "```\n",
        "range(start_value, end_value, step)\n",
        "```\n",
        "\n",
        "When we have three parameters in the range function, it means we will iterate from start_value to the value of end_value in steps of step."
      ]
    },
    {
      "cell_type": "code",
      "metadata": {
        "colab": {
          "base_uri": "https://localhost:8080/"
        },
        "id": "DQ7y3NqmxAPC",
        "outputId": "9ef452ce-b7c0-4447-e378-75c2b6a29352"
      },
      "source": [
        "temp_list = list(range(0, 10, 2))\n",
        "\n",
        "print(temp_list)"
      ],
      "execution_count": null,
      "outputs": [
        {
          "output_type": "stream",
          "name": "stdout",
          "text": [
            "[0, 2, 4, 6, 8]\n"
          ]
        }
      ]
    },
    {
      "cell_type": "markdown",
      "metadata": {
        "id": "CQGMKiaI6FEE"
      },
      "source": [
        "*Exercise 2b.4*\n",
        "\n",
        "Write a code to print the numbers from 5 to 10 (both numbers inclusive)"
      ]
    },
    {
      "cell_type": "code",
      "metadata": {
        "colab": {
          "base_uri": "https://localhost:8080/"
        },
        "id": "uheAoDXs6hOg",
        "outputId": "054434a3-a226-4852-b74c-a6c2ad53c2f1"
      },
      "source": [
        "for i in range(5, 11):\n",
        "  print(i)"
      ],
      "execution_count": null,
      "outputs": [
        {
          "output_type": "stream",
          "name": "stdout",
          "text": [
            "5\n",
            "6\n",
            "7\n",
            "8\n",
            "9\n",
            "10\n"
          ]
        }
      ]
    },
    {
      "cell_type": "markdown",
      "metadata": {
        "id": "2zmmmxnw2dSY"
      },
      "source": [
        "*Exercise 2b.5*\n",
        "\n",
        "Find the sum of all odd elements in a list."
      ]
    },
    {
      "cell_type": "code",
      "metadata": {
        "id": "ENltZFIu3jAy"
      },
      "source": [
        "# Do not delete this cell. The exercise 2b requires this array.\n",
        "\n",
        "temp_list = [4,6,2,5,7,4,5,2,4]"
      ],
      "execution_count": null,
      "outputs": []
    },
    {
      "cell_type": "code",
      "metadata": {
        "colab": {
          "base_uri": "https://localhost:8080/"
        },
        "id": "MeDt0JLd1wj5",
        "outputId": "b34cbdc4-9c13-4e65-9379-f4348b344085"
      },
      "source": [
        "temp_sum = 0\n",
        "for i in range(1, len(temp_list), 2):\n",
        "  temp_sum += temp_list[i]\n",
        "\n",
        "print(temp_sum)"
      ],
      "execution_count": null,
      "outputs": [
        {
          "output_type": "stream",
          "name": "stdout",
          "text": [
            "17\n"
          ]
        }
      ]
    },
    {
      "cell_type": "markdown",
      "metadata": {
        "id": "OaWuRFIa4bkD"
      },
      "source": [
        "*Exercise 2b.6*\n",
        "\n",
        "Find the sum of every third element in a list, starting from the third element."
      ]
    },
    {
      "cell_type": "code",
      "metadata": {
        "colab": {
          "base_uri": "https://localhost:8080/"
        },
        "id": "QjCTrezu3xAH",
        "outputId": "11fd168c-d61c-464d-855e-286d7af6f9df"
      },
      "source": [
        "temp_sum = 0\n",
        "for i in range(2, len(temp_list), 3):\n",
        "  temp_sum += temp_list[i]\n",
        "\n",
        "print(temp_sum)"
      ],
      "execution_count": null,
      "outputs": [
        {
          "output_type": "stream",
          "name": "stdout",
          "text": [
            "10\n"
          ]
        }
      ]
    },
    {
      "cell_type": "markdown",
      "metadata": {
        "id": "VFbdGaCE5DBK"
      },
      "source": [
        "### Section 2b.5 Index, Break and Continue"
      ]
    },
    {
      "cell_type": "markdown",
      "metadata": {
        "id": "9SxmvLIToF2n"
      },
      "source": [
        "**Index**\n",
        "\n",
        "At times you may also want to get the index as well as the element in the for loop. You can do it with the following command:"
      ]
    },
    {
      "cell_type": "code",
      "metadata": {
        "colab": {
          "base_uri": "https://localhost:8080/"
        },
        "id": "FutkoY1uoOGA",
        "outputId": "7d320a2d-9694-4914-c36a-06ff3ff9e150"
      },
      "source": [
        "for index, i in enumerate(temp_list):\n",
        "  print (index, i)"
      ],
      "execution_count": null,
      "outputs": [
        {
          "output_type": "stream",
          "name": "stdout",
          "text": [
            "0 4\n",
            "1 6\n",
            "2 2\n",
            "3 5\n",
            "4 7\n",
            "5 4\n",
            "6 5\n",
            "7 2\n",
            "8 4\n"
          ]
        }
      ]
    },
    {
      "cell_type": "markdown",
      "metadata": {
        "id": "5C5kTxd1oEg6"
      },
      "source": [
        "**Continue**\n",
        "\n",
        "There are times when within the loop, you may want to exit the loop prematurely, or ignore certain parts of the list. For example, if we have a list and we want to sum up all the values of the array, other than the value in index 4. How this is done is the following:"
      ]
    },
    {
      "cell_type": "code",
      "metadata": {
        "colab": {
          "base_uri": "https://localhost:8080/"
        },
        "id": "bMZnkFz94lnW",
        "outputId": "d2b9cb57-e23d-424e-c376-c6f9bfc33b6a"
      },
      "source": [
        "temp_sum = 0\n",
        "print(temp_list)\n",
        "\n",
        "for i in range(len(temp_list)):\n",
        "  if i == 4:\n",
        "    continue\n",
        "  temp_sum += temp_list[i]\n",
        "\n",
        "print(temp_sum)"
      ],
      "execution_count": null,
      "outputs": [
        {
          "output_type": "stream",
          "name": "stdout",
          "text": [
            "[4, 6, 2, 5, 7, 4, 5, 2, 4]\n",
            "32\n"
          ]
        }
      ]
    },
    {
      "cell_type": "markdown",
      "metadata": {
        "id": "vqtmVSvv9VWn"
      },
      "source": [
        "**Break**\n",
        "\n",
        "There are also times where you want to exit the loop altogether. For instance, if we wish to sum an array until we hit the value of 5."
      ]
    },
    {
      "cell_type": "code",
      "metadata": {
        "colab": {
          "base_uri": "https://localhost:8080/"
        },
        "id": "dohwV7zF82t6",
        "outputId": "5f69a1de-59b6-46f4-ceb6-cb3ce6c7bb6c"
      },
      "source": [
        "temp_sum = 0\n",
        "\n",
        "for i in range(len(temp_list)):\n",
        "  if temp_list[i] == 5:\n",
        "    break\n",
        "  temp_sum += temp_list[i]\n",
        "\n",
        "print(temp_sum)"
      ],
      "execution_count": null,
      "outputs": [
        {
          "output_type": "stream",
          "name": "stdout",
          "text": [
            "12\n"
          ]
        }
      ]
    },
    {
      "cell_type": "markdown",
      "metadata": {
        "id": "RcnFUoo--h8D"
      },
      "source": [
        "*Exercise 2b.7*\n",
        "\n",
        "Write a for loop to count the number of elements in temp_list that is divisible by 3."
      ]
    },
    {
      "cell_type": "code",
      "metadata": {
        "colab": {
          "base_uri": "https://localhost:8080/"
        },
        "id": "wwJ9JxLg-kDy",
        "outputId": "31a9ae1e-d67f-4cba-b76e-f4d167af0975"
      },
      "source": [
        "number_elements = 0\n",
        "\n",
        "for i in range(len(temp_list)):\n",
        "  if temp_list[i] % 3 == 0:\n",
        "    number_elements += 1\n",
        "\n",
        "print(number_elements)"
      ],
      "execution_count": null,
      "outputs": [
        {
          "output_type": "stream",
          "name": "stdout",
          "text": [
            "1\n"
          ]
        }
      ]
    },
    {
      "cell_type": "code",
      "source": [
        "if __name__ == '__main__':\n",
        "    n = int(input())\n",
        "    for i in range(n):\n",
        "        print(i*i)\n"
      ],
      "metadata": {
        "id": "buXPnwwPg8XX"
      },
      "execution_count": null,
      "outputs": []
    },
    {
      "cell_type": "code",
      "source": [
        "if __name__ == '__main__':\n",
        "    n = int(input())\n",
        "    for i in range (1, n+1):\n",
        "        print(i, end =\"\")\n"
      ],
      "metadata": {
        "id": "rBQv1_wbg8ek"
      },
      "execution_count": null,
      "outputs": []
    }
  ]
}