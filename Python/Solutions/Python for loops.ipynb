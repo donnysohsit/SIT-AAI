{
  "nbformat": 4,
  "nbformat_minor": 0,
  "metadata": {
    "colab": {
      "provenance": []
    },
    "kernelspec": {
      "name": "python3",
      "display_name": "Python 3"
    }
  },
  "cells": [
    {
      "cell_type": "markdown",
      "metadata": {
        "id": "fnuOVriG3ffL"
      },
      "source": [
        "## Section 2b. For Loops\n"
      ]
    },
    {
      "cell_type": "markdown",
      "metadata": {
        "id": "y3_4-E6P4c7c"
      },
      "source": [
        "### Section 2b.1 Introducing the for loop statement\n",
        "\n",
        "For loops allow you to run a series of statements, or various pieces of code until a certain condition is reached.\n",
        "\n",
        "**Eating eating**\n",
        "\n",
        "For example, let's say you are very hungry and you cannot and won't stop eat for as long as you are hungry. Hence the for loop condition for your decision making is:\n",
        "\n",
        "```\n",
        "for as long as my stomach is hungry,\n",
        "  I will take another mouth of this icecream\n",
        "```\n",
        "\n",
        "So what you do is that you eat a mouth of ice-cream. Then you think if you stomach is still hungry or not. Obviously the answer is no, and hence you will continue eating the ice-cream.\n",
        "\n",
        "What we have seen here is two things. The first is the condition (also known as the terminating condition):\n",
        "\n",
        "```\n",
        "is my stomach still hungry?\n",
        "```\n",
        "\n",
        "the second is the \"action\":\n",
        "\n",
        "```\n",
        "eat another mouth of ice cream\n",
        "```\n",
        "\n",
        "These are the two elements of a for loop which you should always have.\n",
        "\n",
        "**The wantan man**\n",
        "\n",
        "In the second example, imagine yourself at 5am, at the wantan noodle store before the store is open. It will not be surprising to see the wantan man wrapping wantan using the meat around the flour skin. In his mind, he is saying that today I need to wrap (eg) 500 wantans, in his mind, his for loop will be:\n",
        "\n",
        "```\n",
        "for number of wantans less than 500,\n",
        "  wrap wantan\n",
        "```"
      ]
    },
    {
      "cell_type": "markdown",
      "metadata": {
        "id": "ISLCpvay-K1m"
      },
      "source": [
        "### Section 2b.2 Importance of the for loop\n",
        "\n",
        "Such loops are important in computer programs as in real life. For example, if you are wearing shoes, you loop is,\n",
        "\n",
        "```\n",
        "for as long as feet is still bare:\n",
        "  wear shoes\n",
        "```\n",
        "\n",
        "```\n",
        "for as long as mind is bored:\n",
        "  play game (maybe genshin impact)\n",
        "```\n",
        "\n",
        "```\n",
        "for as long as legs are not tired:\n",
        "  run faster\n",
        "```\n",
        "\n",
        "In computer programming, this is also very common. For example, if you are updating the scores of students, one common statement that could happen is,\n",
        "\n",
        "```\n",
        "for all students in the class:\n",
        "  add one mark to their quiz 2\n",
        "```"
      ]
    },
    {
      "cell_type": "markdown",
      "metadata": {
        "id": "8jqlMxDRk_56"
      },
      "source": [
        "### Section 2b.3 Example for loop\n",
        "\n",
        "Let's say that there is list of students in the class, known as student list, and the list of their quiz 2 scores."
      ]
    },
    {
      "cell_type": "code",
      "metadata": {
        "id": "6EZt9a1Gd-dB"
      },
      "source": [],
      "execution_count": null,
      "outputs": []
    },
    {
      "cell_type": "code",
      "source": [],
      "metadata": {
        "colab": {
          "base_uri": "https://localhost:8080/"
        },
        "id": "RKFMaqdC5Zlj",
        "outputId": "16fd2e25-57d0-4702-95ee-ea0b97523f3b"
      },
      "execution_count": null,
      "outputs": [
        {
          "output_type": "execute_result",
          "data": {
            "text/plain": [
              "True"
            ]
          },
          "metadata": {},
          "execution_count": 2
        }
      ]
    },
    {
      "cell_type": "code",
      "metadata": {
        "colab": {
          "base_uri": "https://localhost:8080/"
        },
        "id": "X9-KUJ7njPG5",
        "outputId": "54c05598-270f-439b-bb93-0993e3303e05"
      },
      "source": [],
      "execution_count": null,
      "outputs": [
        {
          "output_type": "stream",
          "name": "stdout",
          "text": [
            "amy\n",
            "ben\n",
            "cody\n"
          ]
        }
      ]
    },
    {
      "cell_type": "markdown",
      "metadata": {
        "id": "jJlx6rITgh65"
      },
      "source": [
        "Let's break down the earlier statements one by one. The first part:\n",
        "\n",
        "```\n",
        "student_2251_list = ['amy', 'ben', 'cody']\n",
        "student_2251_quiz_2 = [50,60,70]\n",
        "```\n",
        "\n",
        "Declares two lists / array. The first list is the list of student names in the course 2251 (if you name is one of the three names here, it is purely coincidental). The second list declares their scores for quiz 02. So Amy gets a score of 50, Ben a score of 60 and Cody a score of 70.\n",
        "\n",
        "In the second part, we see the following:\n",
        "\n",
        "```\n",
        "for student in student_2251_list:\n",
        "  print(student)\n",
        "```\n",
        "\n",
        "**First method of using a for loop**\n",
        "\n",
        "This means that for each of the student we find within the 2251 list, we will be printing out the name of the student. On a broad level, this means that the statement\n",
        "\n",
        "```\n",
        "for each_item in full_list\n",
        "```\n",
        "\n",
        "will iterate through every item in the full_list.\n",
        "\n",
        "The syntax is the following:\n",
        "\n",
        "1.   We first have the for loop terminating condition.\n",
        "2.   After the condition we have the colon character.\n",
        "3.   Below the colon character and indented, will be code block within the for loop.\n",
        "\n",
        "\n",
        "\n"
      ]
    },
    {
      "cell_type": "code",
      "metadata": {
        "colab": {
          "base_uri": "https://localhost:8080/"
        },
        "id": "6F91soLyydVf",
        "outputId": "2191f307-64bf-4041-d9db-be05037da454"
      },
      "source": [],
      "execution_count": null,
      "outputs": [
        {
          "output_type": "stream",
          "name": "stdout",
          "text": [
            "amy is a student in my class\n",
            "ben is a student in my class\n",
            "cody is a student in my class\n"
          ]
        }
      ]
    },
    {
      "cell_type": "markdown",
      "metadata": {
        "id": "ZKhKh_c-yujv"
      },
      "source": [
        "If we do not have the indentation correct, notice that the last line will only be printed once as it is not within the for loop."
      ]
    },
    {
      "cell_type": "code",
      "metadata": {
        "colab": {
          "base_uri": "https://localhost:8080/"
        },
        "id": "Erv48ijAysIR",
        "outputId": "88e5888d-1bb6-404f-bec7-52c448df6483"
      },
      "source": [],
      "execution_count": null,
      "outputs": [
        {
          "output_type": "stream",
          "text": [
            "amy\n",
            "ben\n",
            "cody\n",
            "the name above is a student\n"
          ],
          "name": "stdout"
        }
      ]
    },
    {
      "cell_type": "markdown",
      "metadata": {
        "id": "kXV_hnGqlbRa"
      },
      "source": [
        "Let's look at the next part of the example. Recall that in a list, we are able to access the individual elements through an index. Hence if we want to add in ten marks to every student in the list, one way of doing that is:\n",
        "\n",
        "```\n",
        "student_2251_quiz_2[0] += 10\n",
        "student_2251_quiz_2[1] += 10\n",
        "student_2251_quiz_2[2] += 10\n",
        "```\n",
        "\n",
        "Note that\n",
        "\n",
        "```\n",
        "student_2251_quiz_2[0] += 10\n",
        "```\n",
        "\n",
        "```\n",
        "student_2251_quiz_2[0] = student_2251_quiz_2[0] + 10\n",
        "```\n",
        "\n",
        "are the same."
      ]
    },
    {
      "cell_type": "code",
      "source": [],
      "metadata": {
        "id": "yy6u3wkh6w3w"
      },
      "execution_count": null,
      "outputs": []
    },
    {
      "cell_type": "markdown",
      "metadata": {
        "id": "eCUssLxhtz09"
      },
      "source": [
        "**Second method of using a for loop**\n",
        "\n",
        "But of course you will definately say that typing such instructions is a waste of time. Hence the proper way of doing that will be:"
      ]
    },
    {
      "cell_type": "code",
      "metadata": {
        "colab": {
          "base_uri": "https://localhost:8080/"
        },
        "id": "5N_XuYtdehSk",
        "outputId": "2e2ae458-be3c-4e50-b7d0-05322981756b"
      },
      "source": [],
      "execution_count": null,
      "outputs": [
        {
          "output_type": "stream",
          "name": "stdout",
          "text": [
            "[70, 60, 80]\n"
          ]
        }
      ]
    },
    {
      "cell_type": "markdown",
      "metadata": {
        "id": "ZOqxlk4in760"
      },
      "source": [
        "Note that the student scores have increased by 10 points. Lets break down what the for loop is saying. In the earlier paragraph, we talked about accessing each element manually, by accessing the index one by one. What the for loop does is by automating this iteration of the index. The variable i holds the value of the index.\n",
        "\n",
        "If we are to print out the value of i, we get:"
      ]
    },
    {
      "cell_type": "markdown",
      "metadata": {
        "id": "CxLIT_Q2ohD0"
      },
      "source": [
        "We see that the value of i increases from 0 all the way to 2. The value of 2 is determined by the length of the array. This length of array is obtained from the command:"
      ]
    },
    {
      "cell_type": "code",
      "source": [],
      "metadata": {
        "id": "PuLTUcS6QXd5"
      },
      "execution_count": null,
      "outputs": []
    },
    {
      "cell_type": "markdown",
      "metadata": {
        "id": "oqmAGtF4pGU6"
      },
      "source": [
        "So if we convert the first line to english, it means\n",
        "\n",
        "```\n",
        "for i in range(len(student_2251_quiz_2)):\n",
        "  print(i)\n",
        "```\n",
        "\n",
        "Iterate the value of i, from the value of 0 to length of array student_2251_quiz_2. For each value of i, print it out. We will be speaking more on this range function shortly. After updating the quiz scores, we will be able to print out the names and their scores."
      ]
    },
    {
      "cell_type": "code",
      "metadata": {
        "colab": {
          "base_uri": "https://localhost:8080/"
        },
        "id": "AI7xuYYNgH8S",
        "outputId": "84f430e5-2b0e-4fde-857d-9978daa085b3"
      },
      "source": [],
      "execution_count": null,
      "outputs": [
        {
          "output_type": "stream",
          "name": "stdout",
          "text": [
            "amy scored 70 marks\n",
            "ben scored 60 marks\n",
            "cody scored 80 marks\n"
          ]
        }
      ]
    },
    {
      "cell_type": "markdown",
      "metadata": {
        "id": "JH5wCcxysubn"
      },
      "source": [
        "*Exercise 2b.1*\n",
        "\n",
        "Find the sum of all elements in a list."
      ]
    },
    {
      "cell_type": "code",
      "metadata": {
        "id": "XMQTdCdcs6wa"
      },
      "source": [
        "# Do not delete this cell. The exercise 2b requires this array.\n",
        "\n",
        "temp_list = [4,6,2,5,7,4,5,2,4]"
      ],
      "execution_count": null,
      "outputs": []
    },
    {
      "cell_type": "code",
      "metadata": {
        "colab": {
          "base_uri": "https://localhost:8080/"
        },
        "id": "CwGbN2TZs2e6",
        "outputId": "b1073740-e724-4ea4-f56f-a0f6dd25673c"
      },
      "source": [],
      "execution_count": null,
      "outputs": [
        {
          "output_type": "stream",
          "name": "stdout",
          "text": [
            "39\n"
          ]
        }
      ]
    },
    {
      "cell_type": "markdown",
      "metadata": {
        "id": "rswPI34vrMEF"
      },
      "source": [
        "*Exercise 2b.2*\n",
        "\n",
        "Find the maximum element in a list."
      ]
    },
    {
      "cell_type": "code",
      "metadata": {
        "colab": {
          "base_uri": "https://localhost:8080/"
        },
        "id": "tmMT72zNsSyx",
        "outputId": "1fff2d5c-7f29-4db3-8ede-6641e2d67e3e"
      },
      "source": [],
      "execution_count": null,
      "outputs": [
        {
          "output_type": "stream",
          "name": "stdout",
          "text": [
            "7\n"
          ]
        }
      ]
    },
    {
      "cell_type": "markdown",
      "source": [
        "Find the second largest element in the list"
      ],
      "metadata": {
        "id": "xjA_9Wq9C_8Q"
      }
    },
    {
      "cell_type": "code",
      "source": [],
      "metadata": {
        "colab": {
          "base_uri": "https://localhost:8080/"
        },
        "id": "weJSNX6gDYHB",
        "outputId": "701db1db-e823-4873-9e85-205545d36ea7"
      },
      "execution_count": null,
      "outputs": [
        {
          "output_type": "execute_result",
          "data": {
            "text/plain": [
              "[4, 6, 2, 5, 7, 4, 5, 2, 4]"
            ]
          },
          "metadata": {},
          "execution_count": 26
        }
      ]
    },
    {
      "cell_type": "code",
      "source": [],
      "metadata": {
        "colab": {
          "base_uri": "https://localhost:8080/"
        },
        "id": "oE-ouEg6Emy4",
        "outputId": "ba4b99ec-d433-4bd9-8918-bb98f75b68b7"
      },
      "execution_count": null,
      "outputs": [
        {
          "output_type": "stream",
          "name": "stdout",
          "text": [
            "6\n",
            "4\n"
          ]
        }
      ]
    },
    {
      "cell_type": "code",
      "source": [],
      "metadata": {
        "colab": {
          "base_uri": "https://localhost:8080/"
        },
        "id": "XlB5R84WJnTm",
        "outputId": "0cb009bd-5516-4496-b9c9-51d35ad8e776"
      },
      "execution_count": null,
      "outputs": [
        {
          "output_type": "execute_result",
          "data": {
            "text/plain": [
              "[4, 6, 2, 5, 7, 4, 5, 2, 4]"
            ]
          },
          "metadata": {},
          "execution_count": 34
        }
      ]
    },
    {
      "cell_type": "code",
      "source": [],
      "metadata": {
        "colab": {
          "base_uri": "https://localhost:8080/"
        },
        "id": "u9kWDS0eC2zT",
        "outputId": "68016750-987d-48eb-d3bb-4538476900d0"
      },
      "execution_count": null,
      "outputs": [
        {
          "output_type": "stream",
          "name": "stdout",
          "text": [
            "7 6\n"
          ]
        }
      ]
    },
    {
      "cell_type": "markdown",
      "metadata": {
        "id": "HlPytQJot7PJ"
      },
      "source": [
        "*Exercise 2b.3*\n",
        "\n",
        "Find the average of a list."
      ]
    },
    {
      "cell_type": "code",
      "source": [],
      "metadata": {
        "colab": {
          "base_uri": "https://localhost:8080/"
        },
        "id": "kpYfKrzwA_xs",
        "outputId": "ea9ef228-9119-43f7-b365-dc4331cc2549"
      },
      "execution_count": null,
      "outputs": [
        {
          "output_type": "stream",
          "name": "stdout",
          "text": [
            "[4, 6, 2, 5, 7, 4, 5, 2, 4]\n",
            "[6, 2, 5, 7, 4, 5, 2]\n"
          ]
        }
      ]
    },
    {
      "cell_type": "code",
      "metadata": {
        "colab": {
          "base_uri": "https://localhost:8080/"
        },
        "id": "BW-p6zVjvIwD",
        "outputId": "a2eec5f5-b93e-4dfb-835c-42e276cfc114"
      },
      "source": [],
      "execution_count": null,
      "outputs": [
        {
          "output_type": "stream",
          "name": "stdout",
          "text": [
            "4.428571428571429\n"
          ]
        }
      ]
    },
    {
      "cell_type": "markdown",
      "metadata": {
        "id": "uBt-H5rIq8qZ"
      },
      "source": [
        "### Section 2b.4 Range command\n",
        "\n",
        "The previous example of the for loop used the range command with the length of the list. The syntax of the for the range is the following:"
      ]
    },
    {
      "cell_type": "markdown",
      "metadata": {
        "id": "Z706HGhozdEB"
      },
      "source": [
        "```\n",
        "range(end_value)\n",
        "```\n",
        "\n",
        "When we have only one parameter in the range function, it means we will iterate from 0, to the value of end_value in steps of 1."
      ]
    },
    {
      "cell_type": "code",
      "metadata": {
        "colab": {
          "base_uri": "https://localhost:8080/"
        },
        "id": "K4LeV0WF1cHx",
        "outputId": "eb5b1af4-ee91-48b7-80f2-fe90d16ea932"
      },
      "source": [],
      "execution_count": null,
      "outputs": [
        {
          "output_type": "stream",
          "name": "stdout",
          "text": [
            "[0, 1, 2, 3, 4, 5, 6, 7, 8, 9]\n"
          ]
        }
      ]
    },
    {
      "cell_type": "markdown",
      "metadata": {
        "id": "c4bvsEmz2snH"
      },
      "source": [
        "Note that the range value ends at end_value - 1. What this means is that it does not end at 10, but at 9."
      ]
    },
    {
      "cell_type": "markdown",
      "metadata": {
        "id": "MpJHrdfv01YS"
      },
      "source": [
        "```\n",
        "range(start_value, end_value)\n",
        "```\n",
        "\n",
        "When we have two parameters in the range function, it means we will iterate from start_value, to the value of end_value in steps of 1."
      ]
    },
    {
      "cell_type": "code",
      "metadata": {
        "colab": {
          "base_uri": "https://localhost:8080/"
        },
        "id": "7cUaGQkc08dv",
        "outputId": "a166fd49-5fde-435f-c4be-5851d903e54b"
      },
      "source": [],
      "execution_count": null,
      "outputs": [
        {
          "output_type": "stream",
          "name": "stdout",
          "text": [
            "[5, 6, 7, 8, 9]\n"
          ]
        }
      ]
    },
    {
      "cell_type": "markdown",
      "metadata": {
        "id": "ghSMkq2m0qNY"
      },
      "source": [
        "```\n",
        "range(start_value, end_value, step)\n",
        "```\n",
        "\n",
        "When we have three parameters in the range function, it means we will iterate from start_value to the value of end_value in steps of step."
      ]
    },
    {
      "cell_type": "code",
      "metadata": {
        "colab": {
          "base_uri": "https://localhost:8080/"
        },
        "id": "DQ7y3NqmxAPC",
        "outputId": "22016fb1-4637-4253-cf0a-d7dc5b781ede"
      },
      "source": [],
      "execution_count": null,
      "outputs": [
        {
          "output_type": "stream",
          "name": "stdout",
          "text": [
            "[0, 2, 4, 6, 8]\n"
          ]
        }
      ]
    },
    {
      "cell_type": "markdown",
      "metadata": {
        "id": "CQGMKiaI6FEE"
      },
      "source": [
        "*Exercise 2b.4*\n",
        "\n",
        "Write a code to print the numbers from 5 to 10 (both numbers inclusive)"
      ]
    },
    {
      "cell_type": "code",
      "metadata": {
        "colab": {
          "base_uri": "https://localhost:8080/"
        },
        "id": "uheAoDXs6hOg",
        "outputId": "26aa08ef-5466-4c2e-c663-bbdf125197d8"
      },
      "source": [],
      "execution_count": null,
      "outputs": [
        {
          "output_type": "stream",
          "name": "stdout",
          "text": [
            "5\n",
            "6\n",
            "7\n",
            "8\n",
            "9\n",
            "10\n"
          ]
        }
      ]
    },
    {
      "cell_type": "markdown",
      "metadata": {
        "id": "2zmmmxnw2dSY"
      },
      "source": [
        "*Exercise 2b.5*\n",
        "\n",
        "Find the sum of all odd elements in a list."
      ]
    },
    {
      "cell_type": "code",
      "metadata": {
        "id": "ENltZFIu3jAy"
      },
      "source": [
        "# Do not delete this cell. The exercise 2b requires this array.\n",
        "\n",
        "temp_list = [4,6,2,5,7,4,5,2,4]"
      ],
      "execution_count": null,
      "outputs": []
    },
    {
      "cell_type": "code",
      "source": [],
      "metadata": {
        "colab": {
          "base_uri": "https://localhost:8080/"
        },
        "id": "JPhzinDIOTpy",
        "outputId": "afb893b5-d72a-4501-f86d-7687eb02ec31"
      },
      "execution_count": null,
      "outputs": [
        {
          "output_type": "execute_result",
          "data": {
            "text/plain": [
              "[1, 3, 5, 7]"
            ]
          },
          "metadata": {},
          "execution_count": 43
        }
      ]
    },
    {
      "cell_type": "code",
      "metadata": {
        "colab": {
          "base_uri": "https://localhost:8080/"
        },
        "id": "MeDt0JLd1wj5",
        "outputId": "5cd57b1a-387d-4cc9-c935-b38d32bddde2"
      },
      "source": [],
      "execution_count": null,
      "outputs": [
        {
          "output_type": "stream",
          "name": "stdout",
          "text": [
            "17\n"
          ]
        }
      ]
    },
    {
      "cell_type": "markdown",
      "metadata": {
        "id": "OaWuRFIa4bkD"
      },
      "source": [
        "*Exercise 2b.6*\n",
        "\n",
        "Find the sum of every third element in a list, starting from the third element."
      ]
    },
    {
      "cell_type": "code",
      "metadata": {
        "colab": {
          "base_uri": "https://localhost:8080/"
        },
        "id": "QjCTrezu3xAH",
        "outputId": "01d4e541-c71a-42c6-a296-3e1b46738525"
      },
      "source": [],
      "execution_count": null,
      "outputs": [
        {
          "output_type": "stream",
          "name": "stdout",
          "text": [
            "10\n"
          ]
        }
      ]
    },
    {
      "cell_type": "markdown",
      "metadata": {
        "id": "VFbdGaCE5DBK"
      },
      "source": [
        "### Section 2b.5 Index, Break and Continue"
      ]
    },
    {
      "cell_type": "markdown",
      "metadata": {
        "id": "9SxmvLIToF2n"
      },
      "source": [
        "**Index**\n",
        "\n",
        "At times you may also want to get the index as well as the element in the for loop. You can do it with the following command:"
      ]
    },
    {
      "cell_type": "code",
      "metadata": {
        "colab": {
          "base_uri": "https://localhost:8080/"
        },
        "id": "FutkoY1uoOGA",
        "outputId": "5a18d69a-1819-4e4e-ed57-4fd6ef399f57"
      },
      "source": [],
      "execution_count": null,
      "outputs": [
        {
          "output_type": "stream",
          "name": "stdout",
          "text": [
            "0 4\n",
            "1 6\n",
            "2 2\n",
            "3 5\n",
            "4 7\n",
            "5 4\n",
            "6 5\n",
            "7 2\n",
            "8 4\n"
          ]
        }
      ]
    },
    {
      "cell_type": "markdown",
      "metadata": {
        "id": "5C5kTxd1oEg6"
      },
      "source": [
        "**Continue**\n",
        "\n",
        "There are times when within the loop, you may want to exit the loop prematurely, or ignore certain parts of the list. For example, if we have a list and we want to sum up all the values of the array, other than the value in index 4. How this is done is the following:"
      ]
    },
    {
      "cell_type": "code",
      "metadata": {
        "colab": {
          "base_uri": "https://localhost:8080/"
        },
        "id": "bMZnkFz94lnW",
        "outputId": "0f017fc7-1b30-40e7-a981-07956e03d4d3"
      },
      "source": [],
      "execution_count": null,
      "outputs": [
        {
          "output_type": "stream",
          "name": "stdout",
          "text": [
            "32\n"
          ]
        }
      ]
    },
    {
      "cell_type": "markdown",
      "metadata": {
        "id": "vqtmVSvv9VWn"
      },
      "source": [
        "**Break**\n",
        "\n",
        "There are also times where you want to exit the loop altogether. For instance, if we wish to sum an array until we hit the value of 5."
      ]
    },
    {
      "cell_type": "code",
      "source": [],
      "metadata": {
        "colab": {
          "base_uri": "https://localhost:8080/"
        },
        "id": "SIqemvtNRvVb",
        "outputId": "b277a49e-5b82-4e56-910e-ef5178eb79b7"
      },
      "execution_count": null,
      "outputs": [
        {
          "output_type": "execute_result",
          "data": {
            "text/plain": [
              "[4, 6, 2, 5, 7, 4, 5, 2, 4]"
            ]
          },
          "metadata": {},
          "execution_count": 53
        }
      ]
    },
    {
      "cell_type": "code",
      "metadata": {
        "colab": {
          "base_uri": "https://localhost:8080/"
        },
        "id": "dohwV7zF82t6",
        "outputId": "b40fc0e3-2158-46a4-cc50-218b2bd6f6f0"
      },
      "source": [],
      "execution_count": null,
      "outputs": [
        {
          "output_type": "stream",
          "name": "stdout",
          "text": [
            "12\n"
          ]
        }
      ]
    },
    {
      "cell_type": "markdown",
      "metadata": {
        "id": "RcnFUoo--h8D"
      },
      "source": [
        "*Exercise 2b.7*\n",
        "\n",
        "Write a for loop to count the number of elements in temp_list that is divisible by 3."
      ]
    },
    {
      "cell_type": "code",
      "metadata": {
        "colab": {
          "base_uri": "https://localhost:8080/"
        },
        "id": "wwJ9JxLg-kDy",
        "outputId": "b2962cf7-81e0-42c7-b808-d0f56f4cbdcc"
      },
      "source": [],
      "execution_count": null,
      "outputs": [
        {
          "output_type": "stream",
          "name": "stdout",
          "text": [
            "1\n"
          ]
        }
      ]
    },
    {
      "cell_type": "code",
      "source": [],
      "metadata": {
        "id": "XVnOvpevSjMI"
      },
      "execution_count": null,
      "outputs": []
    },
    {
      "cell_type": "markdown",
      "source": [
        "##### Quiz 2b.1"
      ],
      "metadata": {
        "id": "szRhA59G8d-d"
      }
    },
    {
      "cell_type": "markdown",
      "source": [
        "https://www.hackerrank.com/challenges/python-loops/problem?isFullScreen=true"
      ],
      "metadata": {
        "id": "hBlSuLQ38-gz"
      }
    },
    {
      "cell_type": "markdown",
      "source": [
        "##### Quiz 2b.2"
      ],
      "metadata": {
        "id": "YKvt6rQb9Abz"
      }
    },
    {
      "cell_type": "markdown",
      "source": [
        "https://www.hackerrank.com/challenges/python-print/problem?isFullScreen=true"
      ],
      "metadata": {
        "id": "G8znlx9C9A9k"
      }
    }
  ]
}