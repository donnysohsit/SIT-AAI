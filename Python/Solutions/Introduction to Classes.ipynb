{
  "nbformat": 4,
  "nbformat_minor": 0,
  "metadata": {
    "kernelspec": {
      "display_name": "Python 3",
      "language": "python",
      "name": "python3"
    },
    "language_info": {
      "codemirror_mode": {
        "name": "ipython",
        "version": 3
      },
      "file_extension": ".py",
      "mimetype": "text/x-python",
      "name": "python",
      "nbconvert_exporter": "python",
      "pygments_lexer": "ipython3",
      "version": "3.7.3"
    },
    "colab": {
      "provenance": []
    }
  },
  "cells": [
    {
      "cell_type": "markdown",
      "metadata": {
        "id": "3HBFNrbW8643"
      },
      "source": [
        "## Section 3b. Classes"
      ]
    },
    {
      "cell_type": "markdown",
      "metadata": {
        "id": "DC3SINaX9F8y"
      },
      "source": [
        "There are a few methods how programs can be written. So far we have been looking at writing of small functions. This form of development may not be able to work for large programs. Today our discussion will be another form of development process known as object orientated programming."
      ]
    },
    {
      "cell_type": "markdown",
      "metadata": {
        "id": "g6JrfgQFSWyv"
      },
      "source": [
        "### Section 3b.1 Procedural versus Object Orientated Programming\n"
      ]
    },
    {
      "cell_type": "markdown",
      "metadata": {
        "id": "YYAyVPbVCnzA"
      },
      "source": [
        "Definition from wikipedia:\n",
        "\n",
        "*   Procedural programming is a programming paradigm, derived from structured programming, based upon the concept of the procedure call. Procedures, also known as routines, subroutines, or functions, simply contain a series of computational steps to be carried out.\n",
        "\n",
        "*   Object-oriented programming (OOP) is a programming paradigm based on the concept of “objects”, which may contain data, in the form of fields, often known as attributes; and code, in the form of procedures, often known as methods."
      ]
    },
    {
      "cell_type": "markdown",
      "metadata": {
        "id": "Gk2q1O2_E39i"
      },
      "source": [
        "This means that procedural focuses on **functions / processes**. Object Orientated focuses on **objects and their behaviours**.\n",
        "\n",
        "\n",
        "So for instance, if we are looking at a bank application, a procedural way of writing the code will be to have functions deposit, withdraw, transfer.\n",
        "\n",
        "However a OOP way would be to focus on objects and their behaviours. Hence we will have objects such as customer, branch, account. This does not mean that the functions deposit, withdraw etc does not exist. It means that the focus will be on the classes, rather than on the functions themselves.\n",
        "\n",
        "Consider the following problem statement:\n",
        "\n",
        "**Customers are allowed to have different types of bank accounts, deposit money, withdraw money and transfer money between accounts.**\n",
        "\n",
        "\n",
        "<img src='https://4.bp.blogspot.com/-1ROdWNxn7v8/XBQ3W1emmmI/AAAAAAAAALU/C05s5HEb93QzB2weQXli829rK95aQpAxACLcBGAs/s1600/procedural-vs-oop-learn-java-oop.jpg' style=\"max-width:100%;\" />\n",
        "\n"
      ]
    },
    {
      "cell_type": "markdown",
      "metadata": {
        "id": "aoEbIfPUHTGC"
      },
      "source": [
        "In procedural programming we focus only on the functions withdraw, deposit and transfer.  \n",
        "\n",
        "However what the OOP way does is to group such functions or variables into a class. Hence we may have an Account class. Within the account class we will then have the functions\n",
        "\n",
        "*   withdraw\n",
        "*   deposit\n",
        "*   transfer"
      ]
    },
    {
      "cell_type": "markdown",
      "metadata": {
        "id": "qhzchrxZJqzJ"
      },
      "source": [
        "### Section 3b.2 Sample Class\n",
        "\n",
        "In the BankAccount class, we group the functions and variables together like so.\n",
        "\n",
        "| BankAccount |\n",
        "|-|\n",
        "|accountNumber|\n",
        "|balance|\n",
        "|----------------------------|\n",
        "|open()|\n",
        "|close()|\n",
        "|deposit()|\n",
        "|withdraw()|\n",
        "|transfer()|\n",
        "\n",
        "However we instantiate objects (instances) of such classes. You can think of the class like a mold and the instance to be the objects created from these molds.\n",
        "\n",
        "| joeAccount |amyAccount |\n",
        "|-|-|\n",
        "|555-7777|333-5555|\n",
        "|9999.99|7000.00|\n",
        "|----------------------------|----------------------------|\n",
        "|open()|open()|\n",
        "|close()|close()|\n",
        "|deposit()|deposit()|\n",
        "|withdraw()|withdraw()|\n",
        "|transfer()|transfer()|\n",
        "\n",
        "In the example above, we have two accounts, the first instance is that of joeAccount while the second instance is that of amyAccount. Notice that both instances have access to exactly the same functions. These functions are typically known as the interface.\n",
        "\n",
        "<img src='https://www.notimeforflashcards.com/wp-content/uploads/2014/08/playdough-egg-mold-.jpg' style=\"max-width:100%;\" />\n",
        "\n",
        "\n"
      ]
    },
    {
      "cell_type": "markdown",
      "metadata": {
        "id": "MZ0f9fdYPmWw"
      },
      "source": [
        "### Section 3b.3 What is in a Class?\n",
        "\n",
        "A class consists of two items. The first will be the attributes and the second will be the functions / methods.\n",
        "\n",
        "| BankAccount |\n",
        "|-|\n",
        "|accountNumber|\n",
        "|balance|\n",
        "|----------------------------|\n",
        "|open()|\n",
        "|close()|\n",
        "|deposit()|\n",
        "|withdraw()|\n",
        "|transfer()|\n",
        "\n",
        "Which are the attributes and which are the methods?"
      ]
    },
    {
      "cell_type": "markdown",
      "metadata": {
        "id": "Jppkp7c6QC04"
      },
      "source": [
        "Attributes:\n",
        "*   accountNumber\n",
        "*   balance\n",
        "\n",
        "Methods:\n",
        "*   open\n",
        "*   close\n",
        "*   deposit\n",
        "*   withdraw\n",
        "*   transfer"
      ]
    },
    {
      "cell_type": "markdown",
      "metadata": {
        "id": "9zTUCIeCR85V"
      },
      "source": [
        "### Section 3b.4 How do I define a class, attributes and functions?\n"
      ]
    },
    {
      "cell_type": "markdown",
      "metadata": {
        "id": "NzloML5KSFpA"
      },
      "source": [
        "#### Defining a Class\n",
        "\n",
        "We use first the keyword known as **class**. The next word is the name of the class. Do also note that there is a semicolon at the end of the name of the class.\n",
        "\n",
        "```\n",
        "class Account:\n",
        "```\n",
        "\n",
        "#### Defining a Function\n",
        "\n",
        "What follows from the class would be the various functions / methods of the class. Within the class, there must be a special function known as **\\_\\_init\\_\\_**. This function is known as the Constructor and this function is always called when a new object is instantiated from the class.\n",
        "\n",
        "```\n",
        "class Account:\n",
        "  def __init__ (self, name, accountNo):\n",
        "    other initialization code\n",
        "```\n",
        "\n",
        "Do note that these are class methods / functions and there is a *self*  function parameter. This self parameter needs not be passed in and is automatically added. This self parameter is also required for other class functions, not just the constructor.\n",
        "\n",
        "```\n",
        "class Account:\n",
        "  def __init__ (self, name, accountNo):\n",
        "    other initialization code\n",
        "  \n",
        "  def withdraw (self, amount):\n",
        "    other withdraw code\n",
        "\n",
        "```"
      ]
    },
    {
      "cell_type": "markdown",
      "metadata": {
        "id": "whoVnU3zWeTa"
      },
      "source": [
        "#### Defining Attributes\n",
        "\n",
        "It is important that the attributes be defined in the constructor. And they must have the self. keywords. An example is the following:\n",
        "\n",
        "```\n",
        "class Account:\n",
        "  def __init__ (self, name, accountNo):\n",
        "    self.name = name\n",
        "    self.accountNo = accountNo\n",
        "    self.balance = 0\n",
        "```\n",
        "\n",
        "This creates the class attributes of name, accountNo and balance and these attributes can be accessed from the different class methods.\n"
      ]
    },
    {
      "cell_type": "markdown",
      "metadata": {
        "id": "8qif8HcGXYdY"
      },
      "source": [
        "#### Defining \"Static Variables\"\n",
        "\n",
        "A static variable is a variable that will be shared among all the instance objects of a class. An example of a relevant static variable here is accountCount, where we want to keep a record of the number of accounts that have been created. We create a static variable in the following manner:\n",
        "\n",
        "```\n",
        "class Account:\n",
        "  accountCount = 0\n",
        "  def __init__ (self, name, accountNo):\n",
        "    self.name = name\n",
        "    self.accountNo = accountNo\n",
        "    self.balance = 0\n",
        "    Account.accountCount += 1\n",
        "```\n",
        "\n",
        "Note that to access this static variable we use the name of the class Account instead, reinforcing the fact that this variable is to be shared among all the objects of class Account."
      ]
    },
    {
      "cell_type": "markdown",
      "metadata": {
        "id": "lFl62i78SWyw"
      },
      "source": [
        "#### Defining Documentation\n",
        "\n",
        "Typically you should wish to add some comments to your class. How you may want to add these class comments would be to include them directly after the class definition.\n"
      ]
    },
    {
      "cell_type": "code",
      "metadata": {
        "id": "uqLf4uG-SWyw"
      },
      "source": [
        "class Account:\n",
        "    '''This comment is to show how the documentation comment can be seen\n",
        "    in multiple lines '''"
      ],
      "execution_count": null,
      "outputs": []
    },
    {
      "cell_type": "code",
      "metadata": {
        "colab": {
          "base_uri": "https://localhost:8080/"
        },
        "id": "jnVJGgQmSWyx",
        "outputId": "850b480e-de70-4d04-907c-b4ab0ca1fc3c"
      },
      "source": [
        "print(Account.__doc__)"
      ],
      "execution_count": null,
      "outputs": [
        {
          "output_type": "stream",
          "name": "stdout",
          "text": [
            "This comment is to show how the documentation comment can be seen\n",
            "    in multiple lines \n"
          ]
        }
      ]
    },
    {
      "cell_type": "markdown",
      "metadata": {
        "id": "O0vnraDEaeRT"
      },
      "source": [
        "### Section 3b.5 ATM Example\n"
      ]
    },
    {
      "cell_type": "code",
      "metadata": {
        "id": "YMuyet8HcTjG"
      },
      "source": [
        "import numpy as np\n",
        "\n",
        "class Account():\n",
        "    def __init__(self, name, acc_num, bal):\n",
        "        self.name = name\n",
        "        self.account_number = acc_num\n",
        "        self.balence = bal\n",
        "\n",
        "    def withdraw(self, amount):\n",
        "        if (self.balence >= amount):\n",
        "            self.balence -= amount\n",
        "            print(\"Amount withdrawn is \", amount, \". Amount remaining is \", self.balence)\n",
        "        else:\n",
        "            print(\"Sorry dude, you have not enough money.\")\n",
        "\n",
        "    def deposit(self, amount):\n",
        "        if np.char.isnumeric(str(amount)) and int(amount) > 0:\n",
        "            self.balence += int(amount)\n",
        "            print(\"You now have this amount in your account:\", self.balence)\n",
        "        else:\n",
        "            print(\"Sorry buddy, but nice try.\")\n",
        "\n",
        "    def transfer(self, amount, temp_account):\n",
        "      self.withdraw(amount)\n",
        "      temp_account.deposit(amount)\n",
        "\n",
        "    def print_account_info(self):\n",
        "        print(\"Account belonging to \", self.name, \" has balance of \", self.balence)"
      ],
      "execution_count": null,
      "outputs": []
    },
    {
      "cell_type": "code",
      "metadata": {
        "id": "8MkyVjeacXio"
      },
      "source": [
        "employee_account1 = Account(\"john\", \"john001\", 100000)\n",
        "employee_account2 = Account(\"john2\", \"john002\", 100000)\n"
      ],
      "execution_count": null,
      "outputs": []
    },
    {
      "cell_type": "code",
      "metadata": {
        "colab": {
          "base_uri": "https://localhost:8080/"
        },
        "id": "khR_VA5ek-o2",
        "outputId": "cd2b9d35-758c-4ac8-aa6f-15475fa68308"
      },
      "source": [
        "employee_account1.transfer(1000, employee_account2)"
      ],
      "execution_count": null,
      "outputs": [
        {
          "output_type": "stream",
          "name": "stdout",
          "text": [
            "Amount withdrawn is  1000 . Amount remaining is  99000\n",
            "You now have this amount in your account: 101000\n"
          ]
        }
      ]
    },
    {
      "cell_type": "code",
      "metadata": {
        "colab": {
          "base_uri": "https://localhost:8080/"
        },
        "id": "HY8ikIDYcalN",
        "outputId": "20f03a43-5e97-4ee1-f53c-4de1d2a961e2"
      },
      "source": [
        "  employee_account1.print_account_info()"
      ],
      "execution_count": null,
      "outputs": [
        {
          "output_type": "stream",
          "name": "stdout",
          "text": [
            "Account belonging to  john  has balance of  99000\n"
          ]
        }
      ]
    },
    {
      "cell_type": "code",
      "metadata": {
        "colab": {
          "base_uri": "https://localhost:8080/"
        },
        "id": "Z_CrvdMhcjZj",
        "outputId": "8bf9f86e-5f38-482a-d6df-fb5fed69b8cb"
      },
      "source": [
        "employee_account1.withdraw(5000000)"
      ],
      "execution_count": null,
      "outputs": [
        {
          "output_type": "stream",
          "name": "stdout",
          "text": [
            "Sorry dude, you have not enough money.\n"
          ]
        }
      ]
    },
    {
      "cell_type": "code",
      "metadata": {
        "colab": {
          "base_uri": "https://localhost:8080/"
        },
        "id": "YKi09A3YcnP7",
        "outputId": "29e8bbff-b924-4af1-b233-765f94b540cb"
      },
      "source": [
        "employee_account1.deposit(\"300\")"
      ],
      "execution_count": null,
      "outputs": [
        {
          "output_type": "stream",
          "name": "stdout",
          "text": [
            "You now have this amount in your account: 99300\n"
          ]
        }
      ]
    },
    {
      "cell_type": "markdown",
      "metadata": {
        "id": "UAZ31x8dSWyx"
      },
      "source": [
        "### Section 3b.6 Employee Class Example"
      ]
    },
    {
      "cell_type": "code",
      "metadata": {
        "id": "113X55IOSWyx"
      },
      "source": [
        "class Employee:\n",
        "    'The base class for all employees'\n",
        "\n",
        "    employee_count = 0\n",
        "\n",
        "    def __init__(self, name, salary):\n",
        "        self.name = name\n",
        "        self.salary = salary\n",
        "        Employee.employee_count += 1\n",
        "\n",
        "    def display_count(self):\n",
        "        print(\"The total employee count is \" + str(Employee.employee_count))\n",
        "\n",
        "    def display_employee(self):\n",
        "        print(\"Name \" + self.name + \" Salary \" + str(self.salary))\n",
        "\n",
        "    ## to go through during the destructor example below\n",
        "    def __del__(self):\n",
        "        instance_name = self.name\n",
        "        class_name = self.__class__.__name__\n",
        "        print(class_name, \"with instance name \",  instance_name, \" destroyed\")\n",
        "        Employee.employee_count -= 1\n",
        ""
      ],
      "execution_count": null,
      "outputs": []
    },
    {
      "cell_type": "code",
      "metadata": {
        "id": "awlCB1-Z5me-"
      },
      "source": [
        "class Manager(Employee):\n",
        "  def __init__(self, manager_employee):\n",
        "    self.manager = manager_employee\n",
        "    self.name = manager_employee.name\n",
        "    self.salary = manager_employee.salary\n",
        "\n"
      ],
      "execution_count": null,
      "outputs": []
    },
    {
      "cell_type": "code",
      "metadata": {
        "id": "mXMAxvAxSWyy"
      },
      "source": [
        "employee1 = Employee(\"grasshopper\", \"4000\")\n",
        "employee2 = Employee(\"ant\", \"6000\")"
      ],
      "execution_count": null,
      "outputs": []
    },
    {
      "cell_type": "code",
      "metadata": {
        "id": "8qWvUwNo557I"
      },
      "source": [
        "manager1 = Manager(employee1)"
      ],
      "execution_count": null,
      "outputs": []
    },
    {
      "cell_type": "code",
      "metadata": {
        "colab": {
          "base_uri": "https://localhost:8080/"
        },
        "id": "sY8WPGcX59fe",
        "outputId": "9ec41dd8-864f-4333-961a-21119c8f1a73"
      },
      "source": [
        "manager1.display_employee()"
      ],
      "execution_count": null,
      "outputs": [
        {
          "output_type": "stream",
          "name": "stdout",
          "text": [
            "Name grasshopper Salary 4000\n"
          ]
        }
      ]
    },
    {
      "cell_type": "code",
      "metadata": {
        "colab": {
          "base_uri": "https://localhost:8080/"
        },
        "id": "6KbBoPg0SWyy",
        "outputId": "362f6915-d64b-41d4-a187-510912968642"
      },
      "source": [
        "employee1.display_count()"
      ],
      "execution_count": null,
      "outputs": [
        {
          "output_type": "stream",
          "name": "stdout",
          "text": [
            "The total employee count is 2\n"
          ]
        }
      ]
    },
    {
      "cell_type": "code",
      "metadata": {
        "colab": {
          "base_uri": "https://localhost:8080/"
        },
        "id": "xN4LLnQBSWyy",
        "outputId": "f4c74c57-ade6-44c4-e87a-d3a2fe65ee84"
      },
      "source": [
        "employee2.display_employee()"
      ],
      "execution_count": null,
      "outputs": [
        {
          "output_type": "stream",
          "name": "stdout",
          "text": [
            "Name ant Salary 6000\n"
          ]
        }
      ]
    },
    {
      "cell_type": "code",
      "metadata": {
        "colab": {
          "base_uri": "https://localhost:8080/"
        },
        "id": "JK9bh3hPSWyz",
        "outputId": "06df4ac2-a8d1-4358-ae45-ec0fa5af7a91"
      },
      "source": [
        "print(\"Number of employees we have now are: \", Employee.employee_count)"
      ],
      "execution_count": null,
      "outputs": [
        {
          "output_type": "stream",
          "name": "stdout",
          "text": [
            "Number of employees we have now are:  2\n"
          ]
        }
      ]
    },
    {
      "cell_type": "markdown",
      "metadata": {
        "id": "GR9rrugpSWyz"
      },
      "source": [
        "#### Destructor Example"
      ]
    },
    {
      "cell_type": "code",
      "metadata": {
        "id": "Bciu2X7HSWyz"
      },
      "source": [
        "del employee1\n",
        "del employee2"
      ],
      "execution_count": null,
      "outputs": []
    },
    {
      "cell_type": "markdown",
      "metadata": {
        "id": "2A76KFJvSWy0"
      },
      "source": [
        "#### Class Example: Parent HR Class"
      ]
    },
    {
      "cell_type": "code",
      "metadata": {
        "id": "-zgd_d3SSWy0"
      },
      "source": [
        "class HumanResources:\n",
        "    def __init__(self):\n",
        "        print(\"Human Resources Constructor\")\n",
        "\n",
        "    def test(self):\n",
        "        print(\"can this be called?\")"
      ],
      "execution_count": null,
      "outputs": []
    },
    {
      "cell_type": "code",
      "metadata": {
        "id": "kLQnK-3jSWy0"
      },
      "source": [
        "class Employee(HumanResources):\n",
        "    'The base class for all employees'\n",
        "\n",
        "    employee_count = 0\n",
        "\n",
        "    def __init__(self, name, salary):\n",
        "        self.name = name\n",
        "        self.salary = salary\n",
        "        Employee.employee_count += 1\n",
        "\n",
        "    def display_count(self):\n",
        "        print(\"The total employee count is \" + str(Employee.employee_count))\n",
        "\n",
        "    def display_employee(self):\n",
        "        print(\"Name \" + self.name + \" Salary \" + str(self.salary))\n",
        "\n",
        "    def __del__(self):\n",
        "        instance_name = self.name\n",
        "        class_name = self.__class__.__name__\n",
        "        print(class_name, \"with instance name \",  instance_name, \" destroyed\")"
      ],
      "execution_count": null,
      "outputs": []
    },
    {
      "cell_type": "code",
      "metadata": {
        "id": "vJIGhsJdSWy1"
      },
      "source": [
        "employee1 = Employee(\"grasshopper\", \"4000\")"
      ],
      "execution_count": null,
      "outputs": []
    },
    {
      "cell_type": "code",
      "metadata": {
        "colab": {
          "base_uri": "https://localhost:8080/"
        },
        "id": "jVeuoIk-SWy1",
        "outputId": "ea98d202-264f-4845-dcda-21ea1b1e1c53"
      },
      "source": [
        "employee1.test()"
      ],
      "execution_count": null,
      "outputs": [
        {
          "output_type": "stream",
          "name": "stdout",
          "text": [
            "can this be called?\n",
            "Employee with instance name  ant  destroyed\n"
          ]
        }
      ]
    }
  ]
}