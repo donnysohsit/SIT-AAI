{
  "nbformat": 4,
  "nbformat_minor": 0,
  "metadata": {
    "colab": {
      "provenance": []
    },
    "kernelspec": {
      "name": "python3",
      "display_name": "Python 3"
    }
  },
  "cells": [
    {
      "cell_type": "markdown",
      "metadata": {
        "id": "ZHaCixLqo6XO"
      },
      "source": [
        "## Section 1c. If Conditionals"
      ]
    },
    {
      "cell_type": "markdown",
      "metadata": {
        "id": "8DFAwARmpUBn"
      },
      "source": [
        "### Section 1c.1 The if statement\n",
        "\n",
        "Conditionals allow you to specify a certain condition, and to run various pieces of code, depending if the condition is True or False.\n",
        "\n",
        "For example, let's say you are coming to school today, and you can either take the bus or the train. If it rains, you would have to take the shelter and you have a direct shelter to the bus stop. However the MRT is quite far away from your home and you will get wet. Hence the if statement condition for your decision making is:\n",
        "\n",
        "```\n",
        "if it rains,\n",
        "  I will take the bus\n",
        "else,\n",
        "  I will take the MRT\n",
        "```"
      ]
    },
    {
      "cell_type": "markdown",
      "metadata": {
        "id": "laibtsbPqZdS"
      },
      "source": [
        "Let's look at a few examples of the if statement. Using our example above:"
      ]
    },
    {
      "cell_type": "code",
      "metadata": {
        "colab": {
          "base_uri": "https://localhost:8080/"
        },
        "id": "1qb63H4no-WB",
        "outputId": "d332086c-c22e-4ee6-dfb1-b20cb009b800"
      },
      "source": [
        "rain = True\n",
        "public_transport = None\n",
        "\n",
        "if rain:\n",
        "  public_transport = \"bus\"\n",
        "else:\n",
        "  public_transport = \"train\"\n",
        "\n",
        "print(f\"Today I think I will be taking the {public_transport} to school.\")"
      ],
      "execution_count": null,
      "outputs": [
        {
          "output_type": "stream",
          "name": "stdout",
          "text": [
            "Today I think I will be taking the bus to school.\n"
          ]
        }
      ]
    },
    {
      "cell_type": "markdown",
      "metadata": {
        "id": "DrFHqYimq52_"
      },
      "source": [
        "We will break this simple example down step by step.\n",
        "\n",
        "**Initialization**\n",
        "\n",
        "Firstly, I have defined the variable rain as True and public_transport as None.\n",
        "\n",
        "**if conditional**\n",
        "\n",
        "In the second part\n",
        "\n",
        "```\n",
        "if rain:\n",
        "  public_transport = \"bus\"\n",
        "```\n",
        "\n",
        "The rain variable is used as a conditional. Hence the if statement checks the rain variable if it is True or False. Note that after the conditional, there is an essential semi colon \":\" to show the end of a conditional.\n",
        "\n",
        "The next line sets the public_transport variable to that of a bus. However note that there is a space. It means that the lines that come indented fall under the scope of the earlier if statement.\n",
        "\n",
        "```\n",
        "if rain:\n",
        "  public_transport = \"bus\"\n",
        "```"
      ]
    },
    {
      "cell_type": "markdown",
      "metadata": {
        "id": "HVcUUWoYr7LB"
      },
      "source": [
        "**Indentation**\n",
        "\n",
        "Let's discuss more this indentation. Indentation is used to indicate a code block. Let's show this with a simple example. Suppose we wish to print out an additional statement if it is raining. Let's just extract out a portion of the earlier code to obtain the following:"
      ]
    },
    {
      "cell_type": "code",
      "metadata": {
        "colab": {
          "base_uri": "https://localhost:8080/"
        },
        "id": "O-z5LL3PqzcZ",
        "outputId": "64a1d106-99ca-4c76-90c4-654d5d649699"
      },
      "source": [
        "rain = False\n",
        "public_transport = None\n",
        "\n",
        "if rain:\n",
        "  public_transport = \"bus\"\n",
        "print(\"Its raining today\")"
      ],
      "execution_count": null,
      "outputs": [
        {
          "output_type": "stream",
          "name": "stdout",
          "text": [
            "Its raining today\n"
          ]
        }
      ]
    },
    {
      "cell_type": "markdown",
      "metadata": {
        "id": "TmRylA7Ps4gh"
      },
      "source": [
        "Suppose if it's not raining, we set rain to False. We however still get the print out its raining today."
      ]
    },
    {
      "cell_type": "code",
      "metadata": {
        "colab": {
          "base_uri": "https://localhost:8080/"
        },
        "id": "jXHqZd_Usjo4",
        "outputId": "7f9c5d05-7e8f-4a03-e920-6065fd300295"
      },
      "source": [
        "rain = False\n",
        "public_transport = None\n",
        "\n",
        "if rain:\n",
        "  public_transport = \"bus\"\n",
        "print(\"Its raining today\")"
      ],
      "execution_count": null,
      "outputs": [
        {
          "output_type": "stream",
          "name": "stdout",
          "text": [
            "Its raining today\n"
          ]
        }
      ]
    },
    {
      "cell_type": "markdown",
      "metadata": {
        "id": "GthKOr-WtKwo"
      },
      "source": [
        "The issue here is that the print statement is not indented correctly. For it to work properly, it must be indented in the same line as public_transport for it to be considered to be under the same scope. Hence we should change it to:"
      ]
    },
    {
      "cell_type": "code",
      "metadata": {
        "id": "HsOF9dXitJW_"
      },
      "source": [
        "rain = False\n",
        "public_transport = None\n",
        "\n",
        "if rain:\n",
        "  public_transport = \"bus\"\n",
        "  print(\"Its raining today\")"
      ],
      "execution_count": null,
      "outputs": []
    },
    {
      "cell_type": "code",
      "metadata": {
        "colab": {
          "base_uri": "https://localhost:8080/"
        },
        "id": "772jm9-etZeW",
        "outputId": "9a303aa9-f87b-4377-f6b8-1dd242df1854"
      },
      "source": [
        "rain = True\n",
        "public_transport = None\n",
        "\n",
        "if rain:\n",
        "  public_transport = \"bus\"\n",
        "  print(\"Its raining today\")"
      ],
      "execution_count": null,
      "outputs": [
        {
          "output_type": "stream",
          "name": "stdout",
          "text": [
            "Its raining today\n"
          ]
        }
      ]
    },
    {
      "cell_type": "markdown",
      "metadata": {
        "id": "LyaflSHhtePY"
      },
      "source": [
        "This indentation will also apply during functions, loops and classes."
      ]
    },
    {
      "cell_type": "markdown",
      "metadata": {
        "id": "YXIgYhaituMt"
      },
      "source": [
        "**else conditional**\n",
        "\n",
        "The next portion of the code illustrates what happens if rain is equals to False. Hence if it is not raining, public_transport will be set to \"Train\"\n",
        "\n",
        "```\n",
        "if rain:\n",
        "  public_transport = \"bus\"\n",
        "else:\n",
        "  public_transport = \"train\"\n",
        "\n",
        "```\n",
        "\n",
        "\n"
      ]
    },
    {
      "cell_type": "code",
      "metadata": {
        "colab": {
          "base_uri": "https://localhost:8080/"
        },
        "id": "uRZqoGnOta5t",
        "outputId": "b06fe94e-b851-488f-e714-1c47696e30c2"
      },
      "source": [
        "rain = False\n",
        "public_transport = None\n",
        "\n",
        "if rain:\n",
        "  public_transport = \"bus\"\n",
        "else:\n",
        "  public_transport = \"train\"\n",
        "\n",
        "print(f\"Today I think I will be taking the {public_transport} to school.\")"
      ],
      "execution_count": null,
      "outputs": [
        {
          "output_type": "stream",
          "name": "stdout",
          "text": [
            "Today I think I will be taking the train to school.\n"
          ]
        }
      ]
    },
    {
      "cell_type": "markdown",
      "metadata": {
        "id": "Ya-6PSm3uRg7"
      },
      "source": [
        "In this very simple example, we are only using if and else. There is one more conditional within if else known as the elif. It is short for \"else if\".\n",
        "\n",
        "Let's assume that if it is not raining and if you are late, you will take the cab. So the conditional will look like the following in english.\n",
        "\n",
        "```\n",
        "if it rains,\n",
        "  I will take the bus\n",
        "else if it is not raining and I am late,\n",
        "  I will take the cab\n",
        "else,\n",
        "  I will take the MRT\n",
        "```\n",
        "\n",
        "Let's now try to tweak our code with the new conditionals."
      ]
    },
    {
      "cell_type": "code",
      "metadata": {
        "colab": {
          "base_uri": "https://localhost:8080/"
        },
        "id": "CoVLX4luuE13",
        "outputId": "dd5b508a-9316-43c1-ad32-b104b9f608bf"
      },
      "source": [
        "rain = False\n",
        "late = True\n",
        "public_transport = None\n",
        "\n",
        "if rain:\n",
        "  public_transport = \"bus\"\n",
        "elif late:\n",
        "  public_transport = \"cab\"\n",
        "else:\n",
        "  public_transport = \"train\"\n",
        "\n",
        "print(f\"Today I think I will be taking the {public_transport} to school.\")"
      ],
      "execution_count": null,
      "outputs": [
        {
          "output_type": "stream",
          "name": "stdout",
          "text": [
            "Today I think I will be taking the cab to school.\n"
          ]
        }
      ]
    },
    {
      "cell_type": "markdown",
      "metadata": {
        "id": "tcmJn96gvZD2"
      },
      "source": [
        "### Section 1c.2 Operators\n",
        "\n",
        "The if else statements above all assumed that the variable rain returned a value True or False. However most of the time, we may want to test a certain condition, and then decide based on a certain condition. For instance, lets say we have a car and if the amount of oil in the fuel tank falls below a certain fraction, we will then have to refuel the tank.\n",
        "\n",
        "```\n",
        "if fuel_tank almost empty,\n",
        "  refill it\n",
        "```\n",
        "If we convert this to code, we get:\n",
        "\n"
      ]
    },
    {
      "cell_type": "code",
      "metadata": {
        "colab": {
          "base_uri": "https://localhost:8080/"
        },
        "id": "_Otu6C84vISy",
        "outputId": "1be6c27c-dc68-4447-956b-aa082f9c4e2c"
      },
      "source": [
        "fuel_tank = 0.05\n",
        "\n",
        "if fuel_tank < 0.1:\n",
        "  print(\"fuel tank is almost empty\")"
      ],
      "execution_count": null,
      "outputs": [
        {
          "output_type": "stream",
          "name": "stdout",
          "text": [
            "fuel tank is almost empty\n"
          ]
        }
      ]
    },
    {
      "cell_type": "markdown",
      "metadata": {
        "id": "MO7lus4j0az4"
      },
      "source": [
        "Of course we have many types of conditionals. The full list can be seen here:\n",
        "\n",
        "|Operator|Meaning|\n",
        "|-|-|\n",
        "|==|equal|\n",
        "|!=|not equal|\n",
        "|<|less than|\n",
        "|>|greater than|\n",
        "|<=|equal or less than|\n",
        "|>=|equal or greater than|\n",
        "|and|and across all conditions|\n",
        "|or|or across all conditions|\n",
        "\n",
        "Let's reuse the earlier example and add more conditions to it."
      ]
    },
    {
      "cell_type": "code",
      "metadata": {
        "colab": {
          "base_uri": "https://localhost:8080/"
        },
        "id": "Zs3i2zLF0M_M",
        "outputId": "3daa0c65-fcd4-48b3-f5e9-303c9a6daaa2"
      },
      "source": [
        "fuel_tank = 0.05\n",
        "\n",
        "if fuel_tank > 1:\n",
        "  print(\"fuel tank is overflowing!\")\n",
        "elif fuel_tank == 1:\n",
        "  print(\"fuel tank is full!\")\n",
        "elif fuel_tank < 0.1:\n",
        "  print(\"fuel tank is almost empty\")\n",
        "elif fuel_tank == 0:\n",
        "  print(\"fuel tank is empty!\")\n"
      ],
      "execution_count": null,
      "outputs": [
        {
          "output_type": "stream",
          "name": "stdout",
          "text": [
            "fuel tank is almost empty\n"
          ]
        }
      ]
    },
    {
      "cell_type": "markdown",
      "metadata": {
        "id": "teM0SkLN14En"
      },
      "source": [
        "Let's say we have an additional condition, if the fuel tank is less than or equals to 0.2 and its the morning (before 12 noon), I should go and pump petrol now."
      ]
    },
    {
      "cell_type": "code",
      "metadata": {
        "colab": {
          "base_uri": "https://localhost:8080/"
        },
        "id": "IntGrmio1sLJ",
        "outputId": "5460d849-e72e-4e30-c600-1579d5bb1440"
      },
      "source": [
        "fuel_tank = 0.05\n",
        "hour_24 = 11\n",
        "\n",
        "if fuel_tank > 1:\n",
        "  print(\"fuel tank is overflowing!\")\n",
        "elif fuel_tank == 1:\n",
        "  print(\"fuel tank is full!\")\n",
        "elif fuel_tank <= 0.2 and hour_24 < 12:\n",
        "  print(\"go pump petrol!\")\n",
        "elif fuel_tank < 0.1:\n",
        "  print(\"fuel tank is almost empty\")\n",
        "elif fuel_tank == 0:\n",
        "  print(\"fuel tank is empty!\")\n"
      ],
      "execution_count": null,
      "outputs": [
        {
          "output_type": "stream",
          "name": "stdout",
          "text": [
            "go pump petrol!\n"
          ]
        }
      ]
    },
    {
      "cell_type": "markdown",
      "metadata": {
        "id": "XMgwvwxP2nK5"
      },
      "source": [
        "*Exercise 1c.1*\n",
        "\n",
        "Create a set of if else statements which tests if the time_in_oven variable. If it is equal to the recipe_cake variable, print out \"the cake is perfect\". If it is less than recipe_cake print out \"the cake is undercooked\". Else print out \"the cake is burnt\""
      ]
    },
    {
      "cell_type": "code",
      "metadata": {
        "colab": {
          "base_uri": "https://localhost:8080/"
        },
        "id": "DilLpqgG2VXE",
        "outputId": "c8f89fb3-b0b5-49ec-b403-555d52dca48c"
      },
      "source": [
        "recipe_cake = 100\n",
        "\n",
        "# try changing this to various values\n",
        "time_in_oven = 50\n",
        "\n",
        "if (time_in_oven == recipe_cake):\n",
        "    print(\"cake is perfect\")\n",
        "elif (time_in_oven < recipe_cake):\n",
        "    print(\"cake is under-cooked\")\n",
        "else:\n",
        "    print(\"chaota liao lah\")"
      ],
      "execution_count": null,
      "outputs": [
        {
          "output_type": "stream",
          "name": "stdout",
          "text": [
            "cake is under-cooked\n"
          ]
        }
      ]
    },
    {
      "cell_type": "markdown",
      "metadata": {
        "id": "fSCenNnW4HZ6"
      },
      "source": [
        "*Exercise 1c.2*\n",
        "\n",
        "Create a set of if else statements that does the following:\n",
        "\n",
        "1. If energy is high and raining is False, print \"Go to the park\"\n",
        "2. Else if energy is high and raining is True, print \"Play fortnite\"  \n",
        "3. Else if energy is low and raining is True, print \"Sleep\"  \n",
        "3. Else if energy is low and raining is False, print \"Study how to play fortnite\"  "
      ]
    },
    {
      "cell_type": "code",
      "metadata": {
        "colab": {
          "base_uri": "https://localhost:8080/"
        },
        "id": "C7Lw5PsK75KO",
        "outputId": "368283c4-18f9-45d4-890f-89f04371c51a"
      },
      "source": [
        "energy = \"low\"\n",
        "raining = False\n",
        "\n",
        "if (energy == \"high\" and raining == False):\n",
        "    print(\"Go to the park\")\n",
        "elif (energy == \"high\" and raining):\n",
        "    print(\"Play fortnite\")\n",
        "elif (energy == \"low\" and raining == False):\n",
        "    print(\"Study how to play fortnite\")\n",
        "elif (energy == \"low\" and raining):\n",
        "    print(\"sleep\")\n"
      ],
      "execution_count": null,
      "outputs": [
        {
          "output_type": "stream",
          "name": "stdout",
          "text": [
            "Study how to play fortnite\n"
          ]
        }
      ]
    },
    {
      "cell_type": "markdown",
      "metadata": {
        "id": "qZhvNCHR5SLk"
      },
      "source": [
        "*Exercise 1c.3*\n",
        "\n",
        "Create a set of if else statements that does the following:\n",
        "\n",
        "1. If both numbers are a multiple of 2: Adds both numbers\n",
        "2. Else multiple them\n",
        "\n",
        "You can use the modulo operator to check if are they a multiple of two or not.\n",
        "\n",
        "*https://realpython.com/python-modulo-operator/*"
      ]
    },
    {
      "cell_type": "code",
      "metadata": {
        "colab": {
          "base_uri": "https://localhost:8080/"
        },
        "id": "vNnAYZFn7nuW",
        "outputId": "b6fd0b1c-5845-44b9-a357-5c4d89f61126"
      },
      "source": [
        "num_one = 15\n",
        "num_two = 8\n",
        "\n",
        "if num_one % 2 == 0 and num_two % 2 == 0:\n",
        "  print(num_one + num_two)\n",
        "else:\n",
        "  print(num_one * num_two)"
      ],
      "execution_count": null,
      "outputs": [
        {
          "output_type": "stream",
          "name": "stdout",
          "text": [
            "120\n"
          ]
        }
      ]
    },
    {
      "cell_type": "markdown",
      "metadata": {
        "id": "u0KoViZS9Cf9"
      },
      "source": [
        "*Exercise 1c.4*\n",
        "\n",
        "Consider the following if statement. Simplify to just one condition.\n",
        "\n",
        "\n",
        "\n",
        "```\n",
        "doesSignificantWork = True\n",
        "makesBreakthrough = False\n",
        "\n",
        "if doesSignificantWork:\n",
        "  if (makesBreakthrough):\n",
        "    nobelPrizeCandidate = True\n",
        "  else:\n",
        "    nobelPrizeCandidate = False\n",
        "elif doesSignificantWork == False:\n",
        "  nobelPrizeCandidate = False\n",
        "\n",
        "print(nobelPrizeCandidate)\n",
        "```\n",
        "\n"
      ]
    },
    {
      "cell_type": "code",
      "metadata": {
        "colab": {
          "base_uri": "https://localhost:8080/"
        },
        "id": "8_4mvg0E9DPC",
        "outputId": "7c7a549e-23ad-406a-ede5-d5bf5b6c594a"
      },
      "source": [
        "doesSignificantWork = True\n",
        "makesBreakthrough = False\n",
        "nobelPrizeCandidate = False\n",
        "\n",
        "if doesSignificantWork and makesBreakthrough:\n",
        "    nobelPrizeCandidate = True\n",
        "\n",
        "print(nobelPrizeCandidate)"
      ],
      "execution_count": null,
      "outputs": [
        {
          "output_type": "stream",
          "name": "stdout",
          "text": [
            "False\n"
          ]
        }
      ]
    },
    {
      "cell_type": "markdown",
      "metadata": {
        "id": "gCVzAoAt6jzh"
      },
      "source": [
        "*Exercise 1c.5*\n",
        "\n",
        "You are given a number i:\n",
        "\n",
        "*   if i is a multiple of both 3 and 5, print FizzBuzz\n",
        "*   if i is a multiple of 3 but not 5, print Fizz\n",
        "*   if i is a multiple of 5 but not 3, print Buzz\n",
        "*   if i is neither a multiple of 3 and 5, print the value of i"
      ]
    },
    {
      "cell_type": "code",
      "metadata": {
        "colab": {
          "base_uri": "https://localhost:8080/"
        },
        "id": "dKnrRa6M7PBE",
        "outputId": "95b632c7-21c9-4dfb-a96a-02b859118ece"
      },
      "source": [
        "i = 15\n",
        "if (i % 3 == 0) and (i % 5 == 0):\n",
        "  print(\"FizzBuzz\")\n",
        "elif (i % 5 == 0):\n",
        "  print(\"Buzz\")\n",
        "elif (i % 3 == 0):\n",
        "  print(\"Fizz\")\n",
        "else:\n",
        "  print(i)"
      ],
      "execution_count": null,
      "outputs": [
        {
          "output_type": "stream",
          "name": "stdout",
          "text": [
            "FizzBuzz\n"
          ]
        }
      ]
    },
    {
      "cell_type": "markdown",
      "source": [
        "Quiz 01\n",
        "\n",
        "https://www.hackerrank.com/2023-python-quiz01"
      ],
      "metadata": {
        "id": "orYwekwI6w1t"
      }
    },
    {
      "cell_type": "code",
      "source": [],
      "metadata": {
        "id": "THc96yWg6zdw"
      },
      "execution_count": null,
      "outputs": []
    }
  ]
}