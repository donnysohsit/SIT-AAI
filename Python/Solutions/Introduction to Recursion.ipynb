{
  "nbformat": 4,
  "nbformat_minor": 0,
  "metadata": {
    "kernelspec": {
      "display_name": "Python 3",
      "language": "python",
      "name": "python3"
    },
    "language_info": {
      "codemirror_mode": {
        "name": "ipython",
        "version": 3
      },
      "file_extension": ".py",
      "mimetype": "text/x-python",
      "name": "python",
      "nbconvert_exporter": "python",
      "pygments_lexer": "ipython3",
      "version": "3.7.3"
    },
    "colab": {
      "provenance": []
    }
  },
  "cells": [
    {
      "cell_type": "markdown",
      "metadata": {
        "id": "Cb0dwHRwilEU"
      },
      "source": [
        "## Section 3c. Recursion"
      ]
    },
    {
      "cell_type": "markdown",
      "metadata": {
        "id": "iXA_lG5tilEb"
      },
      "source": [
        "### Section 3c.1 What is recursion?\n"
      ]
    },
    {
      "cell_type": "markdown",
      "source": [
        "Recursion is a technique used commonly in computer programs. It occurs when the function makes a call to itself.\n",
        "\n",
        "```\n",
        "The factorial function:\n",
        "𝑛! = 1×2×3···(𝑛−1)×𝑛\tfor  𝑛≥1.\n",
        "0! = 1  by definition.\n",
        "Hence,\t\t𝑛! = 𝑛×(𝑛−1)!        \"for  \" 𝑛≥1.\n",
        "  𝑓𝑎𝑐𝑡𝑜𝑟𝑖𝑎𝑙(𝑛) = 𝑛 × 𝑓𝑎𝑐𝑡𝑜𝑟𝑖𝑎𝑙(𝑛−1)\n",
        "```"
      ],
      "metadata": {
        "id": "N2mI-LrZgOXu"
      }
    },
    {
      "cell_type": "markdown",
      "source": [
        "There are two conditions for recursion:\n",
        "*   Base case (initial condition).\n",
        "*   Each recursive call solves an identical (but smaller) problem.\n",
        "\n",
        "\n",
        "Strategy for Designing Recursive Algorithm\n",
        "*   Identify the recurrence relation to solve the problem.\n",
        "*   Translate the recurrence relation to a recursive algorithm.\n",
        "*   Take note to translate the initial condition in the recurrence relation into the BASE CASE for the recursive algorithm.\n",
        "\n",
        "\n",
        "\n"
      ],
      "metadata": {
        "id": "UBVDtddUgnZV"
      }
    },
    {
      "cell_type": "code",
      "metadata": {
        "id": "ajGps3LUilEc"
      },
      "source": [
        "def factorial(n):\n",
        "    # base case / initial condition\n",
        "    if n == 0:\n",
        "        answer = 1\n",
        "    else:\n",
        "        # recurrence relation\n",
        "        answer = n * factorial(n - 1)\n",
        "    return answer"
      ],
      "execution_count": null,
      "outputs": []
    },
    {
      "cell_type": "code",
      "metadata": {
        "id": "Wn75ZKDRilEc",
        "colab": {
          "base_uri": "https://localhost:8080/"
        },
        "outputId": "fbbcadc6-a7aa-4968-98f0-5e6f365b3b52"
      },
      "source": [
        "factorial(5)"
      ],
      "execution_count": null,
      "outputs": [
        {
          "output_type": "execute_result",
          "data": {
            "text/plain": [
              "120"
            ]
          },
          "metadata": {},
          "execution_count": 2
        }
      ]
    },
    {
      "cell_type": "markdown",
      "source": [
        "One should be careful with recursive algorithms because their conciseness, clarity and simplicity may hide their inefficiencies!\n"
      ],
      "metadata": {
        "id": "IyRjuHwehk9n"
      }
    },
    {
      "cell_type": "markdown",
      "source": [
        "$f_n = (f_{n-1} + f_{n-2})$ for n $\\geq$ 2\n",
        "\n",
        "initial conditions:\n",
        "\n",
        "$f_0=0, f_1=1$\n",
        "\n",
        "\n",
        "\n"
      ],
      "metadata": {
        "id": "RyE5ehXjhuZf"
      }
    },
    {
      "cell_type": "code",
      "metadata": {
        "id": "Wu3SKAxEilEd"
      },
      "source": [
        "def fib(n):\n",
        "    if n == 0:\n",
        "        return 0\n",
        "    if n == 1:\n",
        "        return 1\n",
        "    return fib(n-1) + fib (n-2)"
      ],
      "execution_count": null,
      "outputs": []
    },
    {
      "cell_type": "code",
      "metadata": {
        "id": "kLOwHCRpilEe",
        "colab": {
          "base_uri": "https://localhost:8080/"
        },
        "outputId": "59048461-f711-44f5-ecf0-ddec195bd153"
      },
      "source": [
        "fib(15)"
      ],
      "execution_count": null,
      "outputs": [
        {
          "output_type": "execute_result",
          "data": {
            "text/plain": [
              "610"
            ]
          },
          "metadata": {},
          "execution_count": 4
        }
      ]
    },
    {
      "cell_type": "code",
      "metadata": {
        "id": "-75FhKNWilEe"
      },
      "source": [
        "def factorial_iterative(n):\n",
        "    answer = 1\n",
        "    for i in range(n, 0, -1):\n",
        "        answer *= (i if i > 0 else 1)\n",
        "    return answer"
      ],
      "execution_count": null,
      "outputs": []
    },
    {
      "cell_type": "code",
      "metadata": {
        "id": "EJPtSOPbilEf",
        "colab": {
          "base_uri": "https://localhost:8080/"
        },
        "outputId": "314bacc0-7b7e-4e50-f4c9-895b6cdb6119"
      },
      "source": [
        "factorial_iterative(5)"
      ],
      "execution_count": null,
      "outputs": [
        {
          "output_type": "execute_result",
          "data": {
            "text/plain": [
              "120"
            ]
          },
          "metadata": {},
          "execution_count": 6
        }
      ]
    },
    {
      "cell_type": "code",
      "metadata": {
        "id": "_8h6QXikilEf"
      },
      "source": [
        "def fib_iterative(n):\n",
        "    fib_0 = 1\n",
        "    fib_1 = 1\n",
        "\n",
        "    fib_2 = 0\n",
        "    for i in range(2,n):\n",
        "        fib_2 = fib_0 + fib_1\n",
        "        fib_0 = fib_1\n",
        "        fib_1 = fib_2\n",
        "    return fib_2"
      ],
      "execution_count": null,
      "outputs": []
    },
    {
      "cell_type": "code",
      "metadata": {
        "id": "ugE9yX_-ilEf",
        "colab": {
          "base_uri": "https://localhost:8080/"
        },
        "outputId": "712ce731-7151-445f-f5ba-fae85b96295a"
      },
      "source": [
        "fib_iterative(15)"
      ],
      "execution_count": null,
      "outputs": [
        {
          "output_type": "execute_result",
          "data": {
            "text/plain": [
              "610"
            ]
          },
          "metadata": {},
          "execution_count": 8
        }
      ]
    },
    {
      "cell_type": "code",
      "metadata": {
        "id": "QKHFNqs4ilEg",
        "colab": {
          "base_uri": "https://localhost:8080/"
        },
        "outputId": "e122d63d-3ae1-4934-b8a1-98e29ff8f428"
      },
      "source": [
        "from timeit import default_timer as timer\n",
        "\n",
        "start = timer()\n",
        "fib_iterative(1500000)\n",
        "end = timer()\n",
        "print(end-start)"
      ],
      "execution_count": null,
      "outputs": [
        {
          "output_type": "stream",
          "name": "stdout",
          "text": [
            "41.833085426\n"
          ]
        }
      ]
    },
    {
      "cell_type": "code",
      "metadata": {
        "id": "i0MsSfs5ilEh",
        "colab": {
          "base_uri": "https://localhost:8080/"
        },
        "outputId": "b7885dd5-159c-4499-85bc-9da7cb391597"
      },
      "source": [
        "max_length=39\n",
        "fib_itr_time = []\n",
        "\n",
        "for i in range (0, max_length):\n",
        "    start = timer()\n",
        "    fib_iterative(i)\n",
        "    end = timer()\n",
        "    print(i, end-start)\n",
        "    fib_itr_time.append(end-start)"
      ],
      "execution_count": null,
      "outputs": [
        {
          "output_type": "stream",
          "name": "stdout",
          "text": [
            "0 4.505999982029607e-06\n",
            "1 3.1380000109493267e-06\n",
            "2 3.371999980572582e-06\n",
            "3 3.149000008306757e-06\n",
            "4 4.266000019015337e-06\n",
            "5 3.837999997813313e-06\n",
            "6 3.4290000030523515e-06\n",
            "7 4.005000050710805e-06\n",
            "8 3.1369999646813085e-06\n",
            "9 2.7909999857911316e-06\n",
            "10 2.983999991101882e-06\n",
            "11 2.9650000215042382e-06\n",
            "12 2.6480000201445364e-06\n",
            "13 2.626999958010856e-06\n",
            "14 2.9010000162088545e-06\n",
            "15 3.058000004330097e-06\n",
            "16 3.1329999501394923e-06\n",
            "17 3.1469999726141396e-06\n",
            "18 3.4360000427113846e-06\n",
            "19 8.863000005021604e-06\n",
            "20 3.5130000242133974e-06\n",
            "21 3.598999967380223e-06\n",
            "22 3.629000048022135e-06\n",
            "23 3.92199996213094e-06\n",
            "24 3.882999976667634e-06\n",
            "25 3.993000007085357e-06\n",
            "26 4.165999996530445e-06\n",
            "27 4.290999982003996e-06\n",
            "28 7.93300000623276e-06\n",
            "29 3.5319999938110413e-06\n",
            "30 3.3050000070034002e-06\n",
            "31 3.3179999832100293e-06\n",
            "32 3.356000036092155e-06\n",
            "33 3.417000016270322e-06\n",
            "34 3.4810000215657055e-06\n",
            "35 3.5069999739789637e-06\n",
            "36 3.606000007039256e-06\n",
            "37 3.721999974004575e-06\n",
            "38 3.6710000017592392e-06\n"
          ]
        }
      ]
    },
    {
      "cell_type": "code",
      "metadata": {
        "id": "dQFCEQ1ZilEh",
        "colab": {
          "base_uri": "https://localhost:8080/"
        },
        "outputId": "82953d72-3467-4de6-a97c-e6ba5a25954f"
      },
      "source": [
        "fib_time = []\n",
        "\n",
        "for i in range(0, max_length):\n",
        "    start = timer()\n",
        "    fib(i)\n",
        "    end = timer()\n",
        "    print(i, end-start)\n",
        "    fib_time.append(end-start)"
      ],
      "execution_count": null,
      "outputs": [
        {
          "output_type": "stream",
          "name": "stdout",
          "text": [
            "0 3.40799999776209e-06\n",
            "1 3.082999967318756e-06\n",
            "2 5.314000020462117e-06\n",
            "3 7.05599995853845e-06\n",
            "4 7.43199996122712e-06\n",
            "5 1.1426000014580495e-05\n",
            "6 1.89209999916784e-05\n",
            "7 3.190099999983431e-05\n",
            "8 4.7432999963348266e-05\n",
            "9 8.675599997332029e-05\n",
            "10 0.000843579999980193\n",
            "11 0.00023001599998906386\n",
            "12 0.0003658730000211108\n",
            "13 0.0005681800000161275\n",
            "14 0.0008400429999824155\n",
            "15 0.0013367809999635938\n",
            "16 0.0027157439999996313\n",
            "17 0.0036022980000325333\n",
            "18 0.0036225779999767838\n",
            "19 0.008056816000021172\n",
            "20 0.010442035000039596\n",
            "21 0.016563965000045755\n",
            "22 0.028745022999999037\n",
            "23 0.04180032099998243\n",
            "24 0.06778012799998123\n",
            "25 0.11093146600001091\n",
            "26 0.17920915199999854\n",
            "27 0.31154400600001964\n",
            "28 0.45986775199997965\n",
            "29 0.7895677790000377\n",
            "30 1.2423300739999945\n",
            "31 2.4019310939999627\n",
            "32 4.232009523999977\n",
            "33 5.924651213999994\n",
            "34 9.784391988000039\n",
            "35 14.939061809000009\n",
            "36 24.778804351999952\n",
            "37 39.79284606599998\n",
            "38 64.57503833099997\n"
          ]
        }
      ]
    },
    {
      "cell_type": "code",
      "metadata": {
        "id": "0NN1-MV0ilEh"
      },
      "source": [
        "import math\n",
        "import matplotlib.pyplot as plt\n",
        "\n",
        "def plot_graph(g1, g2, max_length):\n",
        "    t = range(0, max_length, 1)\n",
        "    plt.plot(t, g1, 'b') # plotting t, b separately\n",
        "    plt.plot(t, g2, 'g') # plotting t, c separately\n",
        "    plt.show()"
      ],
      "execution_count": null,
      "outputs": []
    },
    {
      "cell_type": "code",
      "metadata": {
        "id": "SO7XeVXPilEi",
        "colab": {
          "base_uri": "https://localhost:8080/",
          "height": 265
        },
        "outputId": "7742d1fa-31e7-4cca-a468-7df3d6db3e55"
      },
      "source": [
        "plot_graph(fib_itr_time, fib_time, max_length)"
      ],
      "execution_count": null,
      "outputs": [
        {
          "output_type": "display_data",
          "data": {
            "text/plain": [
              "<Figure size 432x288 with 1 Axes>"
            ],
            "image/png": "[encoded data removed]"
          },
          "metadata": {
            "needs_background": "light"
          }
        }
      ]
    },
    {
      "cell_type": "markdown",
      "metadata": {
        "id": "RYluy579ilEi"
      },
      "source": [
        "### Section 3c.2 Binary Search.\n"
      ]
    },
    {
      "cell_type": "markdown",
      "source": [
        "**Goal**\n",
        "*   Given a sorted array and a key. Find index (location) of the key in the array.\n",
        "\n",
        "**Binary search**\n",
        "*   Compare key against middle entry.\n",
        "*   Smaller, search in the left half.\n",
        "*   Bigger, search in the right half.\n",
        "*   Equal, return the index.\n",
        "*   Size <= 0, return -1."
      ],
      "metadata": {
        "id": "YZU2Acaqiocs"
      }
    },
    {
      "cell_type": "code",
      "metadata": {
        "id": "dhduNBgCilEi"
      },
      "source": [
        "def search(a, lo, hi, key):\n",
        "    if lo > hi: return -1\n",
        "    if lo < 0: return -1\n",
        "    if hi > len(a): return -1\n",
        "\n",
        "    mid = (int)((lo + hi) / 2)\n",
        "    if a[mid] < key: return search(a, mid+1, hi, key)\n",
        "    elif a[mid] > key: return search(a, lo, mid-1, key)\n",
        "    else: return mid"
      ],
      "execution_count": null,
      "outputs": []
    },
    {
      "cell_type": "code",
      "metadata": {
        "id": "bfVaZuK9ilEj",
        "colab": {
          "base_uri": "https://localhost:8080/"
        },
        "outputId": "fa8d7ee8-f39f-4b56-ad31-74ffa82404bc"
      },
      "source": [
        "search([5,6,7,8,9,10], 0, 6, 10)"
      ],
      "execution_count": null,
      "outputs": [
        {
          "output_type": "execute_result",
          "data": {
            "text/plain": [
              "5"
            ]
          },
          "metadata": {},
          "execution_count": 17
        }
      ]
    },
    {
      "cell_type": "markdown",
      "metadata": {
        "id": "QHX_QbqNilEj"
      },
      "source": [
        "### Section 3c.3 Exponentiation\n"
      ]
    },
    {
      "cell_type": "markdown",
      "source": [
        "Compute $𝑎^𝑛$ for an integer 𝑛.\n",
        "\n",
        "A quick and easy algorithm:"
      ],
      "metadata": {
        "id": "mfJ1AEBHkXUo"
      }
    },
    {
      "cell_type": "code",
      "metadata": {
        "id": "5dKO6bq2ilEj"
      },
      "source": [
        "def power(a, n):\n",
        "    answer = 1\n",
        "    for i in range (n):\n",
        "        answer = answer * a\n",
        "    return answer"
      ],
      "execution_count": null,
      "outputs": []
    },
    {
      "cell_type": "markdown",
      "source": [
        "Compute $𝑎^𝑛$ for an integer 𝑛.\n",
        "\n",
        "Divide and conquer strategy.\n",
        "\n",
        "$2^8=2^4×2^4$\n",
        "\n",
        "$2^4=2^2×2^2$\n",
        "\n",
        "$2^2=2×2=4$\n"
      ],
      "metadata": {
        "id": "6b6k7_cbklF_"
      }
    },
    {
      "cell_type": "code",
      "metadata": {
        "id": "cnxvBG8KilEk"
      },
      "source": [
        "def very_power(a,n):\n",
        "    if n == 0:\n",
        "        return 1\n",
        "    answer = very_power(a, (int) (n/2))\n",
        "    if n % 2 == 1:\n",
        "        return answer * answer * a\n",
        "    else:\n",
        "        return answer * answer"
      ],
      "execution_count": null,
      "outputs": []
    },
    {
      "cell_type": "code",
      "metadata": {
        "id": "A3z_G6qpilEk",
        "colab": {
          "base_uri": "https://localhost:8080/"
        },
        "outputId": "c73bdd7e-912c-4517-8c39-2288548fd5bf"
      },
      "source": [
        "very_power(4,100)"
      ],
      "execution_count": null,
      "outputs": [
        {
          "output_type": "execute_result",
          "data": {
            "text/plain": [
              "1606938044258990275541962092341162602522202993782792835301376"
            ]
          },
          "metadata": {},
          "execution_count": 20
        }
      ]
    },
    {
      "cell_type": "code",
      "metadata": {
        "id": "psYDdqzuilEk",
        "colab": {
          "base_uri": "https://localhost:8080/"
        },
        "outputId": "8425f0c3-23a5-4e2c-e1a4-5872a389fa42"
      },
      "source": [
        "power(4,8)"
      ],
      "execution_count": null,
      "outputs": [
        {
          "output_type": "execute_result",
          "data": {
            "text/plain": [
              "65536"
            ]
          },
          "metadata": {},
          "execution_count": 21
        }
      ]
    },
    {
      "cell_type": "code",
      "metadata": {
        "id": "qA5-wUVTilEk",
        "colab": {
          "base_uri": "https://localhost:8080/"
        },
        "outputId": "38173107-1954-4e60-e51c-dec7996ea34c"
      },
      "source": [
        "pow(4,8)"
      ],
      "execution_count": null,
      "outputs": [
        {
          "output_type": "execute_result",
          "data": {
            "text/plain": [
              "65536"
            ]
          },
          "metadata": {},
          "execution_count": 22
        }
      ]
    },
    {
      "cell_type": "code",
      "metadata": {
        "id": "APJaRst8ilEl"
      },
      "source": [
        "power_time = []\n",
        "max_length = 50000\n",
        "divisor = 5\n",
        "\n",
        "for i in range(0, max_length, divisor):\n",
        "    start = timer()\n",
        "    power(4,i)\n",
        "    end = timer()\n",
        "    power_time.append(end-start)"
      ],
      "execution_count": null,
      "outputs": []
    },
    {
      "cell_type": "code",
      "metadata": {
        "id": "xMjS0TuiilEl"
      },
      "source": [
        "very_power_time = []\n",
        "\n",
        "for i in range(0, max_length, divisor):\n",
        "    start = timer()\n",
        "    very_power(4,i)\n",
        "    end = timer()\n",
        "    very_power_time.append(end-start)"
      ],
      "execution_count": null,
      "outputs": []
    },
    {
      "cell_type": "code",
      "metadata": {
        "id": "1Yv7P-gKilEl",
        "colab": {
          "base_uri": "https://localhost:8080/",
          "height": 265
        },
        "outputId": "509c3b2d-7c64-4ae0-d0bd-8da31925121e"
      },
      "source": [
        "plot_graph(power_time, very_power_time, (int) (max_length / divisor))"
      ],
      "execution_count": null,
      "outputs": [
        {
          "output_type": "display_data",
          "data": {
            "text/plain": [
              "<Figure size 432x288 with 1 Axes>"
            ],
            "image/png": "[encoded data removed]"
          },
          "metadata": {
            "needs_background": "light"
          }
        }
      ]
    },
    {
      "cell_type": "markdown",
      "source": [
        "https://www.hackerrank.com/2023-python-quiz03"
      ],
      "metadata": {
        "id": "l3h_WW7XtXpM"
      }
    },
    {
      "cell_type": "code",
      "source": [],
      "metadata": {
        "id": "waTP3iaoqBKD"
      },
      "execution_count": null,
      "outputs": []
    }
  ]
}