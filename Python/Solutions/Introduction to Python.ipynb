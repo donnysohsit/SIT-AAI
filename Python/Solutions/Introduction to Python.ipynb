{
  "nbformat": 4,
  "nbformat_minor": 0,
  "metadata": {
    "colab": {
      "provenance": []
    },
    "kernelspec": {
      "name": "python3",
      "display_name": "Python 3"
    }
  },
  "cells": [
    {
      "cell_type": "markdown",
      "metadata": {
        "id": "2DVrwLcT32X0"
      },
      "source": [
        "## Section 1b. Introduction to Python"
      ]
    },
    {
      "cell_type": "markdown",
      "metadata": {
        "id": "Tuc-myY835nv"
      },
      "source": [
        "### Section 1b.1 What is Python\n",
        "\n",
        "Python is an interpreted, object-oriented, high-level programming language with dynamic semantics.\n",
        "\n",
        "**What is interpreted language?**\n",
        "\n",
        "An interpreted language is a type of programming language for which most of its implementations execute instructions directly and freely, without previously compiling a program into machine-language instructions. Essentially, you don't need to compile it.\n",
        "\n",
        "**What is object oriented language?**\n",
        "\n",
        "An object-oriented language is a computer programming language that revolves around the concept of an object. Object-oriented languages were developed to make it easier to develop, debug, reuse, and maintain software than is possible with earlier languages.\n",
        "\n",
        "**What is high level programming language?**\n",
        "\n",
        "High-level languages intend to provide features which standardize common tasks, permit rich debugging, and maintain architectural agnosticism; while low-level languages often produce more efficient code through optimization for a specific system architecture.\n",
        "\n",
        "Examples are python, java, perl, php. Examples of low level programming languages are C and assembly. Some of these low level programming languages are also known as close to the metal / bare metal languages because they allow you to interact directly with the metal (computer machine).\n",
        "\n",
        "**What is dynamic semantics?**\n",
        "\n",
        "Dynamics objects are instances of values instantiated during run time. If we assign an object different types of values during the course of the run time, the value type will update itself. For instance, if we assign the value of 5 to object temp_value, it will be stored as an int 5. If we thereafter assign it to 'hello world', it will be updated to a string of value \"hello world\".\n",
        "\n",
        "*Source: https://www.python.org/doc/essays/blurb/*"
      ]
    },
    {
      "cell_type": "markdown",
      "metadata": {
        "id": "3ZI1Dua94gV6"
      },
      "source": [
        "### Section 1b.2 Simple \"Hello World\" code snippets"
      ]
    },
    {
      "cell_type": "markdown",
      "metadata": {
        "id": "oIeylCS19AOa"
      },
      "source": [
        "You can just do the print using the typical print command."
      ]
    },
    {
      "cell_type": "code",
      "metadata": {
        "colab": {
          "base_uri": "https://localhost:8080/"
        },
        "id": "YDQjxmmr334P",
        "outputId": "95f724cd-542b-493b-cc35-5ea7dc26d1d1"
      },
      "source": [
        "print(\"Hello World\")"
      ],
      "execution_count": null,
      "outputs": [
        {
          "output_type": "stream",
          "name": "stdout",
          "text": [
            "Hello World\n"
          ]
        }
      ]
    },
    {
      "cell_type": "markdown",
      "metadata": {
        "id": "IjYm_Je79Ewe"
      },
      "source": [
        "Let's try to do it by putting the another text in a string."
      ]
    },
    {
      "cell_type": "code",
      "metadata": {
        "colab": {
          "base_uri": "https://localhost:8080/"
        },
        "id": "6xRHRc8d8j2P",
        "outputId": "7e24e792-87be-4afe-b22e-4ac8b5bbc4a7"
      },
      "source": [
        "temp_string = \"Nice to meet you\"\n",
        "\n",
        "print(temp_string)"
      ],
      "execution_count": null,
      "outputs": [
        {
          "output_type": "stream",
          "name": "stdout",
          "text": [
            "Nice to meet you\n"
          ]
        }
      ]
    },
    {
      "cell_type": "markdown",
      "metadata": {
        "id": "QFRE4DWo9NJf"
      },
      "source": [
        "If we want to add in the name to the statement"
      ]
    },
    {
      "cell_type": "code",
      "metadata": {
        "colab": {
          "base_uri": "https://localhost:8080/"
        },
        "id": "Qp5xaWqg89vh",
        "outputId": "780cfaf1-22a2-4894-c125-bb6ff3958c00"
      },
      "source": [
        "print(temp_string, \", Alice\")"
      ],
      "execution_count": null,
      "outputs": [
        {
          "output_type": "stream",
          "name": "stdout",
          "text": [
            "Nice to meet you , Alice\n"
          ]
        }
      ]
    },
    {
      "cell_type": "markdown",
      "metadata": {
        "id": "dHFIIXRW9to0"
      },
      "source": [
        "But you notice there is a strange space there. So what you can do is:"
      ]
    },
    {
      "cell_type": "code",
      "metadata": {
        "colab": {
          "base_uri": "https://localhost:8080/"
        },
        "id": "mj0Msq5Q9dUc",
        "outputId": "2b684afd-583f-403d-8110-563026aa46f8"
      },
      "source": [
        "print(temp_string + \", Alice\")"
      ],
      "execution_count": null,
      "outputs": [
        {
          "output_type": "stream",
          "name": "stdout",
          "text": [
            "Nice to meet you, Alice\n"
          ]
        }
      ]
    },
    {
      "cell_type": "markdown",
      "metadata": {
        "id": "Q4uMwgPD90f5"
      },
      "source": [
        "This plus symobol means that we are defining two strings, one is temp_string and the other is \", Alice\". We are then going to combine / concatenate these strings together."
      ]
    },
    {
      "cell_type": "markdown",
      "metadata": {
        "id": "DNU4Ky7F_MqP"
      },
      "source": [
        "**f-strings**"
      ]
    },
    {
      "cell_type": "markdown",
      "metadata": {
        "id": "U8Md560W_fn-"
      },
      "source": [
        "If you read some older python programming syntaxes, you would find that there are several other ways of formatting text strings. Examples of these are using the .format or the %s formats. These are still supported by Python but they are discouraged because of the low level of readibility. What is recommended now is to use a f-string like this:"
      ]
    },
    {
      "cell_type": "code",
      "metadata": {
        "colab": {
          "base_uri": "https://localhost:8080/"
        },
        "id": "MuEYp5fW_XH2",
        "outputId": "34b0cfd2-22e6-4c5a-fb5b-8e3a5aafca0a"
      },
      "source": [
        "print(f\"{temp_string}, Alice\")"
      ],
      "execution_count": null,
      "outputs": [
        {
          "output_type": "stream",
          "name": "stdout",
          "text": [
            "Nice to meet you, Alice\n"
          ]
        }
      ]
    },
    {
      "cell_type": "markdown",
      "metadata": {
        "id": "jJRa0zEo-UfC"
      },
      "source": [
        "*Exercise 1b.1*\n",
        "\n",
        "Try to write the code to print out the following statement:\n",
        "\n",
        "Nice to meet you, Ben and Alice.\n",
        "\n",
        "Make sure to use all three variables and the f string command."
      ]
    },
    {
      "cell_type": "code",
      "metadata": {
        "id": "kRkXvq8c9zHO"
      },
      "source": [
        "greeting_string = \"Nice to meet you\"\n",
        "name_one = \"Ben\"\n",
        "name_two = \"Alice\""
      ],
      "execution_count": null,
      "outputs": []
    },
    {
      "cell_type": "code",
      "metadata": {
        "colab": {
          "base_uri": "https://localhost:8080/"
        },
        "id": "9I1w0kUQ-vYa",
        "outputId": "ab1b125a-bdb7-479a-a426-af662f2fed25"
      },
      "source": [
        "print(f\"{greeting_string}, {name_one} and {name_two}\")"
      ],
      "execution_count": null,
      "outputs": [
        {
          "output_type": "stream",
          "name": "stdout",
          "text": [
            "Nice to meet you, Ben and Alice\n"
          ]
        }
      ]
    },
    {
      "cell_type": "markdown",
      "metadata": {
        "id": "8CueF0kLA7AQ"
      },
      "source": [
        "### Section 1b.3 Variable Types"
      ]
    },
    {
      "cell_type": "markdown",
      "metadata": {
        "id": "9aYmUz6dB2YE"
      },
      "source": [
        "Python has five standard data types and they are:\n",
        "*   Numbers\n",
        "*   String\n",
        "*   List\n",
        "*   Dictionary\n",
        "*   Tuple\n",
        "\n",
        "**Numbers**\n",
        "\n",
        "Number Types\n",
        "\n",
        "Python supports three types of numbers. They are int, float and complex. For this course we will only be working with int and floating numbers.\n",
        "\n",
        "Int numbers are whole numbers while floating numbers are decimal numbers."
      ]
    },
    {
      "cell_type": "code",
      "metadata": {
        "colab": {
          "base_uri": "https://localhost:8080/"
        },
        "id": "80NAAnkLDOOQ",
        "outputId": "50e89ace-86b0-47ef-827a-a6f0352be9ea"
      },
      "source": [
        "print(f\"{greeting_string}, my name is {name_one} and I am 3 years old.\")"
      ],
      "execution_count": null,
      "outputs": [
        {
          "output_type": "stream",
          "name": "stdout",
          "text": [
            "Nice to meet you, my name is Ben and I am 3 years old.\n"
          ]
        }
      ]
    },
    {
      "cell_type": "code",
      "metadata": {
        "colab": {
          "base_uri": "https://localhost:8080/"
        },
        "id": "ZBnzJq--DcP9",
        "outputId": "2d943dce-c78c-436d-d4fb-7847ddbe139d"
      },
      "source": [
        "year_one = 3\n",
        "print(f\"{greeting_string}, my name is {name_one} and I am {year_one} years old.\")"
      ],
      "execution_count": null,
      "outputs": [
        {
          "output_type": "stream",
          "name": "stdout",
          "text": [
            "Nice to meet you, my name is Ben and I am 3 years old.\n"
          ]
        }
      ]
    },
    {
      "cell_type": "code",
      "metadata": {
        "colab": {
          "base_uri": "https://localhost:8080/"
        },
        "id": "q4D_BxeFDoNJ",
        "outputId": "ac22f4f4-6222-49da-a184-49996d8b2a73"
      },
      "source": [
        "height_one = 87.3\n",
        "print(f\"{greeting_string}, my name is {name_one} and I am {year_one} years old. I am very tall for my age, about {height_one}cm.\")"
      ],
      "execution_count": null,
      "outputs": [
        {
          "output_type": "stream",
          "name": "stdout",
          "text": [
            "Nice to meet you, my name is Ben and I am 3 years old. I am very tall for my age, about 87.3cm.\n"
          ]
        }
      ]
    },
    {
      "cell_type": "markdown",
      "metadata": {
        "id": "SU1u40wSEsS8"
      },
      "source": [
        "Number manipulation\n",
        "\n",
        "The typical operators apply.\n",
        "\n",
        "*   \\+ addition\n",
        "*   \\- subtraction\n",
        "*   \\* multiplication\n",
        "*   \\/ division"
      ]
    },
    {
      "cell_type": "code",
      "metadata": {
        "colab": {
          "base_uri": "https://localhost:8080/"
        },
        "id": "BGo_XeNGDvY6",
        "outputId": "936e061f-3349-4589-ddf3-b03efb2d70bc"
      },
      "source": [
        "print(6 + 4)\n",
        "print(6 - 4)\n",
        "print(6 * 4)\n",
        "print(6 / 4)"
      ],
      "execution_count": null,
      "outputs": [
        {
          "output_type": "stream",
          "name": "stdout",
          "text": [
            "10\n",
            "2\n",
            "24\n",
            "1.5\n"
          ]
        }
      ]
    },
    {
      "cell_type": "code",
      "metadata": {
        "colab": {
          "base_uri": "https://localhost:8080/"
        },
        "id": "NXz7pDw7FLSw",
        "outputId": "75217a1a-67b4-4752-f4e4-877a8d78a65a"
      },
      "source": [
        "t_1 = 6\n",
        "t_2 = 4\n",
        "\n",
        "print(t_1 + t_2)\n",
        "print(t_1 - t_2)\n",
        "print(t_1 * t_2)\n",
        "print(t_1 / t_2)"
      ],
      "execution_count": null,
      "outputs": [
        {
          "output_type": "stream",
          "name": "stdout",
          "text": [
            "10\n",
            "2\n",
            "24\n",
            "1.5\n"
          ]
        }
      ]
    },
    {
      "cell_type": "markdown",
      "metadata": {
        "id": "TR_SrhgbFqan"
      },
      "source": [
        "There is also a math library that we can use. From the math library we will be able to get certain constants or carry out functions such as square root etc."
      ]
    },
    {
      "cell_type": "code",
      "metadata": {
        "colab": {
          "base_uri": "https://localhost:8080/"
        },
        "id": "trjUqVljFQbJ",
        "outputId": "d03ad971-5dff-4d0f-c9aa-ac40f7fe6dbf"
      },
      "source": [
        "import math\n",
        "\n",
        "print(math.pi)"
      ],
      "execution_count": null,
      "outputs": [
        {
          "output_type": "stream",
          "name": "stdout",
          "text": [
            "3.141592653589793\n"
          ]
        }
      ]
    },
    {
      "cell_type": "markdown",
      "metadata": {
        "id": "T8vHL9-_GMnT"
      },
      "source": [
        "Notice that the number of decimal points are quite a lot. If we only want to see 2 of them, we can do the following:"
      ]
    },
    {
      "cell_type": "code",
      "metadata": {
        "colab": {
          "base_uri": "https://localhost:8080/"
        },
        "id": "FYQqIHwxGJbq",
        "outputId": "ca3ac63d-a238-4acc-d6d3-ae6a573e5ed0"
      },
      "source": [
        "print(f\"{math.pi:.2f}\")"
      ],
      "execution_count": null,
      "outputs": [
        {
          "output_type": "stream",
          "name": "stdout",
          "text": [
            "3.14\n"
          ]
        }
      ]
    },
    {
      "cell_type": "markdown",
      "metadata": {
        "id": "aUQaASkkGw2l"
      },
      "source": [
        "Note that this does not change the value of the variable, just the way it is displayed."
      ]
    },
    {
      "cell_type": "code",
      "metadata": {
        "colab": {
          "base_uri": "https://localhost:8080/"
        },
        "id": "jOo8fD6AGoIL",
        "outputId": "eedb6068-c68c-4c21-af01-b44006e1dfe0"
      },
      "source": [
        "temp_pi = math.pi\n",
        "print(f\"{temp_pi:.2f}\")"
      ],
      "execution_count": null,
      "outputs": [
        {
          "output_type": "stream",
          "name": "stdout",
          "text": [
            "3.14\n"
          ]
        }
      ]
    },
    {
      "cell_type": "code",
      "metadata": {
        "colab": {
          "base_uri": "https://localhost:8080/"
        },
        "id": "tx4bRNtuG7Mw",
        "outputId": "85ead7fc-41ef-4c54-eed2-7cd31b95a86d"
      },
      "source": [
        "print(f\"{temp_pi}\")"
      ],
      "execution_count": null,
      "outputs": [
        {
          "output_type": "stream",
          "name": "stdout",
          "text": [
            "3.141592653589793\n"
          ]
        }
      ]
    },
    {
      "cell_type": "markdown",
      "metadata": {
        "id": "69qZJrMKG_hl"
      },
      "source": [
        "If we really want to convert the variable to just two decimal places, we have to use the *round* function:"
      ]
    },
    {
      "cell_type": "code",
      "metadata": {
        "colab": {
          "base_uri": "https://localhost:8080/"
        },
        "id": "ZIRJT-UbG-8F",
        "outputId": "3489bc49-cf2f-4a99-e506-6c94de42dcbe"
      },
      "source": [
        "temp_pi_2 = round(temp_pi, 2)\n",
        "print(temp_pi_2)"
      ],
      "execution_count": null,
      "outputs": [
        {
          "output_type": "stream",
          "name": "stdout",
          "text": [
            "3.14\n"
          ]
        }
      ]
    },
    {
      "cell_type": "markdown",
      "metadata": {
        "id": "Yeh2r1mmjtYU"
      },
      "source": [
        "*Exercise 1b.2*\n",
        "\n",
        "Calculate the area of a square with sides 5cm. Store it in a variable known as square_area. Print out the entire statement:\n",
        "\n",
        "\"The area of a square of sides 5 cm is xxx cm squared\""
      ]
    },
    {
      "cell_type": "code",
      "metadata": {
        "colab": {
          "base_uri": "https://localhost:8080/"
        },
        "id": "7Kz3w8VdkAre",
        "outputId": "304a7fde-5206-4dad-95e0-ae2e4c83cac4"
      },
      "source": [
        "side = 5\n",
        "square_area = side * side\n",
        "\n",
        "print(f\"The area of a square of sides {side} cm is {square_area} cm squared\")"
      ],
      "execution_count": null,
      "outputs": [
        {
          "output_type": "stream",
          "name": "stdout",
          "text": [
            "The area of a square of sides 5 cm is 25 cm squared\n"
          ]
        }
      ]
    },
    {
      "cell_type": "markdown",
      "metadata": {
        "id": "YfAPZPsnkTPY"
      },
      "source": [
        "*Exercise 1b.3*\n",
        "\n",
        "Calculate the area of a rectangle with sides 10 cm and 5 cm. Store it in a variable known as rectangle_area. Print out the entire statement:\n",
        "\n",
        "\"The area of a rectangle of sides 10 cm and 5 cm is xxx cm squared\""
      ]
    },
    {
      "cell_type": "code",
      "metadata": {
        "colab": {
          "base_uri": "https://localhost:8080/"
        },
        "id": "8wvxMGbNkl3E",
        "outputId": "d8918360-5bfd-47c1-a577-5ad12be33324"
      },
      "source": [
        "side_1 = 10\n",
        "side_2 = 5\n",
        "\n",
        "rectangle_area = side_1 * side_2\n",
        "\n",
        "print(f\"The area of a rectangle of sides {side_1} cm and {side_2} cm is {rectangle_area} cm squared\")"
      ],
      "execution_count": null,
      "outputs": [
        {
          "output_type": "stream",
          "name": "stdout",
          "text": [
            "The area of a rectangle of sides 10 cm and 5 cm is 50 cm squared\n"
          ]
        }
      ]
    },
    {
      "cell_type": "markdown",
      "metadata": {
        "id": "oAlc6a3vInnA"
      },
      "source": [
        "*Exercise 1b.4*\n",
        "\n",
        "Calculate the area of a circle of radius 3.5 cm. Store it in a variable known as circle_area. Print out the value of the circle to 3 decimal points."
      ]
    },
    {
      "cell_type": "code",
      "metadata": {
        "colab": {
          "base_uri": "https://localhost:8080/"
        },
        "id": "BZOaUUgJIcYp",
        "outputId": "4a819d1e-537f-4a26-e080-d6da735f3c53"
      },
      "source": [
        "radius = 3.5\n",
        "circle_area = math.pi * radius * radius\n",
        "\n",
        "print(f\"{circle_area:.3f}\")"
      ],
      "execution_count": null,
      "outputs": [
        {
          "output_type": "stream",
          "name": "stdout",
          "text": [
            "38.485\n"
          ]
        }
      ]
    },
    {
      "cell_type": "markdown",
      "metadata": {
        "id": "BUk2GPuhJOgR"
      },
      "source": [
        "*Exercise 1b.5*\n",
        "\n",
        "Given the following triangle, find the area of the triangle. Print it to 3 decimal places.\n",
        "\n",
        "![alt text](https://drive.google.com/uc?export=view&id=1NJgSCCx6t5tN51pykIkuo7IKFVVX08tv)\n",
        "\n",
        "Revision:\n",
        "\n",
        "The area of the triangle is:\n",
        "0.5 * height * width\n",
        "\n",
        "The width of this triangle is 20\n",
        "\n",
        "The height of this triangle can be found by taking the sine of the angle multiple by 11.\n",
        "\n",
        "You can use the sine by using the math.sin function. You can find out more about the function here:\n",
        "\n",
        "https://www.w3schools.com/python/ref_math_sin.asp"
      ]
    },
    {
      "cell_type": "code",
      "metadata": {
        "id": "cQnDZcozI-BL",
        "outputId": "2db016fe-616e-457b-8b1e-babf0b3a31a6",
        "colab": {
          "base_uri": "https://localhost:8080/"
        }
      },
      "source": [
        "round(0.5 * 11 * 20 * math.sin(math.radians(50)), 3)"
      ],
      "execution_count": null,
      "outputs": [
        {
          "output_type": "execute_result",
          "data": {
            "text/plain": [
              "84.265"
            ]
          },
          "metadata": {},
          "execution_count": 21
        }
      ]
    }
  ]
}