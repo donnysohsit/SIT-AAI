{
  "nbformat": 4,
  "nbformat_minor": 0,
  "metadata": {
    "colab": {
      "provenance": []
    },
    "kernelspec": {
      "name": "python3",
      "display_name": "Python 3"
    }
  },
  "cells": [
    {
      "cell_type": "markdown",
      "metadata": {
        "id": "Bk0oq2A9bkX2"
      },
      "source": [
        "## Section 2d. Introduction to Dictionaries\n"
      ]
    },
    {
      "cell_type": "markdown",
      "metadata": {
        "id": "Rr2aU86AcLdx"
      },
      "source": [
        "A dictionary is a collection of key value pairs. We use curly braces to initialize a dictionary. If you are familiar with other languages, this is similar to a hashtable."
      ]
    },
    {
      "cell_type": "code",
      "metadata": {
        "colab": {
          "base_uri": "https://localhost:8080/"
        },
        "id": "CW2XvmL1hlhw",
        "outputId": "cdf35197-8fff-4014-a01d-c19578757dae"
      },
      "source": [
        "temperature_in_room = {}\n",
        "print(temperature_in_room)"
      ],
      "execution_count": null,
      "outputs": [
        {
          "output_type": "stream",
          "name": "stdout",
          "text": [
            "{}\n"
          ]
        }
      ]
    },
    {
      "cell_type": "code",
      "source": [
        "temperature_in_room = { 'SR7A' : 20.3, 'SR7B': 20.5 }\n",
        "print(temperature_in_room)"
      ],
      "metadata": {
        "id": "AuO__yKnJ4N8",
        "colab": {
          "base_uri": "https://localhost:8080/"
        },
        "outputId": "4a542a80-5386-4f0d-dfda-133e9800bbc3"
      },
      "execution_count": null,
      "outputs": [
        {
          "output_type": "stream",
          "name": "stdout",
          "text": [
            "{'SR7A': 20.3, 'SR7B': 20.5}\n"
          ]
        }
      ]
    },
    {
      "cell_type": "markdown",
      "source": [
        "Note that when defining a dictionary, individual key value pairs are seperated by the comma. Within each key value pair, they are seperated by the colon. The left element is the key and the right element is the value."
      ],
      "metadata": {
        "id": "W3zKkc_m2Rq0"
      }
    },
    {
      "cell_type": "code",
      "source": [
        "temperature_in_room.keys()"
      ],
      "metadata": {
        "colab": {
          "base_uri": "https://localhost:8080/"
        },
        "id": "KsaKuQX52eUy",
        "outputId": "ee020524-7d85-4c46-e764-32464767ffda"
      },
      "execution_count": null,
      "outputs": [
        {
          "output_type": "execute_result",
          "data": {
            "text/plain": [
              "dict_keys(['SR7A', 'SR7B'])"
            ]
          },
          "metadata": {},
          "execution_count": 3
        }
      ]
    },
    {
      "cell_type": "code",
      "source": [
        "temperature_in_room.values()"
      ],
      "metadata": {
        "colab": {
          "base_uri": "https://localhost:8080/"
        },
        "id": "KNCQBonG2gRu",
        "outputId": "83d248b8-46f8-448b-b5fd-8d968ecd82ca"
      },
      "execution_count": null,
      "outputs": [
        {
          "output_type": "execute_result",
          "data": {
            "text/plain": [
              "dict_values([20.3, 20.5])"
            ]
          },
          "metadata": {},
          "execution_count": 4
        }
      ]
    },
    {
      "cell_type": "markdown",
      "source": [
        "Note that the key can only hold one value. Hence if we set the same key to two values, it will only take the last value."
      ],
      "metadata": {
        "id": "ExpW1o8P2i11"
      }
    },
    {
      "cell_type": "code",
      "source": [
        "temperature_in_room = { 'SR7A' : 20.3, 'SR7A': 20.5 }\n",
        "print(temperature_in_room)"
      ],
      "metadata": {
        "colab": {
          "base_uri": "https://localhost:8080/"
        },
        "id": "vBKe-8E808Mk",
        "outputId": "4cf1b584-5144-4f70-a04c-e25b65fc44e7"
      },
      "execution_count": null,
      "outputs": [
        {
          "output_type": "stream",
          "name": "stdout",
          "text": [
            "{'SR7A': 20.5}\n"
          ]
        }
      ]
    },
    {
      "cell_type": "code",
      "source": [
        "print(len(temperature_in_room))"
      ],
      "metadata": {
        "colab": {
          "base_uri": "https://localhost:8080/"
        },
        "id": "XDkFvtKO0--1",
        "outputId": "deb99c88-8513-47f3-fcc9-1a761dc8a1bb"
      },
      "execution_count": null,
      "outputs": [
        {
          "output_type": "stream",
          "name": "stdout",
          "text": [
            "1\n"
          ]
        }
      ]
    },
    {
      "cell_type": "markdown",
      "source": [
        "The value in the key value pair can be anything, for example a string, a list, another dictionary. To access the value in the key, we use the square brackets."
      ],
      "metadata": {
        "id": "vpjkx6BG2zkp"
      }
    },
    {
      "cell_type": "code",
      "source": [
        "temperature_in_room['SR7A']"
      ],
      "metadata": {
        "colab": {
          "base_uri": "https://localhost:8080/"
        },
        "id": "ZiMEnqIf2_hp",
        "outputId": "66e458b7-3e2d-43a4-c0cb-08a58626e977"
      },
      "execution_count": null,
      "outputs": [
        {
          "output_type": "execute_result",
          "data": {
            "text/plain": [
              "20.5"
            ]
          },
          "metadata": {},
          "execution_count": 7
        }
      ]
    },
    {
      "cell_type": "code",
      "source": [
        "temperature_in_room = { 'SR7A' : 20.3, 'SR7B': 20.5, 'SR7C': 21.5, 'SR7D': 19.5 }\n",
        "print(temperature_in_room)"
      ],
      "metadata": {
        "colab": {
          "base_uri": "https://localhost:8080/"
        },
        "id": "9Qn0VeIr364A",
        "outputId": "e536613c-f2f6-4803-e519-ff8b4f6c5e11"
      },
      "execution_count": null,
      "outputs": [
        {
          "output_type": "stream",
          "name": "stdout",
          "text": [
            "{'SR7A': 20.3, 'SR7B': 20.5, 'SR7C': 21.5, 'SR7D': 19.5}\n"
          ]
        }
      ]
    },
    {
      "cell_type": "code",
      "source": [
        "for key in temperature_in_room.keys():\n",
        "  print(f\"{key} holds value {temperature_in_room[key]}\")"
      ],
      "metadata": {
        "colab": {
          "base_uri": "https://localhost:8080/"
        },
        "id": "n796Wblj1Adb",
        "outputId": "738d7b25-00ff-422c-937f-045e770fb12e"
      },
      "execution_count": null,
      "outputs": [
        {
          "output_type": "stream",
          "name": "stdout",
          "text": [
            "SR7A holds value 20.3\n",
            "SR7B holds value 20.5\n",
            "SR7C holds value 21.5\n",
            "SR7D holds value 19.5\n"
          ]
        }
      ]
    },
    {
      "cell_type": "markdown",
      "source": [
        "To create a new value, we just assign it using the square brackets."
      ],
      "metadata": {
        "id": "05N5HMs14Z9t"
      }
    },
    {
      "cell_type": "code",
      "source": [
        "temperature_in_room['SR7E'] = 19.0"
      ],
      "metadata": {
        "id": "OXOTfamf1Uiw"
      },
      "execution_count": null,
      "outputs": []
    },
    {
      "cell_type": "code",
      "source": [
        "print(temperature_in_room)"
      ],
      "metadata": {
        "colab": {
          "base_uri": "https://localhost:8080/"
        },
        "id": "aUpbLLNf4hn9",
        "outputId": "9e769a8b-82f5-4542-c5c6-124b27c00791"
      },
      "execution_count": null,
      "outputs": [
        {
          "output_type": "stream",
          "name": "stdout",
          "text": [
            "{'SR7A': 20.3, 'SR7B': 20.5, 'SR7C': 21.5, 'SR7D': 19.5, 'SR7E': 19.0}\n"
          ]
        }
      ]
    },
    {
      "cell_type": "markdown",
      "source": [
        "If we try to access a key which is not present, an error will be thrown. Hence it is always good to check if the key is present in the dictionary or not. For instance, if we have a list with all the rooms in the building:"
      ],
      "metadata": {
        "id": "uvkNEC2y4lo0"
      }
    },
    {
      "cell_type": "code",
      "source": [
        "rooms_nyp = ['SR5A', 'SR5B', 'SR7A', 'SR7B', 'SR7E', 'SR7F']"
      ],
      "metadata": {
        "id": "PCMwImn24jqw"
      },
      "execution_count": null,
      "outputs": []
    },
    {
      "cell_type": "code",
      "source": [
        "for room in rooms_nyp:\n",
        "  if room in temperature_in_room:\n",
        "    print(f\"{room}: {temperature_in_room[room]}\")"
      ],
      "metadata": {
        "colab": {
          "base_uri": "https://localhost:8080/"
        },
        "id": "frOVL3DW5Pfa",
        "outputId": "8e7e2fb5-9d64-42b5-8be6-90c026baf70a"
      },
      "execution_count": null,
      "outputs": [
        {
          "output_type": "stream",
          "name": "stdout",
          "text": [
            "SR7A: 20.3\n",
            "SR7B: 20.5\n",
            "SR7E: 19.0\n"
          ]
        }
      ]
    },
    {
      "cell_type": "code",
      "source": [
        "if __name__ == '__main__':\n",
        "    n = int(input())\n",
        "    student_marks = {}\n",
        "    for _ in range(n):\n",
        "        name, *line = input().split()\n",
        "        scores = list(map(float, line))\n",
        "        student_marks[name] = scores\n",
        "    query_name = input()\n",
        "\n",
        "    temp_scores = student_marks[query_name]\n",
        "    print(f\"{sum(temp_scores) / len(temp_scores):.2f}\")\n"
      ],
      "metadata": {
        "id": "1pDnNKjS5VSG"
      },
      "execution_count": null,
      "outputs": []
    }
  ]
}