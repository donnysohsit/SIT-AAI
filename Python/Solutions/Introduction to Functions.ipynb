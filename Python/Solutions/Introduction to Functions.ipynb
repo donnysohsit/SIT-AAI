{
  "nbformat": 4,
  "nbformat_minor": 0,
  "metadata": {
    "colab": {
      "provenance": []
    },
    "kernelspec": {
      "name": "python3",
      "display_name": "Python 3"
    }
  },
  "cells": [
    {
      "cell_type": "markdown",
      "metadata": {
        "id": "Bk0oq2A9bkX2"
      },
      "source": [
        "## Section 3a. Functions\n"
      ]
    },
    {
      "cell_type": "markdown",
      "metadata": {
        "id": "Rr2aU86AcLdx"
      },
      "source": [
        "### Section 3a.1 Introducing Functions\n",
        "\n",
        "We have crossed one huge hurdle and currently am now in the final section in our introduction to python section of software engineering. Today we are going to start talking about something called functions. This is our first taste of programming methodology and is one of the first instances we get exposed to a form of programming known as functional programming. What functions mean is that they allow us to pack a list of statements together.\n",
        "\n",
        "For example, let's assume the following. You may need to drive from one place to another during Chinese New Year (while observing social distancing rules of course). If you are driving a manual car, there are a set of instructions you need to observe. For example you need to maintain a half clutch position as you are moving off from start. You need to step on the clutch while you are changing gears, and you also need to remember when you should be changing gears.\n",
        "\n",
        "This set of instructions can be considered to be abstracted with a semi-automatic car. In a sumi-automatic car, you no longer need to be concerned with the many steps, but you have full confidence that all the steps required in changing the gear are managed by the car and you just need to press the up or the down button to change up or change down the gear.\n",
        "\n",
        "This up or down button is essentially what a function is. That function abstracts away the many steps required to change up and down a gear and reduces it down to an up and down button."
      ]
    },
    {
      "cell_type": "markdown",
      "metadata": {
        "id": "YkvVTrLVCJr4"
      },
      "source": [
        "### Section 3a.2 Anatomy of a function\n",
        "\n",
        "Let's look at a very simple example of a function:"
      ]
    },
    {
      "cell_type": "code",
      "metadata": {
        "colab": {
          "base_uri": "https://localhost:8080/"
        },
        "id": "Cgmtlf4p1vMi",
        "outputId": "bac7fe13-45df-4ae3-a155-b16109e010a2"
      },
      "source": [
        "def say_hello():\n",
        "  print(\"hello world\")\n",
        "\n",
        "say_hello()"
      ],
      "execution_count": null,
      "outputs": [
        {
          "output_type": "stream",
          "name": "stdout",
          "text": [
            "hello world\n"
          ]
        }
      ]
    },
    {
      "cell_type": "code",
      "source": [
        "if __name__ == '__main__':\n",
        "    N = int(input())\n",
        "\n",
        "    lst = []\n",
        "    for _ in range(N):\n",
        "        command = input().split()\n",
        "        if command[0] == \"insert\":\n",
        "            lst.insert(int(command[1]), int(command[2]))\n",
        "        elif command[0] == \"print\":\n",
        "            print(lst)\n",
        "        elif command[0] == \"remove\":\n",
        "            lst.remove(int(command[1]))\n",
        "        elif command[0] == \"append\":\n",
        "            lst.append(int(command[1]))\n",
        "        elif command[0] == \"sort\":\n",
        "            lst.sort()\n",
        "        elif command[0] == \"pop\":\n",
        "            lst.pop()\n",
        "        elif command[0] == \"reverse\":\n",
        "            lst.reverse()\n"
      ],
      "metadata": {
        "id": "sL9F8Bgyn0IJ"
      },
      "execution_count": null,
      "outputs": []
    },
    {
      "cell_type": "markdown",
      "metadata": {
        "id": "LiAHhqBt1ylt"
      },
      "source": [
        "Let's break this down step by step. The term\n",
        "\n",
        "```\n",
        "def\n",
        "```\n",
        "\n",
        "is known as a keyword. This keyword defines that what is to follow will be a function. In this case, the name of the function is say_hello. We will first ignore the two round brackets that follow, but notice that there is a colon symbol.\n",
        "\n",
        "What the colon symbolizes is that this is the start of the function. What is to follow will be the statements within the function call. In this function call, we only have one statement, which is the print statement. Notice that this print statement is indented as well. Like the if or for commands, this indentation denotes a code block.\n",
        "\n",
        "The code cell above has one command, which is\n",
        "\n",
        "```\n",
        "say_hello()\n",
        "```\n",
        "\n",
        "This calls the function say_hello() and hence prints out the statement \"hello world\".\n",
        "\n",
        "Let's try to write a function that has more lines:"
      ]
    },
    {
      "cell_type": "code",
      "metadata": {
        "colab": {
          "base_uri": "https://localhost:8080/"
        },
        "id": "0cALwZuk-B45",
        "outputId": "d6f20330-4d1a-4a5d-c00b-2769fed1555d"
      },
      "source": [
        "def say_hello_and_tada():\n",
        "  print(f\"hello\")\n",
        "  print(f\"tada\")\n",
        "\n",
        "say_hello_and_tada()"
      ],
      "execution_count": null,
      "outputs": [
        {
          "output_type": "stream",
          "name": "stdout",
          "text": [
            "hello\n",
            "tada\n"
          ]
        }
      ]
    },
    {
      "cell_type": "markdown",
      "metadata": {
        "id": "wLVPyVXg-L7G"
      },
      "source": [
        "In the function above, notice now we have two print statements in the function, and both are indented with the same amount of space. When we call out the function say_hello_and_tada, it prints out both the lines hello and tada.\n",
        "\n",
        "Let's now do a function that is just slightly more complex. Here we have a function which has a for loop within. Now we are writing a function which prints out the hello statement five times."
      ]
    },
    {
      "cell_type": "code",
      "metadata": {
        "colab": {
          "base_uri": "https://localhost:8080/"
        },
        "id": "wx4spctB9i9I",
        "outputId": "0757b7d5-730e-4fb6-b3e9-e3151c135e5b"
      },
      "source": [
        "def say_hello_five_times():\n",
        "  for i in range(5):\n",
        "    print(f\"hello {i}\")\n",
        "  print(\"tired drink water\")\n",
        "print(\"feeling very strong\")\n",
        "\n",
        "say_hello_five_times()"
      ],
      "execution_count": null,
      "outputs": [
        {
          "output_type": "stream",
          "name": "stdout",
          "text": [
            "feeling very strong\n",
            "hello 0\n",
            "hello 1\n",
            "hello 2\n",
            "hello 3\n",
            "hello 4\n",
            "tired drink water\n"
          ]
        }
      ]
    },
    {
      "cell_type": "markdown",
      "metadata": {
        "id": "oYxhuqbUABGC"
      },
      "source": [
        "In the first portion, we have the for loop which uses the range function. It prints out the hello line for five times.\n",
        "\n",
        "After printing the hello line, notice that the next line \"tired drink water\" is outside of the for loop, but still within the function. Hence the line \"tired drink water\" is only printed out once.\n",
        "\n",
        "After that line notice that we have a \"feeling very strong\" line. However this line is outside of the function. Hence it gets printed out regardless if the function is being called. Hence in the cell, note that the \"feeling very strong\" line is printed out first, followed by the five hellos and then the line on drinking water."
      ]
    },
    {
      "cell_type": "markdown",
      "metadata": {
        "id": "XmV9mVn59_2y"
      },
      "source": [
        "### Section 3a.3 Function Parameters and Return\n",
        "\n",
        "In the earlier examples, we have seen functions with multiple lines of instructions. However sometimes it is often useful for the function to accept certain parameters. For instance, let's say instead of just a generic hello world, we want to be able to great the person's name? That can be achieved by this:"
      ]
    },
    {
      "cell_type": "code",
      "metadata": {
        "colab": {
          "base_uri": "https://localhost:8080/"
        },
        "id": "CW2XvmL1hlhw",
        "outputId": "cfd27f82-f1ee-4caf-b1fe-3adf028251d5"
      },
      "source": [
        "def say_hello(name):\n",
        "  print(f\"Hello {name}\")\n",
        "\n",
        "say_hello (\"Eric\")"
      ],
      "execution_count": null,
      "outputs": [
        {
          "output_type": "stream",
          "name": "stdout",
          "text": [
            "Hello Eric\n"
          ]
        }
      ]
    },
    {
      "cell_type": "markdown",
      "metadata": {
        "id": "ZIFz2dxuCijR"
      },
      "source": [
        "Note that in this example, we passed in a parameter known as name, and it is being used in the print statement. Such parameters are useful in many situations (for example) where the function is example calculating a certain mathematical formula.\n",
        "\n",
        "Typically a function also has an instruction known as a return statement. You can consider the parameter to be what the function requires. The function will take in the parameter, work on the necessary actions on it and then return the value of the worked parameters. Lets do a simple example again. Let's assume you want to write a function that calculates the square of a number. You may end up with something like the following:\n",
        "\n",
        "```\n",
        "def square_number(x):\n",
        "  print(x * x)\n",
        "```\n",
        "\n",
        "Let's break down what the statement is doing. The function's name is square _number and it takes in a single object known as X."
      ]
    },
    {
      "cell_type": "code",
      "metadata": {
        "colab": {
          "base_uri": "https://localhost:8080/"
        },
        "id": "BzGpDzlxCezz",
        "outputId": "b54a07fd-c56e-4e7f-b424-f4c377b1f3aa"
      },
      "source": [
        "def square_number_1(x):\n",
        "  print(x * x)\n",
        "\n",
        "squared_number = square_number_1(9)"
      ],
      "execution_count": null,
      "outputs": [
        {
          "output_type": "stream",
          "name": "stdout",
          "text": [
            "81\n"
          ]
        }
      ]
    },
    {
      "cell_type": "code",
      "metadata": {
        "id": "2DlulCecGD2b"
      },
      "source": [
        "squared_number"
      ],
      "execution_count": null,
      "outputs": []
    },
    {
      "cell_type": "code",
      "metadata": {
        "id": "SP1e2USvE0Fs"
      },
      "source": [
        "def square_number_2(x):\n",
        "  c = x * x\n",
        "\n",
        "squared_number = square_number_2(9)"
      ],
      "execution_count": null,
      "outputs": []
    },
    {
      "cell_type": "code",
      "metadata": {
        "id": "qz8vc-iWExml"
      },
      "source": [
        "squared_number"
      ],
      "execution_count": null,
      "outputs": []
    },
    {
      "cell_type": "markdown",
      "metadata": {
        "id": "JkCBgFgYFIJP"
      },
      "source": [
        "Notice here that the correct result is not returned. When we try to print out the squared_number, we get no printouts returned. The reason why it is so is that the numbers are calculated within the function. After the calculation has completed, the function ends and hence nothing is assigned back to squared_number.\n",
        "\n",
        "What then should have been done was to introduce a return at the end of the function, and it will return the relevant numbers to the person who had called the function.\n"
      ]
    },
    {
      "cell_type": "code",
      "metadata": {
        "colab": {
          "base_uri": "https://localhost:8080/"
        },
        "id": "OuqrWYDPFDrG",
        "outputId": "9a91c9f9-8119-4c9e-9a0a-55f168a8a996"
      },
      "source": [
        "def square_number_3(x):\n",
        "  c = x * x\n",
        "  return(c)\n",
        "\n",
        "squared_number = square_number_3(9)\n",
        "print(squared_number)"
      ],
      "execution_count": null,
      "outputs": [
        {
          "output_type": "stream",
          "name": "stdout",
          "text": [
            "81\n"
          ]
        }
      ]
    },
    {
      "cell_type": "markdown",
      "metadata": {
        "id": "-KuHiWrZGjRZ"
      },
      "source": [
        "*Exercise 3a.1*\n",
        "\n",
        "Write a function which sums up and returns the sum of all the elements of a list."
      ]
    },
    {
      "cell_type": "code",
      "metadata": {
        "id": "wtPLnvKIGJxT"
      },
      "source": [
        "def sum_list (n):\n",
        "  temp_sum = 0\n",
        "  for i in range(len(n)):\n",
        "    temp_sum = temp_sum + n[i]\n",
        "  return temp_sum"
      ],
      "execution_count": null,
      "outputs": []
    },
    {
      "cell_type": "code",
      "metadata": {
        "colab": {
          "base_uri": "https://localhost:8080/"
        },
        "id": "0hvJW4ZoG0AE",
        "outputId": "ef91392f-a93a-4e83-bf77-68b7d554f799"
      },
      "source": [
        "temp_list = [1,3,4,5,6]\n",
        "\n",
        "sum_list(temp_list)"
      ],
      "execution_count": null,
      "outputs": [
        {
          "output_type": "execute_result",
          "data": {
            "text/plain": [
              "19"
            ]
          },
          "metadata": {},
          "execution_count": 37
        }
      ]
    },
    {
      "cell_type": "markdown",
      "metadata": {
        "id": "HPQBdLCTLM_X"
      },
      "source": [
        "*Exercise 3a.2*\n",
        "\n",
        "Write a function which takes in a list of numbers and returns the square of elements of previous list. (Please use a for loop..!)"
      ]
    },
    {
      "cell_type": "code",
      "metadata": {
        "colab": {
          "base_uri": "https://localhost:8080/"
        },
        "id": "K_Tr78QVMBO7",
        "outputId": "b377dfeb-0f24-4887-de2b-2e6a7b67a0fc"
      },
      "source": [
        "def return_square(array_list):\n",
        "  temp_list = []\n",
        "  for i in range(len(array_list)):\n",
        "    temp_list.append(array_list[i] * array_list[i])\n",
        "  return temp_list\n",
        "\n",
        "return_square([1,2,3])"
      ],
      "execution_count": null,
      "outputs": [
        {
          "output_type": "execute_result",
          "data": {
            "text/plain": [
              "[1, 4, 9]"
            ]
          },
          "metadata": {},
          "execution_count": 38
        }
      ]
    },
    {
      "cell_type": "markdown",
      "metadata": {
        "id": "XJsPEx8FHTof"
      },
      "source": [
        "*Exercise 3a.3*\n",
        "\n",
        "Write a function which takes in a list of numbers and calculates the standard deviation of the list. The standard deviation is given by the formula:\n",
        "\n",
        "$\\sigma = \\sqrt{\\frac{\\sum^n_{(i=1)}{(x_i-\\mu)^2}}{n}}$"
      ]
    },
    {
      "cell_type": "code",
      "source": [
        "# Import statistics Library\n",
        "import statistics\n",
        "\n",
        "# Calculate the standard deviation from a sample of data\n",
        "print(statistics.stdev([3, 4, 6, 4, 3 ,2]))"
      ],
      "metadata": {
        "colab": {
          "base_uri": "https://localhost:8080/"
        },
        "id": "fDyB1eJ3YLqV",
        "outputId": "66c3fe91-dde2-44d7-d72e-83610da6a471"
      },
      "execution_count": null,
      "outputs": [
        {
          "output_type": "stream",
          "name": "stdout",
          "text": [
            "1.3662601021279464\n"
          ]
        }
      ]
    },
    {
      "cell_type": "code",
      "source": [
        "def find_std_dev(array_list):\n",
        "  temp_mean = sum(array_list) / len(array_list)\n",
        "  numerator = 0\n",
        "\n",
        "  for t in array_list:\n",
        "      numerator += (t - temp_mean) ** 2\n",
        "\n",
        "  return((numerator / (len(array_list) - 1)) ** (0.5) )"
      ],
      "metadata": {
        "id": "EEtqiSJHYxj-"
      },
      "execution_count": null,
      "outputs": []
    },
    {
      "cell_type": "markdown",
      "source": [],
      "metadata": {
        "id": "LedgP_UAVc9I"
      }
    },
    {
      "cell_type": "code",
      "metadata": {
        "id": "Hj4yVR8JG2gX"
      },
      "source": [
        "def find_std_dev(array_list):\n",
        "  temp_mean = sum(array_list) / len(array_list)\n",
        "  numerator = 0\n",
        "\n",
        "  for t in array_list:\n",
        "      numerator += (t - temp_mean) ** 2\n",
        "\n",
        "  return((numerator / len(array_list)) ** (0.5) )"
      ],
      "execution_count": null,
      "outputs": []
    },
    {
      "cell_type": "code",
      "source": [
        "find_std_dev([1, 2, 3])"
      ],
      "metadata": {
        "colab": {
          "base_uri": "https://localhost:8080/"
        },
        "id": "4VkmWsPCY6xv",
        "outputId": "7c9820b1-9058-4204-8d22-d0283135e5a8"
      },
      "execution_count": null,
      "outputs": [
        {
          "output_type": "execute_result",
          "data": {
            "text/plain": [
              "1.0"
            ]
          },
          "metadata": {},
          "execution_count": 5
        }
      ]
    },
    {
      "cell_type": "code",
      "metadata": {
        "colab": {
          "base_uri": "https://localhost:8080/"
        },
        "id": "ujqU61GPKFIq",
        "outputId": "0b419a2d-3c98-4d71-f0ce-7b84d145cb53"
      },
      "source": [
        "find_std_dev([3, 4, 6, 4, 3 ,2])"
      ],
      "execution_count": null,
      "outputs": [
        {
          "output_type": "execute_result",
          "data": {
            "text/plain": [
              "1.3662601021279464"
            ]
          },
          "metadata": {},
          "execution_count": 4
        }
      ]
    },
    {
      "cell_type": "markdown",
      "metadata": {
        "id": "1J_MX354MiZ8"
      },
      "source": [
        "*Exercise 3a.4*\n",
        "\n",
        "Police and Thief\n",
        "\n",
        "We have two policemen and one thief. They are standing at random positions of a straight line.\n",
        "\n",
        "The thief broke into a house and triggered a silent alarm, alerting the two police officers to the location of the break-in. Assume that he is busy stealing and will not be moving.\n",
        "\n",
        "The two policemen start to make their way to the thief. Assume that the Policeman A reaches the thief first, return Policeman A. IF Policeman B reaches the thief first, return Policeman B. If they reach the scene at the same time, the Policemen will be dis-orientated and the thief will be able to escape. In that case return Thief.\n",
        "\n",
        "Reference:\n",
        "https://www.hackerrank.com/challenges/cats-and-a-mouse/problem"
      ]
    },
    {
      "cell_type": "code",
      "metadata": {
        "id": "VUCmWUVZKJMB"
      },
      "source": [
        "def policeAndThief(x, y, z):\n",
        "    distX = abs(x-z)\n",
        "    distY = abs(y-z)\n",
        "\n",
        "    if distX > distY:\n",
        "        return \"Policeman B\"\n",
        "    elif distX < distY:\n",
        "        return \"Policeman A\"\n",
        "    else:\n",
        "        return \"Thief\""
      ],
      "execution_count": null,
      "outputs": []
    },
    {
      "cell_type": "markdown",
      "metadata": {
        "id": "2BDeoqy6Quqn"
      },
      "source": [
        "*Exercise 3a.5*\n",
        "\n",
        "Jumping Jim\n",
        "\n",
        "Suppose we are building a game and a character in the game is a person known as Jim that loves to jump. Let's say that he can jump a maximum height of $n$. He is next presented with a list of buildings that he needs to jump over. Within the list are the individual heights of buildings. Hence it means that if we have the list\n",
        "[4, 6, 7]\n",
        "\n",
        "it would mean three buildings of height 4, 6, 7\n",
        "\n",
        "In this game, Jim can drink a magic potion which allows him to increase the height of his jump by one unit. This lasts for the entire list of buildings.\n",
        "\n",
        "So if say his maximum height is 5, he would need to drink 2 magic potions in the example above.\n",
        "\n",
        "Your task is to write a function which takes as input the value n, the maximum height he can jump and array_list, the list of buildings. The function should return the number of magic potions he needs to drink. If he does not need to drink any potions, return 0.\n",
        "\n",
        "You may use the max function if you want.\n",
        "\n",
        "Reference:\n",
        "https://www.hackerrank.com/challenges/the-hurdle-race/problem"
      ]
    },
    {
      "cell_type": "code",
      "metadata": {
        "id": "Yr01tJFSOIeH"
      },
      "source": [
        "def hurdleRace(k, height):\n",
        "    return(0 if max(height) < k else max(height) - k)"
      ],
      "execution_count": null,
      "outputs": []
    },
    {
      "cell_type": "markdown",
      "metadata": {
        "id": "A-m-etBz026c"
      },
      "source": [
        "*Exercise 3a.6*\n",
        "\n",
        "Jumping Jim II\n",
        "\n",
        "Suppose we are building a game and a character in the game is a person known as Jim that loves to jump. Let's say that he can jump a maximum height of $n$. He is next presented with a list of buildings that he needs to jump over. Within the list are the individual heights of buildings. Hence it means that if we have the list\n",
        "[4, 6, 7]\n",
        "\n",
        "it would mean three buildings of height 4, 6, 7\n",
        "\n",
        "In this game, Jim can drink a magic potion which allows him to increase the height of his jump by one unit. Suppose now the potion only allows him one jump.\n",
        "\n",
        "So if say his maximum height is 5, he would need to drink 3 magic potions in the example above.\n",
        "\n",
        "Your task is to write a function which takes as input the value n, the maximum height he can jump and array_list, the list of buildings. The function should return the number of magic potions he needs to drink. If he does not need to drink any potions, return 0.\n",
        "\n",
        "You may use the max function if you want.\n",
        "\n",
        "Reference:\n",
        "https://www.hackerrank.com/challenges/the-hurdle-race/problem"
      ]
    },
    {
      "cell_type": "code",
      "metadata": {
        "id": "l27afzhdTpOl"
      },
      "source": [
        "def hurdleRace(k, height):\n",
        "  num_potions = 0\n",
        "  for i in range(len(height)):\n",
        "    if height[i] > k:\n",
        "      num_potions += height[i] - k\n",
        "  return num_potions"
      ],
      "execution_count": null,
      "outputs": []
    },
    {
      "cell_type": "code",
      "metadata": {
        "colab": {
          "base_uri": "https://localhost:8080/"
        },
        "id": "n9k3EdTc2AqY",
        "outputId": "cb1565e7-7f32-420e-d14b-5e7820e996f7"
      },
      "source": [
        "hurdleRace(5, [4, 6, 7])"
      ],
      "execution_count": null,
      "outputs": [
        {
          "output_type": "execute_result",
          "data": {
            "text/plain": [
              "3"
            ]
          },
          "metadata": {},
          "execution_count": 44
        }
      ]
    },
    {
      "cell_type": "markdown",
      "metadata": {
        "id": "TwhBRz5o2TJY"
      },
      "source": [
        "*Exercise 3a.7*\n",
        "\n",
        "Jumping Jim III\n",
        "\n",
        "Suppose we are building a game and a character in the game is a person known as Jim that loves to jump. Let's say that he can jump a maximum height of $n$. He is next presented with a list of buildings that he needs to jump over. Within the list are the individual heights of buildings. Hence it means that if we have the list\n",
        "[4, 6, 7]\n",
        "\n",
        "it would mean three buildings of height 4, 6, 7\n",
        "\n",
        "In this game, Jim can drink a magic potion which allows him to increase the height of his jump by one unit. Suppose now the potion only allows him two jumps.\n",
        "\n",
        "So if say his maximum height is 5, he would need to drink 1 magic potion in the first jump over the building of height 6. He will need to take another drink to jump over the building of height 7. The number of potions he would require would then be equal to two in the example above.\n",
        "\n",
        "Your task is to write a function which takes as input the value n, the maximum height he can jump and array_list, the list of buildings. The function should return the number of magic potions he needs to drink. If he does not need to drink any potions, return 0.\n",
        "\n",
        "You may use the max function if you want.\n",
        "\n",
        "Reference:\n",
        "https://www.hackerrank.com/challenges/the-hurdle-race/problem"
      ]
    },
    {
      "cell_type": "code",
      "metadata": {
        "id": "_sipQj0A2Sbf"
      },
      "source": [
        "def hurdleRace(k, height):\n",
        "  num_potions = 0\n",
        "  current_height = k\n",
        "  prev_potion_1 = 0\n",
        "  prev_potion_2 = 0\n",
        "\n",
        "  for i in range(len(height)):\n",
        "    curr_potion = 0\n",
        "    if height[i] > current_height:\n",
        "      num_potions += height[i] - current_height\n",
        "      curr_potion = height[i] - current_height\n",
        "      current_height = height[i]\n",
        "    if current_height > k:\n",
        "      current_height -= prev_potion_1\n",
        "    prev_potion_1 = prev_potion_2\n",
        "    prev_potion_2 = curr_potion\n",
        "  return num_potions"
      ],
      "execution_count": null,
      "outputs": []
    },
    {
      "cell_type": "code",
      "metadata": {
        "colab": {
          "base_uri": "https://localhost:8080/"
        },
        "id": "tvMIA8Lg2EzI",
        "outputId": "837cc6e1-4087-4de2-d6b4-2dc85424d1a9"
      },
      "source": [
        "hurdleRace(5, [4, 6, 7])"
      ],
      "execution_count": null,
      "outputs": [
        {
          "output_type": "execute_result",
          "data": {
            "text/plain": [
              "2"
            ]
          },
          "metadata": {},
          "execution_count": 46
        }
      ]
    },
    {
      "cell_type": "code",
      "metadata": {
        "colab": {
          "base_uri": "https://localhost:8080/"
        },
        "id": "lLaLfZNa5C11",
        "outputId": "843222f2-8584-461c-facc-4b9584288107"
      },
      "source": [
        "hurdleRace(5, [4, 6, 7, 7, 5, 7])"
      ],
      "execution_count": null,
      "outputs": [
        {
          "output_type": "execute_result",
          "data": {
            "text/plain": [
              "4"
            ]
          },
          "metadata": {},
          "execution_count": 47
        }
      ]
    },
    {
      "cell_type": "code",
      "metadata": {
        "colab": {
          "base_uri": "https://localhost:8080/"
        },
        "id": "9llAhQD76Z9V",
        "outputId": "2b939d34-a9dd-400b-976b-0cacad190d6d"
      },
      "source": [
        "hurdleRace(5, [4,7])"
      ],
      "execution_count": null,
      "outputs": [
        {
          "output_type": "execute_result",
          "data": {
            "text/plain": [
              "2"
            ]
          },
          "metadata": {},
          "execution_count": 48
        }
      ]
    },
    {
      "cell_type": "code",
      "metadata": {
        "colab": {
          "base_uri": "https://localhost:8080/"
        },
        "id": "bBcZg1ng64dP",
        "outputId": "4a68f01f-3dc7-4e07-b233-adc08d543dda"
      },
      "source": [
        "hurdleRace(5, [4,4])"
      ],
      "execution_count": null,
      "outputs": [
        {
          "output_type": "execute_result",
          "data": {
            "text/plain": [
              "0"
            ]
          },
          "metadata": {},
          "execution_count": 49
        }
      ]
    },
    {
      "cell_type": "code",
      "metadata": {
        "colab": {
          "base_uri": "https://localhost:8080/"
        },
        "id": "kwtjrRej66b7",
        "outputId": "e5fbf3ed-4f4f-4644-f018-cc2678998ebd"
      },
      "source": [
        "hurdleRace(5, [7,5,5,7])"
      ],
      "execution_count": null,
      "outputs": [
        {
          "output_type": "execute_result",
          "data": {
            "text/plain": [
              "4"
            ]
          },
          "metadata": {},
          "execution_count": 50
        }
      ]
    },
    {
      "cell_type": "code",
      "metadata": {
        "colab": {
          "base_uri": "https://localhost:8080/"
        },
        "id": "M_sSbusd6-Fa",
        "outputId": "b513e00c-d91b-4de0-fc75-b8bbb0b8d65c"
      },
      "source": [
        "hurdleRace(5, [7,5,5,7,7,5])"
      ],
      "execution_count": null,
      "outputs": [
        {
          "output_type": "execute_result",
          "data": {
            "text/plain": [
              "4"
            ]
          },
          "metadata": {},
          "execution_count": 51
        }
      ]
    },
    {
      "cell_type": "code",
      "metadata": {
        "colab": {
          "base_uri": "https://localhost:8080/"
        },
        "id": "twAec4Oe7CNZ",
        "outputId": "f416cf50-31d3-4e91-c898-81888db8fc5e"
      },
      "source": [
        "hurdleRace(5, [7,5,5,7,7,5,9])"
      ],
      "execution_count": null,
      "outputs": [
        {
          "output_type": "execute_result",
          "data": {
            "text/plain": [
              "8"
            ]
          },
          "metadata": {},
          "execution_count": 52
        }
      ]
    },
    {
      "cell_type": "code",
      "metadata": {
        "id": "J2bp9mee7ESA"
      },
      "source": [],
      "execution_count": null,
      "outputs": []
    }
  ]
}