{
  "nbformat": 4,
  "nbformat_minor": 0,
  "metadata": {
    "colab": {
      "provenance": []
    },
    "kernelspec": {
      "name": "python3",
      "display_name": "Python 3"
    }
  },
  "cells": [
    {
      "cell_type": "markdown",
      "metadata": {
        "id": "Bk0oq2A9bkX2"
      },
      "source": [
        "## Section 2c. While Loops\n"
      ]
    },
    {
      "cell_type": "markdown",
      "metadata": {
        "id": "Rr2aU86AcLdx"
      },
      "source": [
        "The earlier section discussed about for loops, where we talk about us eating for as long as we are hungry.\n",
        "\n",
        "In this section, we have another similar control flow statement called the while loop. You can consider the while loop to look something like the following:\n",
        "\n",
        "```\n",
        "I am hungry\n",
        "while still hungry:\n",
        "  eat wantan mee\n",
        "  ask myself if i am still hungry\n",
        "```\n",
        "\n",
        "Similar to for control statements, while loops contains four items:\n",
        "*   initialization of a variable which will be tested in the while loop\n",
        "*   a condition to be tested (True or False)\n",
        "*   statements to be run as long as condition is true\n",
        "*   update the variable to be tested\n",
        "\n",
        "Lets look at an example to make this more concrete. Assume we want to print out the text \"hey\" five times. The for loop version will look like this:"
      ]
    },
    {
      "cell_type": "code",
      "metadata": {
        "colab": {
          "base_uri": "https://localhost:8080/"
        },
        "id": "CW2XvmL1hlhw",
        "outputId": "378560a7-4c43-4a80-ee93-845d97cdfa2e"
      },
      "source": [
        "for i in range(0,5):\n",
        "  print(\"hey\")"
      ],
      "execution_count": null,
      "outputs": [
        {
          "output_type": "stream",
          "name": "stdout",
          "text": [
            "hey\n",
            "hey\n",
            "hey\n",
            "hey\n",
            "hey\n"
          ]
        }
      ]
    },
    {
      "cell_type": "markdown",
      "metadata": {
        "id": "8VVdpBsUhw7Z"
      },
      "source": [
        "The while loop version will look like the following:"
      ]
    },
    {
      "cell_type": "code",
      "metadata": {
        "colab": {
          "base_uri": "https://localhost:8080/"
        },
        "id": "pI7ujIwJh1AG",
        "outputId": "38472365-ad09-4ac5-a633-387a59bc48f4"
      },
      "source": [
        "i = 0\n",
        "while i < 5:\n",
        "  print(\"hey\")\n",
        "  i = i + 1"
      ],
      "execution_count": null,
      "outputs": [
        {
          "output_type": "stream",
          "name": "stdout",
          "text": [
            "hey\n",
            "hey\n",
            "hey\n",
            "hey\n",
            "hey\n"
          ]
        }
      ]
    },
    {
      "cell_type": "markdown",
      "metadata": {
        "id": "OYNKdr0jicgc"
      },
      "source": [
        "We will be using one variable to keep track if the loop. This variable needs to be initialized at the start before the while loop. Everytime before the while loop is executed,  the variable is tested to check. Within the while loop, you execute the print statement. It is also important to update the variable explicitly.\n"
      ]
    },
    {
      "cell_type": "markdown",
      "metadata": {
        "id": "SRdGPe3GhsQF"
      },
      "source": [
        "*Question 2c.1*\n",
        "\n",
        "Can every for loop be converted to a while loop?\n",
        "\n",
        "*Question 2c.2*\n",
        "\n",
        "Convert the following for loops into while loop:\n"
      ]
    },
    {
      "cell_type": "code",
      "metadata": {
        "colab": {
          "base_uri": "https://localhost:8080/"
        },
        "id": "_5E3RaWibqj6",
        "outputId": "59f6f146-9528-48ef-c637-0815e24c72f6"
      },
      "source": [
        "for i in range(3):\n",
        "  print(i)"
      ],
      "execution_count": null,
      "outputs": [
        {
          "output_type": "stream",
          "name": "stdout",
          "text": [
            "0\n",
            "1\n",
            "2\n"
          ]
        }
      ]
    },
    {
      "cell_type": "markdown",
      "metadata": {
        "id": "LJ8fNf-Cs5Y9"
      },
      "source": [
        "*Question 2c.3*\n",
        "\n",
        "Convert the following for loops into while loop:"
      ]
    },
    {
      "cell_type": "code",
      "metadata": {
        "colab": {
          "base_uri": "https://localhost:8080/"
        },
        "id": "RYOGIVS2sztl",
        "outputId": "f4c69da9-ed95-4c45-f5e4-ccb24d7c78b6"
      },
      "source": [
        "count = 0\n",
        "for i in range(3):\n",
        "  for j in range (5):\n",
        "    count = count + 1\n",
        "print(count)"
      ],
      "execution_count": null,
      "outputs": [
        {
          "output_type": "stream",
          "name": "stdout",
          "text": [
            "15\n"
          ]
        }
      ]
    },
    {
      "cell_type": "code",
      "metadata": {
        "colab": {
          "base_uri": "https://localhost:8080/"
        },
        "id": "Lm1LIj_ywSwV",
        "outputId": "c59f75e0-2f47-4f47-b802-58a18d280110"
      },
      "source": [
        "count = 0\n",
        "i = j = 0\n",
        "while i < 3:\n",
        "  j = 0\n",
        "  while j < 5:\n",
        "    count += + 1\n",
        "    j += 1\n",
        "  i += 1\n",
        "print(count)"
      ],
      "execution_count": null,
      "outputs": [
        {
          "output_type": "stream",
          "name": "stdout",
          "text": [
            "15\n"
          ]
        }
      ]
    },
    {
      "cell_type": "markdown",
      "metadata": {
        "id": "0AQPgM4-utVh"
      },
      "source": [
        "*Question 2c.4*\n",
        "\n",
        "Given the following piece of code, what will be the value of the number at the end of the while loop?\n",
        "\n",
        "```\n",
        "count = 1\n",
        "while count < 100:\n",
        "  print(count)\n",
        "  count = count * 3\n",
        "```"
      ]
    },
    {
      "cell_type": "code",
      "metadata": {
        "colab": {
          "base_uri": "https://localhost:8080/"
        },
        "id": "cTdZR-aUwOAR",
        "outputId": "23cfff85-5b8d-4da8-afed-fdaa59ee5ded"
      },
      "source": [
        "count = 1\n",
        "while count < 100:\n",
        "  count = count * 3\n",
        "\n",
        "print(count)"
      ],
      "execution_count": null,
      "outputs": [
        {
          "output_type": "stream",
          "name": "stdout",
          "text": [
            "243\n"
          ]
        }
      ]
    },
    {
      "cell_type": "markdown",
      "metadata": {
        "id": "OW4dRWpUvIEQ"
      },
      "source": [
        "*Question 2c.5*\n",
        "\n",
        "Given the following piece of code, what will be the value of the number at the end of the while loop?\n",
        "\n",
        "```\n",
        "count = 1\n",
        "while count >= 1:\n",
        "  print(count)\n",
        "  count = count + 1\n",
        "```"
      ]
    },
    {
      "cell_type": "markdown",
      "metadata": {
        "id": "XQn8lepyvpBx"
      },
      "source": [
        "*Question 2c.6*\n",
        "\n",
        "Write a While Loop that would increment number by 10 until number > 100. The initial value of number is 0.\n",
        "* if the number is >= 10, print \"foo\"  \n",
        "* if the number is >=50, print \"bar\"  "
      ]
    },
    {
      "cell_type": "code",
      "metadata": {
        "colab": {
          "base_uri": "https://localhost:8080/"
        },
        "id": "-6LoCk5btfxe",
        "outputId": "857b14c3-0ed2-4b51-d60a-92423b837582"
      },
      "source": [
        "number = 0\n",
        "\n",
        "while number <= 100:\n",
        "  if number >= 50:\n",
        "    print(\"bar\")\n",
        "  elif number >= 10:\n",
        "    print(\"foo\")\n",
        "  number = number + 10"
      ],
      "execution_count": null,
      "outputs": [
        {
          "output_type": "stream",
          "name": "stdout",
          "text": [
            "foo\n",
            "foo\n",
            "foo\n",
            "foo\n",
            "bar\n",
            "bar\n",
            "bar\n",
            "bar\n",
            "bar\n",
            "bar\n"
          ]
        }
      ]
    },
    {
      "cell_type": "code",
      "source": [],
      "metadata": {
        "id": "AuO__yKnJ4N8"
      },
      "execution_count": null,
      "outputs": []
    }
  ]
}