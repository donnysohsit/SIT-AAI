{
  "nbformat": 4,
  "nbformat_minor": 0,
  "metadata": {
    "colab": {
      "provenance": []
    },
    "kernelspec": {
      "name": "python3",
      "display_name": "Python 3"
    }
  },
  "cells": [
    {
      "cell_type": "markdown",
      "metadata": {
        "id": "_-uLfjtzB9-J"
      },
      "source": [
        "## Section 2a. Lists\n",
        "\n",
        "Lists are used to store multiple items in a single variable. For instance, we may want to store many animals together.\n",
        "\n",
        "```\n",
        "animal1 = \"tiger\"\n",
        "animal2 = \"elephant\"\n",
        "animal3 = \"dog\"\n",
        "```\n",
        "\n",
        "However it may be difficult and inconvenient to access these individual animals. One easier way is to do the following:\n",
        "\n",
        "```\n",
        "animals = [\"tiger\", \"elephant\", \"dog\"]\n",
        "```\n",
        "\n",
        "Again, let's break down these statements step by step."
      ]
    },
    {
      "cell_type": "code",
      "source": [],
      "metadata": {
        "id": "p0ebdR76maVQ"
      },
      "execution_count": null,
      "outputs": []
    },
    {
      "cell_type": "markdown",
      "metadata": {
        "id": "vRlQrHaGH44R"
      },
      "source": [
        "### Section 2a.1 Defining lists"
      ]
    },
    {
      "cell_type": "code",
      "metadata": {
        "colab": {
          "base_uri": "https://localhost:8080/"
        },
        "id": "rZZha9CmDnMu",
        "outputId": "329e3a84-eb77-406e-c016-3637dcf13899"
      },
      "source": [
        "animals = [\"tiger\", \"elephant\", \"dog\"]\n",
        "\n",
        "print(animals)"
      ],
      "execution_count": null,
      "outputs": [
        {
          "output_type": "stream",
          "name": "stdout",
          "text": [
            "['tiger', 'elephant', 'dog']\n"
          ]
        }
      ]
    },
    {
      "cell_type": "markdown",
      "metadata": {
        "id": "FLPtGi27GKhy"
      },
      "source": [
        "During the definition of the list, we encapsulate the values in square brackets, seperated with commas. Here what we have is a list of strings. The strings in the list is \"tiger\", \"elephant\" and \"dog\".\n",
        "\n",
        "If we have numerical arrays we have the following:"
      ]
    },
    {
      "cell_type": "code",
      "metadata": {
        "colab": {
          "base_uri": "https://localhost:8080/"
        },
        "id": "uAt2uxfBFU-0",
        "outputId": "3920c8b7-554f-4984-826a-a4fcf7c47110"
      },
      "source": [
        "int_array = [4, 7, 3]\n",
        "print(int_array)"
      ],
      "execution_count": null,
      "outputs": [
        {
          "output_type": "stream",
          "name": "stdout",
          "text": [
            "[4, 7, 3]\n"
          ]
        }
      ]
    },
    {
      "cell_type": "code",
      "source": [
        "print(f\"The lenght of the animals array is {len(int_array)}\")"
      ],
      "metadata": {
        "id": "ljt3_yjr2_8N",
        "outputId": "67b998ad-b857-41ab-a2b6-725504090df2",
        "colab": {
          "base_uri": "https://localhost:8080/"
        }
      },
      "execution_count": null,
      "outputs": [
        {
          "output_type": "stream",
          "name": "stdout",
          "text": [
            "The lenght of the animals array is 3\n"
          ]
        }
      ]
    },
    {
      "cell_type": "markdown",
      "metadata": {
        "id": "bz0q7lkJHqCu"
      },
      "source": [
        "This creates an array of three values 3, 4 and 7. There will be times where you may just want to create an empty array for the time being and then add values to the array. You will be able to achieve that with the following:"
      ]
    },
    {
      "cell_type": "code",
      "metadata": {
        "colab": {
          "base_uri": "https://localhost:8080/"
        },
        "id": "TJc9I5YVKcKj",
        "outputId": "0d290623-3bb3-4670-96aa-3ed954f90839"
      },
      "source": [
        "empty_array = []\n",
        "print(empty_array)"
      ],
      "execution_count": null,
      "outputs": [
        {
          "output_type": "stream",
          "name": "stdout",
          "text": [
            "[]\n"
          ]
        }
      ]
    },
    {
      "cell_type": "markdown",
      "metadata": {
        "id": "WDkV2daLIL1R"
      },
      "source": [
        "### Section 2a.2 List functions\n",
        "\n",
        "Once again, one of the strengths of python is the in-built functions within the language. We see examples of these in-built functions in the list datatype. Some of these examples are for instance:\n",
        "\n",
        "\n",
        "1. Getting the length of the array using the *len* keyword. This is one of the most common functions that you will be using. In the above example, the list consists of three elements, 4, 7 and 3. Hence the length of the array is three."
      ]
    },
    {
      "cell_type": "code",
      "metadata": {
        "colab": {
          "base_uri": "https://localhost:8080/"
        },
        "id": "YXZDyEWFHo14",
        "outputId": "c0c95efa-c8ac-4639-9d0c-867b44813bb1"
      },
      "source": [
        "print(len(int_array))"
      ],
      "execution_count": null,
      "outputs": [
        {
          "output_type": "stream",
          "name": "stdout",
          "text": [
            "3\n"
          ]
        }
      ]
    },
    {
      "cell_type": "markdown",
      "metadata": {
        "id": "tjjKwZtdLKot"
      },
      "source": [
        "2. Getting the maximum / minimum value of an array using the *max / min* function keyword. This operation is useful at times. For instance in a class context, you may want to find who is getting the highest score in a quiz."
      ]
    },
    {
      "cell_type": "code",
      "metadata": {
        "colab": {
          "base_uri": "https://localhost:8080/"
        },
        "id": "gXvM_3UTIbkP",
        "outputId": "d99279d1-61e6-454c-88f5-279ad6966ac3"
      },
      "source": [
        "print(max(int_array))\n",
        "print(min(int_array))"
      ],
      "execution_count": null,
      "outputs": [
        {
          "output_type": "stream",
          "name": "stdout",
          "text": [
            "7\n",
            "3\n"
          ]
        }
      ]
    },
    {
      "cell_type": "markdown",
      "metadata": {
        "id": "my2ezV7JLfrS"
      },
      "source": [
        "3. Sorting the list using the *sorted* function keyword. This is another useful function. Example, it allows you to sort the scores of a list from lowest to highest."
      ]
    },
    {
      "cell_type": "code",
      "metadata": {
        "colab": {
          "base_uri": "https://localhost:8080/"
        },
        "id": "JAAouHwwLqqJ",
        "outputId": "cfe808e4-fdb5-4814-f290-4eb361d5d082"
      },
      "source": [
        "print(sorted(int_array))"
      ],
      "execution_count": null,
      "outputs": [
        {
          "output_type": "stream",
          "name": "stdout",
          "text": [
            "[3, 4, 7]\n"
          ]
        }
      ]
    },
    {
      "cell_type": "markdown",
      "metadata": {
        "id": "2swEjplSLye8"
      },
      "source": [
        "Note that the original array remains unchanged and if you want to store the sorted array, you will need to store it in another array."
      ]
    },
    {
      "cell_type": "code",
      "metadata": {
        "colab": {
          "base_uri": "https://localhost:8080/"
        },
        "id": "6WqJO0NIL8Ls",
        "outputId": "3f45f29a-6dbd-4dcd-ac11-40ac4e414ab2"
      },
      "source": [
        "print(int_array)\n",
        "print(f\"The sorted array is {sorted(int_array)}\")\n",
        "print(int_array)\n",
        "\n",
        "sort_int_array = sorted(int_array)\n",
        "print(sort_int_array)"
      ],
      "execution_count": null,
      "outputs": [
        {
          "output_type": "stream",
          "name": "stdout",
          "text": [
            "[4, 7, 3]\n",
            "The sorted array is [3, 4, 7]\n",
            "[4, 7, 3]\n",
            "[3, 4, 7]\n"
          ]
        }
      ]
    },
    {
      "cell_type": "markdown",
      "metadata": {
        "id": "v6xX2DsJIxo-"
      },
      "source": [
        "### Section 2a.3 Accessing elements in a list"
      ]
    },
    {
      "cell_type": "markdown",
      "metadata": {
        "id": "-POXiBoeI3g6"
      },
      "source": [
        "List elements are indexed starting from the number 0. Hence the first element of the list is at 0 and the last element of the list is at length -1. So if we want to find out the first element, we use index 0."
      ]
    },
    {
      "cell_type": "code",
      "metadata": {
        "colab": {
          "base_uri": "https://localhost:8080/"
        },
        "id": "MnSDdRwKI2kt",
        "outputId": "b07321d2-e52d-45ef-f41d-df267efcd0eb"
      },
      "source": [
        "print(int_array[0])"
      ],
      "execution_count": null,
      "outputs": [
        {
          "output_type": "stream",
          "name": "stdout",
          "text": [
            "4\n"
          ]
        }
      ]
    },
    {
      "cell_type": "markdown",
      "metadata": {
        "id": "wSK1bEiGp8hF"
      },
      "source": [
        "Recall the number of items in the list is 3, as indictated with the len function. Hence to get the last item on the list, we use the following command:"
      ]
    },
    {
      "cell_type": "code",
      "metadata": {
        "colab": {
          "base_uri": "https://localhost:8080/"
        },
        "id": "iuONvy2MqHkL",
        "outputId": "0c78d849-cff9-4ef6-d28a-479f8ca00465"
      },
      "source": [
        "print(int_array[2])\n",
        "\n",
        "# OR\n",
        "\n",
        "print(int_array[len(int_array)-1])"
      ],
      "execution_count": null,
      "outputs": [
        {
          "output_type": "stream",
          "name": "stdout",
          "text": [
            "3\n",
            "3\n"
          ]
        }
      ]
    },
    {
      "cell_type": "markdown",
      "metadata": {
        "id": "n08hBpEKqVSG"
      },
      "source": [
        "Notice that we have the len(int_array) - 1. The minus 1 is required because the array starts from index 0.\n",
        "\n",
        "```\n",
        "int_array = [4, 7, 3]\n",
        "```\n",
        "\n",
        "index 0: number 4\n",
        "\n",
        "index 1: number 7\n",
        "\n",
        "index 2: number 3\n",
        "\n",
        "If we try to access the array at index 3, we will get the following error:"
      ]
    },
    {
      "cell_type": "code",
      "metadata": {
        "id": "9cnbANBFrhnj"
      },
      "source": [
        "# int_array[3]"
      ],
      "execution_count": null,
      "outputs": []
    },
    {
      "cell_type": "markdown",
      "metadata": {
        "id": "ZIdGyevCKLAW"
      },
      "source": [
        "### Section 2a.3 Adding and removing elements"
      ]
    },
    {
      "cell_type": "markdown",
      "metadata": {
        "id": "P8Jnuq5rsTS2"
      },
      "source": [
        "There are a few functions that allow you to add and remove elements. Some of these examples are append, remove and insert. These operations allow you to manipulate the array during the execution of the program. For instance the command we used earlire was only to initialize the array.\n",
        "\n",
        "```\n",
        "int_array = [4, 7, 3]\n",
        "```\n",
        "\n",
        "However many times we need to add elements into the array, remove or insert at certain positions. We will go through three functions how to carry these operations out."
      ]
    },
    {
      "cell_type": "markdown",
      "metadata": {
        "id": "bLM1_LFi03qo"
      },
      "source": [
        "**Append**\n",
        "\n",
        "This operation adds an element to the end of the array. Notice that the original array is changed. The syntax is the following:\n",
        "```\n",
        "append (value)\n",
        "```\n",
        "\n",
        "And the value will be added to the very end of the array."
      ]
    },
    {
      "cell_type": "code",
      "metadata": {
        "colab": {
          "base_uri": "https://localhost:8080/"
        },
        "id": "PtCD5FIGKQBV",
        "outputId": "08eafcf4-06a7-469c-c623-32c39768a458"
      },
      "source": [
        "print(int_array)\n",
        "\n",
        "int_array.append(4)\n",
        "\n",
        "print(int_array)"
      ],
      "execution_count": null,
      "outputs": [
        {
          "output_type": "stream",
          "name": "stdout",
          "text": [
            "[4, 7, 3]\n",
            "[4, 7, 3, 4]\n"
          ]
        }
      ]
    },
    {
      "cell_type": "markdown",
      "metadata": {
        "id": "fW0h3HvF1OgG"
      },
      "source": [
        "If we use the len function taught in the earlier section, you would also notice that the length of the array has increased by one. The length of the array is now equals to four."
      ]
    },
    {
      "cell_type": "code",
      "metadata": {
        "colab": {
          "base_uri": "https://localhost:8080/"
        },
        "id": "Sms4yOKV1ILf",
        "outputId": "0da0ddc8-67c6-492e-bd1e-c946dfac6c93"
      },
      "source": [
        "len(int_array)"
      ],
      "execution_count": null,
      "outputs": [
        {
          "output_type": "execute_result",
          "data": {
            "text/plain": [
              "4"
            ]
          },
          "metadata": {},
          "execution_count": 12
        }
      ]
    },
    {
      "cell_type": "markdown",
      "metadata": {
        "id": "9G_N3OXoEDIq"
      },
      "source": [
        "**Insert**\n",
        "\n",
        "The insert operation is used to insert an element in a certain location. The syntax is the following:\n",
        "```\n",
        "insert (index, value)\n",
        "```\n",
        "Which inserts the value within the array at location index. All elements after index are shifted one position to the right.\n"
      ]
    },
    {
      "cell_type": "code",
      "metadata": {
        "colab": {
          "base_uri": "https://localhost:8080/"
        },
        "id": "nW_ArCgfF5fh",
        "outputId": "69526b87-712a-4c59-be5f-839b621f5f6d"
      },
      "source": [
        "print(int_array)\n",
        "\n",
        "int_array.insert(2, 9)\n",
        "\n",
        "print(int_array)\n",
        "\n",
        "int_array.insert(10, 19)\n",
        "\n",
        "print(int_array)"
      ],
      "execution_count": null,
      "outputs": [
        {
          "output_type": "stream",
          "name": "stdout",
          "text": [
            "[4, 7, 3, 4]\n",
            "[4, 7, 9, 3, 4]\n",
            "[4, 7, 9, 3, 4, 19]\n"
          ]
        }
      ]
    },
    {
      "cell_type": "markdown",
      "metadata": {
        "id": "gkKwvto-GKgY"
      },
      "source": [
        "Note that if you give insert an index greater than the number of elements in the string, it turns into an append statement."
      ]
    },
    {
      "cell_type": "code",
      "metadata": {
        "colab": {
          "base_uri": "https://localhost:8080/"
        },
        "id": "cIZUTlx6GYzl",
        "outputId": "96064948-1131-4291-e423-bb177c899ca3"
      },
      "source": [
        "print(int_array)\n",
        "\n",
        "int_array.insert(-2, 15)\n",
        "\n",
        "print(int_array)"
      ],
      "execution_count": null,
      "outputs": [
        {
          "output_type": "stream",
          "name": "stdout",
          "text": [
            "[4, 7, 9, 3, 4, 19]\n",
            "[4, 7, 9, 3, 15, 4, 19]\n"
          ]
        }
      ]
    },
    {
      "cell_type": "markdown",
      "metadata": {
        "id": "D1ODWzzPGArf"
      },
      "source": [
        "Note that negative indexing works in the insert statement. It will insert the element two elements before the end of the array."
      ]
    },
    {
      "cell_type": "markdown",
      "metadata": {
        "id": "Gp8OAZl94fVB"
      },
      "source": [
        "**Remove**\n",
        "\n",
        "The remove operation can be used to remove a certain element from the array. They syntax is the following:\n",
        "```\n",
        "remove(value)\n",
        "```\n",
        "\n",
        "And the first occurance of value within the array will be removed. For instance if we wish to remove the element 3 from the array, we will do the following"
      ]
    },
    {
      "cell_type": "code",
      "metadata": {
        "colab": {
          "base_uri": "https://localhost:8080/"
        },
        "id": "okteyXJM1XCE",
        "outputId": "30c3ec86-5e3e-4b73-f86f-21b97c1601c7"
      },
      "source": [
        "int_array.remove(3)\n",
        "print(int_array)\n",
        "print(len(int_array))"
      ],
      "execution_count": null,
      "outputs": [
        {
          "output_type": "stream",
          "name": "stdout",
          "text": [
            "[4, 7, 9, 15, 4, 19]\n",
            "6\n"
          ]
        }
      ]
    },
    {
      "cell_type": "markdown",
      "metadata": {
        "id": "nj9t1QaJCGTE"
      },
      "source": [
        "Notice that the element 3 is gone. However if there are duplicated elements in the array list, only the first element of the array will be removed. This is illustrated when we try to remove the element 4."
      ]
    },
    {
      "cell_type": "code",
      "metadata": {
        "colab": {
          "base_uri": "https://localhost:8080/"
        },
        "id": "vAZJqgNoCzYo",
        "outputId": "48311f66-5ac8-469d-d870-e44299c58938"
      },
      "source": [
        "int_array.remove(4)\n",
        "print(int_array)\n",
        "print(len(int_array))"
      ],
      "execution_count": null,
      "outputs": [
        {
          "output_type": "stream",
          "name": "stdout",
          "text": [
            "[7, 9, 15, 4, 19]\n",
            "5\n"
          ]
        }
      ]
    },
    {
      "cell_type": "markdown",
      "metadata": {
        "id": "KhJhcCGmC11D"
      },
      "source": [
        "Note that only the first occurance of the element 4 is removed."
      ]
    },
    {
      "cell_type": "markdown",
      "metadata": {
        "id": "9SkgE54_Dy3a"
      },
      "source": [
        "**Pop**\n",
        "\n",
        "Pop is used when we wish to remove elements located at certain indexes of the array. They syntax is the following:\n",
        "\n",
        "```\n",
        "pop(index)\n",
        "```\n",
        "\n",
        "where the index of the element to be removed is stated in the index variable."
      ]
    },
    {
      "cell_type": "code",
      "metadata": {
        "colab": {
          "base_uri": "https://localhost:8080/"
        },
        "id": "dqb__DrKIj53",
        "outputId": "af25cb63-7082-4952-feb7-ac68ef124598"
      },
      "source": [
        "print(int_array)\n",
        "\n",
        "int_array.pop(4)\n",
        "\n",
        "print(int_array)\n",
        "\n",
        "int_array.pop(-2)\n",
        "\n",
        "print(int_array)"
      ],
      "execution_count": null,
      "outputs": [
        {
          "output_type": "stream",
          "name": "stdout",
          "text": [
            "[7, 9, 15, 4, 19]\n",
            "[7, 9, 15, 4]\n",
            "[7, 9, 4]\n"
          ]
        }
      ]
    },
    {
      "cell_type": "markdown",
      "metadata": {
        "id": "nKzlVsy_Jckc"
      },
      "source": [
        "### Section 2a.4 Indexing elements within an array\n",
        "\n",
        "**Range indexing of elements in array**\n",
        "\n",
        "Recall earlier that arrays start from index 0. We are also able to access the arrays via the colon character. The syntax is\n",
        "\n",
        "```\n",
        "array_name[start_index : end_index]\n",
        "```\n",
        "\n",
        "Note that the number of elements returned will be up to (end_index - 1), meaning that the element at\n",
        "\n",
        "```\n",
        "array_name[end_index]\n",
        "```\n",
        "\n",
        "is not returned. The last element to be returned is\n",
        "\n",
        "```\n",
        "array_name[end_index - 1]\n",
        "```\n",
        "\n",
        "Hence the number of items returned is end_index - start_index."
      ]
    },
    {
      "cell_type": "code",
      "metadata": {
        "colab": {
          "base_uri": "https://localhost:8080/"
        },
        "id": "Z8jqvJYyJa6v",
        "outputId": "f55d210a-1e62-4743-e6bb-d78ce86c6434"
      },
      "source": [
        "print(int_array)\n",
        "\n",
        "int_array[2:4]"
      ],
      "execution_count": null,
      "outputs": [
        {
          "output_type": "stream",
          "name": "stdout",
          "text": [
            "[7, 9, 4]\n"
          ]
        },
        {
          "output_type": "execute_result",
          "data": {
            "text/plain": [
              "[4]"
            ]
          },
          "metadata": {},
          "execution_count": 18
        }
      ]
    },
    {
      "cell_type": "markdown",
      "metadata": {
        "id": "DWbk8T6rn2i4"
      },
      "source": [
        "Do note that if we do not include the end index, it is automatically assigned to the end of the array."
      ]
    },
    {
      "cell_type": "code",
      "metadata": {
        "colab": {
          "base_uri": "https://localhost:8080/"
        },
        "id": "4R3zew4Zn86Z",
        "outputId": "8716c6fb-5565-4250-bcaf-da25a0477a49"
      },
      "source": [
        "int_array = [4, 7, 3]\n",
        "print(int_array[1:])\n",
        "print(int_array[-1:])\n",
        "print(int_array[-1:])\n"
      ],
      "execution_count": null,
      "outputs": [
        {
          "output_type": "stream",
          "name": "stdout",
          "text": [
            "[7, 3]\n",
            "[3]\n",
            "[3]\n"
          ]
        }
      ]
    },
    {
      "cell_type": "markdown",
      "metadata": {
        "id": "n9sRy4TbMczg"
      },
      "source": [
        "**Negative indexing elements within an array**"
      ]
    },
    {
      "cell_type": "markdown",
      "metadata": {
        "id": "QestZVAwNEMf"
      },
      "source": [
        "We discussed a little bit on negative indexing of elements. How that works is the following:\n",
        "\n",
        "if index 0 is the first element on the list, then index -1 is the last element on the list. Likewise, index -2 is the second last element on the list."
      ]
    },
    {
      "cell_type": "code",
      "metadata": {
        "colab": {
          "base_uri": "https://localhost:8080/"
        },
        "id": "YDYQgZuaOSOE",
        "outputId": "3d84839c-e9bf-460e-c099-5b03d9c08653"
      },
      "source": [
        "print(int_array)\n",
        "\n",
        "print(int_array[-1])\n",
        "print(int_array[-2])"
      ],
      "execution_count": null,
      "outputs": [
        {
          "output_type": "stream",
          "name": "stdout",
          "text": [
            "[4, 7, 3]\n",
            "3\n",
            "7\n"
          ]
        }
      ]
    },
    {
      "cell_type": "markdown",
      "metadata": {
        "id": "Ib42pxJKORBj"
      },
      "source": [
        "Hence if we have int_array[-4:-2], we are taking the last fourth element and the last third element from the back of the list."
      ]
    },
    {
      "cell_type": "code",
      "metadata": {
        "colab": {
          "base_uri": "https://localhost:8080/"
        },
        "id": "PxoZHj56MgOO",
        "outputId": "c23ab91e-ff81-43d4-c44d-b249b8bc9229"
      },
      "source": [
        "print(int_array)\n",
        "int_array[-4:-2]"
      ],
      "execution_count": null,
      "outputs": [
        {
          "output_type": "stream",
          "name": "stdout",
          "text": [
            "[4, 7, 3]\n"
          ]
        },
        {
          "output_type": "execute_result",
          "data": {
            "text/plain": [
              "[4]"
            ]
          },
          "metadata": {},
          "execution_count": 21
        }
      ]
    },
    {
      "cell_type": "markdown",
      "metadata": {
        "id": "krwN6DjePLgf"
      },
      "source": [
        "### Section 2a.5 Checking if an element is within the array or not"
      ]
    },
    {
      "cell_type": "markdown",
      "metadata": {
        "id": "sFzmb5v9P1aQ"
      },
      "source": [
        "Python has a very intuitive way of checking if it contains an element or not. There are at least two ways of doing this check. In the first way, we are able to use the in built function known as *count*. The syntax is:\n",
        "\n",
        "```\n",
        "count(value)\n",
        "```\n",
        "\n",
        "The count function counts the number of times an element of value is present within the array."
      ]
    },
    {
      "cell_type": "code",
      "metadata": {
        "colab": {
          "base_uri": "https://localhost:8080/"
        },
        "id": "5IVqdi-jOGRp",
        "outputId": "391496ec-d92e-4ec9-b51c-37529f0b502b"
      },
      "source": [
        "print(int_array)\n",
        "\n",
        "print(int_array.count(9))"
      ],
      "execution_count": null,
      "outputs": [
        {
          "output_type": "stream",
          "name": "stdout",
          "text": [
            "[4, 7, 3]\n",
            "0\n"
          ]
        }
      ]
    },
    {
      "cell_type": "markdown",
      "metadata": {
        "id": "agiHq59IRIPW"
      },
      "source": [
        "The other method is just using the typical syntax in if else statements\n",
        "\n",
        "```\n",
        "if value in int_array:\n",
        "  some other things here\n",
        "```"
      ]
    },
    {
      "cell_type": "code",
      "metadata": {
        "colab": {
          "base_uri": "https://localhost:8080/"
        },
        "id": "FKHuM7kxQqpb",
        "outputId": "aadfbfa2-57b4-4159-fd9a-ed74aad845dc"
      },
      "source": [
        "if 3 in int_array:\n",
        "  print(\"there is the value of 3 here\")\n",
        "else:\n",
        "  print(\"no tree, no three!\")"
      ],
      "execution_count": null,
      "outputs": [
        {
          "output_type": "stream",
          "name": "stdout",
          "text": [
            "there is the value of 3 here\n"
          ]
        }
      ]
    },
    {
      "cell_type": "markdown",
      "metadata": {
        "id": "K42xck8wTt6A"
      },
      "source": [
        "*Exercise 2a.1*\n",
        "\n",
        "Carry out the following steps:\n",
        "\n",
        "1.   Create a list called temp_list with the following items: 17, 40.2, “test work\", True.\n",
        "\n",
        "2.   Append \"hello world\" and 17 to the list.\n",
        "\n",
        "3.   Insert the value \"testing\" at the 4th position.\n",
        "\n",
        "4.   Insert the value \"starting\" at the start of the list.\n",
        "\n",
        "5.   Find the index of \"hello world\".\n",
        "\n",
        "6.   Count the number of 17s in the list.\n",
        "\n",
        "7.   Remove the first occurrence of 17 from the list.\n",
        "\n",
        "8.   Remove True from the list using pop and index."
      ]
    },
    {
      "cell_type": "code",
      "metadata": {
        "colab": {
          "base_uri": "https://localhost:8080/"
        },
        "id": "12LW9YftWdK8",
        "outputId": "4295fa23-ecb2-4f8e-ee35-7b12c15b8c7b"
      },
      "source": [
        "temp_list = [17, 40.2, \"test work\", True]\n",
        "print(temp_list)\n",
        "\n",
        "temp_list.append(\"hello world\")\n",
        "temp_list.append(17)\n",
        "print(temp_list)\n",
        "\n",
        "temp_list.insert(4, \"testing\")\n",
        "print(temp_list)\n",
        "\n",
        "temp_list.insert(0, \"starting\")\n",
        "print(temp_list)\n",
        "\n",
        "print(temp_list.index(\"hello world\"))\n",
        "\n",
        "print(temp_list.count(17))\n",
        "\n",
        "temp_list.remove(17)\n",
        "print(temp_list)\n",
        "\n",
        "temp_list.pop(temp_list.index(True))\n",
        "print(temp_list)"
      ],
      "execution_count": null,
      "outputs": [
        {
          "output_type": "stream",
          "name": "stdout",
          "text": [
            "[17, 40.2, 'test work', True]\n",
            "[17, 40.2, 'test work', True, 'hello world', 17]\n",
            "[17, 40.2, 'test work', True, 'testing', 'hello world', 17]\n",
            "['starting', 17, 40.2, 'test work', True, 'testing', 'hello world', 17]\n",
            "6\n",
            "2\n",
            "['starting', 40.2, 'test work', True, 'testing', 'hello world', 17]\n",
            "['starting', 40.2, 'test work', 'testing', 'hello world', 17]\n"
          ]
        }
      ]
    },
    {
      "cell_type": "markdown",
      "metadata": {
        "id": "6l93SN2LZg2d"
      },
      "source": [
        "*Exercise 2a.2*\n",
        "\n",
        "Add item 555 after 444 in the following Python List\n",
        "\n",
        "list1 = [1, [22, [333, 444], 55], 6, 7]\n",
        "\n",
        "Expected output:\n",
        "list1 = [1, [22, [333, 444, 555], 55], 6, 7]"
      ]
    },
    {
      "cell_type": "code",
      "metadata": {
        "colab": {
          "base_uri": "https://localhost:8080/"
        },
        "id": "xfT1t3RLYwCb",
        "outputId": "317e816e-f02e-4fe6-f7a3-c464be94f5d6"
      },
      "source": [
        "list1 = [1, [22, [333, 444], 55], 6, 7]\n",
        "print(list1)\n",
        "\n",
        "list1[1][1].append(555)\n",
        "print(list1)"
      ],
      "execution_count": null,
      "outputs": [
        {
          "output_type": "stream",
          "name": "stdout",
          "text": [
            "[1, [22, [333, 444], 55], 6, 7]\n",
            "[1, [22, [333, 444, 555], 55], 6, 7]\n"
          ]
        }
      ]
    },
    {
      "cell_type": "code",
      "metadata": {
        "id": "5EpgM0HpaIb9"
      },
      "source": [],
      "execution_count": null,
      "outputs": []
    }
  ]
}