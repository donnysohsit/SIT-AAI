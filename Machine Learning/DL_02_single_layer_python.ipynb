{
  "cells": [
    {
      "cell_type": "code",
      "execution_count": null,
      "metadata": {
        "id": "-G-HwgrffbFB"
      },
      "outputs": [],
      "source": [
        "# https://www.kaggle.com/datasets/uciml/pima-indians-diabetes-database"
      ]
    },
    {
      "cell_type": "code",
      "execution_count": null,
      "metadata": {
        "id": "DPv0o4mvncRY"
      },
      "outputs": [],
      "source": [
        "import pandas as pd\n",
        "\n",
        "import torch\n",
        "import torch.nn as nn\n",
        "import torch.nn.functional as F"
      ]
    },
    {
      "cell_type": "code",
      "execution_count": null,
      "metadata": {
        "id": "NvOLDUI6fvUj"
      },
      "outputs": [],
      "source": [
        "random_state1 = 5\n",
        "random_state2 = 5"
      ]
    },
    {
      "cell_type": "markdown",
      "metadata": {
        "id": "kDr0tN6A-0sA"
      },
      "source": [
        "The code above sets the seed for the random states for reproducibility"
      ]
    },
    {
      "cell_type": "code",
      "execution_count": null,
      "metadata": {
        "id": "6LgaKuwOsw7x"
      },
      "outputs": [],
      "source": [
        "class Perceptron_Model(nn.Module):\n",
        "  def __init__(self, input_nodes=8, output_nodes=2):\n",
        "    super().__init__()\n",
        "    self.out = nn.Linear(input_nodes, output_nodes)\n",
        "\n",
        "  def forward(self, x):\n",
        "    x = F.relu(self.out(x))\n",
        "    return x"
      ]
    },
    {
      "cell_type": "markdown",
      "metadata": {
        "id": "qkQWI8Ze-3N7"
      },
      "source": [
        "Similar to the first notebook, the perceptron model inherits from the neural network module in PyTorch which serves as a base for neural network modules except in this case, we have 8 features and 2 outputs.\n",
        "\n",
        "In this notebook however, instead of using sigmoid we use the ReLU activation function to apply to the output of the linear layer which sets all negative values to zero which sets the value range from 0 to infinity"
      ]
    },
    {
      "cell_type": "code",
      "execution_count": null,
      "metadata": {
        "id": "G_8pLOwEe-oo"
      },
      "outputs": [],
      "source": [
        "url = 'https://raw.githubusercontent.com/jbrownlee/Datasets/master/pima-indians-diabetes.csv'\n",
        "df = pd.read_csv(url, header=None)"
      ]
    },
    {
      "cell_type": "code",
      "execution_count": null,
      "metadata": {
        "colab": {
          "base_uri": "https://localhost:8080/"
        },
        "id": "SQcepuqvfMEE",
        "outputId": "3f7ed6c8-d795-406f-f6a1-c3dd76ffab92"
      },
      "outputs": [
        {
          "data": {
            "text/plain": [
              "(768, 9)"
            ]
          },
          "execution_count": 43,
          "metadata": {},
          "output_type": "execute_result"
        }
      ],
      "source": [
        "df.shape"
      ]
    },
    {
      "cell_type": "markdown",
      "metadata": {
        "id": "pztcDBEBAmNq"
      },
      "source": [
        "using df.shape we are able to tell that there are 768 record rows and each record has 9 columns which is the same as the previous notebook as we are using the same dataset"
      ]
    },
    {
      "cell_type": "code",
      "execution_count": null,
      "metadata": {
        "colab": {
          "base_uri": "https://localhost:8080/",
          "height": 206
        },
        "id": "nZeafRUhfNc8",
        "outputId": "298d7539-2ca0-447a-e633-18c852f4e367"
      },
      "outputs": [
        {
          "data": {
            "application/vnd.google.colaboratory.intrinsic+json": {
              "summary": "{\n  \"name\": \"df\",\n  \"rows\": 768,\n  \"fields\": [\n    {\n      \"column\": 0,\n      \"properties\": {\n        \"dtype\": \"number\",\n        \"std\": 3,\n        \"min\": 0,\n        \"max\": 17,\n        \"num_unique_values\": 17,\n        \"samples\": [\n          6,\n          1,\n          3\n        ],\n        \"semantic_type\": \"\",\n        \"description\": \"\"\n      }\n    },\n    {\n      \"column\": 1,\n      \"properties\": {\n        \"dtype\": \"number\",\n        \"std\": 31,\n        \"min\": 0,\n        \"max\": 199,\n        \"num_unique_values\": 136,\n        \"samples\": [\n          151,\n          101,\n          112\n        ],\n        \"semantic_type\": \"\",\n        \"description\": \"\"\n      }\n    },\n    {\n      \"column\": 2,\n      \"properties\": {\n        \"dtype\": \"number\",\n        \"std\": 19,\n        \"min\": 0,\n        \"max\": 122,\n        \"num_unique_values\": 47,\n        \"samples\": [\n          86,\n          46,\n          85\n        ],\n        \"semantic_type\": \"\",\n        \"description\": \"\"\n      }\n    },\n    {\n      \"column\": 3,\n      \"properties\": {\n        \"dtype\": \"number\",\n        \"std\": 15,\n        \"min\": 0,\n        \"max\": 99,\n        \"num_unique_values\": 51,\n        \"samples\": [\n          7,\n          12,\n          48\n        ],\n        \"semantic_type\": \"\",\n        \"description\": \"\"\n      }\n    },\n    {\n      \"column\": 4,\n      \"properties\": {\n        \"dtype\": \"number\",\n        \"std\": 115,\n        \"min\": 0,\n        \"max\": 846,\n        \"num_unique_values\": 186,\n        \"samples\": [\n          52,\n          41,\n          183\n        ],\n        \"semantic_type\": \"\",\n        \"description\": \"\"\n      }\n    },\n    {\n      \"column\": 5,\n      \"properties\": {\n        \"dtype\": \"number\",\n        \"std\": 7.884160320375446,\n        \"min\": 0.0,\n        \"max\": 67.1,\n        \"num_unique_values\": 248,\n        \"samples\": [\n          19.9,\n          31.0,\n          38.1\n        ],\n        \"semantic_type\": \"\",\n        \"description\": \"\"\n      }\n    },\n    {\n      \"column\": 6,\n      \"properties\": {\n        \"dtype\": \"number\",\n        \"std\": 0.3313285950127749,\n        \"min\": 0.078,\n        \"max\": 2.42,\n        \"num_unique_values\": 517,\n        \"samples\": [\n          1.731,\n          0.426,\n          0.138\n        ],\n        \"semantic_type\": \"\",\n        \"description\": \"\"\n      }\n    },\n    {\n      \"column\": 7,\n      \"properties\": {\n        \"dtype\": \"number\",\n        \"std\": 11,\n        \"min\": 21,\n        \"max\": 81,\n        \"num_unique_values\": 52,\n        \"samples\": [\n          60,\n          47,\n          72\n        ],\n        \"semantic_type\": \"\",\n        \"description\": \"\"\n      }\n    },\n    {\n      \"column\": 8,\n      \"properties\": {\n        \"dtype\": \"number\",\n        \"std\": 0,\n        \"min\": 0,\n        \"max\": 1,\n        \"num_unique_values\": 2,\n        \"samples\": [\n          0,\n          1\n        ],\n        \"semantic_type\": \"\",\n        \"description\": \"\"\n      }\n    }\n  ]\n}",
              "type": "dataframe",
              "variable_name": "df"
            },
            "text/html": [
              "\n",
              "  <div id=\"df-9165182b-4a64-4eed-b3cd-ef90bb17c42c\" class=\"colab-df-container\">\n",
              "    <div>\n",
              "<style scoped>\n",
              "    .dataframe tbody tr th:only-of-type {\n",
              "        vertical-align: middle;\n",
              "    }\n",
              "\n",
              "    .dataframe tbody tr th {\n",
              "        vertical-align: top;\n",
              "    }\n",
              "\n",
              "    .dataframe thead th {\n",
              "        text-align: right;\n",
              "    }\n",
              "</style>\n",
              "<table border=\"1\" class=\"dataframe\">\n",
              "  <thead>\n",
              "    <tr style=\"text-align: right;\">\n",
              "      <th></th>\n",
              "      <th>0</th>\n",
              "      <th>1</th>\n",
              "      <th>2</th>\n",
              "      <th>3</th>\n",
              "      <th>4</th>\n",
              "      <th>5</th>\n",
              "      <th>6</th>\n",
              "      <th>7</th>\n",
              "      <th>8</th>\n",
              "    </tr>\n",
              "  </thead>\n",
              "  <tbody>\n",
              "    <tr>\n",
              "      <th>0</th>\n",
              "      <td>6</td>\n",
              "      <td>148</td>\n",
              "      <td>72</td>\n",
              "      <td>35</td>\n",
              "      <td>0</td>\n",
              "      <td>33.6</td>\n",
              "      <td>0.627</td>\n",
              "      <td>50</td>\n",
              "      <td>1</td>\n",
              "    </tr>\n",
              "    <tr>\n",
              "      <th>1</th>\n",
              "      <td>1</td>\n",
              "      <td>85</td>\n",
              "      <td>66</td>\n",
              "      <td>29</td>\n",
              "      <td>0</td>\n",
              "      <td>26.6</td>\n",
              "      <td>0.351</td>\n",
              "      <td>31</td>\n",
              "      <td>0</td>\n",
              "    </tr>\n",
              "    <tr>\n",
              "      <th>2</th>\n",
              "      <td>8</td>\n",
              "      <td>183</td>\n",
              "      <td>64</td>\n",
              "      <td>0</td>\n",
              "      <td>0</td>\n",
              "      <td>23.3</td>\n",
              "      <td>0.672</td>\n",
              "      <td>32</td>\n",
              "      <td>1</td>\n",
              "    </tr>\n",
              "    <tr>\n",
              "      <th>3</th>\n",
              "      <td>1</td>\n",
              "      <td>89</td>\n",
              "      <td>66</td>\n",
              "      <td>23</td>\n",
              "      <td>94</td>\n",
              "      <td>28.1</td>\n",
              "      <td>0.167</td>\n",
              "      <td>21</td>\n",
              "      <td>0</td>\n",
              "    </tr>\n",
              "    <tr>\n",
              "      <th>4</th>\n",
              "      <td>0</td>\n",
              "      <td>137</td>\n",
              "      <td>40</td>\n",
              "      <td>35</td>\n",
              "      <td>168</td>\n",
              "      <td>43.1</td>\n",
              "      <td>2.288</td>\n",
              "      <td>33</td>\n",
              "      <td>1</td>\n",
              "    </tr>\n",
              "  </tbody>\n",
              "</table>\n",
              "</div>\n",
              "    <div class=\"colab-df-buttons\">\n",
              "\n",
              "  <div class=\"colab-df-container\">\n",
              "    <button class=\"colab-df-convert\" onclick=\"convertToInteractive('df-9165182b-4a64-4eed-b3cd-ef90bb17c42c')\"\n",
              "            title=\"Convert this dataframe to an interactive table.\"\n",
              "            style=\"display:none;\">\n",
              "\n",
              "  <svg xmlns=\"http://www.w3.org/2000/svg\" height=\"24px\" viewBox=\"0 -960 960 960\">\n",
              "    <path d=\"M120-120v-720h720v720H120Zm60-500h600v-160H180v160Zm220 220h160v-160H400v160Zm0 220h160v-160H400v160ZM180-400h160v-160H180v160Zm440 0h160v-160H620v160ZM180-180h160v-160H180v160Zm440 0h160v-160H620v160Z\"/>\n",
              "  </svg>\n",
              "    </button>\n",
              "\n",
              "  <style>\n",
              "    .colab-df-container {\n",
              "      display:flex;\n",
              "      gap: 12px;\n",
              "    }\n",
              "\n",
              "    .colab-df-convert {\n",
              "      background-color: #E8F0FE;\n",
              "      border: none;\n",
              "      border-radius: 50%;\n",
              "      cursor: pointer;\n",
              "      display: none;\n",
              "      fill: #1967D2;\n",
              "      height: 32px;\n",
              "      padding: 0 0 0 0;\n",
              "      width: 32px;\n",
              "    }\n",
              "\n",
              "    .colab-df-convert:hover {\n",
              "      background-color: #E2EBFA;\n",
              "      box-shadow: 0px 1px 2px rgba(60, 64, 67, 0.3), 0px 1px 3px 1px rgba(60, 64, 67, 0.15);\n",
              "      fill: #174EA6;\n",
              "    }\n",
              "\n",
              "    .colab-df-buttons div {\n",
              "      margin-bottom: 4px;\n",
              "    }\n",
              "\n",
              "    [theme=dark] .colab-df-convert {\n",
              "      background-color: #3B4455;\n",
              "      fill: #D2E3FC;\n",
              "    }\n",
              "\n",
              "    [theme=dark] .colab-df-convert:hover {\n",
              "      background-color: #434B5C;\n",
              "      box-shadow: 0px 1px 3px 1px rgba(0, 0, 0, 0.15);\n",
              "      filter: drop-shadow(0px 1px 2px rgba(0, 0, 0, 0.3));\n",
              "      fill: #FFFFFF;\n",
              "    }\n",
              "  </style>\n",
              "\n",
              "    <script>\n",
              "      const buttonEl =\n",
              "        document.querySelector('#df-9165182b-4a64-4eed-b3cd-ef90bb17c42c button.colab-df-convert');\n",
              "      buttonEl.style.display =\n",
              "        google.colab.kernel.accessAllowed ? 'block' : 'none';\n",
              "\n",
              "      async function convertToInteractive(key) {\n",
              "        const element = document.querySelector('#df-9165182b-4a64-4eed-b3cd-ef90bb17c42c');\n",
              "        const dataTable =\n",
              "          await google.colab.kernel.invokeFunction('convertToInteractive',\n",
              "                                                    [key], {});\n",
              "        if (!dataTable) return;\n",
              "\n",
              "        const docLinkHtml = 'Like what you see? Visit the ' +\n",
              "          '<a target=\"_blank\" href=https://colab.research.google.com/notebooks/data_table.ipynb>data table notebook</a>'\n",
              "          + ' to learn more about interactive tables.';\n",
              "        element.innerHTML = '';\n",
              "        dataTable['output_type'] = 'display_data';\n",
              "        await google.colab.output.renderOutput(dataTable, element);\n",
              "        const docLink = document.createElement('div');\n",
              "        docLink.innerHTML = docLinkHtml;\n",
              "        element.appendChild(docLink);\n",
              "      }\n",
              "    </script>\n",
              "  </div>\n",
              "\n",
              "\n",
              "<div id=\"df-a34e2776-bedb-4b0e-99b9-e9046f5b7c07\">\n",
              "  <button class=\"colab-df-quickchart\" onclick=\"quickchart('df-a34e2776-bedb-4b0e-99b9-e9046f5b7c07')\"\n",
              "            title=\"Suggest charts\"\n",
              "            style=\"display:none;\">\n",
              "\n",
              "<svg xmlns=\"http://www.w3.org/2000/svg\" height=\"24px\"viewBox=\"0 0 24 24\"\n",
              "     width=\"24px\">\n",
              "    <g>\n",
              "        <path d=\"M19 3H5c-1.1 0-2 .9-2 2v14c0 1.1.9 2 2 2h14c1.1 0 2-.9 2-2V5c0-1.1-.9-2-2-2zM9 17H7v-7h2v7zm4 0h-2V7h2v10zm4 0h-2v-4h2v4z\"/>\n",
              "    </g>\n",
              "</svg>\n",
              "  </button>\n",
              "\n",
              "<style>\n",
              "  .colab-df-quickchart {\n",
              "      --bg-color: #E8F0FE;\n",
              "      --fill-color: #1967D2;\n",
              "      --hover-bg-color: #E2EBFA;\n",
              "      --hover-fill-color: #174EA6;\n",
              "      --disabled-fill-color: #AAA;\n",
              "      --disabled-bg-color: #DDD;\n",
              "  }\n",
              "\n",
              "  [theme=dark] .colab-df-quickchart {\n",
              "      --bg-color: #3B4455;\n",
              "      --fill-color: #D2E3FC;\n",
              "      --hover-bg-color: #434B5C;\n",
              "      --hover-fill-color: #FFFFFF;\n",
              "      --disabled-bg-color: #3B4455;\n",
              "      --disabled-fill-color: #666;\n",
              "  }\n",
              "\n",
              "  .colab-df-quickchart {\n",
              "    background-color: var(--bg-color);\n",
              "    border: none;\n",
              "    border-radius: 50%;\n",
              "    cursor: pointer;\n",
              "    display: none;\n",
              "    fill: var(--fill-color);\n",
              "    height: 32px;\n",
              "    padding: 0;\n",
              "    width: 32px;\n",
              "  }\n",
              "\n",
              "  .colab-df-quickchart:hover {\n",
              "    background-color: var(--hover-bg-color);\n",
              "    box-shadow: 0 1px 2px rgba(60, 64, 67, 0.3), 0 1px 3px 1px rgba(60, 64, 67, 0.15);\n",
              "    fill: var(--button-hover-fill-color);\n",
              "  }\n",
              "\n",
              "  .colab-df-quickchart-complete:disabled,\n",
              "  .colab-df-quickchart-complete:disabled:hover {\n",
              "    background-color: var(--disabled-bg-color);\n",
              "    fill: var(--disabled-fill-color);\n",
              "    box-shadow: none;\n",
              "  }\n",
              "\n",
              "  .colab-df-spinner {\n",
              "    border: 2px solid var(--fill-color);\n",
              "    border-color: transparent;\n",
              "    border-bottom-color: var(--fill-color);\n",
              "    animation:\n",
              "      spin 1s steps(1) infinite;\n",
              "  }\n",
              "\n",
              "  @keyframes spin {\n",
              "    0% {\n",
              "      border-color: transparent;\n",
              "      border-bottom-color: var(--fill-color);\n",
              "      border-left-color: var(--fill-color);\n",
              "    }\n",
              "    20% {\n",
              "      border-color: transparent;\n",
              "      border-left-color: var(--fill-color);\n",
              "      border-top-color: var(--fill-color);\n",
              "    }\n",
              "    30% {\n",
              "      border-color: transparent;\n",
              "      border-left-color: var(--fill-color);\n",
              "      border-top-color: var(--fill-color);\n",
              "      border-right-color: var(--fill-color);\n",
              "    }\n",
              "    40% {\n",
              "      border-color: transparent;\n",
              "      border-right-color: var(--fill-color);\n",
              "      border-top-color: var(--fill-color);\n",
              "    }\n",
              "    60% {\n",
              "      border-color: transparent;\n",
              "      border-right-color: var(--fill-color);\n",
              "    }\n",
              "    80% {\n",
              "      border-color: transparent;\n",
              "      border-right-color: var(--fill-color);\n",
              "      border-bottom-color: var(--fill-color);\n",
              "    }\n",
              "    90% {\n",
              "      border-color: transparent;\n",
              "      border-bottom-color: var(--fill-color);\n",
              "    }\n",
              "  }\n",
              "</style>\n",
              "\n",
              "  <script>\n",
              "    async function quickchart(key) {\n",
              "      const quickchartButtonEl =\n",
              "        document.querySelector('#' + key + ' button');\n",
              "      quickchartButtonEl.disabled = true;  // To prevent multiple clicks.\n",
              "      quickchartButtonEl.classList.add('colab-df-spinner');\n",
              "      try {\n",
              "        const charts = await google.colab.kernel.invokeFunction(\n",
              "            'suggestCharts', [key], {});\n",
              "      } catch (error) {\n",
              "        console.error('Error during call to suggestCharts:', error);\n",
              "      }\n",
              "      quickchartButtonEl.classList.remove('colab-df-spinner');\n",
              "      quickchartButtonEl.classList.add('colab-df-quickchart-complete');\n",
              "    }\n",
              "    (() => {\n",
              "      let quickchartButtonEl =\n",
              "        document.querySelector('#df-a34e2776-bedb-4b0e-99b9-e9046f5b7c07 button');\n",
              "      quickchartButtonEl.style.display =\n",
              "        google.colab.kernel.accessAllowed ? 'block' : 'none';\n",
              "    })();\n",
              "  </script>\n",
              "</div>\n",
              "\n",
              "    </div>\n",
              "  </div>\n"
            ],
            "text/plain": [
              "   0    1   2   3    4     5      6   7  8\n",
              "0  6  148  72  35    0  33.6  0.627  50  1\n",
              "1  1   85  66  29    0  26.6  0.351  31  0\n",
              "2  8  183  64   0    0  23.3  0.672  32  1\n",
              "3  1   89  66  23   94  28.1  0.167  21  0\n",
              "4  0  137  40  35  168  43.1  2.288  33  1"
            ]
          },
          "execution_count": 44,
          "metadata": {},
          "output_type": "execute_result"
        }
      ],
      "source": [
        "df.head()"
      ]
    },
    {
      "cell_type": "markdown",
      "metadata": {
        "id": "TfPSUEZRAutM"
      },
      "source": [
        "df.head() shows us the first 5 records in the dataframe"
      ]
    },
    {
      "cell_type": "code",
      "execution_count": null,
      "metadata": {
        "id": "qZ8P3NLw1ocQ"
      },
      "outputs": [],
      "source": [
        "X = df.drop(8, axis=1)\n",
        "y = df[8]"
      ]
    },
    {
      "cell_type": "markdown",
      "metadata": {
        "id": "BqwkNfQpAzbF"
      },
      "source": [
        "similarly, X= df.drop(8, axis=1) df[8] represents the column with the index 8 which is also our output column and axis=1 specifies that we are targeting a column as the default would be axis=0 which would be a row instead. This will result in X being a new dataframe that contains all the input features without the output value.\n",
        "\n",
        "y= df[8] would then be a dataframe containing only the output value"
      ]
    },
    {
      "cell_type": "code",
      "execution_count": null,
      "metadata": {
        "id": "GJctRi2rfklb"
      },
      "outputs": [],
      "source": [
        "def normalize_df(df):\n",
        "    for column in df.columns:\n",
        "        df[column] = (df[column] - df[column].mean()) / df[column].std()\n",
        "    return df\n",
        "\n",
        "X = normalize_df(X)"
      ]
    },
    {
      "cell_type": "markdown",
      "metadata": {
        "id": "w6wW46jjCD9U"
      },
      "source": [
        "the normalization function created here uses the Z-score calculation method to normalize and return all the values into the dataframe"
      ]
    },
    {
      "cell_type": "code",
      "execution_count": null,
      "metadata": {
        "id": "oAxB6fS54oOd"
      },
      "outputs": [],
      "source": [
        "X = X.values\n",
        "y = y.values"
      ]
    },
    {
      "cell_type": "markdown",
      "metadata": {
        "id": "XykOj1GgCTmf"
      },
      "source": [
        "then we assign the dataframe x and series y into numpy arrays to carry on with the next portion for machine learning algorithms to be applied."
      ]
    },
    {
      "cell_type": "code",
      "execution_count": null,
      "metadata": {
        "id": "GrlcjiUN18zi"
      },
      "outputs": [],
      "source": [
        "from sklearn.model_selection import train_test_split\n",
        "\n",
        "X_train, X_test, y_train, y_test = train_test_split(X, y, test_size=0.2, random_state=random_state1)"
      ]
    },
    {
      "cell_type": "markdown",
      "metadata": {
        "id": "3x8cSAEWCfHQ"
      },
      "source": [
        "import the train_test_split from scikit-learn's model selection module which is used to split arrays or matrices into random train and test subsets and in this case we specify the test data set size to be 20% of the data and the remainder 80% to be assigned for the training data set and then we assign the random_state seed to the variable that we declared earlier."
      ]
    },
    {
      "cell_type": "code",
      "execution_count": null,
      "metadata": {
        "id": "gi6VEZvQ2NBV"
      },
      "outputs": [],
      "source": [
        "X_train = torch.FloatTensor(X_train)\n",
        "X_test = torch.FloatTensor(X_test)\n",
        "y_train = torch.LongTensor(y_train)\n",
        "y_test = torch.LongTensor(y_test)"
      ]
    },
    {
      "cell_type": "markdown",
      "metadata": {
        "id": "YMsquS65C_VT"
      },
      "source": [
        "convert the train and test datasets into PyTorch tensors which make them compatible with PyTorch's models and functions for input data"
      ]
    },
    {
      "cell_type": "code",
      "execution_count": null,
      "metadata": {
        "id": "PDZMTFJHgAFn"
      },
      "outputs": [],
      "source": [
        "perceptron_model = Perceptron_Model()"
      ]
    },
    {
      "cell_type": "markdown",
      "metadata": {
        "id": "3L0hi5dfDEHx"
      },
      "source": [
        "create an instance of perceptron_model which follows the Perceptron_Model we declared above using the declared parameter of input_nodes=8 and output_nodes=2"
      ]
    },
    {
      "cell_type": "code",
      "execution_count": null,
      "metadata": {
        "id": "VPgmyaQD2gNN"
      },
      "outputs": [],
      "source": [
        "criterion = nn.CrossEntropyLoss()\n",
        "optimizer = torch.optim.Adam(perceptron_model.parameters(), lr=0.001)"
      ]
    },
    {
      "cell_type": "markdown",
      "metadata": {
        "id": "H3FeLL6yDLlh"
      },
      "source": [
        "Here we use Variable criterion = nn.CrossEntropyLoss() instead of using the Mean Squared Error loss function previously\n",
        "\n",
        "Variable optimizer = torch.optim.Adam creates an instance of an Adaptive Moment Estimation (Adam) optimizer which is used to update the weights of the neural network and in this case, we pass the perceptron model parameters to the optimizer to be updated during training and set the learning rate (lr) to be 0.001 which controls how much the model's weight are adjusted during each iteration of training. a smaller learning rate means smaller adjustments and vice versa.\n",
        "\n",
        "-- Additional Information --\n",
        "\n",
        "CrossEntropyLoss is used for multi-class classification problems whereas MSE loss is typically use for regression tasks where out put is continuous instead of categorical\n",
        "\n",
        "Adam Optiimzer works by computing adaptive learning rates for each parameter from estiamtes of first and second moments of the gradients and helps in faster convergence. It also combines features from other optimizers like AdaGrad and RMSProp to adaptively adjust the learning rates of the parameters\n"
      ]
    },
    {
      "cell_type": "code",
      "execution_count": null,
      "metadata": {
        "colab": {
          "base_uri": "https://localhost:8080/"
        },
        "id": "Gqi2Xn6nfpps",
        "outputId": "dd2a912c-5339-4e03-bc26-b2883b152b30"
      },
      "outputs": [
        {
          "data": {
            "text/plain": [
              "<torch._C.Generator at 0x7fd5d2325810>"
            ]
          },
          "execution_count": 52,
          "metadata": {},
          "output_type": "execute_result"
        }
      ],
      "source": [
        "torch.manual_seed(random_state2)"
      ]
    },
    {
      "cell_type": "code",
      "execution_count": null,
      "metadata": {
        "colab": {
          "base_uri": "https://localhost:8080/"
        },
        "id": "hwuCeFf43tn7",
        "outputId": "d89b66e0-fa88-45c8-e3ff-8f036ea05e0d"
      },
      "outputs": [
        {
          "name": "stdout",
          "output_type": "stream",
          "text": [
            "Epoch: 0 Loss: 0.6741673946380615\n",
            "Epoch: 1000 Loss: 0.47154325246810913\n",
            "Epoch: 2000 Loss: 0.4677528738975525\n",
            "Epoch: 3000 Loss: 0.46563050150871277\n",
            "Epoch: 4000 Loss: 0.46554186940193176\n",
            "Epoch: 5000 Loss: 0.4655422866344452\n",
            "Epoch: 6000 Loss: 0.4655419886112213\n",
            "Epoch: 7000 Loss: 0.46554237604141235\n",
            "Epoch: 8000 Loss: 0.4655422270298004\n",
            "Epoch: 9000 Loss: 0.46554282307624817\n"
          ]
        }
      ],
      "source": [
        "epochs = 10000\n",
        "losses = []\n",
        "\n",
        "for i in range(epochs):\n",
        "  y_pred = perceptron_model.forward(X_train)\n",
        "  loss = criterion(y_pred, y_train)\n",
        "  losses.append(loss.detach().numpy())\n",
        "\n",
        "  if i % 1000 == 0:\n",
        "    print(f'Epoch: {i} Loss: {loss}')\n",
        "\n",
        "  optimizer.zero_grad()\n",
        "  loss.backward()\n",
        "  optimizer.step()"
      ]
    },
    {
      "cell_type": "markdown",
      "metadata": {
        "id": "h80DFToOFuVu"
      },
      "source": [
        "An Epoch specifies the number of iterations over the entire dataset during training.\n",
        "\n",
        "Here, we declare that looping through the number of epochs to perform the training,\n",
        "\n",
        "y_pred = perceptron_model.forward(X_train).view(-1) which performs a forward pass through the model to compute the prediction and reshapes the output tensor to a 1 dimensional tensor to ensure it matches the shape of y_train in the next step to compute the loss\n",
        "\n",
        "loss = criterion(y_pred, y_train) computes the loss between the predicted values of y_pred and the actual y_train values\n",
        "\n",
        "losses.append(loss.detach().numpy()) detaches the loss tensor fromm the comutation graph to prevent further gradient calculations and converts it back to a numpy array and then appends the loss value to the \"losses\" list.\n",
        "\n",
        "if i % 1000 == 0 statement prints the loss value every 1000 epochs.\n",
        "\n",
        "optimizer.zero_grad() zeros out the gradients of the model parameters as PyTorch accumulates gradients by default hence there is a need to reset them at the start of each training step.\n",
        "\n",
        "loss.backward() computes the gradient of the loss with respect to the odmel parameters using backpropagation\n",
        "\n",
        "optimizer.step() updates the model parameters using the computed gradients\n",
        "\n",
        "This loop basically continues for 1000 epochs and gradually refines the model's paraeters to reduce loss.\n"
      ]
    },
    {
      "cell_type": "code",
      "execution_count": null,
      "metadata": {
        "id": "cOSHX_bEvIUm"
      },
      "outputs": [],
      "source": [
        "import pandas as pd\n",
        "import matplotlib.pyplot as plt\n",
        "%matplotlib inline"
      ]
    },
    {
      "cell_type": "markdown",
      "metadata": {
        "id": "eZJl8XbLF22C"
      },
      "source": [
        "%matplotlib inline is a command used in jupyter notebook files to display plots directly within the notebook. When the plot is created, it will automatically render the plot in the notebook instead of opening a separate window as shown below."
      ]
    },
    {
      "cell_type": "code",
      "execution_count": null,
      "metadata": {
        "colab": {
          "base_uri": "https://localhost:8080/",
          "height": 466
        },
        "id": "cQWUCOik5Pyo",
        "outputId": "ba6fe80b-73da-4a39-d1a5-97ce07b128e7"
      },
      "outputs": [
        {
          "data": {
            "text/plain": [
              "Text(0.5, 0, 'Epochs')"
            ]
          },
          "execution_count": 55,
          "metadata": {},
          "output_type": "execute_result"
        },
        {
          "data": {
            "image/png": "[encoded data removed]",
            "text/plain": [
              "<Figure size 640x480 with 1 Axes>"
            ]
          },
          "metadata": {},
          "output_type": "display_data"
        }
      ],
      "source": [
        "plt.plot(range(epochs), losses)\n",
        "plt.ylabel(\"Loss\")\n",
        "plt.xlabel('Epochs')"
      ]
    },
    {
      "cell_type": "markdown",
      "metadata": {
        "id": "7wF2BZt5GClq"
      },
      "source": [
        "The output of this code plots a line plot where the x axis shows the epochs and the y axis shows the loss values showing the model's performance and typically and as seen above, the loss value can be expected to decrease as the number of epochs increases."
      ]
    },
    {
      "cell_type": "code",
      "execution_count": null,
      "metadata": {
        "colab": {
          "base_uri": "https://localhost:8080/"
        },
        "id": "kvwrybKZjV-8",
        "outputId": "d6e4adb4-b33d-489d-d354-b03db9490be8"
      },
      "outputs": [
        {
          "name": "stdout",
          "output_type": "stream",
          "text": [
            "124 correct predictions\n",
            "80.52% accuracy\n"
          ]
        }
      ],
      "source": [
        "correct_count = 0\n",
        "with torch.no_grad():\n",
        "  for i, data in enumerate(X_test):\n",
        "    y_pred = perceptron_model.forward(data)\n",
        "    # print(f'Row: {i} \\tActual: {y_test[i]} \\tPredict: {y_pred.argmax().item()}')\n",
        "    if y_pred.argmax().item() == y_test[i]:\n",
        "      correct_count +=1\n",
        "\n",
        "print(f'{correct_count} correct predictions')\n",
        "print(f'{round(correct_count / len(y_test) * 100, 2)}% accuracy')"
      ]
    },
    {
      "cell_type": "markdown",
      "metadata": {
        "id": "KzesbqXAGY8O"
      },
      "source": [
        "torch.no_grad() is a context manager that disables gradient calculation as during the evaluation phase, there is no need to copute gradients wh en making predictions.\n",
        "\n",
        "the loop loops over each data point in the X_test set where data is the feature and the y_pred value will be that of the perceptron_model.forward(data) outcome that generates a prediction\n",
        "\n",
        "if torch.round(y_pred).item() == y_test[i] checks if the rounded prediction matches the actual label\n",
        "\n",
        "the accuracy is then printed according to the number of correct predictions and the overall accuracy."
      ]
    },
    {
      "cell_type": "code",
      "execution_count": null,
      "metadata": {
        "colab": {
          "base_uri": "https://localhost:8080/"
        },
        "id": "PtPAQ1jGpyBM",
        "outputId": "0c2d13a1-ebf1-4a55-c639-aa6a21773391"
      },
      "outputs": [
        {
          "data": {
            "text/plain": [
              "OrderedDict([('out.weight',\n",
              "              tensor([[-0.3349, -0.7851,  0.2158,  0.2315,  0.0687, -0.6951, -0.6147, -0.3997],\n",
              "                      [ 0.3233,  1.3102, -0.5020,  0.1045, -0.1116,  0.5555, -0.1839, -0.2009]])),\n",
              "             ('out.bias', tensor([ 1.0050, -0.5795]))])"
            ]
          },
          "execution_count": 57,
          "metadata": {},
          "output_type": "execute_result"
        }
      ],
      "source": [
        "perceptron_model.state_dict()"
      ]
    },
    {
      "cell_type": "markdown",
      "metadata": {
        "id": "HXi-7HHnGi9L"
      },
      "source": [
        "state_dict() method is used to retrieve the state of the model in the form of a Python dictionary object containing all the learnable parameters of the model and any persistent buffers that the model contains"
      ]
    },
    {
      "cell_type": "code",
      "execution_count": null,
      "metadata": {
        "id": "KQJnESKvh7uT"
      },
      "outputs": [],
      "source": []
    }
  ],
  "metadata": {
    "colab": {
      "provenance": []
    },
    "kernelspec": {
      "display_name": "Python 3",
      "name": "python3"
    },
    "language_info": {
      "name": "python"
    }
  },
  "nbformat": 4,
  "nbformat_minor": 0
}
