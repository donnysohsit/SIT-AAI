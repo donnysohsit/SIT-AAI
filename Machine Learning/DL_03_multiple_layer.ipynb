{
  "nbformat": 4,
  "nbformat_minor": 0,
  "metadata": {
    "colab": {
      "provenance": []
    },
    "kernelspec": {
      "name": "python3",
      "display_name": "Python 3"
    },
    "language_info": {
      "name": "python"
    }
  },
  "cells": [
    {
      "cell_type": "code",
      "source": [
        "# https://www.kaggle.com/datasets/uciml/pima-indians-diabetes-database"
      ],
      "metadata": {
        "id": "-G-HwgrffbFB"
      },
      "execution_count": null,
      "outputs": []
    },
    {
      "cell_type": "code",
      "execution_count": null,
      "metadata": {
        "id": "DPv0o4mvncRY"
      },
      "outputs": [],
      "source": [
        "import pandas as pd\n",
        "\n",
        "import torch\n",
        "import torch.nn as nn\n",
        "import torch.nn.functional as F"
      ]
    },
    {
      "cell_type": "code",
      "source": [
        "random_state1 = 5\n",
        "random_state2 = 5"
      ],
      "metadata": {
        "id": "NvOLDUI6fvUj"
      },
      "execution_count": null,
      "outputs": []
    },
    {
      "cell_type": "markdown",
      "source": [
        "The code above sets the seeds for the random states for reproducibility"
      ],
      "metadata": {
        "id": "Ad5RfiAvKReI"
      }
    },
    {
      "cell_type": "code",
      "source": [
        "class Multi_Layer_Model(nn.Module):\n",
        "  def __init__(self, input_nodes=8, layer1=10, layer2=20, output_nodes=2):\n",
        "    super().__init__()\n",
        "    self.fc1 = nn.Linear(input_nodes, layer1)\n",
        "    self.fc2 = nn.Linear(layer1, layer2)\n",
        "    self.out = nn.Linear(layer2, output_nodes)\n",
        "\n",
        "  def forward(self, x):\n",
        "    x = F.relu(self.fc1(x))\n",
        "    x = F.relu(self.fc2(x))\n",
        "    x = self.out(x)\n",
        "    return x"
      ],
      "metadata": {
        "id": "6LgaKuwOsw7x"
      },
      "execution_count": null,
      "outputs": []
    },
    {
      "cell_type": "markdown",
      "source": [
        "In the new class 'Multi_Layer_Model' that inherits from nn.Module, the model is initialised with 8 input nodes with 10 neurons in the first hidden layer, 20 neurons in the second hidden layer and with 2 expected output neurons\n",
        "\n",
        "How it works?\n",
        "self.fc1 which is the first hidden layer takes the 8 input_nodes which are our features as input and outputs the 10 layer1 neurons\n",
        "\n",
        "then, self.fc2 which is the second layer takes the 10 layer1 neurons and outputs the 20 layer2 neurons\n",
        "\n",
        "lastly, self.out which is the output layer takes the 20 layer2 neurons as input and outputs 2 neurons\n",
        "\n",
        "We use the ReLU activation function which is the same as the previous notebook on single_layer perceptron which suggests that we are looking at a classification problem.\n",
        "\n",
        "--- Additional Information ---\n",
        "The choice to use ReLU as an activation function in the hidden layers is common because it helps the model learn non-linear patterns effectively.\n"
      ],
      "metadata": {
        "id": "R4vkAFDXKeWf"
      }
    },
    {
      "cell_type": "code",
      "source": [
        "url = 'https://raw.githubusercontent.com/jbrownlee/Datasets/master/pima-indians-diabetes.csv'\n",
        "df = pd.read_csv(url, header=None)"
      ],
      "metadata": {
        "id": "G_8pLOwEe-oo"
      },
      "execution_count": null,
      "outputs": []
    },
    {
      "cell_type": "code",
      "source": [
        "df.shape"
      ],
      "metadata": {
        "colab": {
          "base_uri": "https://localhost:8080/"
        },
        "id": "SQcepuqvfMEE",
        "outputId": "aec3e049-fe96-4fd8-eeb8-6acda8494fb9"
      },
      "execution_count": null,
      "outputs": [
        {
          "output_type": "execute_result",
          "data": {
            "text/plain": [
              "(768, 9)"
            ]
          },
          "metadata": {},
          "execution_count": 156
        }
      ]
    },
    {
      "cell_type": "markdown",
      "source": [
        "using df.shape we are able to tell that there are 768 record rows and each record has 9 columns which is the same as the previous notebook as we are using the same dataset"
      ],
      "metadata": {
        "id": "Wl8yGH-5MPCh"
      }
    },
    {
      "cell_type": "code",
      "source": [
        "df.head()"
      ],
      "metadata": {
        "colab": {
          "base_uri": "https://localhost:8080/",
          "height": 206
        },
        "id": "nZeafRUhfNc8",
        "outputId": "bcbf65f0-9699-41dc-ac0f-9ea59815fe92"
      },
      "execution_count": null,
      "outputs": [
        {
          "output_type": "execute_result",
          "data": {
            "text/plain": [
              "   0    1   2   3    4     5      6   7  8\n",
              "0  6  148  72  35    0  33.6  0.627  50  1\n",
              "1  1   85  66  29    0  26.6  0.351  31  0\n",
              "2  8  183  64   0    0  23.3  0.672  32  1\n",
              "3  1   89  66  23   94  28.1  0.167  21  0\n",
              "4  0  137  40  35  168  43.1  2.288  33  1"
            ],
            "text/html": [
              "\n",
              "  <div id=\"df-f2adb514-b66f-4c66-a0b3-6c0bb5d9c11c\" class=\"colab-df-container\">\n",
              "    <div>\n",
              "<style scoped>\n",
              "    .dataframe tbody tr th:only-of-type {\n",
              "        vertical-align: middle;\n",
              "    }\n",
              "\n",
              "    .dataframe tbody tr th {\n",
              "        vertical-align: top;\n",
              "    }\n",
              "\n",
              "    .dataframe thead th {\n",
              "        text-align: right;\n",
              "    }\n",
              "</style>\n",
              "<table border=\"1\" class=\"dataframe\">\n",
              "  <thead>\n",
              "    <tr style=\"text-align: right;\">\n",
              "      <th></th>\n",
              "      <th>0</th>\n",
              "      <th>1</th>\n",
              "      <th>2</th>\n",
              "      <th>3</th>\n",
              "      <th>4</th>\n",
              "      <th>5</th>\n",
              "      <th>6</th>\n",
              "      <th>7</th>\n",
              "      <th>8</th>\n",
              "    </tr>\n",
              "  </thead>\n",
              "  <tbody>\n",
              "    <tr>\n",
              "      <th>0</th>\n",
              "      <td>6</td>\n",
              "      <td>148</td>\n",
              "      <td>72</td>\n",
              "      <td>35</td>\n",
              "      <td>0</td>\n",
              "      <td>33.6</td>\n",
              "      <td>0.627</td>\n",
              "      <td>50</td>\n",
              "      <td>1</td>\n",
              "    </tr>\n",
              "    <tr>\n",
              "      <th>1</th>\n",
              "      <td>1</td>\n",
              "      <td>85</td>\n",
              "      <td>66</td>\n",
              "      <td>29</td>\n",
              "      <td>0</td>\n",
              "      <td>26.6</td>\n",
              "      <td>0.351</td>\n",
              "      <td>31</td>\n",
              "      <td>0</td>\n",
              "    </tr>\n",
              "    <tr>\n",
              "      <th>2</th>\n",
              "      <td>8</td>\n",
              "      <td>183</td>\n",
              "      <td>64</td>\n",
              "      <td>0</td>\n",
              "      <td>0</td>\n",
              "      <td>23.3</td>\n",
              "      <td>0.672</td>\n",
              "      <td>32</td>\n",
              "      <td>1</td>\n",
              "    </tr>\n",
              "    <tr>\n",
              "      <th>3</th>\n",
              "      <td>1</td>\n",
              "      <td>89</td>\n",
              "      <td>66</td>\n",
              "      <td>23</td>\n",
              "      <td>94</td>\n",
              "      <td>28.1</td>\n",
              "      <td>0.167</td>\n",
              "      <td>21</td>\n",
              "      <td>0</td>\n",
              "    </tr>\n",
              "    <tr>\n",
              "      <th>4</th>\n",
              "      <td>0</td>\n",
              "      <td>137</td>\n",
              "      <td>40</td>\n",
              "      <td>35</td>\n",
              "      <td>168</td>\n",
              "      <td>43.1</td>\n",
              "      <td>2.288</td>\n",
              "      <td>33</td>\n",
              "      <td>1</td>\n",
              "    </tr>\n",
              "  </tbody>\n",
              "</table>\n",
              "</div>\n",
              "    <div class=\"colab-df-buttons\">\n",
              "\n",
              "  <div class=\"colab-df-container\">\n",
              "    <button class=\"colab-df-convert\" onclick=\"convertToInteractive('df-f2adb514-b66f-4c66-a0b3-6c0bb5d9c11c')\"\n",
              "            title=\"Convert this dataframe to an interactive table.\"\n",
              "            style=\"display:none;\">\n",
              "\n",
              "  <svg xmlns=\"http://www.w3.org/2000/svg\" height=\"24px\" viewBox=\"0 -960 960 960\">\n",
              "    <path d=\"M120-120v-720h720v720H120Zm60-500h600v-160H180v160Zm220 220h160v-160H400v160Zm0 220h160v-160H400v160ZM180-400h160v-160H180v160Zm440 0h160v-160H620v160ZM180-180h160v-160H180v160Zm440 0h160v-160H620v160Z\"/>\n",
              "  </svg>\n",
              "    </button>\n",
              "\n",
              "  <style>\n",
              "    .colab-df-container {\n",
              "      display:flex;\n",
              "      gap: 12px;\n",
              "    }\n",
              "\n",
              "    .colab-df-convert {\n",
              "      background-color: #E8F0FE;\n",
              "      border: none;\n",
              "      border-radius: 50%;\n",
              "      cursor: pointer;\n",
              "      display: none;\n",
              "      fill: #1967D2;\n",
              "      height: 32px;\n",
              "      padding: 0 0 0 0;\n",
              "      width: 32px;\n",
              "    }\n",
              "\n",
              "    .colab-df-convert:hover {\n",
              "      background-color: #E2EBFA;\n",
              "      box-shadow: 0px 1px 2px rgba(60, 64, 67, 0.3), 0px 1px 3px 1px rgba(60, 64, 67, 0.15);\n",
              "      fill: #174EA6;\n",
              "    }\n",
              "\n",
              "    .colab-df-buttons div {\n",
              "      margin-bottom: 4px;\n",
              "    }\n",
              "\n",
              "    [theme=dark] .colab-df-convert {\n",
              "      background-color: #3B4455;\n",
              "      fill: #D2E3FC;\n",
              "    }\n",
              "\n",
              "    [theme=dark] .colab-df-convert:hover {\n",
              "      background-color: #434B5C;\n",
              "      box-shadow: 0px 1px 3px 1px rgba(0, 0, 0, 0.15);\n",
              "      filter: drop-shadow(0px 1px 2px rgba(0, 0, 0, 0.3));\n",
              "      fill: #FFFFFF;\n",
              "    }\n",
              "  </style>\n",
              "\n",
              "    <script>\n",
              "      const buttonEl =\n",
              "        document.querySelector('#df-f2adb514-b66f-4c66-a0b3-6c0bb5d9c11c button.colab-df-convert');\n",
              "      buttonEl.style.display =\n",
              "        google.colab.kernel.accessAllowed ? 'block' : 'none';\n",
              "\n",
              "      async function convertToInteractive(key) {\n",
              "        const element = document.querySelector('#df-f2adb514-b66f-4c66-a0b3-6c0bb5d9c11c');\n",
              "        const dataTable =\n",
              "          await google.colab.kernel.invokeFunction('convertToInteractive',\n",
              "                                                    [key], {});\n",
              "        if (!dataTable) return;\n",
              "\n",
              "        const docLinkHtml = 'Like what you see? Visit the ' +\n",
              "          '<a target=\"_blank\" href=https://colab.research.google.com/notebooks/data_table.ipynb>data table notebook</a>'\n",
              "          + ' to learn more about interactive tables.';\n",
              "        element.innerHTML = '';\n",
              "        dataTable['output_type'] = 'display_data';\n",
              "        await google.colab.output.renderOutput(dataTable, element);\n",
              "        const docLink = document.createElement('div');\n",
              "        docLink.innerHTML = docLinkHtml;\n",
              "        element.appendChild(docLink);\n",
              "      }\n",
              "    </script>\n",
              "  </div>\n",
              "\n",
              "\n",
              "<div id=\"df-f2f5d921-e343-4788-bfa2-a3526cf93dd8\">\n",
              "  <button class=\"colab-df-quickchart\" onclick=\"quickchart('df-f2f5d921-e343-4788-bfa2-a3526cf93dd8')\"\n",
              "            title=\"Suggest charts\"\n",
              "            style=\"display:none;\">\n",
              "\n",
              "<svg xmlns=\"http://www.w3.org/2000/svg\" height=\"24px\"viewBox=\"0 0 24 24\"\n",
              "     width=\"24px\">\n",
              "    <g>\n",
              "        <path d=\"M19 3H5c-1.1 0-2 .9-2 2v14c0 1.1.9 2 2 2h14c1.1 0 2-.9 2-2V5c0-1.1-.9-2-2-2zM9 17H7v-7h2v7zm4 0h-2V7h2v10zm4 0h-2v-4h2v4z\"/>\n",
              "    </g>\n",
              "</svg>\n",
              "  </button>\n",
              "\n",
              "<style>\n",
              "  .colab-df-quickchart {\n",
              "      --bg-color: #E8F0FE;\n",
              "      --fill-color: #1967D2;\n",
              "      --hover-bg-color: #E2EBFA;\n",
              "      --hover-fill-color: #174EA6;\n",
              "      --disabled-fill-color: #AAA;\n",
              "      --disabled-bg-color: #DDD;\n",
              "  }\n",
              "\n",
              "  [theme=dark] .colab-df-quickchart {\n",
              "      --bg-color: #3B4455;\n",
              "      --fill-color: #D2E3FC;\n",
              "      --hover-bg-color: #434B5C;\n",
              "      --hover-fill-color: #FFFFFF;\n",
              "      --disabled-bg-color: #3B4455;\n",
              "      --disabled-fill-color: #666;\n",
              "  }\n",
              "\n",
              "  .colab-df-quickchart {\n",
              "    background-color: var(--bg-color);\n",
              "    border: none;\n",
              "    border-radius: 50%;\n",
              "    cursor: pointer;\n",
              "    display: none;\n",
              "    fill: var(--fill-color);\n",
              "    height: 32px;\n",
              "    padding: 0;\n",
              "    width: 32px;\n",
              "  }\n",
              "\n",
              "  .colab-df-quickchart:hover {\n",
              "    background-color: var(--hover-bg-color);\n",
              "    box-shadow: 0 1px 2px rgba(60, 64, 67, 0.3), 0 1px 3px 1px rgba(60, 64, 67, 0.15);\n",
              "    fill: var(--button-hover-fill-color);\n",
              "  }\n",
              "\n",
              "  .colab-df-quickchart-complete:disabled,\n",
              "  .colab-df-quickchart-complete:disabled:hover {\n",
              "    background-color: var(--disabled-bg-color);\n",
              "    fill: var(--disabled-fill-color);\n",
              "    box-shadow: none;\n",
              "  }\n",
              "\n",
              "  .colab-df-spinner {\n",
              "    border: 2px solid var(--fill-color);\n",
              "    border-color: transparent;\n",
              "    border-bottom-color: var(--fill-color);\n",
              "    animation:\n",
              "      spin 1s steps(1) infinite;\n",
              "  }\n",
              "\n",
              "  @keyframes spin {\n",
              "    0% {\n",
              "      border-color: transparent;\n",
              "      border-bottom-color: var(--fill-color);\n",
              "      border-left-color: var(--fill-color);\n",
              "    }\n",
              "    20% {\n",
              "      border-color: transparent;\n",
              "      border-left-color: var(--fill-color);\n",
              "      border-top-color: var(--fill-color);\n",
              "    }\n",
              "    30% {\n",
              "      border-color: transparent;\n",
              "      border-left-color: var(--fill-color);\n",
              "      border-top-color: var(--fill-color);\n",
              "      border-right-color: var(--fill-color);\n",
              "    }\n",
              "    40% {\n",
              "      border-color: transparent;\n",
              "      border-right-color: var(--fill-color);\n",
              "      border-top-color: var(--fill-color);\n",
              "    }\n",
              "    60% {\n",
              "      border-color: transparent;\n",
              "      border-right-color: var(--fill-color);\n",
              "    }\n",
              "    80% {\n",
              "      border-color: transparent;\n",
              "      border-right-color: var(--fill-color);\n",
              "      border-bottom-color: var(--fill-color);\n",
              "    }\n",
              "    90% {\n",
              "      border-color: transparent;\n",
              "      border-bottom-color: var(--fill-color);\n",
              "    }\n",
              "  }\n",
              "</style>\n",
              "\n",
              "  <script>\n",
              "    async function quickchart(key) {\n",
              "      const quickchartButtonEl =\n",
              "        document.querySelector('#' + key + ' button');\n",
              "      quickchartButtonEl.disabled = true;  // To prevent multiple clicks.\n",
              "      quickchartButtonEl.classList.add('colab-df-spinner');\n",
              "      try {\n",
              "        const charts = await google.colab.kernel.invokeFunction(\n",
              "            'suggestCharts', [key], {});\n",
              "      } catch (error) {\n",
              "        console.error('Error during call to suggestCharts:', error);\n",
              "      }\n",
              "      quickchartButtonEl.classList.remove('colab-df-spinner');\n",
              "      quickchartButtonEl.classList.add('colab-df-quickchart-complete');\n",
              "    }\n",
              "    (() => {\n",
              "      let quickchartButtonEl =\n",
              "        document.querySelector('#df-f2f5d921-e343-4788-bfa2-a3526cf93dd8 button');\n",
              "      quickchartButtonEl.style.display =\n",
              "        google.colab.kernel.accessAllowed ? 'block' : 'none';\n",
              "    })();\n",
              "  </script>\n",
              "</div>\n",
              "\n",
              "    </div>\n",
              "  </div>\n"
            ],
            "application/vnd.google.colaboratory.intrinsic+json": {
              "type": "dataframe",
              "variable_name": "df",
              "summary": "{\n  \"name\": \"df\",\n  \"rows\": 768,\n  \"fields\": [\n    {\n      \"column\": 0,\n      \"properties\": {\n        \"dtype\": \"number\",\n        \"std\": 3,\n        \"min\": 0,\n        \"max\": 17,\n        \"num_unique_values\": 17,\n        \"samples\": [\n          6,\n          1,\n          3\n        ],\n        \"semantic_type\": \"\",\n        \"description\": \"\"\n      }\n    },\n    {\n      \"column\": 1,\n      \"properties\": {\n        \"dtype\": \"number\",\n        \"std\": 31,\n        \"min\": 0,\n        \"max\": 199,\n        \"num_unique_values\": 136,\n        \"samples\": [\n          151,\n          101,\n          112\n        ],\n        \"semantic_type\": \"\",\n        \"description\": \"\"\n      }\n    },\n    {\n      \"column\": 2,\n      \"properties\": {\n        \"dtype\": \"number\",\n        \"std\": 19,\n        \"min\": 0,\n        \"max\": 122,\n        \"num_unique_values\": 47,\n        \"samples\": [\n          86,\n          46,\n          85\n        ],\n        \"semantic_type\": \"\",\n        \"description\": \"\"\n      }\n    },\n    {\n      \"column\": 3,\n      \"properties\": {\n        \"dtype\": \"number\",\n        \"std\": 15,\n        \"min\": 0,\n        \"max\": 99,\n        \"num_unique_values\": 51,\n        \"samples\": [\n          7,\n          12,\n          48\n        ],\n        \"semantic_type\": \"\",\n        \"description\": \"\"\n      }\n    },\n    {\n      \"column\": 4,\n      \"properties\": {\n        \"dtype\": \"number\",\n        \"std\": 115,\n        \"min\": 0,\n        \"max\": 846,\n        \"num_unique_values\": 186,\n        \"samples\": [\n          52,\n          41,\n          183\n        ],\n        \"semantic_type\": \"\",\n        \"description\": \"\"\n      }\n    },\n    {\n      \"column\": 5,\n      \"properties\": {\n        \"dtype\": \"number\",\n        \"std\": 7.884160320375446,\n        \"min\": 0.0,\n        \"max\": 67.1,\n        \"num_unique_values\": 248,\n        \"samples\": [\n          19.9,\n          31.0,\n          38.1\n        ],\n        \"semantic_type\": \"\",\n        \"description\": \"\"\n      }\n    },\n    {\n      \"column\": 6,\n      \"properties\": {\n        \"dtype\": \"number\",\n        \"std\": 0.3313285950127749,\n        \"min\": 0.078,\n        \"max\": 2.42,\n        \"num_unique_values\": 517,\n        \"samples\": [\n          1.731,\n          0.426,\n          0.138\n        ],\n        \"semantic_type\": \"\",\n        \"description\": \"\"\n      }\n    },\n    {\n      \"column\": 7,\n      \"properties\": {\n        \"dtype\": \"number\",\n        \"std\": 11,\n        \"min\": 21,\n        \"max\": 81,\n        \"num_unique_values\": 52,\n        \"samples\": [\n          60,\n          47,\n          72\n        ],\n        \"semantic_type\": \"\",\n        \"description\": \"\"\n      }\n    },\n    {\n      \"column\": 8,\n      \"properties\": {\n        \"dtype\": \"number\",\n        \"std\": 0,\n        \"min\": 0,\n        \"max\": 1,\n        \"num_unique_values\": 2,\n        \"samples\": [\n          0,\n          1\n        ],\n        \"semantic_type\": \"\",\n        \"description\": \"\"\n      }\n    }\n  ]\n}"
            }
          },
          "metadata": {},
          "execution_count": 157
        }
      ]
    },
    {
      "cell_type": "markdown",
      "source": [
        "df.head() shows us the first 5 records in the dataframe"
      ],
      "metadata": {
        "id": "B47-UQT0MRWD"
      }
    },
    {
      "cell_type": "code",
      "source": [
        "X = df.drop(8, axis=1)\n",
        "y = df[8]"
      ],
      "metadata": {
        "id": "qZ8P3NLw1ocQ"
      },
      "execution_count": null,
      "outputs": []
    },
    {
      "cell_type": "markdown",
      "source": [
        "similarly, X= df.drop(8, axis=1) df[8] represents the column with the index 8 which is also our output column and axis=1 specifies that we are targeting a column as the default would be axis=0 which would be a row instead. This will result in X being a new dataframe that contains all the input features without the output value.\n",
        "\n",
        "y= df[8] would then be a dataframe containing only the output value"
      ],
      "metadata": {
        "id": "fdQG-jObMS1m"
      }
    },
    {
      "cell_type": "code",
      "source": [
        "def normalize_df(df):\n",
        "    for column in df.columns:\n",
        "        df[column] = (df[column] - df[column].mean()) / df[column].std()\n",
        "    return df\n",
        "\n",
        "X = normalize_df(X)"
      ],
      "metadata": {
        "id": "GJctRi2rfklb"
      },
      "execution_count": null,
      "outputs": []
    },
    {
      "cell_type": "markdown",
      "source": [
        "the normalization function created here uses the Z-score calculation method to normalize and return all the values into the dataframe"
      ],
      "metadata": {
        "id": "Fxmm13IVP1Ur"
      }
    },
    {
      "cell_type": "code",
      "source": [
        "X = X.values\n",
        "y = y.values"
      ],
      "metadata": {
        "id": "oAxB6fS54oOd"
      },
      "execution_count": null,
      "outputs": []
    },
    {
      "cell_type": "markdown",
      "source": [
        "then we assign the dataframe x and series y into numpy arrays to carry on with the next portion for machine learning algorithms to be applied."
      ],
      "metadata": {
        "id": "hAEvKSHBP3UQ"
      }
    },
    {
      "cell_type": "code",
      "source": [
        "from sklearn.model_selection import train_test_split\n",
        "\n",
        "X_train, X_test, y_train, y_test = train_test_split(X, y, test_size=0.2, random_state=random_state1)"
      ],
      "metadata": {
        "id": "GrlcjiUN18zi"
      },
      "execution_count": null,
      "outputs": []
    },
    {
      "cell_type": "markdown",
      "source": [
        "import the train_test_split from scikit-learn's model selection module which is used to split arrays or matrices into random train and test subsets and in this case we specify the test data set size to be 20% of the data and the remainder 80% to be assigned for the training data set and then we assign the random_state seed to the variable that we declared earlier."
      ],
      "metadata": {
        "id": "_9lmsB58P53a"
      }
    },
    {
      "cell_type": "code",
      "source": [
        "X_train = torch.FloatTensor(X_train)\n",
        "X_test = torch.FloatTensor(X_test)\n",
        "y_train = torch.LongTensor(y_train)\n",
        "y_test = torch.LongTensor(y_test)"
      ],
      "metadata": {
        "id": "gi6VEZvQ2NBV"
      },
      "execution_count": null,
      "outputs": []
    },
    {
      "cell_type": "markdown",
      "source": [
        "convert the train and test datasets into PyTorch tensors which make them compatible with PyTorch's models and functions for input data"
      ],
      "metadata": {
        "id": "nnzxpI3QP_y6"
      }
    },
    {
      "cell_type": "code",
      "source": [
        "multi_layer_model = Multi_Layer_Model()"
      ],
      "metadata": {
        "id": "PDZMTFJHgAFn"
      },
      "execution_count": null,
      "outputs": []
    },
    {
      "cell_type": "markdown",
      "source": [
        "create an instance of multi_layer_model which follows the Multi_Layer_Model we declared above using the declared parameters of input_nodes=8, 10 neurons in hidden layer 1, 20 neurons in hidden layer 2 and lastly output_nodes=2"
      ],
      "metadata": {
        "id": "jSQz_6CJQBAc"
      }
    },
    {
      "cell_type": "code",
      "source": [
        "criterion = nn.CrossEntropyLoss()\n",
        "optimizer = torch.optim.Adam(multi_layer_model.parameters(), lr=0.001)"
      ],
      "metadata": {
        "id": "VPgmyaQD2gNN"
      },
      "execution_count": null,
      "outputs": []
    },
    {
      "cell_type": "markdown",
      "source": [
        "Here we use Variable criterion = nn.CrossEntropyLoss()\n",
        "\n",
        "Variable optimizer = torch.optim.Adam creates an instance of an Adaptive Moment Estimation (Adam) optimizer which is used to update the weights of the neural network and in this case, we pass the perceptron model parameters to the optimizer to be updated during training and set the learning rate (lr) to be 0.001 which controls how much the model's weight are adjusted during each iteration of training. a smaller learning rate means smaller adjustments and vice versa.\n",
        "\n",
        "-- Additional Information --\n",
        "\n",
        "CrossEntropyLoss is used for multi-class classification problems whereas MSE loss is typically use for regression tasks where out put is continuous instead of categorical\n",
        "\n",
        "Adam Optiimzer works by computing adaptive learning rates for each parameter from estiamtes of first and second moments of the gradients and helps in faster convergence. It also combines features from other optimizers like AdaGrad and RMSProp to adaptively adjust the learning rates of the parameters\n"
      ],
      "metadata": {
        "id": "cqexZhQlQa4M"
      }
    },
    {
      "cell_type": "code",
      "source": [
        "torch.manual_seed(random_state2)"
      ],
      "metadata": {
        "colab": {
          "base_uri": "https://localhost:8080/"
        },
        "id": "Gqi2Xn6nfpps",
        "outputId": "31d6ee80-df97-4fd5-f25b-48fda43ee3d2"
      },
      "execution_count": null,
      "outputs": [
        {
          "output_type": "execute_result",
          "data": {
            "text/plain": [
              "<torch._C.Generator at 0x7833ef371b10>"
            ]
          },
          "metadata": {},
          "execution_count": 165
        }
      ]
    },
    {
      "cell_type": "code",
      "source": [
        "epochs = 10000\n",
        "losses = []\n",
        "\n",
        "for i in range(epochs):\n",
        "  y_pred = multi_layer_model.forward(X_train)\n",
        "  loss = criterion(y_pred, y_train)\n",
        "  losses.append(loss.detach().numpy())\n",
        "\n",
        "  if i % 1000 == 0:\n",
        "    print(f'Epoch: {i} Loss: {loss}')\n",
        "\n",
        "  optimizer.zero_grad()\n",
        "  loss.backward()\n",
        "  optimizer.step()"
      ],
      "metadata": {
        "colab": {
          "base_uri": "https://localhost:8080/"
        },
        "id": "hwuCeFf43tn7",
        "outputId": "e32a8268-2f51-43e7-8a20-350c43d1dd5f"
      },
      "execution_count": null,
      "outputs": [
        {
          "output_type": "stream",
          "name": "stdout",
          "text": [
            "Epoch: 0 Loss: 0.7113656997680664\n",
            "Epoch: 1000 Loss: 0.29854750633239746\n",
            "Epoch: 2000 Loss: 0.17501512169837952\n",
            "Epoch: 3000 Loss: 0.07756631821393967\n",
            "Epoch: 4000 Loss: 0.034853775054216385\n",
            "Epoch: 5000 Loss: 0.015976643189787865\n",
            "Epoch: 6000 Loss: 0.007360915187746286\n",
            "Epoch: 7000 Loss: 0.003439761232584715\n",
            "Epoch: 8000 Loss: 0.0016051230486482382\n",
            "Epoch: 9000 Loss: 0.0008436243515461683\n"
          ]
        }
      ]
    },
    {
      "cell_type": "markdown",
      "source": [
        "An Epoch specifies the number of iterations over the entire dataset during training.\n",
        "\n",
        "Here, we declare that looping through the number of epochs to perform the training,\n",
        "\n",
        "y_pred = perceptron_model.forward(X_train).view(-1) which performs a forward pass through the model to compute the prediction and reshapes the output tensor to a 1 dimensional tensor to ensure it matches the shape of y_train in the next step to compute the loss\n",
        "\n",
        "loss = criterion(y_pred, y_train) computes the loss between the predicted values of y_pred and the actual y_train values\n",
        "\n",
        "losses.append(loss.detach().numpy()) detaches the loss tensor fromm the comutation graph to prevent further gradient calculations and converts it back to a numpy array and then appends the loss value to the \"losses\" list.\n",
        "\n",
        "if i % 1000 == 0 statement prints the loss value every 1000 epochs.\n",
        "\n",
        "optimizer.zero_grad() zeros out the gradients of the model parameters as PyTorch accumulates gradients by default hence there is a need to reset them at the start of each training step.\n",
        "\n",
        "loss.backward() computes the gradient of the loss with respect to the odmel parameters using backpropagation\n",
        "\n",
        "optimizer.step() updates the model parameters using the computed gradients\n",
        "\n",
        "This loop basically continues for 1000 epochs and gradually refines the model's paraeters to reduce loss.\n"
      ],
      "metadata": {
        "id": "7Dm44NhIWeXY"
      }
    },
    {
      "cell_type": "code",
      "source": [
        "import pandas as pd\n",
        "import matplotlib.pyplot as plt\n",
        "%matplotlib inline"
      ],
      "metadata": {
        "id": "cOSHX_bEvIUm"
      },
      "execution_count": null,
      "outputs": []
    },
    {
      "cell_type": "markdown",
      "source": [
        "%matplotlib inline is a command used in jupyter notebook files to display plots directly within the notebook. When the plot is created, it will automatically render the plot in the notebook instead of opening a separate window as shown below."
      ],
      "metadata": {
        "id": "8twtfealX52I"
      }
    },
    {
      "cell_type": "code",
      "source": [
        "plt.plot(range(epochs), losses)\n",
        "plt.ylabel(\"Loss\")\n",
        "plt.xlabel('Epochs')"
      ],
      "metadata": {
        "colab": {
          "base_uri": "https://localhost:8080/",
          "height": 106
        },
        "id": "cQWUCOik5Pyo",
        "outputId": "3896f1f2-b217-4c05-8087-bc848d51f0b8"
      },
      "execution_count": null,
      "outputs": [
        {
          "output_type": "execute_result",
          "data": {
            "text/plain": [
              "Text(0.5, 0, 'Epochs')"
            ]
          },
          "metadata": {},
          "execution_count": 168
        },
        {
          "output_type": "display_data",
          "data": {
            "text/plain": [
              "<Figure size 640x480 with 1 Axes>"
            ],
            "image/png": "[encoded data removed]"
          },
          "metadata": {}
        }
      ]
    },
    {
      "cell_type": "markdown",
      "source": [
        "The output of this code plots a line plot where the x axis shows the epochs and the y axis shows the loss values showing the model's performance and typically and as seen above, the loss value can be expected to decrease as the number of epochs increases."
      ],
      "metadata": {
        "id": "QbStyYx7X9tp"
      }
    },
    {
      "cell_type": "code",
      "source": [
        "correct_count = 0\n",
        "with torch.no_grad():\n",
        "  for i, data in enumerate(X_test):\n",
        "    y_pred = multi_layer_model.forward(data)\n",
        "    # print(f'Row: {i} \\tActual: {y_test[i]} \\tPredict: {y_pred.argmax().item()}')\n",
        "    if y_pred.argmax().item() == y_test[i]:\n",
        "      correct_count +=1\n",
        "\n",
        "print(f'{correct_count} correct predictions')\n",
        "print(f'{round(correct_count / len(y_test) * 100, 2)}% accuracy')"
      ],
      "metadata": {
        "colab": {
          "base_uri": "https://localhost:8080/"
        },
        "id": "kvwrybKZjV-8",
        "outputId": "1da958eb-ef3f-4e5f-cd7c-9bf8a25055c2"
      },
      "execution_count": null,
      "outputs": [
        {
          "output_type": "stream",
          "name": "stdout",
          "text": [
            "117 correct predictions\n",
            "75.97% accuracy\n"
          ]
        }
      ]
    },
    {
      "cell_type": "markdown",
      "source": [
        "torch.no_grad() is a context manager that disables gradient calculation as during the evaluation phase, there is no need to copute gradients wh en making predictions.\n",
        "\n",
        "the loop loops over each data point in the X_test set where data is the feature and the y_pred value will be that of the perceptron_model.forward(data) outcome that generates a prediction\n",
        "\n",
        "if torch.round(y_pred).item() == y_test[i] checks if the rounded prediction matches the actual label\n",
        "\n",
        "the accuracy is then printed according to the number of correct predictions and the overall accuracy."
      ],
      "metadata": {
        "id": "xr0UWsRfYAsO"
      }
    },
    {
      "cell_type": "code",
      "source": [
        "multi_layer_model.state_dict()"
      ],
      "metadata": {
        "id": "PtPAQ1jGpyBM",
        "colab": {
          "base_uri": "https://localhost:8080/"
        },
        "outputId": "71bed542-bdda-44e2-ee82-f9d798924d55"
      },
      "execution_count": null,
      "outputs": [
        {
          "output_type": "execute_result",
          "data": {
            "text/plain": [
              "OrderedDict([('fc1.weight',\n",
              "              tensor([[ 2.2518, -1.0681,  2.5643,  1.3479,  0.6626, -0.0036, -0.1660, -0.1937],\n",
              "                      [-0.6304,  1.2306, -0.9540, -1.6154, -0.0967, -0.8932, -0.7455, -1.6972],\n",
              "                      [ 0.6847,  1.4634, -1.3741,  2.0308,  0.6253, -1.7099, -0.8035,  1.7853],\n",
              "                      [ 0.2274, -0.1189,  0.6648,  0.0160,  0.9693, -1.9265, -2.3034, -2.1241],\n",
              "                      [-1.7269,  0.0765,  0.0629, -0.0084,  1.4109, -2.0147, -0.3562,  1.3812],\n",
              "                      [ 2.0465, -0.1102,  0.2286,  1.2243,  0.7410,  1.9332,  1.8696, -1.1203],\n",
              "                      [ 1.5584, -0.2102,  1.2907,  0.9046, -1.2502, -3.3513,  0.3047, -0.4588],\n",
              "                      [-0.1433, -1.3452, -0.3168,  1.5035, -1.6447, -0.6555, -0.2587, -0.9828],\n",
              "                      [-1.6939, -0.0487, -0.1610, -1.8141,  0.7796, -0.3795,  1.4483, -0.4959],\n",
              "                      [-0.6912,  1.2929,  1.9333,  1.1129,  1.6609, -0.0884,  1.2708,  0.4226]])),\n",
              "             ('fc1.bias',\n",
              "              tensor([-0.7899,  1.6676, -0.3610,  2.0149,  1.8809, -2.2633,  0.6019, -0.7993,\n",
              "                      -0.1825,  0.1187])),\n",
              "             ('fc2.weight',\n",
              "              tensor([[ 0.4879, -0.0193,  1.4999,  0.7919, -1.9154, -0.6398, -0.3685, -0.2587,\n",
              "                        1.5902,  0.7529],\n",
              "                      [-1.3000,  0.0779, -4.4533, -3.5587,  1.9596, -4.9509, -1.5215,  3.6106,\n",
              "                       -0.6725,  1.4981],\n",
              "                      [ 0.0840, -0.4886, -0.5495,  0.7800, -0.6181,  0.3099, -1.6146, -0.2876,\n",
              "                        1.9954, -0.2509],\n",
              "                      [ 0.6613,  0.1128,  1.7473,  0.0108, -2.6414, -1.5827,  0.5046,  1.0136,\n",
              "                        0.6914,  1.5831],\n",
              "                      [-1.0010, -1.6102,  0.9014,  1.3561, -3.7283, -0.5315,  2.3579, -0.6879,\n",
              "                        1.3344,  0.8013],\n",
              "                      [-0.8440,  2.3673, -1.2288, -2.9324, -1.2263, -0.4800, -1.1559, -2.3965,\n",
              "                       -1.1586,  1.6779],\n",
              "                      [-0.3369, -0.6044,  1.5295,  1.5295, -0.5523, -1.5527, -0.4399, -3.6072,\n",
              "                        0.1313,  0.2204],\n",
              "                      [-0.1462, -0.8519, -0.4094, -0.2978,  2.1932,  0.2961,  0.0946, -0.3693,\n",
              "                        0.3478,  0.0689],\n",
              "                      [ 1.7012,  0.9435, -0.1009,  0.4609, -1.8343, -1.1160, -0.8110, -3.5216,\n",
              "                        0.0378,  0.1146],\n",
              "                      [-0.6373,  0.7643, -2.4564, -0.5046,  0.3403,  0.3751,  1.7578, -0.6569,\n",
              "                       -0.2495, -1.1497],\n",
              "                      [ 2.5972,  1.0217,  0.8962,  0.4294, -0.3305, -2.7515, -0.8916, -0.7092,\n",
              "                        2.4120, -1.2012],\n",
              "                      [-2.9700, -3.2120, -1.0350, -0.3012,  0.6413, -1.3686,  1.5016,  2.2165,\n",
              "                        0.4416,  1.2054],\n",
              "                      [ 1.3783,  0.3663, -1.3033, -0.6609,  1.2295, -1.3923, -0.5311, -2.3185,\n",
              "                       -0.4512,  0.9738],\n",
              "                      [-1.5612,  0.1729,  2.0107,  0.7159,  0.7961,  1.5882, -1.3725,  0.5985,\n",
              "                        0.5195,  0.0524],\n",
              "                      [-1.5838,  0.0611, -1.0046,  2.2351, -0.3549,  1.5703,  1.1072,  1.7014,\n",
              "                       -0.8454, -0.9731],\n",
              "                      [ 0.4075, -0.7474, -0.6748,  1.3790, -0.3212,  0.8832, -0.4214,  0.0604,\n",
              "                        3.2638, -2.5489],\n",
              "                      [-0.6592, -0.3453, -1.0958,  1.9232, -1.2834, -2.7139,  1.0609, -0.6499,\n",
              "                       -0.9272,  1.1190],\n",
              "                      [-0.6023,  1.0701,  1.4889, -1.9212,  1.8841,  0.8285, -0.1577, -1.2986,\n",
              "                        0.3659,  0.3859],\n",
              "                      [-1.0278,  0.7517,  0.4985, -0.2750, -0.0593, -1.9429,  3.2153, -1.9787,\n",
              "                       -0.3963,  1.1932],\n",
              "                      [ 0.5439,  0.3945,  2.2011,  1.6596,  0.8712, -3.6356,  1.2979,  1.2448,\n",
              "                       -0.0884, -0.8336]])),\n",
              "             ('fc2.bias',\n",
              "              tensor([-2.9012, -0.3280,  1.9561,  1.3505,  0.5498, -2.1533, -1.8699,  1.5962,\n",
              "                      -0.0802,  1.6812, -0.9148, -0.1837,  0.8843, -0.0374, -0.5720, -0.1721,\n",
              "                      -3.7650,  2.4476,  0.7076, -1.6521])),\n",
              "             ('out.weight',\n",
              "              tensor([[-5.2271, -5.0763,  2.9426,  4.7659, -4.0087, -4.9720, -4.3383,  2.8672,\n",
              "                       -3.8206,  4.0703,  2.8684,  4.9966, -3.4398,  1.7683, -3.7076, -3.2034,\n",
              "                        5.7358, -2.8980, -2.5127,  2.6153],\n",
              "                      [ 5.6307,  5.3347, -2.8875, -5.0125,  3.7294,  5.0810,  4.3319, -2.8930,\n",
              "                        3.8531, -4.2517, -2.8266, -4.8404,  3.2217, -1.7307,  3.6893,  3.2345,\n",
              "                       -5.3240,  2.9457,  2.3229, -2.3659]])),\n",
              "             ('out.bias', tensor([-0.1925,  0.2970]))])"
            ]
          },
          "metadata": {},
          "execution_count": 170
        }
      ]
    },
    {
      "cell_type": "markdown",
      "source": [
        "state_dict() method is used to retrieve the state of the model in the form of a Python dictionary object containing all the learnable parameters of the model and any persistent buffers that the model contains\n",
        "\n",
        "in this case we can see that there are alot more outputs printed and towards the end of the 'out.bias' we have 2 output neurons"
      ],
      "metadata": {
        "id": "nOoLK0BxYCq0"
      }
    },
    {
      "cell_type": "code",
      "source": [],
      "metadata": {
        "id": "KQJnESKvh7uT"
      },
      "execution_count": null,
      "outputs": []
    }
  ]
}