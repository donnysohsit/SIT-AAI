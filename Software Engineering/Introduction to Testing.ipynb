{
  "nbformat": 4,
  "nbformat_minor": 0,
  "metadata": {
    "colab": {
      "provenance": []
    },
    "kernelspec": {
      "name": "python3",
      "display_name": "Python 3"
    },
    "language_info": {
      "name": "python"
    }
  },
  "cells": [
    {
      "cell_type": "markdown",
      "metadata": {
        "id": "iLFk24s86xmn"
      },
      "source": [
        "## Section 4b. Testing"
      ]
    },
    {
      "cell_type": "markdown",
      "metadata": {
        "id": "XooXaS5Z61kC"
      },
      "source": [
        "Maintenance of software takes up 67% of the costs of a software. A good way of ensuring that your code can be maintained better is by testing the code to  ensure that the presense of issues / bugs are minimized.\n",
        "\n",
        "Recall that in our discussion on requirements engineering, we talked about two forms of requirements: functional requirements and non-functional requirements.\n",
        "\n",
        "Functional requirements cover what the user is able to do. Non-functional requirements are the quantifiable constraints. In the same way, we can loosely categorize testing into these two forms. We have functional testing, which tests if the software is able to carry out what the user wants it to do. Non functional testing tests if the user is able to do it eg within x ms, or some other constaint."
      ]
    },
    {
      "cell_type": "markdown",
      "metadata": {
        "id": "GJe2h6CY_1zO"
      },
      "source": [
        "In terms of functional tests, there are a few forms of testing and we will cover only a subset. We cover the following in particular:\n",
        "\n",
        "*   Whitebox testing: Unit Tests\n",
        "*   Blackbox testing: User acceptance tests\n",
        "\n",
        "\n",
        "Some of the other forms of tests not covered in the module are:\n",
        "*   Integration tests (Functional test)\n",
        "*   Regression tests (Functional test)\n",
        "*   Load tests (Non Functional test)\n",
        "*   and tons of others...."
      ]
    },
    {
      "cell_type": "markdown",
      "metadata": {
        "id": "nQG-XssHvIWJ"
      },
      "source": [
        "### Section 4b.1 Unit testing for simple functions\n",
        "\n",
        "Unit testing tests individual units or components of a software to check that these components gives the correct output based on the input. In this module, we will discuss unit tests using the python unittest framework. Firstly, lets create a simple file with a few math functions."
      ]
    },
    {
      "cell_type": "code",
      "metadata": {
        "colab": {
          "base_uri": "https://localhost:8080/"
        },
        "id": "NPW9DBbIA6YK",
        "outputId": "7a9da190-e562-43ca-a9a6-7397b3baa516"
      },
      "source": [],
      "execution_count": null,
      "outputs": [
        {
          "output_type": "stream",
          "name": "stdout",
          "text": [
            "Writing simple_math.py\n"
          ]
        }
      ]
    },
    {
      "cell_type": "code",
      "metadata": {
        "colab": {
          "base_uri": "https://localhost:8080/"
        },
        "id": "tTQESXnKBFXb",
        "outputId": "8dfdee1d-a368-41eb-cf6f-7022e12ef864"
      },
      "source": [],
      "execution_count": null,
      "outputs": [
        {
          "output_type": "stream",
          "name": "stdout",
          "text": [
            "sample_data  simple_math.py\n"
          ]
        }
      ]
    },
    {
      "cell_type": "markdown",
      "metadata": {
        "id": "noi3-xx0BI33"
      },
      "source": [
        "We are using the %%writefile magic keyword. This keyword allows us to write the code in our cell to file. As you can see above, the simple_math.py file is created in our colab. The contents of the file will be that of the cell. We can now start to write tests for our simple_math.py. We will do that using the unittest framework.\n",
        "\n",
        "In the unittest framework, the first thing we have to do is to import both the framework as well as the file we are looking to test. Hence\n",
        "\n",
        "```\n",
        "import unittest\n",
        "import simple_math as sm\n",
        "```"
      ]
    },
    {
      "cell_type": "markdown",
      "metadata": {
        "id": "uEp8xRi_BnEI"
      },
      "source": [
        "The next step is to create a test class. The test class typically looks like the following:\n",
        "\n",
        "```\n",
        "class TestMath(unittest.TestCase):\n",
        "  pass\n",
        "```"
      ]
    },
    {
      "cell_type": "markdown",
      "metadata": {
        "id": "Mh-_2fx4CRGN"
      },
      "source": [
        "Here you can start to see something that we learnt in the previous class, where the class TestMath is a subclass of the unittest.TestCase class. However in this class, we do not need functions such as __init__. What we need are our individual functions to test the functions in simple_math.py. Let us start to write these tests now."
      ]
    },
    {
      "cell_type": "code",
      "metadata": {
        "colab": {
          "base_uri": "https://localhost:8080/"
        },
        "id": "PZhqu_e2Cffe",
        "outputId": "32895445-553c-4924-a70b-06fab6425ea7"
      },
      "source": [],
      "execution_count": null,
      "outputs": [
        {
          "output_type": "stream",
          "name": "stdout",
          "text": [
            "Writing test_simple_math.py\n"
          ]
        }
      ]
    },
    {
      "cell_type": "code",
      "metadata": {
        "colab": {
          "base_uri": "https://localhost:8080/"
        },
        "id": "qHfxQ17ABUpD",
        "outputId": "fc47f909-ae16-4854-bf7d-b633ff576d08"
      },
      "source": [],
      "execution_count": null,
      "outputs": [
        {
          "output_type": "stream",
          "name": "stdout",
          "text": [
            "..\n",
            "----------------------------------------------------------------------\n",
            "Ran 2 tests in 0.000s\n",
            "\n",
            "OK\n"
          ]
        }
      ]
    },
    {
      "cell_type": "markdown",
      "metadata": {
        "id": "XrPMMZhGDQ9p"
      },
      "source": [
        "Practice: Now write the code for minus and divide."
      ]
    },
    {
      "cell_type": "code",
      "metadata": {
        "colab": {
          "base_uri": "https://localhost:8080/"
        },
        "id": "Ik1upIb1Dey4",
        "outputId": "b63c3c15-9c1b-4ad3-ff35-6130542d1aa3"
      },
      "source": [],
      "execution_count": null,
      "outputs": [
        {
          "output_type": "stream",
          "name": "stdout",
          "text": [
            "Overwriting simple_math.py\n"
          ]
        }
      ]
    },
    {
      "cell_type": "code",
      "metadata": {
        "colab": {
          "base_uri": "https://localhost:8080/"
        },
        "id": "HdDibG5KDszX",
        "outputId": "0c72e41f-6c6d-46ce-b79e-1711c82333f2"
      },
      "source": [],
      "execution_count": null,
      "outputs": [
        {
          "output_type": "stream",
          "name": "stdout",
          "text": [
            "Overwriting test_simple_math.py\n"
          ]
        }
      ]
    },
    {
      "cell_type": "code",
      "metadata": {
        "colab": {
          "base_uri": "https://localhost:8080/"
        },
        "id": "Bf_1diOeD8nW",
        "outputId": "7bb33e62-654b-48f7-85ca-524efe962466"
      },
      "source": [],
      "execution_count": null,
      "outputs": [
        {
          "output_type": "stream",
          "name": "stdout",
          "text": [
            "....\n",
            "----------------------------------------------------------------------\n",
            "Ran 4 tests in 0.000s\n",
            "\n",
            "OK\n"
          ]
        }
      ]
    },
    {
      "cell_type": "markdown",
      "metadata": {
        "id": "tKr_-v_ivRMb"
      },
      "source": [
        "### Section 4b.2 Unit testing in classes"
      ]
    },
    {
      "cell_type": "markdown",
      "metadata": {
        "id": "pkUuYy8UIlW-"
      },
      "source": [
        "Let us start again from our employee class that we saw the previous time."
      ]
    },
    {
      "cell_type": "code",
      "metadata": {
        "colab": {
          "base_uri": "https://localhost:8080/"
        },
        "id": "zu7S91LNItUi",
        "outputId": "8a7d9fa1-1ffe-4771-d417-201ddcef6002"
      },
      "source": [],
      "execution_count": null,
      "outputs": [
        {
          "output_type": "stream",
          "name": "stdout",
          "text": [
            "Writing employee.py\n"
          ]
        }
      ]
    },
    {
      "cell_type": "code",
      "metadata": {
        "colab": {
          "base_uri": "https://localhost:8080/"
        },
        "id": "O8cgPTdjI_2e",
        "outputId": "eae1b234-8c04-4734-8558-a5982654cdd9"
      },
      "source": [],
      "execution_count": null,
      "outputs": [
        {
          "output_type": "stream",
          "name": "stdout",
          "text": [
            "Writing driver_employee.py\n"
          ]
        }
      ]
    },
    {
      "cell_type": "code",
      "metadata": {
        "colab": {
          "base_uri": "https://localhost:8080/"
        },
        "id": "MImsesWCJ1gH",
        "outputId": "ff8dccba-a0a5-495a-8b87-a5496e8e842b"
      },
      "source": [],
      "execution_count": null,
      "outputs": [
        {
          "output_type": "stream",
          "name": "stdout",
          "text": [
            "Amy\n",
            "Employee(Amy, 1000)\n",
            "Amy draws pay 1000\n",
            "Amy draws pay 1050.0\n"
          ]
        }
      ]
    },
    {
      "cell_type": "markdown",
      "metadata": {
        "id": "RnW7hbDAOu_R"
      },
      "source": [
        "Let us now write a test for the Employee class. We want to make sure that our class functions, for example that of increment is working as what we expect. Let us first write our unit test classes."
      ]
    },
    {
      "cell_type": "code",
      "metadata": {
        "colab": {
          "base_uri": "https://localhost:8080/"
        },
        "id": "Q59xEhgYFipa",
        "outputId": "95a9bdee-6e71-4c55-e3e3-38460f34b2e2"
      },
      "source": [],
      "execution_count": null,
      "outputs": [
        {
          "output_type": "stream",
          "name": "stdout",
          "text": [
            "Writing test_employee.py\n"
          ]
        }
      ]
    },
    {
      "cell_type": "code",
      "metadata": {
        "colab": {
          "base_uri": "https://localhost:8080/"
        },
        "id": "jx8PWO5tKvkS",
        "outputId": "396d9d34-e65b-4566-cd84-34d9a3846fdf"
      },
      "source": [],
      "execution_count": null,
      "outputs": [
        {
          "output_type": "stream",
          "name": "stdout",
          "text": [
            "\n",
            "----------------------------------------------------------------------\n",
            "Ran 0 tests in 0.000s\n",
            "\n",
            "OK\n"
          ]
        }
      ]
    },
    {
      "cell_type": "markdown",
      "metadata": {
        "id": "tgbtloSvHDuI"
      },
      "source": [
        "With that, let's now write two simple superficial tests."
      ]
    },
    {
      "cell_type": "code",
      "metadata": {
        "colab": {
          "base_uri": "https://localhost:8080/"
        },
        "id": "oysbX4rrKTZx",
        "outputId": "cf93596c-40c6-47fe-d91b-82e62782306c"
      },
      "source": [],
      "execution_count": null,
      "outputs": [
        {
          "output_type": "stream",
          "name": "stdout",
          "text": [
            "Overwriting test_employee.py\n"
          ]
        }
      ]
    },
    {
      "cell_type": "code",
      "metadata": {
        "colab": {
          "base_uri": "https://localhost:8080/"
        },
        "id": "4_OlRg4DNcZu",
        "outputId": "a3c73819-26bb-41ed-d780-35a02193569d"
      },
      "source": [],
      "execution_count": null,
      "outputs": [
        {
          "output_type": "stream",
          "name": "stdout",
          "text": [
            "driver_employee.py  __pycache__  simple_math.py    test_simple_math.py\n",
            "employee.py\t    sample_data  test_employee.py\n"
          ]
        }
      ]
    },
    {
      "cell_type": "code",
      "metadata": {
        "colab": {
          "base_uri": "https://localhost:8080/"
        },
        "id": "QKl63hTCK07Z",
        "outputId": "08090942-afe2-4695-d4dc-8ead18e4772a"
      },
      "source": [],
      "execution_count": null,
      "outputs": [
        {
          "output_type": "stream",
          "name": "stdout",
          "text": [
            "..\n",
            "----------------------------------------------------------------------\n",
            "Ran 2 tests in 0.000s\n",
            "\n",
            "OK\n"
          ]
        }
      ]
    },
    {
      "cell_type": "markdown",
      "metadata": {
        "id": "iv9v6YYeOjXF"
      },
      "source": [
        "Now you notice that we are repeating certain pieces of information within the test. This repeats a lot of code and is also prone to errors. What can be done is to have a setup and a tear down function. Hence we will have:"
      ]
    },
    {
      "cell_type": "code",
      "metadata": {
        "colab": {
          "base_uri": "https://localhost:8080/"
        },
        "id": "LBqqFmekPKkB",
        "outputId": "b182e031-1abc-4957-fafc-98ad93a40388"
      },
      "source": [],
      "execution_count": null,
      "outputs": [
        {
          "output_type": "stream",
          "name": "stdout",
          "text": [
            "Overwriting test_employee.py\n"
          ]
        }
      ]
    },
    {
      "cell_type": "code",
      "metadata": {
        "colab": {
          "base_uri": "https://localhost:8080/"
        },
        "id": "PXGYnsaTPaBP",
        "outputId": "0b390cea-cfd2-43f3-e80b-392cff38661f"
      },
      "source": [],
      "execution_count": null,
      "outputs": [
        {
          "output_type": "stream",
          "name": "stdout",
          "text": [
            "..\n",
            "----------------------------------------------------------------------\n",
            "Ran 2 tests in 0.000s\n",
            "\n",
            "OK\n"
          ]
        }
      ]
    },
    {
      "cell_type": "markdown",
      "metadata": {
        "id": "TuaKwqxEN_fM"
      },
      "source": [
        "**Note** If you are going to use employee class in your python notebook in an interactive environment, you would need to restart your runtime first. Example:"
      ]
    },
    {
      "cell_type": "code",
      "metadata": {
        "colab": {
          "base_uri": "https://localhost:8080/"
        },
        "id": "GV-l4o-3OKib",
        "outputId": "9904c60d-f8e9-407d-cd0a-8241999ed9dc"
      },
      "source": [],
      "execution_count": null,
      "outputs": [
        {
          "output_type": "stream",
          "name": "stdout",
          "text": [
            "Amy\n",
            "Employee(Amy, 1000)\n",
            "Amy draws pay 1000\n",
            "Amy draws pay 1050.0\n"
          ]
        }
      ]
    },
    {
      "cell_type": "markdown",
      "metadata": {
        "id": "ENRA4V3wRm_s"
      },
      "source": [
        "### Section 4b.3 Generation of Test Cases\n",
        "\n",
        "How then do we generate these test cases?\n",
        "\n",
        "**Step 1**: We look at the independently testable **Features**. For instance, if we have a function\n",
        "\n",
        "```\n",
        "def add(a, b):\n",
        "  pass\n",
        "```\n",
        "\n",
        "We only have one feature, which is the addition function to test in the function."
      ]
    },
    {
      "cell_type": "markdown",
      "metadata": {
        "id": "x7r1pU8HTaDl"
      },
      "source": [
        "Let's look at another example, that of the current jupyter notebook. There will be multiple functions such as:\n",
        "\n",
        "*   adding text cell\n",
        "*   adding code cell\n",
        "*   saving notebook\n",
        "\n",
        "It will be difficult to test all of these functions without a proper plan. Hence it is important to first get all the testable features of a piece of software."
      ]
    },
    {
      "cell_type": "markdown",
      "metadata": {
        "id": "GbpMavH_UJ-Y"
      },
      "source": [
        "**Step 2**: Identify Relevant Inputs for these features\n",
        "\n",
        "How can we pick relevant inputs?\n",
        "\n",
        "*   Exhaustive testing\n",
        "\n",
        "Not feasible... why...?"
      ]
    },
    {
      "cell_type": "code",
      "metadata": {
        "colab": {
          "base_uri": "https://localhost:8080/"
        },
        "id": "GTYi9OzUXEZl",
        "outputId": "6a1e8f6e-fb54-4a93-c9a6-358cdfdaab50"
      },
      "source": [],
      "execution_count": null,
      "outputs": [
        {
          "output_type": "stream",
          "name": "stdout",
          "text": [
            "Number of tests are: 18446744073709551616\n"
          ]
        }
      ]
    },
    {
      "cell_type": "code",
      "metadata": {
        "colab": {
          "base_uri": "https://localhost:8080/"
        },
        "id": "xNn8d0oqXdvS",
        "outputId": "60b3b79e-fdb3-47e6-b818-ddce1283ceba"
      },
      "source": [],
      "execution_count": null,
      "outputs": [
        {
          "output_type": "stream",
          "name": "stdout",
          "text": [
            "Number of seconds required: 1844674407.3709552\n"
          ]
        }
      ]
    },
    {
      "cell_type": "code",
      "metadata": {
        "colab": {
          "base_uri": "https://localhost:8080/"
        },
        "id": "2kTz-HyGXyzz",
        "outputId": "7080059d-a2d4-4c68-fc13-af03388a158c"
      },
      "source": [],
      "execution_count": null,
      "outputs": [
        {
          "output_type": "stream",
          "name": "stdout",
          "text": [
            "Number of years required: 58.4942417355072\n"
          ]
        }
      ]
    },
    {
      "cell_type": "markdown",
      "metadata": {
        "id": "G9P1w82aXCXe"
      },
      "source": [
        "*   Random testing\n",
        "\n",
        "Random approaches would just miss the bugs. Usually bugs are scattered around a grid of inputs:\n",
        "\n",
        "|||||||||\n",
        "|-|-|-|-|-|-|-|-|\n",
        "|o|o|o|o|o|o|o|o|\n",
        "|o|x|o|o|o|o|o|o|\n",
        "|o|o|o|o|o|o|o|o|\n",
        "|o|o|o|o|o|o|o|o|\n",
        "|o|o|o|o|o|o|o|o|\n",
        "|o|o|o|o|o|x|o|o|\n",
        "|o|o|o|o|o|o|o|o|\n",
        "\n",
        "However fortunately, typically the bugs are not scattered as randomly as what we see above. They are however scattered in partitions!\n",
        "\n",
        "*   Partition testing\n",
        "\n",
        "|||||||||\n",
        "|-|-|-|-|-|-|-|-|\n",
        "|o|x|x|o|o|o|o|o|\n",
        "|o|x|o|o|o|o|o|o|\n",
        "|o|o|o|o|o|o|o|o|\n",
        "|o|o|o|o|o|o|o|o|\n",
        "|o|o|o|o|o|o|o|o|\n",
        "|o|o|o|o|o|x|x|o|\n",
        "|o|o|o|o|o|x|o|o|\n",
        "\n",
        "Hence the key would be to find out what these partitions are in our test cases. For instance in our very simple add example, the partitions can be:\n",
        "\n",
        "```\n",
        "add (x, y)\n",
        "```\n",
        "1.   x < 0\n",
        "2.   x == 0\n",
        "3.   x > 0\n",
        "4.   y < 0\n",
        "5.   y == 0\n",
        "6.   y > 0\n",
        "\n",
        "How then do we choose these values? These values are typically chosen as boundary conditions. Hence partition testing is used always with boundary testing to choose the numbers.\n",
        "\n",
        "*   Boundary testing\n",
        "In the above example, we will then chose the conditions:\n",
        "1. x = -1\n",
        "2. x = 0\n",
        "3. x = 1\n",
        "4. y = -1\n",
        "5. y = 0\n",
        "6. y = 1\n"
      ]
    },
    {
      "cell_type": "markdown",
      "metadata": {
        "id": "AdBA0S0Nc-60"
      },
      "source": [
        "**Step 3**: Derive Test Case Specifications\n",
        "\n",
        "Using the above example, we will combine the cases, hence we have\n",
        "\n",
        "1. x = -1, y = -1\n",
        "2. x = 0, y = -1\n",
        "3. x = 1, y = -1\n",
        "4. x = -1, y = 0\n",
        "5. x = 0, y = 0\n",
        "6. x = 1, y = 0\n",
        "7. x = -1, y = 1\n",
        "8. x = 0, y = 1\n",
        "9. x = 1, y = 1\n"
      ]
    },
    {
      "cell_type": "markdown",
      "metadata": {
        "id": "ScwBsciCvLHj"
      },
      "source": [
        "**Step 4**: Write the test\n",
        "\n",
        "Based on the test case specifications, write the test cases."
      ]
    },
    {
      "cell_type": "markdown",
      "metadata": {
        "id": "TUlHCb81vNGn"
      },
      "source": [
        "### Section 4b.4 Test Driven Development (TDD)"
      ]
    },
    {
      "cell_type": "markdown",
      "metadata": {
        "id": "awBcSBvuvaSa"
      },
      "source": [
        "What are the three steps in TDD?\n",
        "\n",
        "Step 1:\n",
        "Write a failing test\n",
        "\n",
        "Step 2:\n",
        "Write the simplest code to pass the test\n",
        "\n",
        "Step 3:\n",
        "Refactor the code\n",
        "\n",
        "\n"
      ]
    },
    {
      "cell_type": "code",
      "metadata": {
        "id": "dsLmFkZ2f7yX"
      },
      "source": [],
      "execution_count": null,
      "outputs": []
    },
    {
      "cell_type": "code",
      "metadata": {
        "id": "_TlhqaGi7MYT"
      },
      "source": [],
      "execution_count": null,
      "outputs": []
    },
    {
      "cell_type": "code",
      "metadata": {
        "id": "4XchB1417vg6"
      },
      "source": [],
      "execution_count": null,
      "outputs": []
    },
    {
      "cell_type": "code",
      "metadata": {
        "id": "NBGZJEbL8Hbu"
      },
      "source": [],
      "execution_count": null,
      "outputs": []
    },
    {
      "cell_type": "code",
      "source": [],
      "metadata": {
        "id": "NFxN5na4CfcL"
      },
      "execution_count": null,
      "outputs": []
    }
  ]
}