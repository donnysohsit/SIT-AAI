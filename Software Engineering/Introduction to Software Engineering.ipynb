{
  "nbformat": 4,
  "nbformat_minor": 0,
  "metadata": {
    "colab": {
      "provenance": []
    },
    "kernelspec": {
      "name": "python3",
      "display_name": "Python 3"
    }
  },
  "cells": [
    {
      "cell_type": "markdown",
      "metadata": {
        "id": "CD00xQNL1zXh"
      },
      "source": [
        "## Section 1a. What is Software Enginnering?"
      ]
    },
    {
      "cell_type": "markdown",
      "metadata": {
        "id": "2I5_OlQJaFJ-"
      },
      "source": [
        "#### Tevkik Bultan, University of California, Santa Barbara\n",
        "\n",
        "*   A computer is a programmable device.\n",
        "\n",
        "*   The essence of computing is programming.\n",
        "\n",
        "*   Program development is the most essential use of the computer.\n",
        "\n",
        "*   Software engineering investigates the best way to do program development."
      ]
    },
    {
      "cell_type": "markdown",
      "metadata": {
        "id": "_Ltd_OINa9uN"
      },
      "source": [
        "#### Jane Cleland-Huang, DePaul University\n",
        "\n",
        "*   Software engineering is the systematic application of methods to build software in a rigourous way.\n",
        "\n",
        "*   It entails not only building the system, but includes as well the understanding the requirements, working with stakeholders.\n",
        "\n",
        "*   It aims to find a solution that balences all the stakeholders needs to deliver a software that is tested to meet their needs\n",
        "\n",
        "> Link: https://drive.google.com/uc?export=view&id=1V1ytGwTmZyRgQAPRJ0AtSvdHyZ82bIXn\n",
        "\n",
        "\n",
        "<i>Source: https://www.youtube.com/watch?v=gBd-ct58DCI&feature=emb_logo</i>"
      ]
    },
    {
      "cell_type": "markdown",
      "metadata": {
        "id": "kdkAazXNclvw"
      },
      "source": [
        "#### P. Bourque, and R. Dupuis\n",
        "\n",
        "Software Engineering (SE) is the application of a systematic, disciplined, quantifiable approach to the development, operation, and maintenance of software, and the study of these approaches; that is, the application of\n",
        "engineering to software.\n",
        "\n",
        "<i>Source: P. Bourque, and R. Dupuis, Guide to the Software Engineering\n",
        "Body of Knowledge, IEEE Computer Society, Los Alamitos, CA,\n",
        "USA, 2004.</i>\n",
        "\n"
      ]
    },
    {
      "cell_type": "markdown",
      "metadata": {
        "id": "FABXUmCAdEGn"
      },
      "source": [
        "#### R. Killough\n",
        "\n",
        "Software engineering is the discipline of engineering software\n",
        "\n",
        "<i>Source: R. Killough, \"Software engineering: What is it?,\" 2018 IEEE Aerospace Conference, Big Sky, MT, 2018.</i>"
      ]
    },
    {
      "cell_type": "markdown",
      "metadata": {
        "id": "bD6bEwBhfSjY"
      },
      "source": [
        "### Section 1a.2 What is software? Or what is the purpose of software?"
      ]
    },
    {
      "cell_type": "markdown",
      "metadata": {
        "id": "AJEzjHO1gIzg"
      },
      "source": [
        "The programs and other operating information used by a computer.\n",
        "\n",
        "*Source: Oxford Languages*"
      ]
    },
    {
      "cell_type": "markdown",
      "metadata": {
        "id": "wn36ffw3gTKJ"
      },
      "source": [
        "**The purpose of software is to solve a (business / personal) problem, or to fulfill a (business / personal) need. Hence software engineering is a systematic approach to engineer software in a rigourous manner. And the target output of the software is to solve a problem, or to fulfill a need.**"
      ]
    },
    {
      "cell_type": "markdown",
      "metadata": {
        "id": "RLsIfFAGkh53"
      },
      "source": [
        "### Section 1a.3 Why is developing software difficult?"
      ]
    },
    {
      "cell_type": "markdown",
      "metadata": {
        "id": "NiUcZq5ji6K9"
      },
      "source": [
        "As with most things in life, we have three constraints pulling each other. Each of these constrainst has different stakeholders. Hence the challenge is to find a way to balence between these three constraints, or in real life balance between the stakeholders that have interests in these constraints.\n",
        "\n",
        "![alt text](https://drive.google.com/uc?export=view&id=1JQ_BGscBrd_80w4mt_Y2d-np4IozDXbr)\n",
        "\n",
        "Your users will probably demand the software to be good (satisfy their needs / solves their problems). Perhaps the CFO or finance will want it to be cheap and the CEO wants it to be as done as fast as possible.\n",
        "\n",
        "These three can be considered to be the metrics:\n",
        "*   Time\n",
        "*   Budget\n",
        "*   Requirements\n",
        "\n",
        "Hence the study of software engineering is the efficient engineering of software optimizing these three metrics.\n",
        "\n",
        "\n"
      ]
    },
    {
      "cell_type": "markdown",
      "metadata": {
        "id": "_eNfwUY5r9Fz"
      },
      "source": [
        "#### Case Study 1: California DMV\n",
        "\n",
        "Round 1: California DMV software (1987-1993)\n",
        "*   attempt to merge driver & vehicle registration systems\n",
        "*   plan: \\$28 million over 5 years.\n",
        "*   spent 7 years and \\$50 million before pulling the plug\n",
        "*   Estimated cost of over \\$200 million and at least 5 years delay\n",
        "\n",
        "Round 2: California DMV software (2006-2013)\n",
        "*   project stopped after spending \\$134 million due to “significant concerns with the lack of progress”\n",
        "*   3 months before the original expected delivery date\n",
        "*   some of the functions were delivered"
      ]
    },
    {
      "cell_type": "markdown",
      "metadata": {
        "id": "4gICOPAtvfRD"
      },
      "source": [
        "#### Case Study 2: Digital Media Initiative (DMI) by BBC, UK\n",
        "\n",
        "To modernise the Corporation's production and archiving methods by using connected digital production and media asset management systems.\n",
        "\n",
        "*   Project timeline: 2008 -2013\n",
        "*   Plan: ~£81.7 million\n",
        "*   Actual cost: >£98 million (>SGD200 million)\n",
        "*   By 2013, much cheaper Commercial Off The Shelf (COTS) alternatives by then existed\n",
        "*   Project scrapped due to bad management and outpaced by changing technology.\n"
      ]
    },
    {
      "cell_type": "markdown",
      "metadata": {
        "id": "CoPWs2sgxe3J"
      },
      "source": [
        "#### Case Study 3: Economic Question\n",
        "\n",
        "Coding Method $CM_{old}$. Suppose a new coding method emerged, called $CM_{new}$ which cuts down the time of development by 10%. Should it be used?\n",
        "\n",
        "Common sense answer: Of course!\n",
        "\n",
        "Software Engineering answer:\n",
        "*   Consider the cost of training\n",
        "*   Consider the impact of introducing a new technology\n",
        "*   Consider the effect of $CM_{new}$ on maintenance\n",
        "\n"
      ]
    },
    {
      "cell_type": "markdown",
      "metadata": {
        "id": "zKv32mRhyo1T"
      },
      "source": [
        "### Section 1a.4 What are the activities used in developing software?\n",
        "\n",
        "*   Requirements gathering\n",
        "*   Analysis and design\n",
        "*   Implementation and documentation\n",
        "*   Testing\n",
        "*   Deployment\n",
        "*   Maintenance\n",
        "\n",
        "We defined earlier that the study of software engineering is the efficient engineering of software optimizing the metrics of time, budget and requirements. This is achieved with the best orchestration of the activities above.\n",
        "\n",
        "This orchestration is typically known as the software development life cycle (SDLC) process.\n",
        "\n",
        "There are many different types of such SDLC processes. In this course we will be talking only on the Implementation and Testing portion of the SDLC process."
      ]
    },
    {
      "cell_type": "code",
      "metadata": {
        "id": "PhgUbay-fUXK"
      },
      "source": [],
      "execution_count": null,
      "outputs": []
    }
  ]
}