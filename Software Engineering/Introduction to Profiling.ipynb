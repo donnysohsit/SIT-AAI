{
  "nbformat": 4,
  "nbformat_minor": 0,
  "metadata": {
    "colab": {
      "provenance": []
    },
    "kernelspec": {
      "name": "python3",
      "display_name": "Python 3"
    }
  },
  "cells": [
    {
      "cell_type": "markdown",
      "metadata": {
        "id": "eF8CC9jiQugT"
      },
      "source": [
        "## Section 4a. Profiling"
      ]
    },
    {
      "cell_type": "markdown",
      "metadata": {
        "id": "sx-P5tFxGV_P"
      },
      "source": [
        "In software engineering, profiling (\"program profiling\", \"software profiling\") is a form of dynamic program analysis that measures, for example, the space (memory) or time complexity of a program, the usage of particular instructions, or the frequency and duration of function calls. Most commonly, profiling information serves to aid program optimization, and more specifically, performance engineering.\n",
        "\n",
        "source: Wikipedia"
      ]
    },
    {
      "cell_type": "markdown",
      "metadata": {
        "id": "Ik8-fImPU8hr"
      },
      "source": [
        "## Section 4a.1 Profiler types"
      ]
    },
    {
      "cell_type": "markdown",
      "metadata": {
        "id": "hkw3bLQwRPEd"
      },
      "source": [
        "In this section of the lab, we will be working in particular with profilers in the Python language. In general, there are at least two types of profilers in python. They are deterministic and statistical profiling. The differences are as follows:\n",
        "\n",
        "**Deterministic profiling**\n",
        "\n",
        "Deterministic profilers monitors all function calls, function returns and exception events. Timings are made for every single one of this events.\n",
        "\n",
        "**Statistical profiling**\n",
        "\n",
        "Instead of tracking every event (e.g. call to every function), statistical profilers interrupts the application periodically and samples the effective instruction pointer. These are analyzed next to estimate where the application is spending its time in.\n",
        "\n",
        "*source: https://docs.python.org/2.0/lib/Deterministic_Profiling.html*\n",
        "\n",
        "Typically deterministic profilers cause huge overheads as every single event is instrumented. However naturally it provides high granularity and accuracy of the data generated.\n",
        "\n",
        "In this lab, we will first look at deterministric profiler (cProfile) before a statistical one."
      ]
    },
    {
      "cell_type": "markdown",
      "metadata": {
        "id": "-WeOpDDpWxmB"
      },
      "source": [
        "## Section 4a.2 Introduction to cProfile (deterministic)"
      ]
    },
    {
      "cell_type": "markdown",
      "metadata": {
        "id": "zRvdkq4OWjig"
      },
      "source": [
        "Let's first look at a simple iterative example. Assume that we have 5 functions, and they are related to each other in the following manner:\n",
        "\n",
        "```\n",
        "func_a -> func_b (1000 times) -> func_e (17000 times)\n",
        "       -> func_c (1000 times) -> func_e (15000 times)\n",
        "```"
      ]
    },
    {
      "cell_type": "code",
      "metadata": {
        "id": "tlmqT_wGWtvv",
        "colab": {
          "base_uri": "https://localhost:8080/"
        },
        "outputId": "b7f98922-6474-4764-f4cd-0e2dbf8bff3a"
      },
      "source": [],
      "execution_count": null,
      "outputs": [
        {
          "output_type": "stream",
          "name": "stdout",
          "text": [
            "23.801157817000004\n"
          ]
        }
      ]
    },
    {
      "cell_type": "code",
      "metadata": {
        "id": "OvHUTllh7uUb"
      },
      "source": [],
      "execution_count": null,
      "outputs": []
    },
    {
      "cell_type": "code",
      "metadata": {
        "id": "hbzz0ef372--"
      },
      "source": [],
      "execution_count": null,
      "outputs": []
    },
    {
      "cell_type": "markdown",
      "metadata": {
        "id": "CT3NxFdIWtO8"
      },
      "source": [
        "If we were to run the code above, the time taken is within the range of 2 to 3 seconds. Let's now try to profile the code with the cProfile module. Using the magic %% operator, we are able to write the cell contents to the file in our google cloud server."
      ]
    },
    {
      "cell_type": "code",
      "metadata": {
        "id": "k6M7bPNZXAqB",
        "colab": {
          "base_uri": "https://localhost:8080/"
        },
        "outputId": "f5070324-bf7e-4416-afc6-df2da6962af0"
      },
      "source": [],
      "execution_count": null,
      "outputs": [
        {
          "output_type": "stream",
          "name": "stdout",
          "text": [
            "Writing multiple_calls.py\n"
          ]
        }
      ]
    },
    {
      "cell_type": "markdown",
      "metadata": {
        "id": "Ju1xLie4XYYF"
      },
      "source": [
        "And now the functions can be profiled with the following line:"
      ]
    },
    {
      "cell_type": "code",
      "metadata": {
        "id": "mCSbee-tciis",
        "colab": {
          "base_uri": "https://localhost:8080/"
        },
        "outputId": "2164fe8b-5b36-42b2-810e-71b58b475115"
      },
      "source": [],
      "execution_count": null,
      "outputs": [
        {
          "output_type": "stream",
          "name": "stdout",
          "text": [
            "         32002004 function calls in 7.366 seconds\n",
            "\n",
            "   Ordered by: standard name\n",
            "\n",
            "   ncalls  tottime  percall  cumtime  percall filename:lineno(function)\n",
            "     1000    2.343    0.002    3.440    0.003 multiple_calls.py:11(func_c)\n",
            " 32000000    2.345    0.000    2.345    0.000 multiple_calls.py:15(func_e)\n",
            "        1    0.000    0.000    7.366    7.366 multiple_calls.py:2(<module>)\n",
            "        1    0.002    0.002    7.366    7.366 multiple_calls.py:2(func_a)\n",
            "     1000    2.677    0.003    3.925    0.004 multiple_calls.py:7(func_b)\n",
            "        1    0.000    0.000    7.366    7.366 {built-in method builtins.exec}\n",
            "        1    0.000    0.000    0.000    0.000 {method 'disable' of '_lsprof.Profiler' objects}\n",
            "\n",
            "\n"
          ]
        }
      ]
    },
    {
      "cell_type": "markdown",
      "metadata": {
        "id": "9Y18N2gZckch"
      },
      "source": [
        "We can sort it with the -s option."
      ]
    },
    {
      "cell_type": "code",
      "metadata": {
        "id": "oG-CgXK1XXrU",
        "colab": {
          "base_uri": "https://localhost:8080/"
        },
        "outputId": "f41c38ee-d5a7-4e29-c79e-d80a3841ad57"
      },
      "source": [],
      "execution_count": null,
      "outputs": [
        {
          "output_type": "stream",
          "name": "stdout",
          "text": [
            "         32002004 function calls in 8.964 seconds\n",
            "\n",
            "   Ordered by: internal time\n",
            "\n",
            "   ncalls  tottime  percall  cumtime  percall filename:lineno(function)\n",
            "     1000    3.291    0.003    4.727    0.005 multiple_calls.py:7(func_b)\n",
            "     1000    2.964    0.003    4.234    0.004 multiple_calls.py:11(func_c)\n",
            " 32000000    2.707    0.000    2.707    0.000 multiple_calls.py:15(func_e)\n",
            "        1    0.002    0.002    8.964    8.964 multiple_calls.py:2(func_a)\n",
            "        1    0.000    0.000    8.964    8.964 {built-in method builtins.exec}\n",
            "        1    0.000    0.000    8.964    8.964 multiple_calls.py:2(<module>)\n",
            "        1    0.000    0.000    0.000    0.000 {method 'disable' of '_lsprof.Profiler' objects}\n",
            "\n",
            "\n"
          ]
        }
      ]
    },
    {
      "cell_type": "markdown",
      "metadata": {
        "id": "ABuLIgPNXhyg"
      },
      "source": [
        "Notice that the execution time increases almost three times. But here you can see clearly the various calls being made, total time being spent as well as the cummulative time. The column headings are:\n",
        "\n",
        "**ncalls**\n",
        "Total number of calls.\n",
        "\n",
        "**tottime**\n",
        "Total time spent in the given function (and excluding time made in calls to sub-functions).\n",
        "\n",
        "**percall**\n",
        "tottime divided by ncalls\n",
        "\n",
        "**cumtime**\n",
        "Cumulative time spent in this and all subfunctions (from invocation till exit).\n",
        "\n",
        "**percall**\n",
        "cumtime divided by primitive calls\n",
        "\n",
        "**filename:lineno(function)**\n",
        "Line number of the function\n",
        "\n",
        "*Additional options can be seen here: https://docs.python.org/3.7/library/profile.html*\n",
        "\n",
        "\n",
        "Let's try to visualize these calls. We first install the necessary packages:"
      ]
    },
    {
      "cell_type": "code",
      "metadata": {
        "id": "FZVXIFnTc7qt",
        "colab": {
          "base_uri": "https://localhost:8080/"
        },
        "outputId": "d2c5c1f9-4ef9-48e9-c2ca-9604a3c5e88c"
      },
      "source": [],
      "execution_count": null,
      "outputs": [
        {
          "output_type": "stream",
          "name": "stdout",
          "text": [
            "Looking in indexes: https://pypi.org/simple, https://us-python.pkg.dev/colab-wheels/public/simple/\n",
            "Collecting gprof2dot\n",
            "  Downloading gprof2dot-2022.7.29-py2.py3-none-any.whl (34 kB)\n",
            "Installing collected packages: gprof2dot\n",
            "Successfully installed gprof2dot-2022.7.29\n"
          ]
        }
      ]
    },
    {
      "cell_type": "markdown",
      "metadata": {
        "id": "te9T9W8_XryS"
      },
      "source": [
        "Next we generate the output files in the following manner. Notice that the files output.png and output.pstats are generated on the folder structure on the left."
      ]
    },
    {
      "cell_type": "code",
      "metadata": {
        "id": "J9ZZw6pmXpWE"
      },
      "source": [],
      "execution_count": null,
      "outputs": []
    },
    {
      "cell_type": "code",
      "metadata": {
        "id": "e_6OF05K-x3P",
        "colab": {
          "base_uri": "https://localhost:8080/"
        },
        "outputId": "3e0386ad-2c23-45ce-dc6b-677e8adc1955"
      },
      "source": [],
      "execution_count": null,
      "outputs": [
        {
          "output_type": "stream",
          "name": "stdout",
          "text": [
            "multiple_calls.py  output.png  output.pstats  sample_data  test\n"
          ]
        }
      ]
    },
    {
      "cell_type": "markdown",
      "metadata": {
        "id": "7HdCz-mpc_ON"
      },
      "source": [
        "The following line displays the output image on your notebook. You can see that it corresponds to the original call tree up above."
      ]
    },
    {
      "cell_type": "code",
      "metadata": {
        "id": "hhr0CA3AXpcU",
        "colab": {
          "base_uri": "https://localhost:8080/",
          "height": 588
        },
        "outputId": "c1f605dc-64d6-481c-ffc5-2a605a4ebdec"
      },
      "source": [],
      "execution_count": null,
      "outputs": [
        {
          "output_type": "execute_result",
          "data": {
            "image/png": "[encoded data removed]",
            "text/plain": [
              "<IPython.core.display.Image object>"
            ]
          },
          "metadata": {},
          "execution_count": 10
        }
      ]
    },
    {
      "cell_type": "markdown",
      "metadata": {
        "id": "XVQTAoIJLHP-"
      },
      "source": [
        "Now let's try to carry out this analysis on our favourite fibonacci number recursive function, and see if there is a way to optimize it. First we find out what the execution time is when n is equals to 10."
      ]
    },
    {
      "cell_type": "code",
      "metadata": {
        "id": "8bkT7iBm2s0m",
        "colab": {
          "base_uri": "https://localhost:8080/"
        },
        "outputId": "5022012c-4aa6-46b2-baf1-a1db12fb1db4"
      },
      "source": [],
      "execution_count": null,
      "outputs": [
        {
          "output_type": "stream",
          "name": "stdout",
          "text": [
            "5702887 11.770346236999984\n"
          ]
        }
      ]
    },
    {
      "cell_type": "markdown",
      "metadata": {
        "id": "x5-xadBdLOTO"
      },
      "source": [
        "Let's try to do the profiling here from a module. For this recursive function, it's clearer to use the cProfile as a module rather than from the command line."
      ]
    },
    {
      "cell_type": "code",
      "metadata": {
        "id": "vzwjqHoNcERd",
        "colab": {
          "base_uri": "https://localhost:8080/"
        },
        "outputId": "3040b4cb-6525-40a3-f5dd-718b03ed6c3a"
      },
      "source": [],
      "execution_count": null,
      "outputs": [
        {
          "output_type": "stream",
          "name": "stdout",
          "text": [
            "5702887 13.199637007999996\n",
            "         18454984 function calls (55 primitive calls) in 13.200 seconds\n",
            "\n",
            "   Ordered by: standard name\n",
            "\n",
            "   ncalls  tottime  percall  cumtime  percall filename:lineno(function)\n",
            "18454929/1   13.199    0.000   13.199   13.199 <ipython-input-12-99ef63a1fc6c>:8(fib)\n",
            "        1    0.000    0.000   13.200   13.200 <string>:1(<module>)\n",
            "        3    0.000    0.000    0.001    0.000 iostream.py:197(schedule)\n",
            "        2    0.000    0.000    0.000    0.000 iostream.py:310(_is_master_process)\n",
            "        2    0.000    0.000    0.000    0.000 iostream.py:323(_schedule_flush)\n",
            "        2    0.000    0.000    0.001    0.000 iostream.py:386(write)\n",
            "        3    0.000    0.000    0.000    0.000 iostream.py:93(_event_pipe)\n",
            "        2    0.000    0.000    0.000    0.000 pydevd.py:1058(get_cache_file_type)\n",
            "        1    0.000    0.000    0.000    0.000 pydevd.py:937(_internal_get_file_type)\n",
            "      3/2    0.000    0.000    0.000    0.000 pydevd.py:983(get_file_type)\n",
            "        1    0.000    0.000    0.000    0.000 pydevd_api.py:907(custom_dont_trace_external_files)\n",
            "        1    0.000    0.000    0.000    0.000 pydevd_file_utils.py:326(normcase)\n",
            "        1    0.000    0.000    0.000    0.000 pydevd_file_utils.py:408(basename)\n",
            "        1    0.000    0.000    0.000    0.000 pydevd_file_utils.py:861(get_abs_path_real_path_and_base_from_file)\n",
            "        3    0.001    0.000    0.001    0.000 socket.py:543(send)\n",
            "        3    0.000    0.000    0.000    0.000 threading.py:1017(_wait_for_tstate_lock)\n",
            "        3    0.000    0.000    0.000    0.000 threading.py:1071(is_alive)\n",
            "        3    0.000    0.000    0.000    0.000 threading.py:513(is_set)\n",
            "        1    0.000    0.000   13.200   13.200 {built-in method builtins.exec}\n",
            "        2    0.000    0.000    0.000    0.000 {built-in method builtins.isinstance}\n",
            "        1    0.000    0.000    0.001    0.001 {built-in method builtins.print}\n",
            "        2    0.000    0.000    0.000    0.000 {built-in method posix.getpid}\n",
            "        1    0.000    0.000    0.000    0.000 {built-in method time.perf_counter}\n",
            "        3    0.000    0.000    0.000    0.000 {method 'acquire' of '_thread.lock' objects}\n",
            "        3    0.000    0.000    0.000    0.000 {method 'append' of 'collections.deque' objects}\n",
            "        1    0.000    0.000    0.000    0.000 {method 'disable' of '_lsprof.Profiler' objects}\n",
            "        1    0.000    0.000    0.000    0.000 {method 'endswith' of 'str' objects}\n",
            "        1    0.000    0.000    0.000    0.000 {method 'get' of 'dict' objects}\n",
            "        4    0.000    0.000    0.000    0.000 {method 'startswith' of 'str' objects}\n",
            "\n",
            "\n"
          ]
        }
      ]
    },
    {
      "cell_type": "markdown",
      "metadata": {
        "id": "F48FlCHvf1q6"
      },
      "source": [
        "Notice that the execution time has almost doubled with such a small example. You can also tell that the recursive call occurs for more than 18454929 times, although the number of primitive calls are just 40. Hence you can deduce that there is room for improvement here. Let's try to carry out some memoization to reduce the number of function calls.\n",
        "\n",
        "We do that by first creating a dictionary and storing the outputs there. If the output is present, we will use the value in the dictionary. Else we will carry out the function call."
      ]
    },
    {
      "cell_type": "code",
      "metadata": {
        "id": "93wu2LHNVD-8",
        "colab": {
          "base_uri": "https://localhost:8080/"
        },
        "outputId": "324a2925-4f78-4a5e-fb61-3bc527809f92"
      },
      "source": [],
      "execution_count": null,
      "outputs": [
        {
          "output_type": "stream",
          "name": "stdout",
          "text": [
            "5702887\n",
            "None 0.0013217479999809711\n",
            "         161 function calls (126 primitive calls) in 0.001 seconds\n",
            "\n",
            "   Ordered by: standard name\n",
            "\n",
            "   ncalls  tottime  percall  cumtime  percall filename:lineno(function)\n",
            "        1    0.000    0.000    0.001    0.001 <ipython-input-13-f2e44615d0c0>:29(fib_driver)\n",
            "     35/1    0.000    0.000    0.000    0.000 <ipython-input-13-f2e44615d0c0>:8(fib)\n",
            "        1    0.000    0.000    0.001    0.001 <string>:1(<module>)\n",
            "        5    0.000    0.000    0.001    0.000 iostream.py:197(schedule)\n",
            "        4    0.000    0.000    0.000    0.000 iostream.py:310(_is_master_process)\n",
            "        4    0.000    0.000    0.000    0.000 iostream.py:323(_schedule_flush)\n",
            "        4    0.000    0.000    0.001    0.000 iostream.py:386(write)\n",
            "        5    0.000    0.000    0.000    0.000 iostream.py:93(_event_pipe)\n",
            "        3    0.000    0.000    0.000    0.000 pydevd.py:1058(get_cache_file_type)\n",
            "        2    0.000    0.000    0.000    0.000 pydevd.py:937(_internal_get_file_type)\n",
            "      4/3    0.000    0.000    0.000    0.000 pydevd.py:983(get_file_type)\n",
            "        2    0.000    0.000    0.000    0.000 pydevd_api.py:907(custom_dont_trace_external_files)\n",
            "        2    0.000    0.000    0.000    0.000 pydevd_file_utils.py:326(normcase)\n",
            "        1    0.000    0.000    0.000    0.000 pydevd_file_utils.py:408(basename)\n",
            "        1    0.000    0.000    0.000    0.000 pydevd_file_utils.py:861(get_abs_path_real_path_and_base_from_file)\n",
            "        5    0.001    0.000    0.001    0.000 socket.py:543(send)\n",
            "        5    0.000    0.000    0.000    0.000 threading.py:1017(_wait_for_tstate_lock)\n",
            "        5    0.000    0.000    0.000    0.000 threading.py:1071(is_alive)\n",
            "        5    0.000    0.000    0.000    0.000 threading.py:513(is_set)\n",
            "        1    0.000    0.000    0.001    0.001 {built-in method builtins.exec}\n",
            "        4    0.000    0.000    0.000    0.000 {built-in method builtins.isinstance}\n",
            "        2    0.000    0.000    0.001    0.001 {built-in method builtins.print}\n",
            "        4    0.000    0.000    0.000    0.000 {built-in method posix.getpid}\n",
            "        1    0.000    0.000    0.000    0.000 {built-in method time.perf_counter}\n",
            "        5    0.000    0.000    0.000    0.000 {method 'acquire' of '_thread.lock' objects}\n",
            "        5    0.000    0.000    0.000    0.000 {method 'append' of 'collections.deque' objects}\n",
            "        1    0.000    0.000    0.000    0.000 {method 'disable' of '_lsprof.Profiler' objects}\n",
            "        2    0.000    0.000    0.000    0.000 {method 'endswith' of 'str' objects}\n",
            "       34    0.000    0.000    0.000    0.000 {method 'get' of 'dict' objects}\n",
            "        8    0.000    0.000    0.000    0.000 {method 'startswith' of 'str' objects}\n",
            "\n",
            "\n"
          ]
        }
      ]
    },
    {
      "cell_type": "markdown",
      "metadata": {
        "id": "zzbnwtC2kEES"
      },
      "source": [
        "You would notice that the number of iterative calls have decreased dramatically to just 35, which in fact makes this recursive function O(n), the same as the iterative version of our fibonacci number generator."
      ]
    },
    {
      "cell_type": "code",
      "metadata": {
        "id": "4UiT6i6PiLPL",
        "colab": {
          "base_uri": "https://localhost:8080/"
        },
        "outputId": "27f2e756-c88b-4b68-f403-4a1f832fdc30"
      },
      "source": [],
      "execution_count": null,
      "outputs": [
        {
          "output_type": "stream",
          "name": "stdout",
          "text": [
            "5702887 0.0005143159999931868\n",
            "         56 function calls (55 primitive calls) in 0.002 seconds\n",
            "\n",
            "   Ordered by: standard name\n",
            "\n",
            "   ncalls  tottime  percall  cumtime  percall filename:lineno(function)\n",
            "        1    0.000    0.000    0.000    0.000 <ipython-input-14-063f6bd518ce>:8(fib_iter)\n",
            "        1    0.000    0.000    0.002    0.002 <string>:1(<module>)\n",
            "        3    0.000    0.000    0.002    0.001 iostream.py:197(schedule)\n",
            "        2    0.000    0.000    0.000    0.000 iostream.py:310(_is_master_process)\n",
            "        2    0.000    0.000    0.000    0.000 iostream.py:323(_schedule_flush)\n",
            "        2    0.000    0.000    0.002    0.001 iostream.py:386(write)\n",
            "        3    0.000    0.000    0.000    0.000 iostream.py:93(_event_pipe)\n",
            "        2    0.000    0.000    0.000    0.000 pydevd.py:1058(get_cache_file_type)\n",
            "        1    0.000    0.000    0.000    0.000 pydevd.py:937(_internal_get_file_type)\n",
            "      3/2    0.000    0.000    0.000    0.000 pydevd.py:983(get_file_type)\n",
            "        1    0.000    0.000    0.000    0.000 pydevd_api.py:907(custom_dont_trace_external_files)\n",
            "        1    0.000    0.000    0.000    0.000 pydevd_file_utils.py:326(normcase)\n",
            "        1    0.000    0.000    0.000    0.000 pydevd_file_utils.py:408(basename)\n",
            "        1    0.000    0.000    0.000    0.000 pydevd_file_utils.py:861(get_abs_path_real_path_and_base_from_file)\n",
            "        3    0.002    0.001    0.002    0.001 socket.py:543(send)\n",
            "        3    0.000    0.000    0.000    0.000 threading.py:1017(_wait_for_tstate_lock)\n",
            "        3    0.000    0.000    0.000    0.000 threading.py:1071(is_alive)\n",
            "        3    0.000    0.000    0.000    0.000 threading.py:513(is_set)\n",
            "        1    0.000    0.000    0.002    0.002 {built-in method builtins.exec}\n",
            "        2    0.000    0.000    0.000    0.000 {built-in method builtins.isinstance}\n",
            "        1    0.000    0.000    0.002    0.002 {built-in method builtins.print}\n",
            "        2    0.000    0.000    0.000    0.000 {built-in method posix.getpid}\n",
            "        1    0.000    0.000    0.000    0.000 {built-in method time.perf_counter}\n",
            "        3    0.000    0.000    0.000    0.000 {method 'acquire' of '_thread.lock' objects}\n",
            "        3    0.000    0.000    0.000    0.000 {method 'append' of 'collections.deque' objects}\n",
            "        1    0.000    0.000    0.000    0.000 {method 'disable' of '_lsprof.Profiler' objects}\n",
            "        1    0.000    0.000    0.000    0.000 {method 'endswith' of 'str' objects}\n",
            "        1    0.000    0.000    0.000    0.000 {method 'get' of 'dict' objects}\n",
            "        4    0.000    0.000    0.000    0.000 {method 'startswith' of 'str' objects}\n",
            "\n",
            "\n"
          ]
        }
      ]
    },
    {
      "cell_type": "markdown",
      "metadata": {
        "id": "NunoYD_7ZVM1"
      },
      "source": [
        "As you can see, it is in the same order as that of the iterative version we have been working with so far."
      ]
    },
    {
      "cell_type": "markdown",
      "metadata": {
        "id": "LDqO9CGWc8me"
      },
      "source": [
        "## Section 4a.3 Introduction to py-spy (statistical)"
      ]
    },
    {
      "cell_type": "code",
      "metadata": {
        "id": "6htaDZx5dPi-",
        "colab": {
          "base_uri": "https://localhost:8080/"
        },
        "outputId": "017a74e7-9beb-441f-a5e9-102c3e783e9c"
      },
      "source": [],
      "execution_count": null,
      "outputs": [
        {
          "output_type": "stream",
          "name": "stdout",
          "text": [
            "Looking in indexes: https://pypi.org/simple, https://us-python.pkg.dev/colab-wheels/public/simple/\n",
            "Collecting py-spy\n",
            "  Downloading py_spy-0.3.14-py2.py3-none-manylinux_2_5_x86_64.manylinux1_x86_64.whl (3.0 MB)\n",
            "\u001b[2K     \u001b[90m━━━━━━━━━━━━━━━━━━━━━━━━━━━━━━━━━━━━━━━━\u001b[0m \u001b[32m3.0/3.0 MB\u001b[0m \u001b[31m43.8 MB/s\u001b[0m eta \u001b[36m0:00:00\u001b[0m\n",
            "\u001b[?25hInstalling collected packages: py-spy\n",
            "Successfully installed py-spy-0.3.14\n"
          ]
        }
      ]
    },
    {
      "cell_type": "markdown",
      "metadata": {
        "id": "0LSpOx-QfqWR"
      },
      "source": [
        "Let's first create a python script which runs for at least 10 seconds."
      ]
    },
    {
      "cell_type": "code",
      "metadata": {
        "id": "7dsDykGChSLW",
        "colab": {
          "base_uri": "https://localhost:8080/"
        },
        "outputId": "4d8239f9-7b7a-428f-a94e-4789cd6ea32b"
      },
      "source": [],
      "execution_count": null,
      "outputs": [
        {
          "output_type": "stream",
          "name": "stdout",
          "text": [
            "Writing long_multiple_calls.py\n"
          ]
        }
      ]
    },
    {
      "cell_type": "markdown",
      "metadata": {
        "id": "92DFzvwQhY6Z"
      },
      "source": [
        "What the next line does is to run the function, sampling it at various intervals. In this instance, it is sampled at 100 times per second."
      ]
    },
    {
      "cell_type": "code",
      "metadata": {
        "id": "7AynBmtpdUT-",
        "colab": {
          "base_uri": "https://localhost:8080/"
        },
        "outputId": "6bf3fb23-7809-47c3-a325-abfac34fcf9d"
      },
      "source": [],
      "execution_count": null,
      "outputs": [
        {
          "output_type": "stream",
          "name": "stdout",
          "text": [
            "\u001b[32m\u001b[1mpy-spy\u001b[0m\u001b[2m>\u001b[0m Sampling process 100 times a second. Press Control-C to exit.\n",
            "\n",
            "\n",
            "\u001b[32m\u001b[1mpy-spy\u001b[0m\u001b[2m>\u001b[0m Stopped sampling because process exited\n",
            "\u001b[32m\u001b[1mpy-spy\u001b[0m\u001b[2m>\u001b[0m Wrote flamegraph data to 'profile.svg'. Samples: 1493 Errors: 0\n"
          ]
        }
      ]
    },
    {
      "cell_type": "code",
      "metadata": {
        "id": "Dw5TOBkLf1iY",
        "colab": {
          "base_uri": "https://localhost:8080/",
          "height": 288
        },
        "outputId": "2da3453e-25d6-40ae-bcff-9dbbba59d739"
      },
      "source": [],
      "execution_count": null,
      "outputs": [
        {
          "output_type": "execute_result",
          "data": {
            "text/plain": [
              "<IPython.core.display.SVG object>"
            ],
            "image/svg+xml": "<svg xmlns=\"http://www.w3.org/2000/svg\" xmlns:xlink=\"http://www.w3.org/1999/xlink\" xmlns:fg=\"http://github.com/jonhoo/inferno\" version=\"1.1\" width=\"1200\" height=\"266\" onload=\"init(evt)\" viewBox=\"0 0 1200 266\"><!--Flame graph stack visualization. See https://github.com/brendangregg/FlameGraph for latest version, and http://www.brendangregg.com/flamegraphs.html for examples.--><!--NOTES: --><defs><linearGradient id=\"background\" y1=\"0\" y2=\"1\" x1=\"0\" x2=\"0\"><stop stop-color=\"#eeeeee\" offset=\"5%\"/><stop stop-color=\"#eeeeb0\" offset=\"95%\"/></linearGradient></defs><style type=\"text/css\">\ntext { font-family:&quot;Verdana&quot;; font-size:12px; fill:rgb(0,0,0); }\n#title { text-anchor:middle; font-size:17px; }\n#matched { text-anchor:end; }\n#search { text-anchor:end; opacity:0.1; cursor:pointer; }\n#search:hover, #search.show { opacity:1; }\n#subtitle { text-anchor:middle; font-color:rgb(160,160,160); }\n#unzoom { cursor:pointer; }\n#frames &gt; *:hover { stroke:black; stroke-width:0.5; cursor:pointer; }\n.hide { display:none; }\n.parent { opacity:0.5; }\n</style><script type=\"text/ecmascript\"><![CDATA[\n        var nametype = 'Function:';\n        var fontsize = 12;\n        var fontwidth = 0.59;\n        var xpad = 10;\n        var inverted = true;\n        var searchcolor = 'rgb(230,0,230)';\n        var fluiddrawing = true;\n        var truncate_text_right = false;\n    ]]><![CDATA[\"use strict\";\nvar details, searchbtn, unzoombtn, matchedtxt, svg, searching, frames;\nfunction init(evt) {\n    details = document.getElementById(\"details\").firstChild;\n    searchbtn = document.getElementById(\"search\");\n    unzoombtn = document.getElementById(\"unzoom\");\n    matchedtxt = document.getElementById(\"matched\");\n    svg = document.getElementsByTagName(\"svg\")[0];\n    frames = document.getElementById(\"frames\");\n    total_samples = parseInt(frames.attributes.total_samples.value);\n    searching = 0;\n\n    // Use GET parameters to restore a flamegraph's state.\n    var restore_state = function() {\n        var params = get_params();\n        if (params.x && params.y)\n            zoom(find_group(document.querySelector('[*|x=\"' + params.x + '\"][y=\"' + params.y + '\"]')));\n        if (params.s)\n            search(params.s);\n    };\n\n    if (fluiddrawing) {\n        // Make width dynamic so the SVG fits its parent's width.\n        svg.removeAttribute(\"width\");\n        // Edge requires us to have a viewBox that gets updated with size changes.\n        var isEdge = /Edge\\/\\d./i.test(navigator.userAgent);\n        var update_for_width_change = function() {\n            if (isEdge) {\n                svg.attributes.viewBox.value = \"0 0 \" + svg.width.baseVal.value + \" \" + svg.height.baseVal.value;\n            }\n\n            // Keep consistent padding on left and right of frames container.\n            frames.attributes.width.value = svg.width.baseVal.value - xpad * 2;\n\n            // Text truncation needs to be adjusted for the current width.\n            var el = frames.children;\n            for(var i = 0; i < el.length; i++) {\n                update_text(el[i]);\n            }\n\n            // Keep search elements at a fixed distance from right edge.\n            var svgWidth = svg.width.baseVal.value;\n            searchbtn.attributes.x.value = svgWidth - xpad;\n            matchedtxt.attributes.x.value = svgWidth - xpad;\n        };\n        window.addEventListener('resize', function() {\n            update_for_width_change();\n        });\n        // This needs to be done asynchronously for Safari to work.\n        setTimeout(function() {\n            unzoom();\n            update_for_width_change();\n            restore_state();\n            if (!isEdge) {\n                svg.removeAttribute(\"viewBox\");\n            }\n        }, 0);\n    } else {\n        restore_state();\n    }\n}\n// event listeners\nwindow.addEventListener(\"click\", function(e) {\n    var target = find_group(e.target);\n    if (target) {\n        if (target.nodeName == \"a\") {\n            if (e.ctrlKey === false) return;\n            e.preventDefault();\n        }\n        if (target.classList.contains(\"parent\")) unzoom();\n        zoom(target);\n\n        // set parameters for zoom state\n        var el = target.querySelector(\"rect\");\n        if (el && el.attributes && el.attributes.y && el.attributes[\"fg:x\"]) {\n            var params = get_params()\n            params.x = el.attributes[\"fg:x\"].value;\n            params.y = el.attributes.y.value;\n            history.replaceState(null, null, parse_params(params));\n        }\n    }\n    else if (e.target.id == \"unzoom\") {\n        unzoom();\n\n        // remove zoom state\n        var params = get_params();\n        if (params.x) delete params.x;\n        if (params.y) delete params.y;\n        history.replaceState(null, null, parse_params(params));\n    }\n    else if (e.target.id == \"search\") search_prompt();\n}, false)\n// mouse-over for info\n// show\nwindow.addEventListener(\"mouseover\", function(e) {\n    var target = find_group(e.target);\n    if (target) details.nodeValue = nametype + \" \" + g_to_text(target);\n}, false)\n// clear\nwindow.addEventListener(\"mouseout\", function(e) {\n    var target = find_group(e.target);\n    if (target) details.nodeValue = ' ';\n}, false)\n// ctrl-F for search\nwindow.addEventListener(\"keydown\",function (e) {\n    if (e.keyCode === 114 || (e.ctrlKey && e.keyCode === 70)) {\n        e.preventDefault();\n        search_prompt();\n    }\n}, false)\n// functions\nfunction get_params() {\n    var params = {};\n    var paramsarr = window.location.search.substr(1).split('&');\n    for (var i = 0; i < paramsarr.length; ++i) {\n        var tmp = paramsarr[i].split(\"=\");\n        if (!tmp[0] || !tmp[1]) continue;\n        params[tmp[0]]  = decodeURIComponent(tmp[1]);\n    }\n    return params;\n}\nfunction parse_params(params) {\n    var uri = \"?\";\n    for (var key in params) {\n        uri += key + '=' + encodeURIComponent(params[key]) + '&';\n    }\n    if (uri.slice(-1) == \"&\")\n        uri = uri.substring(0, uri.length - 1);\n    if (uri == '?')\n        uri = window.location.href.split('?')[0];\n    return uri;\n}\nfunction find_child(node, selector) {\n    var children = node.querySelectorAll(selector);\n    if (children.length) return children[0];\n    return;\n}\nfunction find_group(node) {\n    var parent = node.parentElement;\n    if (!parent) return;\n    if (parent.id == \"frames\") return node;\n    return find_group(parent);\n}\nfunction orig_save(e, attr, val) {\n    if (e.attributes[\"fg:orig_\" + attr] != undefined) return;\n    if (e.attributes[attr] == undefined) return;\n    if (val == undefined) val = e.attributes[attr].value;\n    e.setAttribute(\"fg:orig_\" + attr, val);\n}\nfunction orig_load(e, attr) {\n    if (e.attributes[\"fg:orig_\"+attr] == undefined) return;\n    e.attributes[attr].value = e.attributes[\"fg:orig_\" + attr].value;\n    e.removeAttribute(\"fg:orig_\" + attr);\n}\nfunction g_to_text(e) {\n    var text = find_child(e, \"title\").firstChild.nodeValue;\n    return (text)\n}\nfunction g_to_func(e) {\n    var func = g_to_text(e);\n    // if there's any manipulation we want to do to the function\n    // name before it's searched, do it here before returning.\n    return (func);\n}\nfunction update_text(e) {\n    var r = find_child(e, \"rect\");\n    var t = find_child(e, \"text\");\n    var w = parseFloat(r.attributes.width.value) * frames.attributes.width.value / 100 - 3;\n    var txt = find_child(e, \"title\").textContent.replace(/\\([^(]*\\)$/,\"\");\n    t.attributes.x.value = format_percent((parseFloat(r.attributes.x.value) + (100 * 3 / frames.attributes.width.value)));\n    // Smaller than this size won't fit anything\n    if (w < 2 * fontsize * fontwidth) {\n        t.textContent = \"\";\n        return;\n    }\n    t.textContent = txt;\n    // Fit in full text width\n    if (/^ *\\$/.test(txt) || t.getComputedTextLength() < w)\n        return;\n    if (truncate_text_right) {\n        // Truncate the right side of the text.\n        for (var x = txt.length - 2; x > 0; x--) {\n            if (t.getSubStringLength(0, x + 2) <= w) {\n                t.textContent = txt.substring(0, x) + \"..\";\n                return;\n            }\n        }\n    } else {\n        // Truncate the left side of the text.\n        for (var x = 2; x < txt.length; x++) {\n            if (t.getSubStringLength(x - 2, txt.length) <= w) {\n                t.textContent = \"..\" + txt.substring(x, txt.length);\n                return;\n            }\n        }\n    }\n    t.textContent = \"\";\n}\n// zoom\nfunction zoom_reset(e) {\n    if (e.tagName == \"rect\") {\n        e.attributes.x.value = format_percent(100 * parseInt(e.attributes[\"fg:x\"].value) / total_samples);\n        e.attributes.width.value = format_percent(100 * parseInt(e.attributes[\"fg:w\"].value) / total_samples);\n    }\n    if (e.childNodes == undefined) return;\n    for(var i = 0, c = e.childNodes; i < c.length; i++) {\n        zoom_reset(c[i]);\n    }\n}\nfunction zoom_child(e, x, zoomed_width_samples) {\n    if (e.tagName == \"text\") {\n        var parent_x = parseFloat(find_child(e.parentNode, \"rect[x]\").attributes.x.value);\n        e.attributes.x.value = format_percent(parent_x + (100 * 3 / frames.attributes.width.value));\n    } else if (e.tagName == \"rect\") {\n        e.attributes.x.value = format_percent(100 * (parseInt(e.attributes[\"fg:x\"].value) - x) / zoomed_width_samples);\n        e.attributes.width.value = format_percent(100 * parseInt(e.attributes[\"fg:w\"].value) / zoomed_width_samples);\n    }\n    if (e.childNodes == undefined) return;\n    for(var i = 0, c = e.childNodes; i < c.length; i++) {\n        zoom_child(c[i], x, zoomed_width_samples);\n    }\n}\nfunction zoom_parent(e) {\n    if (e.attributes) {\n        if (e.attributes.x != undefined) {\n            e.attributes.x.value = \"0.0%\";\n        }\n        if (e.attributes.width != undefined) {\n            e.attributes.width.value = \"100.0%\";\n        }\n    }\n    if (e.childNodes == undefined) return;\n    for(var i = 0, c = e.childNodes; i < c.length; i++) {\n        zoom_parent(c[i]);\n    }\n}\nfunction zoom(node) {\n    var attr = find_child(node, \"rect\").attributes;\n    var width = parseInt(attr[\"fg:w\"].value);\n    var xmin = parseInt(attr[\"fg:x\"].value);\n    var xmax = xmin + width;\n    var ymin = parseFloat(attr.y.value);\n    unzoombtn.classList.remove(\"hide\");\n    var el = frames.children;\n    for (var i = 0; i < el.length; i++) {\n        var e = el[i];\n        var a = find_child(e, \"rect\").attributes;\n        var ex = parseInt(a[\"fg:x\"].value);\n        var ew = parseInt(a[\"fg:w\"].value);\n        // Is it an ancestor\n        if (!inverted) {\n            var upstack = parseFloat(a.y.value) > ymin;\n        } else {\n            var upstack = parseFloat(a.y.value) < ymin;\n        }\n        if (upstack) {\n            // Direct ancestor\n            if (ex <= xmin && (ex+ew) >= xmax) {\n                e.classList.add(\"parent\");\n                zoom_parent(e);\n                update_text(e);\n            }\n            // not in current path\n            else\n                e.classList.add(\"hide\");\n        }\n        // Children maybe\n        else {\n            // no common path\n            if (ex < xmin || ex >= xmax) {\n                e.classList.add(\"hide\");\n            }\n            else {\n                zoom_child(e, xmin, width);\n                update_text(e);\n            }\n        }\n    }\n}\nfunction unzoom() {\n    unzoombtn.classList.add(\"hide\");\n    var el = frames.children;\n    for(var i = 0; i < el.length; i++) {\n        el[i].classList.remove(\"parent\");\n        el[i].classList.remove(\"hide\");\n        zoom_reset(el[i]);\n        update_text(el[i]);\n    }\n}\n// search\nfunction reset_search() {\n    var el = document.querySelectorAll(\"#frames rect\");\n    for (var i = 0; i < el.length; i++) {\n        orig_load(el[i], \"fill\")\n    }\n    var params = get_params();\n    delete params.s;\n    history.replaceState(null, null, parse_params(params));\n}\nfunction search_prompt() {\n    if (!searching) {\n        var term = prompt(\"Enter a search term (regexp \" +\n            \"allowed, eg: ^ext4_)\", \"\");\n        if (term != null) {\n            search(term)\n        }\n    } else {\n        reset_search();\n        searching = 0;\n        searchbtn.classList.remove(\"show\");\n        searchbtn.firstChild.nodeValue = \"Search\"\n        matchedtxt.classList.add(\"hide\");\n        matchedtxt.firstChild.nodeValue = \"\"\n    }\n}\nfunction search(term) {\n    var re = new RegExp(term);\n    var el = frames.children;\n    var matches = new Object();\n    var maxwidth = 0;\n    for (var i = 0; i < el.length; i++) {\n        var e = el[i];\n        // Skip over frames which are either not visible, or below the zoomed-to frame\n        if (e.classList.contains(\"hide\") || e.classList.contains(\"parent\")) {\n            continue;\n        }\n        var func = g_to_func(e);\n        var rect = find_child(e, \"rect\");\n        if (func == null || rect == null)\n            continue;\n        // Save max width. Only works as we have a root frame\n        var w = parseInt(rect.attributes[\"fg:w\"].value);\n        if (w > maxwidth)\n            maxwidth = w;\n        if (func.match(re)) {\n            // highlight\n            var x = parseInt(rect.attributes[\"fg:x\"].value);\n            orig_save(rect, \"fill\");\n            rect.attributes.fill.value = searchcolor;\n            // remember matches\n            if (matches[x] == undefined) {\n                matches[x] = w;\n            } else {\n                if (w > matches[x]) {\n                    // overwrite with parent\n                    matches[x] = w;\n                }\n            }\n            searching = 1;\n        }\n    }\n    if (!searching)\n        return;\n    var params = get_params();\n    params.s = term;\n    history.replaceState(null, null, parse_params(params));\n\n    searchbtn.classList.add(\"show\");\n    searchbtn.firstChild.nodeValue = \"Reset Search\";\n    // calculate percent matched, excluding vertical overlap\n    var count = 0;\n    var lastx = -1;\n    var lastw = 0;\n    var keys = Array();\n    for (k in matches) {\n        if (matches.hasOwnProperty(k))\n            keys.push(k);\n    }\n    // sort the matched frames by their x location\n    // ascending, then width descending\n    keys.sort(function(a, b){\n        return a - b;\n    });\n    // Step through frames saving only the biggest bottom-up frames\n    // thanks to the sort order. This relies on the tree property\n    // where children are always smaller than their parents.\n    for (var k in keys) {\n        var x = parseInt(keys[k]);\n        var w = matches[keys[k]];\n        if (x >= lastx + lastw) {\n            count += w;\n            lastx = x;\n            lastw = w;\n        }\n    }\n    // display matched percent\n    matchedtxt.classList.remove(\"hide\");\n    var pct = 100 * count / maxwidth;\n    if (pct != 100) pct = pct.toFixed(1);\n    matchedtxt.firstChild.nodeValue = \"Matched: \" + pct + \"%\";\n}\nfunction format_percent(n) {\n    return n.toFixed(4) + \"%\";\n}\n]]></script><rect x=\"0\" y=\"0\" width=\"100%\" height=\"266\" fill=\"url(#background)\"/><text id=\"title\" x=\"50.0000%\" y=\"24.00\">py-spy record -o profile.svg -- python long_multiple_calls.py</text><text id=\"details\" x=\"10\" y=\"40.00\"> </text><text id=\"unzoom\" class=\"hide\" x=\"10\" y=\"24.00\">Reset Zoom</text><text id=\"search\" x=\"1190\" y=\"24.00\">Search</text><text id=\"matched\" x=\"1190\" y=\"255.00\"> </text><svg id=\"frames\" x=\"10\" width=\"1180\" total_samples=\"1492\"><g><title>func_b (long_multiple_calls.py:8) (221 samples, 14.81%)</title><rect x=\"0.0000%\" y=\"100\" width=\"14.8123%\" height=\"15\" fill=\"rgb(227,0,7)\" fg:x=\"0\" fg:w=\"221\"/><text x=\"0.2500%\" y=\"110.50\">func_b (long_multiple_c..</text></g><g><title>func_e (long_multiple_calls.py:15) (46 samples, 3.08%)</title><rect x=\"47.9893%\" y=\"116\" width=\"3.0831%\" height=\"15\" fill=\"rgb(217,0,24)\" fg:x=\"716\" fg:w=\"46\"/><text x=\"48.2393%\" y=\"126.50\">fun..</text></g><g><title>func_a (long_multiple_calls.py:4) (839 samples, 56.23%)</title><rect x=\"0.0000%\" y=\"84\" width=\"56.2332%\" height=\"15\" fill=\"rgb(221,193,54)\" fg:x=\"0\" fg:w=\"839\"/><text x=\"0.2500%\" y=\"94.50\">func_a (long_multiple_calls.py:4)</text></g><g><title>func_b (long_multiple_calls.py:9) (618 samples, 41.42%)</title><rect x=\"14.8123%\" y=\"100\" width=\"41.4209%\" height=\"15\" fill=\"rgb(248,212,6)\" fg:x=\"221\" fg:w=\"618\"/><text x=\"15.0623%\" y=\"110.50\">func_b (long_multiple_calls.py:9)</text></g><g><title>func_e (long_multiple_calls.py:16) (77 samples, 5.16%)</title><rect x=\"51.0724%\" y=\"116\" width=\"5.1609%\" height=\"15\" fill=\"rgb(208,68,35)\" fg:x=\"762\" fg:w=\"77\"/><text x=\"51.3224%\" y=\"126.50\">func_e..</text></g><g><title>func_c (long_multiple_calls.py:12) (196 samples, 13.14%)</title><rect x=\"56.3003%\" y=\"100\" width=\"13.1367%\" height=\"15\" fill=\"rgb(232,128,0)\" fg:x=\"840\" fg:w=\"196\"/><text x=\"56.5503%\" y=\"110.50\">func_c (long_multipl..</text></g><g><title>func_e (long_multiple_calls.py:15) (35 samples, 2.35%)</title><rect x=\"94.4370%\" y=\"116\" width=\"2.3458%\" height=\"15\" fill=\"rgb(207,160,47)\" fg:x=\"1409\" fg:w=\"35\"/><text x=\"94.6870%\" y=\"126.50\">f..</text></g><g><title>&lt;module&gt; (long_multiple_calls.py:18) (1,490 samples, 99.87%)</title><rect x=\"0.0000%\" y=\"68\" width=\"99.8660%\" height=\"15\" fill=\"rgb(228,23,34)\" fg:x=\"0\" fg:w=\"1490\"/><text x=\"0.2500%\" y=\"78.50\">&lt;module&gt; (long_multiple_calls.py:18)</text></g><g><title>func_a (long_multiple_calls.py:5) (651 samples, 43.63%)</title><rect x=\"56.2332%\" y=\"84\" width=\"43.6327%\" height=\"15\" fill=\"rgb(218,30,26)\" fg:x=\"839\" fg:w=\"651\"/><text x=\"56.4832%\" y=\"94.50\">func_a (long_multiple_calls.py:5)</text></g><g><title>func_c (long_multiple_calls.py:13) (454 samples, 30.43%)</title><rect x=\"69.4370%\" y=\"100\" width=\"30.4290%\" height=\"15\" fill=\"rgb(220,122,19)\" fg:x=\"1036\" fg:w=\"454\"/><text x=\"69.6870%\" y=\"110.50\">func_c (long_multiple_calls.py:13)</text></g><g><title>func_e (long_multiple_calls.py:16) (46 samples, 3.08%)</title><rect x=\"96.7828%\" y=\"116\" width=\"3.0831%\" height=\"15\" fill=\"rgb(250,228,42)\" fg:x=\"1444\" fg:w=\"46\"/><text x=\"97.0328%\" y=\"126.50\">fun..</text></g><g><title>all (1,492 samples, 100%)</title><rect x=\"0.0000%\" y=\"52\" width=\"100.0000%\" height=\"15\" fill=\"rgb(240,193,28)\" fg:x=\"0\" fg:w=\"1492\"/><text x=\"0.2500%\" y=\"62.50\"/></g><g><title>_find_and_load (&lt;frozen importlib._bootstrap&gt;:991) (2 samples, 0.13%)</title><rect x=\"99.8660%\" y=\"68\" width=\"0.1340%\" height=\"15\" fill=\"rgb(216,20,37)\" fg:x=\"1490\" fg:w=\"2\"/><text x=\"100.1160%\" y=\"78.50\"/></g><g><title>_find_and_load_unlocked (&lt;frozen importlib._bootstrap&gt;:975) (2 samples, 0.13%)</title><rect x=\"99.8660%\" y=\"84\" width=\"0.1340%\" height=\"15\" fill=\"rgb(206,188,39)\" fg:x=\"1490\" fg:w=\"2\"/><text x=\"100.1160%\" y=\"94.50\"/></g><g><title>_load_unlocked (&lt;frozen importlib._bootstrap&gt;:671) (2 samples, 0.13%)</title><rect x=\"99.8660%\" y=\"100\" width=\"0.1340%\" height=\"15\" fill=\"rgb(217,207,13)\" fg:x=\"1490\" fg:w=\"2\"/><text x=\"100.1160%\" y=\"110.50\"/></g><g><title>exec_module (&lt;frozen importlib._bootstrap_external&gt;:848) (2 samples, 0.13%)</title><rect x=\"99.8660%\" y=\"116\" width=\"0.1340%\" height=\"15\" fill=\"rgb(231,73,38)\" fg:x=\"1490\" fg:w=\"2\"/><text x=\"100.1160%\" y=\"126.50\"/></g><g><title>_call_with_frames_removed (&lt;frozen importlib._bootstrap&gt;:219) (2 samples, 0.13%)</title><rect x=\"99.8660%\" y=\"132\" width=\"0.1340%\" height=\"15\" fill=\"rgb(225,20,46)\" fg:x=\"1490\" fg:w=\"2\"/><text x=\"100.1160%\" y=\"142.50\"/></g><g><title>&lt;module&gt; (site.py:597) (2 samples, 0.13%)</title><rect x=\"99.8660%\" y=\"148\" width=\"0.1340%\" height=\"15\" fill=\"rgb(210,31,41)\" fg:x=\"1490\" fg:w=\"2\"/><text x=\"100.1160%\" y=\"158.50\"/></g><g><title>main (site.py:584) (2 samples, 0.13%)</title><rect x=\"99.8660%\" y=\"164\" width=\"0.1340%\" height=\"15\" fill=\"rgb(221,200,47)\" fg:x=\"1490\" fg:w=\"2\"/><text x=\"100.1160%\" y=\"174.50\"/></g><g><title>addsitepackages (site.py:367) (2 samples, 0.13%)</title><rect x=\"99.8660%\" y=\"180\" width=\"0.1340%\" height=\"15\" fill=\"rgb(226,26,5)\" fg:x=\"1490\" fg:w=\"2\"/><text x=\"100.1160%\" y=\"190.50\"/></g><g><title>addsitedir (site.py:214) (2 samples, 0.13%)</title><rect x=\"99.8660%\" y=\"196\" width=\"0.1340%\" height=\"15\" fill=\"rgb(249,33,26)\" fg:x=\"1490\" fg:w=\"2\"/><text x=\"100.1160%\" y=\"206.50\"/></g><g><title>addpackage (site.py:175) (2 samples, 0.13%)</title><rect x=\"99.8660%\" y=\"212\" width=\"0.1340%\" height=\"15\" fill=\"rgb(235,183,28)\" fg:x=\"1490\" fg:w=\"2\"/><text x=\"100.1160%\" y=\"222.50\"/></g><g><title>&lt;module&gt; (&lt;string&gt;:1) (2 samples, 0.13%)</title><rect x=\"99.8660%\" y=\"228\" width=\"0.1340%\" height=\"15\" fill=\"rgb(221,5,38)\" fg:x=\"1490\" fg:w=\"2\"/><text x=\"100.1160%\" y=\"238.50\"/></g></svg></svg>"
          },
          "metadata": {},
          "execution_count": 18
        }
      ]
    },
    {
      "cell_type": "markdown",
      "metadata": {
        "id": "EEVdywcMkMC7"
      },
      "source": [
        "What we see on top is known as a flame graph. We can discuss a bit more on this flame graph.\n",
        "\n",
        "The flame graph is a collection of stack traces and these traces are arranged as column of boxes, where each box represents a function or a stack frame.\n",
        "\n",
        "The y-axis shows the depth and in this case, it is ordered from the top (root) to the bottom (leaf).\n",
        "\n",
        "The x-axis spans the stack trace collection and the ordering is in alphabetical, and not by time.\n",
        "\n",
        "The width of each function box shows the frequency at which that function was present in the stack traces. So in this example, it shows clearly that the bulk of the cummulative time was spent in calling function_b and function_c from function_a.\n",
        "\n",
        "The background colors for each box are chosen purely for asthestic purposes and have no inherent meaning.\n",
        "\n",
        "*source: https://cacm.acm.org/magazines/2016/6/202665-the-flame-graph/fulltext*"
      ]
    },
    {
      "cell_type": "markdown",
      "metadata": {
        "id": "B5rrcVpkhmqs"
      },
      "source": [
        "One of the useful commands is the Top command. Top shows a live view of what functions are taking the most time in your python program. Running py-spy with the top command gives you the following live statistical updates:"
      ]
    },
    {
      "cell_type": "code",
      "metadata": {
        "id": "ZQ0WIs7mf87V",
        "colab": {
          "base_uri": "https://localhost:8080/"
        },
        "outputId": "b9796675-1b22-4e65-f553-ebb447a8c83a"
      },
      "source": [],
      "execution_count": null,
      "outputs": [
        {
          "output_type": "stream",
          "name": "stdout",
          "text": [
            "\n",
            "\n",
            "\n",
            "\n",
            "\n",
            "\n",
            "\n",
            "\n",
            "\n",
            "\n",
            "\n",
            "\n",
            "\n",
            "\n",
            "\n",
            "\n",
            "\n",
            "\n",
            "\n",
            "\n",
            "\n",
            "\n",
            "\n",
            "\n",
            "\n",
            "\u001b[2KCollecting samples from '\u001b[32mpython3 multiple_calls.py\u001b[0m' (python v3.8.10)\n",
            "\u001b[2KTotal Samples \u001b[1m10\u001b[0m\n",
            "\u001b[2KGIL: \u001b[1m100.00\u001b[0m%, Active: \u001b[1m100.00\u001b[0m%, Threads: \u001b[1m1\u001b[0m\n",
            "\u001b[2K\n",
            "\u001b[2K\u001b[7m  %Own \u001b[0m\u001b[7m  %Total\u001b[0m\u001b[1m\u001b[7m  OwnTime\u001b[0m\u001b[7m  TotalTime\u001b[0m\u001b[7m  Function (filename)                        \u001b[0m\n",
            "\u001b[2K 60.00%  70.00%   0.060s    0.070s   func_b (multiple_calls.py)\n",
            "\u001b[2K 10.00%  10.00%   0.010s    0.010s   func_c (multiple_calls.py)\n",
            "\u001b[2K 10.00%  20.00%   0.010s    0.020s   _call_with_frames_removed (<frozen importli\n",
            "\u001b[2K 10.00%  10.00%   0.010s    0.010s   func_e (multiple_calls.py)\n",
            "\u001b[2K 10.00%  10.00%   0.010s    0.010s   addpackage (site.py)\n",
            "\u001b[2K  0.00%  10.00%   0.000s    0.010s   _setoption (warnings.py)\n",
            "\u001b[2K  0.00%  20.00%   0.000s    0.020s   _load_unlocked (<frozen importlib._bootstra\n",
            "\u001b[2K  0.00%  20.00%   0.000s    0.020s   _find_and_load_unlocked (<frozen importlib.\n",
            "\u001b[2K  0.00%  10.00%   0.000s    0.010s   addsitedir (site.py)\n",
            "\u001b[2K  0.00%  20.00%   0.000s    0.020s   exec_module (<frozen importlib._bootstrap_e\n",
            "\u001b[2K  0.00%  10.00%   0.000s    0.010s   main (site.py)\n",
            "\u001b[2K  0.00%  10.00%   0.000s    0.010s   <module> (warnings.py)\n",
            "\u001b[2K  0.00%  10.00%   0.000s    0.010s   addsitepackages (site.py)\n",
            "\u001b[2K  0.00%  10.00%   0.000s    0.010s   module_from_spec (<frozen importlib._bootst\n",
            "\u001b[2K  0.00%  10.00%   0.000s    0.010s   create_module (<frozen importlib._bootstrap\n",
            "\u001b[2K  0.00%  10.00%   0.000s    0.010s   _processoptions (warnings.py)\n",
            "\u001b[2K\n",
            "\u001b[2KPress \u001b[1m\u001b[7mControl-C\u001b[0m to quit, or \u001b[1m\u001b[7m?\u001b[0m for help.\n",
            "\u001b[2KCollecting samples from '\u001b[32mpython3 multiple_calls.py\u001b[0m' (python v3.8.10)\n",
            "\u001b[2KTotal Samples \u001b[1m100\u001b[0m\n",
            "\u001b[2KGIL: \u001b[1m100.00\u001b[0m%, Active: \u001b[1m100.00\u001b[0m%, Threads: \u001b[1m1\u001b[0m\n",
            "\u001b[2K\n",
            "\u001b[2K\u001b[7m  %Own \u001b[0m\u001b[7m  %Total\u001b[0m\u001b[1m\u001b[7m  OwnTime\u001b[0m\u001b[7m  TotalTime\u001b[0m\u001b[7m  Function (filename)                        \u001b[0m\n",
            "\u001b[2K 46.67%  56.67%   0.480s    0.580s   func_b (multiple_calls.py)\n",
            "\u001b[2K 37.78%  43.33%   0.350s    0.400s   func_c (multiple_calls.py)\n",
            "\u001b[2K 15.56%  15.56%   0.150s    0.150s   func_e (multiple_calls.py)\n",
            "\u001b[2K  0.00%   0.00%   0.010s    0.020s   _call_with_frames_removed (<frozen importli\n",
            "\u001b[2K  0.00%   0.00%   0.010s    0.010s   addpackage (site.py)\n",
            "\u001b[2K  0.00%   0.00%   0.000s    0.010s   _setoption (warnings.py)\n",
            "\u001b[2K  0.00%   0.00%   0.000s    0.020s   _load_unlocked (<frozen importlib._bootstra\n",
            "\u001b[2K  0.00%   0.00%   0.000s    0.020s   _find_and_load_unlocked (<frozen importlib.\n",
            "\u001b[2K  0.00%   0.00%   0.000s    0.010s   addsitedir (site.py)\n",
            "\u001b[2K  0.00%   0.00%   0.000s    0.020s   exec_module (<frozen importlib._bootstrap_e\n",
            "\u001b[2K  0.00%   0.00%   0.000s    0.010s   main (site.py)\n",
            "\u001b[2K  0.00%   0.00%   0.000s    0.010s   <module> (warnings.py)\n",
            "\u001b[2K  0.00%   0.00%   0.000s    0.010s   addsitepackages (site.py)\n",
            "\u001b[2K  0.00%   0.00%   0.000s    0.010s   module_from_spec (<frozen importlib._bootst\n",
            "\u001b[2K  0.00%   0.00%   0.000s    0.010s   create_module (<frozen importlib._bootstrap\n",
            "\u001b[2K  0.00%   0.00%   0.000s    0.010s   _processoptions (warnings.py)\n",
            "\u001b[2K\n",
            "\u001b[2KPress \u001b[1m\u001b[7mControl-C\u001b[0m to quit, or \u001b[1m\u001b[7m?\u001b[0m for help.\n",
            "\u001b[2KCollecting samples from '\u001b[32mpython3 multiple_calls.py\u001b[0m' (python v3.8.10)\n",
            "\u001b[2KTotal Samples \u001b[1m200\u001b[0m\n",
            "\u001b[2KGIL: \u001b[1m100.00\u001b[0m%, Active: \u001b[1m100.00\u001b[0m%, Threads: \u001b[1m1\u001b[0m\n",
            "\u001b[2K\n",
            "\u001b[2K\u001b[7m  %Own \u001b[0m\u001b[7m  %Total\u001b[0m\u001b[1m\u001b[7m  OwnTime\u001b[0m\u001b[7m  TotalTime\u001b[0m\u001b[7m  Function (filename)                        \u001b[0m\n",
            "\u001b[2K 49.00%  52.00%   0.970s     1.10s   func_b (multiple_calls.py)\n",
            "\u001b[2K 37.00%  48.00%   0.720s    0.880s   func_c (multiple_calls.py)\n",
            "\u001b[2K 14.00%  14.00%   0.290s    0.290s   func_e (multiple_calls.py)\n",
            "\u001b[2K  0.00%   0.00%   0.010s    0.020s   _call_with_frames_removed (<frozen importli\n",
            "\u001b[2K  0.00%   0.00%   0.010s    0.010s   addpackage (site.py)\n",
            "\u001b[2K  0.00%   0.00%   0.000s    0.010s   _setoption (warnings.py)\n",
            "\u001b[2K  0.00%   0.00%   0.000s    0.020s   _load_unlocked (<frozen importlib._bootstra\n",
            "\u001b[2K  0.00%   0.00%   0.000s    0.020s   _find_and_load_unlocked (<frozen importlib.\n",
            "\u001b[2K  0.00%   0.00%   0.000s    0.010s   addsitedir (site.py)\n",
            "\u001b[2K  0.00%   0.00%   0.000s    0.020s   exec_module (<frozen importlib._bootstrap_e\n",
            "\u001b[2K  0.00%   0.00%   0.000s    0.010s   main (site.py)\n",
            "\u001b[2K  0.00%   0.00%   0.000s    0.010s   <module> (warnings.py)\n",
            "\u001b[2K  0.00%   0.00%   0.000s    0.010s   addsitepackages (site.py)\n",
            "\u001b[2K  0.00%   0.00%   0.000s    0.010s   module_from_spec (<frozen importlib._bootst\n",
            "\u001b[2K  0.00%   0.00%   0.000s    0.010s   create_module (<frozen importlib._bootstrap\n",
            "\u001b[2K  0.00%   0.00%   0.000s    0.010s   _processoptions (warnings.py)\n",
            "\u001b[2K\n",
            "\u001b[2KPress \u001b[1m\u001b[7mControl-C\u001b[0m to quit, or \u001b[1m\u001b[7m?\u001b[0m for help.\n",
            "\n",
            "process 892 ended\n"
          ]
        }
      ]
    },
    {
      "cell_type": "markdown",
      "metadata": {
        "id": "a3HpX5hciVfx"
      },
      "source": [
        "Let us compare this with cProfile to see if there is any delta between the two."
      ]
    },
    {
      "cell_type": "code",
      "metadata": {
        "id": "uq35w2zmgy_0",
        "colab": {
          "base_uri": "https://localhost:8080/"
        },
        "outputId": "d0771ea8-c30e-448f-9e41-a6b4da63a531"
      },
      "source": [],
      "execution_count": null,
      "outputs": [
        {
          "output_type": "stream",
          "name": "stdout",
          "text": [
            "         132002004 function calls in 32.921 seconds\n",
            "\n",
            "   Ordered by: internal time\n",
            "\n",
            "   ncalls  tottime  percall  cumtime  percall filename:lineno(function)\n",
            "     1000   13.155    0.013   19.277    0.019 long_multiple_calls.py:7(func_b)\n",
            "132000000   10.440    0.000   10.440    0.000 long_multiple_calls.py:15(func_e)\n",
            "     1000    9.323    0.009   13.641    0.014 long_multiple_calls.py:11(func_c)\n",
            "        1    0.003    0.003   32.921   32.921 long_multiple_calls.py:2(func_a)\n",
            "        1    0.000    0.000   32.921   32.921 {built-in method builtins.exec}\n",
            "        1    0.000    0.000   32.921   32.921 long_multiple_calls.py:2(<module>)\n",
            "        1    0.000    0.000    0.000    0.000 {method 'disable' of '_lsprof.Profiler' objects}\n",
            "\n",
            "\n"
          ]
        }
      ]
    }
  ]
}