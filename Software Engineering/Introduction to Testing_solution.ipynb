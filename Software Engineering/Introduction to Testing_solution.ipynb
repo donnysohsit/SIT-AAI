{
  "nbformat": 4,
  "nbformat_minor": 0,
  "metadata": {
    "colab": {
      "provenance": []
    },
    "kernelspec": {
      "name": "python3",
      "display_name": "Python 3"
    },
    "language_info": {
      "name": "python"
    }
  },
  "cells": [
    {
      "cell_type": "markdown",
      "metadata": {
        "id": "iLFk24s86xmn"
      },
      "source": [
        "## Section 4b. Testing"
      ]
    },
    {
      "cell_type": "markdown",
      "metadata": {
        "id": "XooXaS5Z61kC"
      },
      "source": [
        "Maintenance of software takes up 67% of the costs of a software. A good way of ensuring that your code can be maintained better is by testing the code to  ensure that the presense of issues / bugs are minimized.\n",
        "\n",
        "Recall that in our discussion on requirements engineering, we talked about two forms of requirements: functional requirements and non-functional requirements.\n",
        "\n",
        "Functional requirements cover what the user is able to do. Non-functional requirements are the quantifiable constraints. In the same way, we can loosely categorize testing into these two forms. We have functional testing, which tests if the software is able to carry out what the user wants it to do. Non functional testing tests if the user is able to do it eg within x ms, or some other constaint."
      ]
    },
    {
      "cell_type": "markdown",
      "metadata": {
        "id": "GJe2h6CY_1zO"
      },
      "source": [
        "In terms of functional tests, there are a few forms of testing and we will cover only a subset. We cover the following in particular:\n",
        "\n",
        "*   Whitebox testing: Unit Tests\n",
        "*   Blackbox testing: User acceptance tests\n",
        "\n",
        "\n",
        "Some of the other forms of tests not covered in the module are:\n",
        "*   Integration tests (Functional test)\n",
        "*   Regression tests (Functional test)\n",
        "*   Load tests (Non Functional test)\n",
        "*   and tons of others...."
      ]
    },
    {
      "cell_type": "markdown",
      "metadata": {
        "id": "nQG-XssHvIWJ"
      },
      "source": [
        "### Section 4b.1 Unit testing for simple functions\n",
        "\n",
        "Unit testing tests individual units or components of a software to check that these components gives the correct output based on the input. In this module, we will discuss unit tests using the python unittest framework. Firstly, lets create a simple file with a few math functions."
      ]
    },
    {
      "cell_type": "code",
      "metadata": {
        "colab": {
          "base_uri": "https://localhost:8080/"
        },
        "id": "NPW9DBbIA6YK",
        "outputId": "d807c65a-a7af-4c16-be45-9152c617c49e"
      },
      "source": [
        "%%writefile simple_math.py\n",
        "\n",
        "def add(x,y):\n",
        "  return x + y\n",
        "\n",
        "def multiply(x,y):\n",
        "  return x*y"
      ],
      "execution_count": null,
      "outputs": [
        {
          "output_type": "stream",
          "name": "stdout",
          "text": [
            "Writing simple_math.py\n"
          ]
        }
      ]
    },
    {
      "cell_type": "code",
      "metadata": {
        "colab": {
          "base_uri": "https://localhost:8080/"
        },
        "id": "tTQESXnKBFXb",
        "outputId": "6b1acf85-539b-4f15-e420-622e92bfb888"
      },
      "source": [
        "!ls"
      ],
      "execution_count": null,
      "outputs": [
        {
          "output_type": "stream",
          "name": "stdout",
          "text": [
            "sample_data  simple_math.py\n"
          ]
        }
      ]
    },
    {
      "cell_type": "markdown",
      "metadata": {
        "id": "noi3-xx0BI33"
      },
      "source": [
        "We are using the %%writefile magic keyword. This keyword allows us to write the code in our cell to file. As you can see above, the simple_math.py file is created in our colab. The contents of the file will be that of the cell. We can now start to write tests for our simple_math.py. We will do that using the unittest framework.\n",
        "\n",
        "In the unittest framework, the first thing we have to do is to import both the framework as well as the file we are looking to test. Hence\n",
        "\n",
        "```\n",
        "import unittest\n",
        "import simple_math as sm\n",
        "```"
      ]
    },
    {
      "cell_type": "markdown",
      "metadata": {
        "id": "uEp8xRi_BnEI"
      },
      "source": [
        "The next step is to create a test class. The test class typically looks like the following:\n",
        "\n",
        "```\n",
        "class TestMath(unittest.TestCase):\n",
        "  pass\n",
        "```"
      ]
    },
    {
      "cell_type": "markdown",
      "metadata": {
        "id": "Mh-_2fx4CRGN"
      },
      "source": [
        "Here you can start to see something that we learnt in the previous class, where the class TestMath is a subclass of the unittest.TestCase class. However in this class, we do not need functions such as __init__. What we need are our individual functions to test the functions in simple_math.py. Let us start to write these tests now."
      ]
    },
    {
      "cell_type": "code",
      "metadata": {
        "colab": {
          "base_uri": "https://localhost:8080/"
        },
        "id": "PZhqu_e2Cffe",
        "outputId": "eddefcba-bc23-45ce-b72c-0fbc167fc78f"
      },
      "source": [
        "%%writefile test_simple_math.py\n",
        "\n",
        "import unittest\n",
        "import simple_math as sm\n",
        "\n",
        "class TestMath(unittest.TestCase):\n",
        "\tdef test_add(self):\n",
        "\t\tself.assertEqual(sm.add(10,15), 25)\n",
        "\n",
        "\tdef test_multiply(self):\n",
        "\t\tself.assertEqual(sm.multiply(10,5), 50)\n",
        "\n",
        "if __name__ == '__main__':\n",
        "\tunittest.main()"
      ],
      "execution_count": null,
      "outputs": [
        {
          "output_type": "stream",
          "name": "stdout",
          "text": [
            "Writing test_simple_math.py\n"
          ]
        }
      ]
    },
    {
      "cell_type": "code",
      "metadata": {
        "colab": {
          "base_uri": "https://localhost:8080/"
        },
        "id": "qHfxQ17ABUpD",
        "outputId": "ca9468d0-1ea0-445b-801f-fdc49eb5fbae"
      },
      "source": [
        "!python test_simple_math.py"
      ],
      "execution_count": null,
      "outputs": [
        {
          "output_type": "stream",
          "name": "stdout",
          "text": [
            "..\n",
            "----------------------------------------------------------------------\n",
            "Ran 2 tests in 0.000s\n",
            "\n",
            "OK\n"
          ]
        }
      ]
    },
    {
      "cell_type": "markdown",
      "metadata": {
        "id": "XrPMMZhGDQ9p"
      },
      "source": [
        "Practice: Now write the code for minus and divide."
      ]
    },
    {
      "cell_type": "code",
      "metadata": {
        "colab": {
          "base_uri": "https://localhost:8080/"
        },
        "id": "Ik1upIb1Dey4",
        "outputId": "9b2537af-c315-4839-8603-c2e8c2f457d8"
      },
      "source": [
        "%%writefile simple_math.py\n",
        "\n",
        "def add(x,y):\n",
        "  return x + y\n",
        "\n",
        "def minus(x,y):\n",
        "  return x-y\n",
        "\n",
        "def multiply(x,y):\n",
        "  return x*y\n",
        "\n",
        "def divide(x,y):\n",
        "  return x/y"
      ],
      "execution_count": null,
      "outputs": [
        {
          "output_type": "stream",
          "name": "stdout",
          "text": [
            "Overwriting simple_math.py\n"
          ]
        }
      ]
    },
    {
      "cell_type": "code",
      "metadata": {
        "colab": {
          "base_uri": "https://localhost:8080/"
        },
        "id": "HdDibG5KDszX",
        "outputId": "3a05f661-85de-4c48-9453-4fb5e22a19ef"
      },
      "source": [
        "%%writefile test_simple_math.py\n",
        "\n",
        "import unittest\n",
        "import simple_math as sm\n",
        "\n",
        "class TestMath(unittest.TestCase):\n",
        "\tdef test_add(self):\n",
        "\t\tself.assertEqual(sm.add(10,15), 25)\n",
        "\n",
        "\tdef test_minus(self):\n",
        "\t\tself.assertEqual(sm.minus(10,5), 5)\n",
        "\n",
        "\tdef test_multiply(self):\n",
        "\t\tself.assertEqual(sm.multiply(10,5), 50)\n",
        "\n",
        "\tdef test_divide(self):\n",
        "\t\tself.assertEqual(sm.divide(10,5), 2)\n",
        "\t\tself.assertRaises(ZeroDivisionError, sm.divide, 5, 0)\n",
        "\n",
        "if __name__ == '__main__':\n",
        "\tunittest.main()"
      ],
      "execution_count": null,
      "outputs": [
        {
          "output_type": "stream",
          "name": "stdout",
          "text": [
            "Overwriting test_simple_math.py\n"
          ]
        }
      ]
    },
    {
      "cell_type": "code",
      "metadata": {
        "colab": {
          "base_uri": "https://localhost:8080/"
        },
        "id": "Bf_1diOeD8nW",
        "outputId": "7534d78b-019a-4929-9077-15ee0c465ab8"
      },
      "source": [
        "!python test_simple_math.py"
      ],
      "execution_count": null,
      "outputs": [
        {
          "output_type": "stream",
          "name": "stdout",
          "text": [
            "....\n",
            "----------------------------------------------------------------------\n",
            "Ran 4 tests in 0.002s\n",
            "\n",
            "OK\n"
          ]
        }
      ]
    },
    {
      "cell_type": "markdown",
      "metadata": {
        "id": "tKr_-v_ivRMb"
      },
      "source": [
        "### Section 4b.2 Unit testing in classes"
      ]
    },
    {
      "cell_type": "markdown",
      "metadata": {
        "id": "pkUuYy8UIlW-"
      },
      "source": [
        "Let us start again from our employee class that we saw the previous time."
      ]
    },
    {
      "cell_type": "code",
      "metadata": {
        "colab": {
          "base_uri": "https://localhost:8080/"
        },
        "id": "zu7S91LNItUi",
        "outputId": "79c697c5-1383-4dbb-a7e1-00cc4694061c"
      },
      "source": [
        "%%writefile employee.py\n",
        "\n",
        "class Employee:\n",
        "  yearly_increment = 1.05\n",
        "\n",
        "  def __init__ (self, name, pay):\n",
        "    self.name = name\n",
        "    self.pay = pay\n",
        "\n",
        "  def increment_pay(self):\n",
        "    self.pay *= Employee.yearly_increment\n",
        "\n",
        "  def print_name(self):\n",
        "    print(self.name)\n",
        "\n",
        "  def __repr__(self):\n",
        "    return f\"Employee({self.name}, {self.pay})\"\n",
        "\n",
        "  def __str__(self):\n",
        "    return f\"{self.name} draws pay {self.pay}\""
      ],
      "execution_count": null,
      "outputs": [
        {
          "output_type": "stream",
          "name": "stdout",
          "text": [
            "Writing employee.py\n"
          ]
        }
      ]
    },
    {
      "cell_type": "code",
      "metadata": {
        "colab": {
          "base_uri": "https://localhost:8080/"
        },
        "id": "O8cgPTdjI_2e",
        "outputId": "b0504801-a9c4-43f8-e10b-9e33fc3805d5"
      },
      "source": [
        "%%writefile driver_employee.py\n",
        "\n",
        "import employee as Emp\n",
        "\n",
        "t1 = Emp.Employee(\"Amy\", 1000)\n",
        "t1.print_name()\n",
        "print(repr(t1))\n",
        "print(str(t1))\n",
        "t1.increment_pay()\n",
        "print(t1)"
      ],
      "execution_count": null,
      "outputs": [
        {
          "output_type": "stream",
          "name": "stdout",
          "text": [
            "Writing driver_employee.py\n"
          ]
        }
      ]
    },
    {
      "cell_type": "code",
      "metadata": {
        "colab": {
          "base_uri": "https://localhost:8080/"
        },
        "id": "MImsesWCJ1gH",
        "outputId": "fff42009-a117-4e68-818e-c0204132efa7"
      },
      "source": [
        "!python driver_employee.py"
      ],
      "execution_count": null,
      "outputs": [
        {
          "output_type": "stream",
          "name": "stdout",
          "text": [
            "Amy\n",
            "Employee(Amy, 1000)\n",
            "Amy draws pay 1000\n",
            "Amy draws pay 1050.0\n"
          ]
        }
      ]
    },
    {
      "cell_type": "markdown",
      "metadata": {
        "id": "RnW7hbDAOu_R"
      },
      "source": [
        "Let us now write a test for the Employee class. We want to make sure that our class functions, for example that of increment is working as what we expect. Let us first write our unit test classes."
      ]
    },
    {
      "cell_type": "code",
      "metadata": {
        "colab": {
          "base_uri": "https://localhost:8080/"
        },
        "id": "Q59xEhgYFipa",
        "outputId": "89ef8ba1-3b56-4a6a-bacc-442fb5bbf378"
      },
      "source": [
        "%%writefile test_employee.py\n",
        "\n",
        "import unittest\n",
        "from employee import Employee\n",
        "\n",
        "class TestEmployee(unittest.TestCase):\n",
        "  pass\n",
        "\n",
        "if __name__ == '__main__':\n",
        "  unittest.main()"
      ],
      "execution_count": null,
      "outputs": [
        {
          "output_type": "stream",
          "name": "stdout",
          "text": [
            "Writing test_employee.py\n"
          ]
        }
      ]
    },
    {
      "cell_type": "code",
      "metadata": {
        "colab": {
          "base_uri": "https://localhost:8080/"
        },
        "id": "jx8PWO5tKvkS",
        "outputId": "25f4bb0b-3573-4cd6-c40c-9767b2b6d1de"
      },
      "source": [
        "!python test_employee.py"
      ],
      "execution_count": null,
      "outputs": [
        {
          "output_type": "stream",
          "name": "stdout",
          "text": [
            "\n",
            "----------------------------------------------------------------------\n",
            "Ran 0 tests in 0.000s\n",
            "\n",
            "OK\n"
          ]
        }
      ]
    },
    {
      "cell_type": "markdown",
      "metadata": {
        "id": "tgbtloSvHDuI"
      },
      "source": [
        "With that, let's now write two simple superficial tests."
      ]
    },
    {
      "cell_type": "code",
      "metadata": {
        "colab": {
          "base_uri": "https://localhost:8080/"
        },
        "id": "oysbX4rrKTZx",
        "outputId": "8761b79e-a2b0-4878-c058-d38aabb4b435"
      },
      "source": [
        "%%writefile test_employee.py\n",
        "\n",
        "import unittest\n",
        "from employee import Employee\n",
        "\n",
        "class TestEmployee(unittest.TestCase):\n",
        "  def test_name(self):\n",
        "    self.employee1 = Employee(\"John\", 1000)\n",
        "    self.employee2 = Employee(\"Amy\", 2000)\n",
        "\n",
        "    self.assertEqual(self.employee1.name, \"John\")\n",
        "    self.assertEqual(self.employee2.name, \"Amy\")\n",
        "\n",
        "  def test_increment_pay(self):\n",
        "    self.employee1 = Employee(\"John\", 1000)\n",
        "    self.employee2 = Employee(\"Amy\", 2000)\n",
        "\n",
        "    self.employee1.increment_pay()\n",
        "    self.employee2.increment_pay()\n",
        "\n",
        "    self.assertEqual(self.employee1.pay, 1050)\n",
        "    self.assertEqual(self.employee2.pay, 2100)\n",
        "\n",
        "if __name__ == '__main__':\n",
        "  unittest.main()"
      ],
      "execution_count": null,
      "outputs": [
        {
          "output_type": "stream",
          "name": "stdout",
          "text": [
            "Overwriting test_employee.py\n"
          ]
        }
      ]
    },
    {
      "cell_type": "code",
      "metadata": {
        "colab": {
          "base_uri": "https://localhost:8080/"
        },
        "id": "4_OlRg4DNcZu",
        "outputId": "a40c79bb-e10d-4069-a450-6193f0cd458a"
      },
      "source": [
        "!ls"
      ],
      "execution_count": null,
      "outputs": [
        {
          "output_type": "stream",
          "name": "stdout",
          "text": [
            "driver_employee.py  __pycache__  simple_math.py    test_simple_math.py\n",
            "employee.py\t    sample_data  test_employee.py\n"
          ]
        }
      ]
    },
    {
      "cell_type": "code",
      "metadata": {
        "colab": {
          "base_uri": "https://localhost:8080/"
        },
        "id": "QKl63hTCK07Z",
        "outputId": "25acf0c5-f1ad-4773-9e2a-34d820896438"
      },
      "source": [
        "!python test_employee.py"
      ],
      "execution_count": null,
      "outputs": [
        {
          "output_type": "stream",
          "name": "stdout",
          "text": [
            "..\n",
            "----------------------------------------------------------------------\n",
            "Ran 2 tests in 0.000s\n",
            "\n",
            "OK\n"
          ]
        }
      ]
    },
    {
      "cell_type": "markdown",
      "metadata": {
        "id": "iv9v6YYeOjXF"
      },
      "source": [
        "Now you notice that we are repeating certain pieces of information within the test. This repeats a lot of code and is also prone to errors. What can be done is to have a setup and a tear down function. Hence we will have:"
      ]
    },
    {
      "cell_type": "code",
      "metadata": {
        "colab": {
          "base_uri": "https://localhost:8080/"
        },
        "id": "LBqqFmekPKkB",
        "outputId": "ed72ac96-8e0a-49ed-ff9b-4658bc6cd355"
      },
      "source": [
        "%%writefile test_employee.py\n",
        "\n",
        "import unittest\n",
        "from employee import Employee\n",
        "\n",
        "class TestEmployee(unittest.TestCase):\n",
        "  def setUp(self):\n",
        "    self.employee1 = Employee(\"John\", 1000)\n",
        "    self.employee2 = Employee(\"Amy\", 2000)\n",
        "\n",
        "  def tearDown(self):\n",
        "    del self.employee1\n",
        "    del self.employee2\n",
        "\n",
        "  def test_name(self):\n",
        "    self.assertEqual(self.employee1.name, \"John\")\n",
        "    self.assertEqual(self.employee2.name, \"Amy\")\n",
        "\n",
        "  def test_increment_pay(self):\n",
        "    self.employee1.increment_pay()\n",
        "    self.employee2.increment_pay()\n",
        "\n",
        "    self.assertEqual(self.employee1.pay, 1050)\n",
        "    self.assertEqual(self.employee2.pay, 2100)\n",
        "\n",
        "if __name__ == '__main__':\n",
        "  unittest.main()"
      ],
      "execution_count": null,
      "outputs": [
        {
          "output_type": "stream",
          "name": "stdout",
          "text": [
            "Overwriting test_employee.py\n"
          ]
        }
      ]
    },
    {
      "cell_type": "code",
      "metadata": {
        "colab": {
          "base_uri": "https://localhost:8080/"
        },
        "id": "PXGYnsaTPaBP",
        "outputId": "3c5db271-8d1f-4ac1-c503-69da64d3e1e9"
      },
      "source": [
        "!python test_employee.py"
      ],
      "execution_count": null,
      "outputs": [
        {
          "output_type": "stream",
          "name": "stdout",
          "text": [
            "..\n",
            "----------------------------------------------------------------------\n",
            "Ran 2 tests in 0.001s\n",
            "\n",
            "OK\n"
          ]
        }
      ]
    },
    {
      "cell_type": "markdown",
      "metadata": {
        "id": "TuaKwqxEN_fM"
      },
      "source": [
        "**Note** If you are going to use employee class in your python notebook in an interactive environment, you would need to restart your runtime first. Example:"
      ]
    },
    {
      "cell_type": "code",
      "metadata": {
        "colab": {
          "base_uri": "https://localhost:8080/"
        },
        "id": "GV-l4o-3OKib",
        "outputId": "7e29073c-0504-4787-8f11-4ad9950b2e16"
      },
      "source": [
        "import employee as Emp\n",
        "\n",
        "t1 = Emp.Employee(\"Amy\", 1000)\n",
        "t1.print_name()\n",
        "print(repr(t1))\n",
        "print(str(t1))\n",
        "t1.increment_pay()\n",
        "print(t1)"
      ],
      "execution_count": null,
      "outputs": [
        {
          "output_type": "stream",
          "name": "stdout",
          "text": [
            "Amy\n",
            "Employee(Amy, 1000)\n",
            "Amy draws pay 1000\n",
            "Amy draws pay 1050.0\n"
          ]
        }
      ]
    },
    {
      "cell_type": "markdown",
      "metadata": {
        "id": "ENRA4V3wRm_s"
      },
      "source": [
        "### Section 4b.3 Generation of Test Cases\n",
        "\n",
        "How then do we generate these test cases?\n",
        "\n",
        "**Step 1**: We look at the independently testable **Features**. For instance, if we have a function\n",
        "\n",
        "```\n",
        "def add(a, b):\n",
        "  pass\n",
        "```\n",
        "\n",
        "We only have one feature, which is the addition function to test in the function."
      ]
    },
    {
      "cell_type": "markdown",
      "metadata": {
        "id": "x7r1pU8HTaDl"
      },
      "source": [
        "Let's look at another example, that of the current jupyter notebook. There will be multiple functions such as:\n",
        "\n",
        "*   adding text cell\n",
        "*   adding code cell\n",
        "*   saving notebook\n",
        "\n",
        "It will be difficult to test all of these functions without a proper plan. Hence it is important to first get all the testable features of a piece of software."
      ]
    },
    {
      "cell_type": "markdown",
      "metadata": {
        "id": "GbpMavH_UJ-Y"
      },
      "source": [
        "**Step 2**: Identify Relevant Inputs for these features\n",
        "\n",
        "How can we pick relevant inputs?\n",
        "\n",
        "*   Exhaustive testing\n",
        "\n",
        "Not feasible... why...?"
      ]
    },
    {
      "cell_type": "code",
      "metadata": {
        "colab": {
          "base_uri": "https://localhost:8080/"
        },
        "id": "GTYi9OzUXEZl",
        "outputId": "db80eed2-ad47-4d1c-ae51-60d962ed0dcf"
      },
      "source": [
        "# take for instance testing addition between two numbers.\n",
        "\n",
        "# we need to test from 2^32 to 2^32.\n",
        "\n",
        "print(\"Number of tests are:\", 2**(32) * 2**(32))"
      ],
      "execution_count": null,
      "outputs": [
        {
          "output_type": "stream",
          "name": "stdout",
          "text": [
            "Number of tests are: 18446744073709551616\n"
          ]
        }
      ]
    },
    {
      "cell_type": "code",
      "metadata": {
        "colab": {
          "base_uri": "https://localhost:8080/"
        },
        "id": "xNn8d0oqXdvS",
        "outputId": "4506f08b-e1bb-4104-a740-98141736b25c"
      },
      "source": [
        "# if we can test 10^10 tests in a second, the number of seconds required is:\n",
        "\n",
        "print(\"Number of seconds required:\", 2**(32) * 2**(32) / (10**10))"
      ],
      "execution_count": null,
      "outputs": [
        {
          "output_type": "stream",
          "name": "stdout",
          "text": [
            "Number of seconds required: 1844674407.3709552\n"
          ]
        }
      ]
    },
    {
      "cell_type": "code",
      "metadata": {
        "colab": {
          "base_uri": "https://localhost:8080/"
        },
        "id": "2kTz-HyGXyzz",
        "outputId": "08fe55d6-0d78-45a5-b2b6-4bfe0613f7b9"
      },
      "source": [
        "print(\"Number of years required:\", 2**(32) * 2**(32) / ((60 * 60* 24 * 365) * (10**10)))"
      ],
      "execution_count": null,
      "outputs": [
        {
          "output_type": "stream",
          "name": "stdout",
          "text": [
            "Number of years required: 58.4942417355072\n"
          ]
        }
      ]
    },
    {
      "cell_type": "markdown",
      "metadata": {
        "id": "G9P1w82aXCXe"
      },
      "source": [
        "*   Random testing\n",
        "\n",
        "Random approaches would just miss the bugs. Usually bugs are scattered around a grid of inputs:\n",
        "\n",
        "|||||||||\n",
        "|-|-|-|-|-|-|-|-|\n",
        "|o|o|o|o|o|o|o|o|\n",
        "|o|x|o|o|o|o|o|o|\n",
        "|o|o|o|o|o|o|o|o|\n",
        "|o|o|o|o|o|o|o|o|\n",
        "|o|o|o|o|o|o|o|o|\n",
        "|o|o|o|o|o|x|o|o|\n",
        "|o|o|o|o|o|o|o|o|\n",
        "\n",
        "However fortunately, typically the bugs are not scattered as randomly as what we see above. They are however scattered in partitions!\n",
        "\n",
        "*   Partition testing\n",
        "\n",
        "|||||||||\n",
        "|-|-|-|-|-|-|-|-|\n",
        "|o|x|x|o|o|o|o|o|\n",
        "|o|x|o|o|o|o|o|o|\n",
        "|o|o|o|o|o|o|o|o|\n",
        "|o|o|o|o|o|o|o|o|\n",
        "|o|o|o|o|o|o|o|o|\n",
        "|o|o|o|o|o|x|x|o|\n",
        "|o|o|o|o|o|x|o|o|\n",
        "\n",
        "Hence the key would be to find out what these partitions are in our test cases. For instance in our very simple add example, the partitions can be:\n",
        "\n",
        "```\n",
        "add (x, y)\n",
        "```\n",
        "1.   x < 0\n",
        "2.   x == 0\n",
        "3.   x > 0\n",
        "4.   y < 0\n",
        "5.   y == 0\n",
        "6.   y > 0\n",
        "\n",
        "How then do we choose these values? These values are typically chosen as boundary conditions. Hence partition testing is used always with boundary testing to choose the numbers.\n",
        "\n",
        "*   Boundary testing\n",
        "In the above example, we will then chose the conditions:\n",
        "1. x = -1\n",
        "2. x = 0\n",
        "3. x = 1\n",
        "4. y = -1\n",
        "5. y = 0\n",
        "6. y = 1\n"
      ]
    },
    {
      "cell_type": "markdown",
      "metadata": {
        "id": "AdBA0S0Nc-60"
      },
      "source": [
        "**Step 3**: Derive Test Case Specifications\n",
        "\n",
        "Using the above example, we will combine the cases, hence we have\n",
        "\n",
        "1. x = -1, y = -1\n",
        "2. x = 0, y = -1\n",
        "3. x = 1, y = -1\n",
        "4. x = -1, y = 0\n",
        "5. x = 0, y = 0\n",
        "6. x = 1, y = 0\n",
        "7. x = -1, y = 1\n",
        "8. x = 0, y = 1\n",
        "9. x = 1, y = 1\n"
      ]
    },
    {
      "cell_type": "markdown",
      "metadata": {
        "id": "ScwBsciCvLHj"
      },
      "source": [
        "**Step 4**: Write the test\n",
        "\n",
        "Based on the test case specifications, write the test cases."
      ]
    },
    {
      "cell_type": "markdown",
      "metadata": {
        "id": "TUlHCb81vNGn"
      },
      "source": [
        "### Section 4b.4 Test Driven Development (TDD)"
      ]
    },
    {
      "cell_type": "markdown",
      "metadata": {
        "id": "awBcSBvuvaSa"
      },
      "source": [
        "What are the three steps in TDD?\n",
        "\n",
        "Step 1:\n",
        "Write a failing test\n",
        "\n",
        "Step 2:\n",
        "Write the simplest code to pass the test\n",
        "\n",
        "Step 3:\n",
        "Refactor the code\n",
        "\n",
        "\n"
      ]
    },
    {
      "cell_type": "code",
      "metadata": {
        "id": "dsLmFkZ2f7yX"
      },
      "source": [
        "def add(x,y):\n",
        "  return x + y"
      ],
      "execution_count": null,
      "outputs": []
    },
    {
      "cell_type": "code",
      "metadata": {
        "id": "_TlhqaGi7MYT"
      },
      "source": [
        "import unittest\n",
        "\n",
        "class TestCalc(unittest.TestCase):\n",
        "  def test_add(self):\n",
        "    result = add(10,5)\n",
        "    self.assertEqual(result, 15)"
      ],
      "execution_count": null,
      "outputs": []
    },
    {
      "cell_type": "code",
      "metadata": {
        "id": "4XchB1417vg6"
      },
      "source": [
        "g  = TestCalc()"
      ],
      "execution_count": null,
      "outputs": []
    },
    {
      "cell_type": "code",
      "metadata": {
        "id": "NBGZJEbL8Hbu"
      },
      "source": [
        "g.test_add()"
      ],
      "execution_count": null,
      "outputs": []
    },
    {
      "cell_type": "code",
      "source": [
        "x = -1\n",
        "x = 0\n",
        "x = 1\n",
        "x = 5\n",
        "x = -5\n",
        "y = -1\n",
        "y = 0\n",
        "y = 1\n",
        "y = -5\n",
        "y = 5"
      ],
      "metadata": {
        "id": "NFxN5na4CfcL"
      },
      "execution_count": null,
      "outputs": []
    }
  ]
}