{
  "nbformat": 4,
  "nbformat_minor": 0,
  "metadata": {
    "colab": {
      "provenance": []
    },
    "kernelspec": {
      "name": "python3",
      "display_name": "Python 3"
    },
    "language_info": {
      "name": "python"
    }
  },
  "cells": [
    {
      "cell_type": "markdown",
      "metadata": {
        "id": "U7R7sGv8NPxQ"
      },
      "source": [
        "## Section 5a: Introduction to NumPy"
      ]
    },
    {
      "cell_type": "markdown",
      "metadata": {
        "id": "sfTu9hhDNSer"
      },
      "source": [
        "There are two main libraries that are used during data analysis. These two libraries and NumPy and Pandas. The discussion for this notebook will be more towards numpy and pandas in the next notebook."
      ]
    },
    {
      "cell_type": "markdown",
      "source": [
        "Most people use numpy because of their arrays. The arrays are in fact very similar to python lists. However numpy arrays contain many in built functions which allows them a lot more flexibility as compared to a simple python list."
      ],
      "metadata": {
        "id": "mtDFRn6RaXHL"
      }
    },
    {
      "cell_type": "markdown",
      "metadata": {
        "id": "W_BRA68jRSEf"
      },
      "source": [
        "### Section 5a.1 Creation of NumPy Arrays"
      ]
    },
    {
      "cell_type": "markdown",
      "source": [
        "### Section 5a.1.1 Creation through a list\n",
        "\n",
        "The creation of a NumPy array can be through a list:"
      ],
      "metadata": {
        "id": "WZOdiUOBa-9C"
      }
    },
    {
      "cell_type": "code",
      "metadata": {
        "id": "iqe2RzCEl-gg",
        "colab": {
          "base_uri": "https://localhost:8080/"
        },
        "outputId": "7b9bb7bb-bb6f-4c6a-8bb1-2e2e8011cebf"
      },
      "source": [
        "import numpy as np\n",
        "np.array([2,5.6,3,1,4])"
      ],
      "execution_count": null,
      "outputs": [
        {
          "output_type": "execute_result",
          "data": {
            "text/plain": [
              "array([2. , 5.6, 3. , 1. , 4. ])"
            ]
          },
          "metadata": {},
          "execution_count": 3
        }
      ]
    },
    {
      "cell_type": "code",
      "source": [
        "[5,4.3,47,6]"
      ],
      "metadata": {
        "colab": {
          "base_uri": "https://localhost:8080/"
        },
        "id": "WIQmr3KjnM2D",
        "outputId": "b44331ec-124d-46e3-9116-2a41386bdcf3"
      },
      "execution_count": null,
      "outputs": [
        {
          "output_type": "execute_result",
          "data": {
            "text/plain": [
              "[5, 4.3, 47, 6]"
            ]
          },
          "metadata": {},
          "execution_count": 2
        }
      ]
    },
    {
      "cell_type": "markdown",
      "source": [
        "All elements in NumPy must have the same type. So if we have a floating (decimal) number in one of the elements, all the elements will be cast to a floating number."
      ],
      "metadata": {
        "id": "2gubHUs77z6F"
      }
    },
    {
      "cell_type": "code",
      "source": [],
      "metadata": {
        "colab": {
          "base_uri": "https://localhost:8080/"
        },
        "id": "51gc6J--7voX",
        "outputId": "a457a5b3-07ef-4bd8-df6f-dc57ec7d693f"
      },
      "execution_count": null,
      "outputs": [
        {
          "output_type": "execute_result",
          "data": {
            "text/plain": [
              "array([5.555, 1.   , 2.   , 3.   ])"
            ]
          },
          "metadata": {},
          "execution_count": 4
        }
      ]
    },
    {
      "cell_type": "markdown",
      "source": [
        "As you see from the array above, all the numbers are being cast into floating numbers."
      ],
      "metadata": {
        "id": "J-cE2I5Rbete"
      }
    },
    {
      "cell_type": "markdown",
      "source": [
        "Set the type of the elements of the array through dtype."
      ],
      "metadata": {
        "id": "1yF3_MWcb_MK"
      }
    },
    {
      "cell_type": "code",
      "source": [
        "np.array([1,2,3,4], dtype='float32')"
      ],
      "metadata": {
        "colab": {
          "base_uri": "https://localhost:8080/"
        },
        "id": "yAwD4pQR73xW",
        "outputId": "3e4213a2-1874-4064-8233-2ee02ce67346"
      },
      "execution_count": null,
      "outputs": [
        {
          "output_type": "execute_result",
          "data": {
            "text/plain": [
              "array([1., 2., 3., 4.], dtype=float32)"
            ]
          },
          "metadata": {},
          "execution_count": 5
        }
      ]
    },
    {
      "cell_type": "code",
      "source": [
        "temp_list = [4,2,5,6]"
      ],
      "metadata": {
        "id": "MN0ZFxSun9iJ"
      },
      "execution_count": null,
      "outputs": []
    },
    {
      "cell_type": "code",
      "source": [
        "np.array(temp_list)"
      ],
      "metadata": {
        "colab": {
          "base_uri": "https://localhost:8080/"
        },
        "id": "tIjFSMg2n9qA",
        "outputId": "524e950d-f4ae-4c59-d2af-f1e72d562d7f"
      },
      "execution_count": null,
      "outputs": [
        {
          "output_type": "execute_result",
          "data": {
            "text/plain": [
              "array([4, 2, 5, 6])"
            ]
          },
          "metadata": {},
          "execution_count": 8
        }
      ]
    },
    {
      "cell_type": "markdown",
      "source": [
        "### Section 5a.1.2 Creation through a function\n"
      ],
      "metadata": {
        "id": "kynjm1SLcaV1"
      }
    },
    {
      "cell_type": "code",
      "source": [
        "np.zeros(5, dtype=float)"
      ],
      "metadata": {
        "colab": {
          "base_uri": "https://localhost:8080/"
        },
        "id": "HyHGjEkR8R1d",
        "outputId": "24ca8a94-2150-4d7d-b410-8b210d3989c0"
      },
      "execution_count": null,
      "outputs": [
        {
          "output_type": "execute_result",
          "data": {
            "text/plain": [
              "array([0., 0., 0., 0., 0.])"
            ]
          },
          "metadata": {},
          "execution_count": 11
        }
      ]
    },
    {
      "cell_type": "code",
      "source": [
        "np.zeros((4,5))"
      ],
      "metadata": {
        "colab": {
          "base_uri": "https://localhost:8080/"
        },
        "id": "_ZUxOEyUo56_",
        "outputId": "25a1ebe8-c1ae-4d38-8fbf-94cf1d2b9cf3"
      },
      "execution_count": null,
      "outputs": [
        {
          "output_type": "execute_result",
          "data": {
            "text/plain": [
              "array([[0., 0., 0., 0., 0.],\n",
              "       [0., 0., 0., 0., 0.],\n",
              "       [0., 0., 0., 0., 0.],\n",
              "       [0., 0., 0., 0., 0.]])"
            ]
          },
          "metadata": {},
          "execution_count": 14
        }
      ]
    },
    {
      "cell_type": "code",
      "source": [
        "np.zeros((4,5,2))"
      ],
      "metadata": {
        "colab": {
          "base_uri": "https://localhost:8080/"
        },
        "id": "CfLqQj-L8R3z",
        "outputId": "f4dd12e2-29cc-449e-cc77-c106d98e484f"
      },
      "execution_count": null,
      "outputs": [
        {
          "output_type": "execute_result",
          "data": {
            "text/plain": [
              "array([[[0., 0.],\n",
              "        [0., 0.],\n",
              "        [0., 0.],\n",
              "        [0., 0.],\n",
              "        [0., 0.]],\n",
              "\n",
              "       [[0., 0.],\n",
              "        [0., 0.],\n",
              "        [0., 0.],\n",
              "        [0., 0.],\n",
              "        [0., 0.]],\n",
              "\n",
              "       [[0., 0.],\n",
              "        [0., 0.],\n",
              "        [0., 0.],\n",
              "        [0., 0.],\n",
              "        [0., 0.]],\n",
              "\n",
              "       [[0., 0.],\n",
              "        [0., 0.],\n",
              "        [0., 0.],\n",
              "        [0., 0.],\n",
              "        [0., 0.]]])"
            ]
          },
          "metadata": {},
          "execution_count": 15
        }
      ]
    },
    {
      "cell_type": "code",
      "source": [
        "np.ones((2,5))"
      ],
      "metadata": {
        "colab": {
          "base_uri": "https://localhost:8080/"
        },
        "id": "RnUNhXjXqY3g",
        "outputId": "06c55ee0-fe24-4b52-cb78-e4aff7aec8ef"
      },
      "execution_count": null,
      "outputs": [
        {
          "output_type": "execute_result",
          "data": {
            "text/plain": [
              "array([[1., 1., 1., 1., 1.],\n",
              "       [1., 1., 1., 1., 1.]])"
            ]
          },
          "metadata": {},
          "execution_count": 16
        }
      ]
    },
    {
      "cell_type": "code",
      "source": [
        "np.full((2,5), 1.23)"
      ],
      "metadata": {
        "colab": {
          "base_uri": "https://localhost:8080/"
        },
        "id": "v2SabBOV8R6J",
        "outputId": "e1140115-a5d7-40e1-82dd-fd01672721ae"
      },
      "execution_count": null,
      "outputs": [
        {
          "output_type": "execute_result",
          "data": {
            "text/plain": [
              "array([[1.23, 1.23, 1.23, 1.23, 1.23],\n",
              "       [1.23, 1.23, 1.23, 1.23, 1.23]])"
            ]
          },
          "metadata": {},
          "execution_count": 17
        }
      ]
    },
    {
      "cell_type": "markdown",
      "source": [
        "### Section 5a.1.3 Creation through range\n"
      ],
      "metadata": {
        "id": "16lPrGLjeu2F"
      }
    },
    {
      "cell_type": "markdown",
      "source": [
        "Create an array between 0 and 20 (non inclusive) whee the difference between the numbers is 2."
      ],
      "metadata": {
        "id": "WbgaA8a7eaJz"
      }
    },
    {
      "cell_type": "code",
      "source": [
        "np.arange(0, 20, 2.5)"
      ],
      "metadata": {
        "colab": {
          "base_uri": "https://localhost:8080/"
        },
        "id": "iUP2SFNT8R8j",
        "outputId": "65bf280e-aa0f-45b8-b7a2-9438dccdd376"
      },
      "execution_count": null,
      "outputs": [
        {
          "output_type": "execute_result",
          "data": {
            "text/plain": [
              "array([ 0. ,  2.5,  5. ,  7.5, 10. , 12.5, 15. , 17.5])"
            ]
          },
          "metadata": {},
          "execution_count": 19
        }
      ]
    },
    {
      "cell_type": "code",
      "source": [
        "np.arange(0,22, 3)"
      ],
      "metadata": {
        "colab": {
          "base_uri": "https://localhost:8080/"
        },
        "id": "eVQ6MJ75sGK1",
        "outputId": "0d876ce7-b40f-4ed6-d4a0-9925e0e42a1e"
      },
      "execution_count": null,
      "outputs": [
        {
          "output_type": "execute_result",
          "data": {
            "text/plain": [
              "array([ 0,  3,  6,  9, 12, 15, 18, 21])"
            ]
          },
          "metadata": {},
          "execution_count": 20
        }
      ]
    },
    {
      "cell_type": "markdown",
      "source": [
        "Create an array of 10 values evenly spaced between 0 and 18.\n"
      ],
      "metadata": {
        "id": "GYx4f5xpeXWj"
      }
    },
    {
      "cell_type": "code",
      "source": [
        "# np.linspace(start, end, number of values)\n",
        "np.linspace(0, 18, 10)"
      ],
      "metadata": {
        "colab": {
          "base_uri": "https://localhost:8080/"
        },
        "id": "wsK3ZQCk8SA3",
        "outputId": "4362cf93-b2c8-489f-fb46-93ce0871e2ff"
      },
      "execution_count": null,
      "outputs": [
        {
          "output_type": "execute_result",
          "data": {
            "text/plain": [
              "array([ 0.,  2.,  4.,  6.,  8., 10., 12., 14., 16., 18.])"
            ]
          },
          "metadata": {},
          "execution_count": 21
        }
      ]
    },
    {
      "cell_type": "markdown",
      "source": [
        "### Section 5a.1.4 Creation through random function"
      ],
      "metadata": {
        "id": "HoeIvwdreyXU"
      }
    },
    {
      "cell_type": "markdown",
      "source": [
        "Create array 2 by 5, with random values between 0 and 1."
      ],
      "metadata": {
        "id": "vHucbN6be-es"
      }
    },
    {
      "cell_type": "code",
      "source": [
        "np.random.random((2,5))"
      ],
      "metadata": {
        "colab": {
          "base_uri": "https://localhost:8080/"
        },
        "id": "abBxMhio8a_g",
        "outputId": "e31c896b-6184-4b1e-ca2d-2ce07a62c873"
      },
      "execution_count": null,
      "outputs": [
        {
          "output_type": "execute_result",
          "data": {
            "text/plain": [
              "array([[0.34871567, 0.73559236, 0.34755562, 0.81966324, 0.94359915],\n",
              "       [0.4199247 , 0.67231091, 0.54005404, 0.37793906, 0.92725998]])"
            ]
          },
          "metadata": {},
          "execution_count": 22
        }
      ]
    },
    {
      "cell_type": "markdown",
      "source": [
        "If you need it between eg 3 and 9:"
      ],
      "metadata": {
        "id": "LxhYxOhEfd-N"
      }
    },
    {
      "cell_type": "code",
      "source": [
        "upper = 9\n",
        "lower = 3\n",
        "\n",
        "np.random.random((2,5)) * (upper - lower) + lower"
      ],
      "metadata": {
        "colab": {
          "base_uri": "https://localhost:8080/"
        },
        "id": "WVvsP2NbfFT6",
        "outputId": "027b4a45-058e-4677-d614-3534ed5ebec4"
      },
      "execution_count": null,
      "outputs": [
        {
          "output_type": "execute_result",
          "data": {
            "text/plain": [
              "array([[5.99188055, 6.1219152 , 8.24782255, 4.6702928 , 8.09135305],\n",
              "       [5.07252857, 5.32123876, 8.57970091, 4.36915448, 4.83145535]])"
            ]
          },
          "metadata": {},
          "execution_count": 24
        }
      ]
    },
    {
      "cell_type": "markdown",
      "source": [
        "Create array 2 by 5, with under a normal distribution centered at 3 with std deviation of 9."
      ],
      "metadata": {
        "id": "rJdzQc-of02n"
      }
    },
    {
      "cell_type": "code",
      "source": [
        "np.random.normal(5, 7, (2,5))"
      ],
      "metadata": {
        "colab": {
          "base_uri": "https://localhost:8080/"
        },
        "id": "A2AnpyoM8bCR",
        "outputId": "0e9c7078-617d-47e9-f7dc-e6e495ce0c8c"
      },
      "execution_count": null,
      "outputs": [
        {
          "output_type": "execute_result",
          "data": {
            "text/plain": [
              "array([[ 5.04190189,  1.85409631, 14.00573054,  0.74693551,  0.18273862],\n",
              "       [ 8.42970207, 15.25943114,  0.88419586,  3.28022678,  1.94899141]])"
            ]
          },
          "metadata": {},
          "execution_count": 27
        }
      ]
    },
    {
      "cell_type": "markdown",
      "source": [
        "Create array 2 by 5, with random values between 0 and 10 (non inclusive)."
      ],
      "metadata": {
        "id": "bOkuE7OjfPbv"
      }
    },
    {
      "cell_type": "code",
      "source": [
        "np.random.randint(0,10, (2,5))"
      ],
      "metadata": {
        "colab": {
          "base_uri": "https://localhost:8080/"
        },
        "id": "Lv8XidY-8bE_",
        "outputId": "dab5b328-dedd-4e7c-980a-e906c717ae95"
      },
      "execution_count": null,
      "outputs": [
        {
          "output_type": "execute_result",
          "data": {
            "text/plain": [
              "array([[2, 0, 8, 6, 5],\n",
              "       [9, 4, 0, 7, 4]])"
            ]
          },
          "metadata": {},
          "execution_count": 29
        }
      ]
    },
    {
      "cell_type": "markdown",
      "source": [
        "Creation of Identity matrix."
      ],
      "metadata": {
        "id": "5d8gtwOMgTsH"
      }
    },
    {
      "cell_type": "code",
      "source": [
        "np.eye(5)"
      ],
      "metadata": {
        "colab": {
          "base_uri": "https://localhost:8080/"
        },
        "id": "EEaqWNIr8jWl",
        "outputId": "8253f609-f1e4-4610-dedd-13c6ae4343a4"
      },
      "execution_count": null,
      "outputs": [
        {
          "output_type": "execute_result",
          "data": {
            "text/plain": [
              "array([[1., 0., 0., 0., 0.],\n",
              "       [0., 1., 0., 0., 0.],\n",
              "       [0., 0., 1., 0., 0.],\n",
              "       [0., 0., 0., 1., 0.],\n",
              "       [0., 0., 0., 0., 1.]])"
            ]
          },
          "metadata": {},
          "execution_count": 30
        }
      ]
    },
    {
      "cell_type": "markdown",
      "source": [
        "### Section 5a.2 NumPy Arrays Fundamentals"
      ],
      "metadata": {
        "id": "DOVIxgTuDAEv"
      }
    },
    {
      "cell_type": "markdown",
      "source": [
        "#### Section 5a.2.1 NumPy Arrays Indexing"
      ],
      "metadata": {
        "id": "MG6aepWYiHm9"
      }
    },
    {
      "cell_type": "code",
      "source": [
        "np.random.seed(5)\n",
        "\n",
        "np_array0 = np.random.randint(10, size=5)\n",
        "np_array1 = np.random.randint(10, size=(2,5))\n",
        "np_array2 = np.random.randint(10, size=(2,5,3))\n"
      ],
      "metadata": {
        "id": "a1qdZQI7DEls"
      },
      "execution_count": null,
      "outputs": []
    },
    {
      "cell_type": "code",
      "source": [
        "print(np_array0)\n",
        "print(np_array1)\n",
        "print(np_array2)"
      ],
      "metadata": {
        "colab": {
          "base_uri": "https://localhost:8080/"
        },
        "id": "9s2K5TE3DRWj",
        "outputId": "fcbb9b1e-2a53-4d83-eba9-886a65905186"
      },
      "execution_count": null,
      "outputs": [
        {
          "output_type": "stream",
          "name": "stdout",
          "text": [
            "[3 6 6 0 9]\n",
            "[[8 4 7 0 0]\n",
            " [7 1 5 7 0]]\n",
            "[[[1 4 6]\n",
            "  [2 9 9]\n",
            "  [9 9 1]\n",
            "  [2 7 0]\n",
            "  [5 0 0]]\n",
            "\n",
            " [[4 4 9]\n",
            "  [3 2 4]\n",
            "  [6 9 3]\n",
            "  [3 2 1]\n",
            "  [5 7 4]]]\n"
          ]
        }
      ]
    },
    {
      "cell_type": "code",
      "source": [
        "np_array0.ndim"
      ],
      "metadata": {
        "colab": {
          "base_uri": "https://localhost:8080/"
        },
        "id": "wFaJdQG_xizj",
        "outputId": "a24e4d43-d76a-4a7d-8e22-6b6dd6a54249"
      },
      "execution_count": null,
      "outputs": [
        {
          "output_type": "execute_result",
          "data": {
            "text/plain": [
              "1"
            ]
          },
          "metadata": {},
          "execution_count": 40
        }
      ]
    },
    {
      "cell_type": "code",
      "source": [
        "temp_tuple = np_array1.shape"
      ],
      "metadata": {
        "id": "opSuLr99xz7D"
      },
      "execution_count": null,
      "outputs": []
    },
    {
      "cell_type": "code",
      "source": [
        "print(temp_tuple[0])\n",
        "print(temp_tuple[1])"
      ],
      "metadata": {
        "colab": {
          "base_uri": "https://localhost:8080/"
        },
        "id": "2fVYTvHoylax",
        "outputId": "1c4d4813-92d6-404e-8b73-f1e84ea68238"
      },
      "execution_count": null,
      "outputs": [
        {
          "output_type": "stream",
          "name": "stdout",
          "text": [
            "2\n",
            "5\n"
          ]
        }
      ]
    },
    {
      "cell_type": "code",
      "source": [
        "np_array0.size"
      ],
      "metadata": {
        "colab": {
          "base_uri": "https://localhost:8080/"
        },
        "id": "ko_v_f_Jx8Vg",
        "outputId": "d25faeae-c5df-4abe-83e0-acd461d0d04c"
      },
      "execution_count": null,
      "outputs": [
        {
          "output_type": "execute_result",
          "data": {
            "text/plain": [
              "5"
            ]
          },
          "metadata": {},
          "execution_count": 39
        }
      ]
    },
    {
      "cell_type": "code",
      "source": [],
      "metadata": {
        "colab": {
          "base_uri": "https://localhost:8080/"
        },
        "id": "UhbfLMVrDW3X",
        "outputId": "4b2d4596-1b6c-4444-f1cf-50ee79465038"
      },
      "execution_count": null,
      "outputs": [
        {
          "output_type": "execute_result",
          "data": {
            "text/plain": [
              "array([3, 6, 6, 0, 9])"
            ]
          },
          "metadata": {},
          "execution_count": 39
        }
      ]
    },
    {
      "cell_type": "code",
      "source": [],
      "metadata": {
        "colab": {
          "base_uri": "https://localhost:8080/"
        },
        "id": "-scZ6ryiDY3g",
        "outputId": "cdcdff3d-b92b-474a-8930-5874726b6e73"
      },
      "execution_count": null,
      "outputs": [
        {
          "output_type": "execute_result",
          "data": {
            "text/plain": [
              "3"
            ]
          },
          "metadata": {},
          "execution_count": 40
        }
      ]
    },
    {
      "cell_type": "code",
      "source": [
        "np_array1"
      ],
      "metadata": {
        "colab": {
          "base_uri": "https://localhost:8080/"
        },
        "id": "4d11isrZDcOd",
        "outputId": "1b76422e-12c8-4e23-fd7e-a5ee3189acd6"
      },
      "execution_count": null,
      "outputs": [
        {
          "output_type": "execute_result",
          "data": {
            "text/plain": [
              "array([[8, 4, 7, 0, 0],\n",
              "       [7, 1, 5, 7, 0]])"
            ]
          },
          "metadata": {},
          "execution_count": 47
        }
      ]
    },
    {
      "cell_type": "code",
      "source": [
        "np_array1[1,-4]"
      ],
      "metadata": {
        "colab": {
          "base_uri": "https://localhost:8080/"
        },
        "id": "T_fhjPDXDcRt",
        "outputId": "3943a372-4343-4f31-8203-6d0052bf7e85"
      },
      "execution_count": null,
      "outputs": [
        {
          "output_type": "execute_result",
          "data": {
            "text/plain": [
              "1"
            ]
          },
          "metadata": {},
          "execution_count": 55
        }
      ]
    },
    {
      "cell_type": "code",
      "source": [
        "np_array1[1,2]"
      ],
      "metadata": {
        "colab": {
          "base_uri": "https://localhost:8080/"
        },
        "id": "k3V9mBehhiqY",
        "outputId": "40e1e64b-5e1d-476e-fa7e-878c55851f33"
      },
      "execution_count": null,
      "outputs": [
        {
          "output_type": "execute_result",
          "data": {
            "text/plain": [
              "5"
            ]
          },
          "metadata": {},
          "execution_count": 51
        }
      ]
    },
    {
      "cell_type": "code",
      "source": [],
      "metadata": {
        "colab": {
          "base_uri": "https://localhost:8080/"
        },
        "id": "98rV71X7hlhV",
        "outputId": "d667617f-465c-409d-db87-6bb7c0022a8b"
      },
      "execution_count": null,
      "outputs": [
        {
          "output_type": "execute_result",
          "data": {
            "text/plain": [
              "7"
            ]
          },
          "metadata": {},
          "execution_count": 45
        }
      ]
    },
    {
      "cell_type": "code",
      "source": [],
      "metadata": {
        "colab": {
          "base_uri": "https://localhost:8080/"
        },
        "id": "HsrcIQ5YDcUb",
        "outputId": "f02e9efe-2572-4ba5-affe-aebd5e0a6211"
      },
      "execution_count": null,
      "outputs": [
        {
          "output_type": "execute_result",
          "data": {
            "text/plain": [
              "0"
            ]
          },
          "metadata": {},
          "execution_count": 47
        }
      ]
    },
    {
      "cell_type": "markdown",
      "source": [
        "#### Section 5a.2.2 NumPy Arrays Slicing"
      ],
      "metadata": {
        "id": "E61OAjIJiLqp"
      }
    },
    {
      "cell_type": "markdown",
      "source": [
        "The colon (:) character is used to access a slice of the array. The slice notation has three sections:\n",
        "\n",
        "```\n",
        "some_array[start:stop:step]\n",
        "```"
      ],
      "metadata": {
        "id": "w7DWtg4PDjMx"
      }
    },
    {
      "cell_type": "code",
      "source": [
        "np_array0"
      ],
      "metadata": {
        "colab": {
          "base_uri": "https://localhost:8080/"
        },
        "id": "4CjgOqowjelb",
        "outputId": "a4d2c671-484d-46c8-bcde-febb857a3970"
      },
      "execution_count": null,
      "outputs": [
        {
          "output_type": "execute_result",
          "data": {
            "text/plain": [
              "array([3, 6, 6, 0, 9])"
            ]
          },
          "metadata": {},
          "execution_count": 56
        }
      ]
    },
    {
      "cell_type": "code",
      "source": [
        "np_array0[:2]"
      ],
      "metadata": {
        "colab": {
          "base_uri": "https://localhost:8080/"
        },
        "id": "2TiMZQIMDp5_",
        "outputId": "114490aa-3d1c-45de-8602-058305ebd417"
      },
      "execution_count": null,
      "outputs": [
        {
          "output_type": "execute_result",
          "data": {
            "text/plain": [
              "array([3, 6])"
            ]
          },
          "metadata": {},
          "execution_count": 58
        }
      ]
    },
    {
      "cell_type": "code",
      "source": [
        "np_array0[0:4:2]"
      ],
      "metadata": {
        "colab": {
          "base_uri": "https://localhost:8080/"
        },
        "id": "jG0T87dT0tlx",
        "outputId": "dabac83e-c747-48df-887a-f535fb02c0e0"
      },
      "execution_count": null,
      "outputs": [
        {
          "output_type": "execute_result",
          "data": {
            "text/plain": [
              "array([3, 6])"
            ]
          },
          "metadata": {},
          "execution_count": 59
        }
      ]
    },
    {
      "cell_type": "markdown",
      "source": [
        "Every other element, starting at index 0. Hence we get indexes 0, 2 and 4."
      ],
      "metadata": {
        "id": "l7UPjcoYjnyv"
      }
    },
    {
      "cell_type": "code",
      "source": [
        "np_array0[0::2]"
      ],
      "metadata": {
        "colab": {
          "base_uri": "https://localhost:8080/"
        },
        "id": "-6rMX7PdDp8z",
        "outputId": "a175e2dc-2926-4631-9c0d-d91db52f62e5"
      },
      "execution_count": null,
      "outputs": [
        {
          "output_type": "execute_result",
          "data": {
            "text/plain": [
              "array([3, 6, 9])"
            ]
          },
          "metadata": {},
          "execution_count": 60
        }
      ]
    },
    {
      "cell_type": "markdown",
      "source": [
        "Reverse the elements in the array:"
      ],
      "metadata": {
        "id": "5DU6Ba8-jw5d"
      }
    },
    {
      "cell_type": "code",
      "source": [
        "np_array0[::-1]"
      ],
      "metadata": {
        "colab": {
          "base_uri": "https://localhost:8080/"
        },
        "id": "R2uuHu1wDvy6",
        "outputId": "05e3c67c-131d-476b-973f-e873937999cb"
      },
      "execution_count": null,
      "outputs": [
        {
          "output_type": "execute_result",
          "data": {
            "text/plain": [
              "array([9, 0, 6, 6, 3])"
            ]
          },
          "metadata": {},
          "execution_count": 62
        }
      ]
    },
    {
      "cell_type": "code",
      "source": [
        "np_array0[::-2]"
      ],
      "metadata": {
        "colab": {
          "base_uri": "https://localhost:8080/"
        },
        "id": "libLpFojkCAQ",
        "outputId": "5f5e6a73-c438-4232-ef03-348345fc061c"
      },
      "execution_count": null,
      "outputs": [
        {
          "output_type": "execute_result",
          "data": {
            "text/plain": [
              "array([9, 6, 3])"
            ]
          },
          "metadata": {},
          "execution_count": 63
        }
      ]
    },
    {
      "cell_type": "markdown",
      "source": [
        "Reversed every other from index 3"
      ],
      "metadata": {
        "id": "ND29ldbUkKlE"
      }
    },
    {
      "cell_type": "code",
      "source": [
        "np_array0"
      ],
      "metadata": {
        "colab": {
          "base_uri": "https://localhost:8080/"
        },
        "id": "bzMCZkLJ1PoN",
        "outputId": "e653aaa5-f410-43c0-d998-dae57504fcc0"
      },
      "execution_count": null,
      "outputs": [
        {
          "output_type": "execute_result",
          "data": {
            "text/plain": [
              "array([3, 6, 6, 0, 9])"
            ]
          },
          "metadata": {},
          "execution_count": 61
        }
      ]
    },
    {
      "cell_type": "code",
      "source": [
        "np_array0[3::-2]"
      ],
      "metadata": {
        "colab": {
          "base_uri": "https://localhost:8080/"
        },
        "id": "p_SGRfL2Dv1n",
        "outputId": "71f2002c-485b-4ee3-d860-12ff9ab08c94"
      },
      "execution_count": null,
      "outputs": [
        {
          "output_type": "execute_result",
          "data": {
            "text/plain": [
              "array([0, 6])"
            ]
          },
          "metadata": {},
          "execution_count": 64
        }
      ]
    },
    {
      "cell_type": "markdown",
      "source": [
        "Recall the array2 looks like the following:"
      ],
      "metadata": {
        "id": "0uNfLQEPkP3Y"
      }
    },
    {
      "cell_type": "code",
      "source": [
        "np_array1[:2,:3]"
      ],
      "metadata": {
        "colab": {
          "base_uri": "https://localhost:8080/"
        },
        "id": "663rimIaDv4d",
        "outputId": "c53b78e8-501d-40a3-eee1-baf93f543498"
      },
      "execution_count": null,
      "outputs": [
        {
          "output_type": "execute_result",
          "data": {
            "text/plain": [
              "array([[8, 4, 7],\n",
              "       [7, 1, 5]])"
            ]
          },
          "metadata": {},
          "execution_count": 67
        }
      ]
    },
    {
      "cell_type": "code",
      "source": [],
      "metadata": {
        "colab": {
          "base_uri": "https://localhost:8080/"
        },
        "id": "a_9ByJtyDv60",
        "outputId": "888a2619-bb85-4130-eacd-d8d4654cd0f0"
      },
      "execution_count": null,
      "outputs": [
        {
          "output_type": "execute_result",
          "data": {
            "text/plain": [
              "array([[8, 4, 7],\n",
              "       [7, 1, 5]])"
            ]
          },
          "metadata": {},
          "execution_count": 61
        }
      ]
    },
    {
      "cell_type": "markdown",
      "source": [
        "Every other column"
      ],
      "metadata": {
        "id": "z3O6e1jIknxI"
      }
    },
    {
      "cell_type": "code",
      "source": [
        "np_array1"
      ],
      "metadata": {
        "colab": {
          "base_uri": "https://localhost:8080/"
        },
        "id": "Nsbw3ZRZ3YKG",
        "outputId": "baf44a98-e8d7-43bc-d53b-ab63d2602c9f"
      },
      "execution_count": null,
      "outputs": [
        {
          "output_type": "execute_result",
          "data": {
            "text/plain": [
              "array([[8, 4, 7, 0, 0],\n",
              "       [7, 1, 5, 7, 0]])"
            ]
          },
          "metadata": {},
          "execution_count": 66
        }
      ]
    },
    {
      "cell_type": "code",
      "source": [
        "np_array1[:2,::2]"
      ],
      "metadata": {
        "colab": {
          "base_uri": "https://localhost:8080/"
        },
        "id": "E-_RNVUcDv9a",
        "outputId": "4e97af3a-a319-472d-f29a-f816f4c14fc1"
      },
      "execution_count": null,
      "outputs": [
        {
          "output_type": "execute_result",
          "data": {
            "text/plain": [
              "array([[8, 7, 0],\n",
              "       [7, 5, 0]])"
            ]
          },
          "metadata": {},
          "execution_count": 69
        }
      ]
    },
    {
      "cell_type": "markdown",
      "source": [
        "### Section 5a.3 Combining NumPy Arrays"
      ],
      "metadata": {
        "id": "kIPVeMy9D-Oo"
      }
    },
    {
      "cell_type": "code",
      "source": [
        "x = np_array0\n",
        "y =- np_array0[::-1]"
      ],
      "metadata": {
        "id": "_ZN2fyB7EbM3"
      },
      "execution_count": null,
      "outputs": []
    },
    {
      "cell_type": "code",
      "source": [
        "x"
      ],
      "metadata": {
        "colab": {
          "base_uri": "https://localhost:8080/"
        },
        "id": "gam4SBC0-wGR",
        "outputId": "9e651346-937a-4408-fd1c-302d31880337"
      },
      "execution_count": null,
      "outputs": [
        {
          "output_type": "execute_result",
          "data": {
            "text/plain": [
              "array([3, 6, 6, 0, 9])"
            ]
          },
          "metadata": {},
          "execution_count": 71
        }
      ]
    },
    {
      "cell_type": "code",
      "source": [
        "y"
      ],
      "metadata": {
        "colab": {
          "base_uri": "https://localhost:8080/"
        },
        "id": "4caZThJI-xPv",
        "outputId": "6e6866f9-eae9-43b9-e0d3-81f6e7704eba"
      },
      "execution_count": null,
      "outputs": [
        {
          "output_type": "execute_result",
          "data": {
            "text/plain": [
              "array([-9,  0, -6, -6, -3])"
            ]
          },
          "metadata": {},
          "execution_count": 72
        }
      ]
    },
    {
      "cell_type": "code",
      "source": [
        "np.concatenate([x,y])"
      ],
      "metadata": {
        "colab": {
          "base_uri": "https://localhost:8080/"
        },
        "id": "Ncbaq6RvlgGM",
        "outputId": "43be844f-84b4-4dbc-cc0d-a1fe1b1569e3"
      },
      "execution_count": null,
      "outputs": [
        {
          "output_type": "execute_result",
          "data": {
            "text/plain": [
              "array([ 3,  6,  6,  0,  9, -9,  0, -6, -6, -3])"
            ]
          },
          "metadata": {},
          "execution_count": 74
        }
      ]
    },
    {
      "cell_type": "code",
      "source": [
        "np.hstack([x,y])"
      ],
      "metadata": {
        "colab": {
          "base_uri": "https://localhost:8080/"
        },
        "id": "Jv0vm8vHlhCV",
        "outputId": "7688b18b-88cc-4e7b-f643-ee64a2996328"
      },
      "execution_count": null,
      "outputs": [
        {
          "output_type": "execute_result",
          "data": {
            "text/plain": [
              "array([ 3,  6,  6,  0,  9, -9,  0, -6, -6, -3])"
            ]
          },
          "metadata": {},
          "execution_count": 75
        }
      ]
    },
    {
      "cell_type": "code",
      "source": [
        "np.vstack([x,y])"
      ],
      "metadata": {
        "colab": {
          "base_uri": "https://localhost:8080/"
        },
        "id": "hVO7jvFPnYEi",
        "outputId": "f476e9bc-242a-4fb8-b76d-a83e7266dcf1"
      },
      "execution_count": null,
      "outputs": [
        {
          "output_type": "execute_result",
          "data": {
            "text/plain": [
              "array([[ 3,  6,  6,  0,  9],\n",
              "       [-9,  0, -6, -6, -3]])"
            ]
          },
          "metadata": {},
          "execution_count": 76
        }
      ]
    },
    {
      "cell_type": "code",
      "source": [
        "np_array1"
      ],
      "metadata": {
        "colab": {
          "base_uri": "https://localhost:8080/"
        },
        "id": "_0si1dX7EbPs",
        "outputId": "e05b20df-bcb8-4911-e15d-38d3bc4a6cb3"
      },
      "execution_count": null,
      "outputs": [
        {
          "output_type": "execute_result",
          "data": {
            "text/plain": [
              "array([[8, 4, 7, 0, 0],\n",
              "       [7, 1, 5, 7, 0]])"
            ]
          },
          "metadata": {},
          "execution_count": 77
        }
      ]
    },
    {
      "cell_type": "code",
      "source": [
        "np.concatenate([np_array1, np_array1])"
      ],
      "metadata": {
        "colab": {
          "base_uri": "https://localhost:8080/"
        },
        "id": "XWwV7UFCEbSZ",
        "outputId": "93862ad3-a266-42dc-a786-02e9a67d69de"
      },
      "execution_count": null,
      "outputs": [
        {
          "output_type": "execute_result",
          "data": {
            "text/plain": [
              "array([[8, 4, 7, 0, 0],\n",
              "       [7, 1, 5, 7, 0],\n",
              "       [8, 4, 7, 0, 0],\n",
              "       [7, 1, 5, 7, 0]])"
            ]
          },
          "metadata": {},
          "execution_count": 78
        }
      ]
    },
    {
      "cell_type": "code",
      "source": [
        "np.concatenate([np_array1, np_array1], axis=1)"
      ],
      "metadata": {
        "colab": {
          "base_uri": "https://localhost:8080/"
        },
        "id": "L-jGdaz8En0u",
        "outputId": "020d69c9-b4e6-480f-e046-74cd643223a1"
      },
      "execution_count": null,
      "outputs": [
        {
          "output_type": "execute_result",
          "data": {
            "text/plain": [
              "array([[8, 4, 7, 0, 0, 8, 4, 7, 0, 0],\n",
              "       [7, 1, 5, 7, 0, 7, 1, 5, 7, 0]])"
            ]
          },
          "metadata": {},
          "execution_count": 79
        }
      ]
    },
    {
      "cell_type": "code",
      "source": [
        "print(np_array0)\n",
        "print(np_array1)"
      ],
      "metadata": {
        "colab": {
          "base_uri": "https://localhost:8080/"
        },
        "id": "FOSfflhT_z5W",
        "outputId": "571b133d-9561-42e7-9f23-a00bc3eea30d"
      },
      "execution_count": null,
      "outputs": [
        {
          "output_type": "stream",
          "name": "stdout",
          "text": [
            "[3 6 6 0 9]\n",
            "[[8 4 7 0 0]\n",
            " [7 1 5 7 0]]\n"
          ]
        }
      ]
    },
    {
      "cell_type": "code",
      "source": [
        "np.vstack([np_array0, np_array1])"
      ],
      "metadata": {
        "colab": {
          "base_uri": "https://localhost:8080/"
        },
        "id": "BzOtUI3kEuP0",
        "outputId": "e7bd6a96-cede-4694-a244-e8acf9e0420c"
      },
      "execution_count": null,
      "outputs": [
        {
          "output_type": "execute_result",
          "data": {
            "text/plain": [
              "array([[3, 6, 6, 0, 9],\n",
              "       [8, 4, 7, 0, 0],\n",
              "       [7, 1, 5, 7, 0]])"
            ]
          },
          "metadata": {},
          "execution_count": 81
        }
      ]
    },
    {
      "cell_type": "code",
      "source": [
        "\n",
        "np_array0.shape"
      ],
      "metadata": {
        "colab": {
          "base_uri": "https://localhost:8080/"
        },
        "id": "wbQAM_n0Arx3",
        "outputId": "8d324e25-f317-4bef-a117-33195323e029"
      },
      "execution_count": null,
      "outputs": [
        {
          "output_type": "execute_result",
          "data": {
            "text/plain": [
              "(5,)"
            ]
          },
          "metadata": {},
          "execution_count": 83
        }
      ]
    },
    {
      "cell_type": "code",
      "source": [
        "x_1array = np_array1\n",
        "x_2array = np_array1\n",
        "\n",
        "print(x_1array.shape)\n",
        "print(x_2array.shape)\n",
        "\n",
        "# np_array1.shape == np_array1.shape\n",
        "if x_1array.shape[1] == x_2array.shape[1]:\n",
        "  print(np.vstack([x_1array, x_2array]))\n"
      ],
      "metadata": {
        "colab": {
          "base_uri": "https://localhost:8080/"
        },
        "id": "Ow2cLPfGAy1H",
        "outputId": "6d37e39a-fb67-4d33-b49c-633c348d3e0e"
      },
      "execution_count": null,
      "outputs": [
        {
          "output_type": "stream",
          "name": "stdout",
          "text": [
            "(2, 5)\n",
            "(2, 5)\n",
            "[[8 4 7 0 0]\n",
            " [7 1 5 7 0]\n",
            " [8 4 7 0 0]\n",
            " [7 1 5 7 0]]\n"
          ]
        }
      ]
    },
    {
      "cell_type": "code",
      "source": [
        "curr_sensor = []\n",
        "for i in sensor_list:\n",
        "  curr_sensor.append(i)"
      ],
      "metadata": {
        "id": "4arEKZBdF_6C"
      },
      "execution_count": null,
      "outputs": []
    },
    {
      "cell_type": "code",
      "source": [
        "array_to_append = [[99],[99]]\n",
        "array_to_append = [99,99]\n",
        "array_to_append = np.array(array_to_append)"
      ],
      "metadata": {
        "id": "wq4p4WA_E2qW"
      },
      "execution_count": null,
      "outputs": []
    },
    {
      "cell_type": "code",
      "source": [
        "np_array1"
      ],
      "metadata": {
        "colab": {
          "base_uri": "https://localhost:8080/"
        },
        "id": "WKTCDqvxEuTK",
        "outputId": "f56317be-f863-4a72-a809-14cda350c6ea"
      },
      "execution_count": null,
      "outputs": [
        {
          "output_type": "execute_result",
          "data": {
            "text/plain": [
              "array([[8, 4, 7, 0, 0],\n",
              "       [7, 1, 5, 7, 0]])"
            ]
          },
          "metadata": {},
          "execution_count": 107
        }
      ]
    },
    {
      "cell_type": "code",
      "source": [
        "x_size = array_to_append.shape[0]\n",
        "array_to_append = array_to_append.reshape(x_size,1)"
      ],
      "metadata": {
        "id": "Fad3eK2tFJP9"
      },
      "execution_count": null,
      "outputs": []
    },
    {
      "cell_type": "code",
      "source": [
        "array_to_append"
      ],
      "metadata": {
        "colab": {
          "base_uri": "https://localhost:8080/"
        },
        "id": "Mo1itjgPFw64",
        "outputId": "d059f222-aae5-4d27-d8df-ebf34304e606"
      },
      "execution_count": null,
      "outputs": [
        {
          "output_type": "execute_result",
          "data": {
            "text/plain": [
              "array([[99],\n",
              "       [99]])"
            ]
          },
          "metadata": {},
          "execution_count": 116
        }
      ]
    },
    {
      "cell_type": "code",
      "source": [
        "np.hstack([np_array1, array_to_append])"
      ],
      "metadata": {
        "colab": {
          "base_uri": "https://localhost:8080/"
        },
        "id": "N5--ByeuE91U",
        "outputId": "28f5e222-6902-4658-cfe9-cc1cd5b37650"
      },
      "execution_count": null,
      "outputs": [
        {
          "output_type": "execute_result",
          "data": {
            "text/plain": [
              "array([[ 8,  4,  7,  0,  0, 99],\n",
              "       [ 7,  1,  5,  7,  0, 99]])"
            ]
          },
          "metadata": {},
          "execution_count": 117
        }
      ]
    },
    {
      "cell_type": "markdown",
      "source": [
        "### Section 5a.4 NumPy Functions"
      ],
      "metadata": {
        "id": "aVMImanVoIeD"
      }
    },
    {
      "cell_type": "code",
      "source": [
        "np_array4 = np.arange(1,5)\n",
        "print(np_array4)"
      ],
      "metadata": {
        "id": "8RBQFOmZoWsE",
        "colab": {
          "base_uri": "https://localhost:8080/"
        },
        "outputId": "92cb17fc-e422-47a6-bdff-588b03109c04"
      },
      "execution_count": null,
      "outputs": [
        {
          "output_type": "stream",
          "name": "stdout",
          "text": [
            "[1 2 3 4]\n"
          ]
        }
      ]
    },
    {
      "cell_type": "code",
      "source": [
        "print(np_array4 // 2)\n",
        "# print(np_array4 + 5)\n",
        "# print(np_array4 - 5)\n",
        "# print(np_array4 * 2)\n",
        "# print(np_array4 / 2)"
      ],
      "metadata": {
        "colab": {
          "base_uri": "https://localhost:8080/"
        },
        "id": "hZJZHNGkEuV-",
        "outputId": "f8995a53-6290-4010-c2df-f613961d7b10"
      },
      "execution_count": null,
      "outputs": [
        {
          "output_type": "stream",
          "name": "stdout",
          "text": [
            "[0 1 1 2]\n"
          ]
        }
      ]
    },
    {
      "cell_type": "code",
      "source": [
        "print(np_array4)\n",
        "print(np.exp(np_array4))\n",
        "print(np.exp2(np_array4))\n",
        "print(np.power(2, np_array4))"
      ],
      "metadata": {
        "colab": {
          "base_uri": "https://localhost:8080/"
        },
        "id": "UeNxwrkgFON0",
        "outputId": "f3eb059b-cb5d-4f8c-8fa8-77834718f730"
      },
      "execution_count": null,
      "outputs": [
        {
          "output_type": "stream",
          "name": "stdout",
          "text": [
            "[1 2 3 4]\n",
            "[ 2.71828183  7.3890561  20.08553692 54.59815003]\n",
            "[ 2.  4.  8. 16.]\n",
            "[ 2  4  8 16]\n"
          ]
        }
      ]
    },
    {
      "cell_type": "code",
      "source": [
        "print(np.log(np_array4))\n",
        "print(np.log2(np_array4))\n",
        "print(np.log10(np_array4))"
      ],
      "metadata": {
        "colab": {
          "base_uri": "https://localhost:8080/"
        },
        "id": "aeJLdye0FOQQ",
        "outputId": "3d5eb146-59c1-4d2a-e515-f7c254b4d081"
      },
      "execution_count": null,
      "outputs": [
        {
          "output_type": "stream",
          "name": "stdout",
          "text": [
            "[0.         0.69314718 1.09861229 1.38629436]\n",
            "[0.        1.        1.5849625 2.       ]\n",
            "[0.         0.30103    0.47712125 0.60205999]\n"
          ]
        }
      ]
    },
    {
      "cell_type": "code",
      "source": [
        "big_array = np.random.rand(1000000)\n",
        "%timeit sum(big_array)\n",
        "%timeit np.sum(big_array)"
      ],
      "metadata": {
        "colab": {
          "base_uri": "https://localhost:8080/"
        },
        "id": "-Muqk0ZJFjv4",
        "outputId": "f7005940-7236-4494-9d0c-2bd67011df67"
      },
      "execution_count": null,
      "outputs": [
        {
          "output_type": "stream",
          "name": "stdout",
          "text": [
            "97.2 ms ± 27.8 ms per loop (mean ± std. dev. of 7 runs, 10 loops each)\n",
            "397 µs ± 8.77 µs per loop (mean ± std. dev. of 7 runs, 1000 loops each)\n"
          ]
        }
      ]
    },
    {
      "cell_type": "code",
      "source": [
        "%timeit min(big_array)\n",
        "%timeit np.min(big_array)"
      ],
      "metadata": {
        "colab": {
          "base_uri": "https://localhost:8080/"
        },
        "id": "1fbs2RpuFmwh",
        "outputId": "36ab5136-a3cc-4862-9a92-07fd946590cf"
      },
      "execution_count": null,
      "outputs": [
        {
          "output_type": "stream",
          "name": "stdout",
          "text": [
            "60.3 ms ± 1.71 ms per loop (mean ± std. dev. of 7 runs, 10 loops each)\n",
            "470 µs ± 21.9 µs per loop (mean ± std. dev. of 7 runs, 1000 loops each)\n"
          ]
        }
      ]
    },
    {
      "cell_type": "code",
      "source": [],
      "metadata": {
        "colab": {
          "base_uri": "https://localhost:8080/"
        },
        "id": "8Lwu4q2QpNfT",
        "outputId": "dc417ff9-a685-4656-eda9-bb77845cab01"
      },
      "execution_count": null,
      "outputs": [
        {
          "output_type": "execute_result",
          "data": {
            "text/plain": [
              "array([[8, 4, 7, 0, 0],\n",
              "       [7, 1, 5, 7, 0]])"
            ]
          },
          "metadata": {},
          "execution_count": 104
        }
      ]
    },
    {
      "cell_type": "code",
      "source": [],
      "metadata": {
        "colab": {
          "base_uri": "https://localhost:8080/"
        },
        "id": "7TrOnk1TpUS4",
        "outputId": "697e2b63-b533-4835-980f-f5116f8ca719"
      },
      "execution_count": null,
      "outputs": [
        {
          "output_type": "execute_result",
          "data": {
            "text/plain": [
              "(2, 5)"
            ]
          },
          "metadata": {},
          "execution_count": 105
        }
      ]
    },
    {
      "cell_type": "code",
      "source": [],
      "metadata": {
        "colab": {
          "base_uri": "https://localhost:8080/"
        },
        "id": "a1_hb7oBFsYy",
        "outputId": "f66886b7-f662-4537-c956-4d25b28cf28b"
      },
      "execution_count": null,
      "outputs": [
        {
          "output_type": "execute_result",
          "data": {
            "text/plain": [
              "array([7, 1, 5, 0, 0])"
            ]
          },
          "metadata": {},
          "execution_count": 106
        }
      ]
    },
    {
      "cell_type": "code",
      "source": [],
      "metadata": {
        "colab": {
          "base_uri": "https://localhost:8080/"
        },
        "id": "G840ST9gpaTq",
        "outputId": "39d90ea1-30c9-40c1-ddf8-30a65fd8223a"
      },
      "execution_count": null,
      "outputs": [
        {
          "output_type": "execute_result",
          "data": {
            "text/plain": [
              "array([0, 0])"
            ]
          },
          "metadata": {},
          "execution_count": 107
        }
      ]
    },
    {
      "cell_type": "code",
      "source": [],
      "metadata": {
        "colab": {
          "base_uri": "https://localhost:8080/"
        },
        "id": "ffBU_fVdpgfs",
        "outputId": "61e98558-7100-4f7a-f819-dedb5c6359cf"
      },
      "execution_count": null,
      "outputs": [
        {
          "output_type": "execute_result",
          "data": {
            "text/plain": [
              "0"
            ]
          },
          "metadata": {},
          "execution_count": 108
        }
      ]
    },
    {
      "cell_type": "markdown",
      "source": [
        "The following table provides a list of useful aggregation functions available in NumPy:\n",
        "\n",
        "|Function Name      |   NaN-safe Version  | Description                                   |\n",
        "|-------------------|---------------------|-----------------------------------------------|\n",
        "| ``np.sum``        | ``np.nansum``       | Compute sum of elements                       |\n",
        "| ``np.prod``       | ``np.nanprod``      | Compute product of elements                   |\n",
        "| ``np.mean``       | ``np.nanmean``      | Compute mean of elements                      |\n",
        "| ``np.std``        | ``np.nanstd``       | Compute standard deviation                    |\n",
        "| ``np.var``        | ``np.nanvar``       | Compute variance                              |\n",
        "| ``np.min``        | ``np.nanmin``       | Find minimum value                            |\n",
        "| ``np.max``        | ``np.nanmax``       | Find maximum value                            |\n",
        "| ``np.argmin``     | ``np.nanargmin``    | Find index of minimum value                   |\n",
        "| ``np.argmax``     | ``np.nanargmax``    | Find index of maximum value                   |\n",
        "| ``np.median``     | ``np.nanmedian``    | Compute median of elements                    |\n",
        "| ``np.percentile`` | ``np.nanpercentile``| Compute rank-based statistics of elements     |\n",
        "| ``np.any``        | N/A                 | Evaluate whether any elements are true        |\n",
        "| ``np.all``        | N/A                 | Evaluate whether all elements are true        |"
      ],
      "metadata": {
        "id": "iXP4Kg1kFxiJ"
      }
    },
    {
      "cell_type": "markdown",
      "source": [
        "### Section 5a.5 Sorting Functions"
      ],
      "metadata": {
        "id": "Is7tf_YRp6D0"
      }
    },
    {
      "cell_type": "code",
      "source": [
        "medium_array = np.random.rand(10000)"
      ],
      "metadata": {
        "id": "AECsJThZrQlE"
      },
      "execution_count": null,
      "outputs": []
    },
    {
      "cell_type": "code",
      "source": [
        "%timeit np.sort(medium_array)"
      ],
      "metadata": {
        "id": "ctET1FuQYmnv",
        "colab": {
          "base_uri": "https://localhost:8080/"
        },
        "outputId": "1a728b03-a5ae-4fc6-bceb-d8599e1e9812"
      },
      "execution_count": null,
      "outputs": [
        {
          "output_type": "stream",
          "name": "stdout",
          "text": [
            "688 µs ± 28.9 µs per loop (mean ± std. dev. of 7 runs, 1000 loops each)\n"
          ]
        }
      ]
    },
    {
      "cell_type": "code",
      "source": [],
      "metadata": {
        "colab": {
          "base_uri": "https://localhost:8080/"
        },
        "id": "M6v8Ar8hFsbD",
        "outputId": "e87d08d1-3282-4f7f-b63e-d833e75e526b"
      },
      "execution_count": null,
      "outputs": [
        {
          "output_type": "stream",
          "name": "stdout",
          "text": [
            "107 ms ± 6.87 ms per loop (mean ± std. dev. of 7 runs, 10 loops each)\n"
          ]
        }
      ]
    },
    {
      "cell_type": "code",
      "source": [],
      "metadata": {
        "colab": {
          "base_uri": "https://localhost:8080/"
        },
        "id": "1VNQ4A4hGgjc",
        "outputId": "35cbcf3a-b155-46f7-ce9e-a7b8e242a75f"
      },
      "execution_count": null,
      "outputs": [
        {
          "output_type": "stream",
          "name": "stdout",
          "text": [
            "103 ms ± 19.3 ms per loop (mean ± std. dev. of 7 runs, 10 loops each)\n"
          ]
        }
      ]
    },
    {
      "cell_type": "code",
      "source": [],
      "metadata": {
        "colab": {
          "base_uri": "https://localhost:8080/"
        },
        "id": "MrNVs7ChZZrk",
        "outputId": "ad4c68c0-e1cc-44a3-ad3e-9e004170770b"
      },
      "execution_count": null,
      "outputs": [
        {
          "output_type": "execute_result",
          "data": {
            "text/plain": [
              "array([[7, 1, 5, 0, 0],\n",
              "       [8, 4, 7, 7, 0]])"
            ]
          },
          "metadata": {},
          "execution_count": 114
        }
      ]
    },
    {
      "cell_type": "code",
      "source": [],
      "metadata": {
        "colab": {
          "base_uri": "https://localhost:8080/"
        },
        "id": "zrOxHFHQZZuB",
        "outputId": "a53627b4-41fd-4323-c92e-91806942bff3"
      },
      "execution_count": null,
      "outputs": [
        {
          "output_type": "execute_result",
          "data": {
            "text/plain": [
              "array([[0, 0, 4, 7, 8],\n",
              "       [0, 1, 5, 7, 7]])"
            ]
          },
          "metadata": {},
          "execution_count": 115
        }
      ]
    },
    {
      "cell_type": "markdown",
      "source": [
        "### Section 5a.6 Indexing"
      ],
      "metadata": {
        "id": "I8txqGogZvUo"
      }
    },
    {
      "cell_type": "code",
      "source": [
        "np_array1"
      ],
      "metadata": {
        "colab": {
          "base_uri": "https://localhost:8080/"
        },
        "id": "0Acv4xZMr6NH",
        "outputId": "2a35ca87-8f8b-469a-c303-d3e2148c5a54"
      },
      "execution_count": null,
      "outputs": [
        {
          "output_type": "execute_result",
          "data": {
            "text/plain": [
              "array([[8, 4, 7, 0, 0],\n",
              "       [7, 1, 5, 7, 0]])"
            ]
          },
          "metadata": {},
          "execution_count": 133
        }
      ]
    },
    {
      "cell_type": "code",
      "source": [
        "np_array1 < 3"
      ],
      "metadata": {
        "colab": {
          "base_uri": "https://localhost:8080/"
        },
        "id": "L5N1fZisZ1j7",
        "outputId": "f61f031f-4097-49c5-9923-e80eb3b72a5a"
      },
      "execution_count": null,
      "outputs": [
        {
          "output_type": "execute_result",
          "data": {
            "text/plain": [
              "array([[False, False, False,  True,  True],\n",
              "       [False,  True, False, False,  True]])"
            ]
          },
          "metadata": {},
          "execution_count": 135
        }
      ]
    },
    {
      "cell_type": "code",
      "source": [
        "np.argwhere(np_array1 < 3)"
      ],
      "metadata": {
        "colab": {
          "base_uri": "https://localhost:8080/"
        },
        "id": "IqHDY83LrfBv",
        "outputId": "4c076ab6-27f0-4931-d0cf-94c9884ffd81"
      },
      "execution_count": null,
      "outputs": [
        {
          "output_type": "execute_result",
          "data": {
            "text/plain": [
              "array([[0, 3],\n",
              "       [0, 4],\n",
              "       [1, 1],\n",
              "       [1, 4]])"
            ]
          },
          "metadata": {},
          "execution_count": 136
        }
      ]
    },
    {
      "cell_type": "code",
      "source": [],
      "metadata": {
        "colab": {
          "base_uri": "https://localhost:8080/"
        },
        "id": "3s3TqlHcrkLR",
        "outputId": "e1c3edfa-36cd-46e6-ec54-fa90a0d4be9e"
      },
      "execution_count": null,
      "outputs": [
        {
          "output_type": "execute_result",
          "data": {
            "text/plain": [
              "array([[0, 3],\n",
              "       [0, 4],\n",
              "       [1, 1],\n",
              "       [1, 4]])"
            ]
          },
          "metadata": {},
          "execution_count": 118
        }
      ]
    }
  ]
}