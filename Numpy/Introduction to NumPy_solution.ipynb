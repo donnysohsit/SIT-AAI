{
  "nbformat": 4,
  "nbformat_minor": 0,
  "metadata": {
    "colab": {
      "provenance": []
    },
    "kernelspec": {
      "name": "python3",
      "display_name": "Python 3"
    },
    "language_info": {
      "name": "python"
    }
  },
  "cells": [
    {
      "cell_type": "markdown",
      "metadata": {
        "id": "U7R7sGv8NPxQ"
      },
      "source": [
        "## Section 5a: Introduction to NumPy"
      ]
    },
    {
      "cell_type": "markdown",
      "metadata": {
        "id": "sfTu9hhDNSer"
      },
      "source": [
        "There are two main libraries that are used during data analysis. These two libraries and NumPy and Pandas. The discussion for this notebook will be more towards numpy and pandas in the next notebook."
      ]
    },
    {
      "cell_type": "markdown",
      "source": [
        "Most people use numpy because of their arrays. The arrays are in fact very similar to python lists. However numpy arrays contain many in built functions which allows them a lot more flexibility as compared to a simple python list."
      ],
      "metadata": {
        "id": "mtDFRn6RaXHL"
      }
    },
    {
      "cell_type": "markdown",
      "metadata": {
        "id": "W_BRA68jRSEf"
      },
      "source": [
        "### Section 5a.1 Creation of NumPy Arrays"
      ]
    },
    {
      "cell_type": "markdown",
      "source": [
        "### Section 5a.1.1 Creation through a list\n",
        "\n",
        "The creation of a NumPy array can be through a list:"
      ],
      "metadata": {
        "id": "WZOdiUOBa-9C"
      }
    },
    {
      "cell_type": "code",
      "metadata": {
        "id": "iqe2RzCEl-gg",
        "colab": {
          "base_uri": "https://localhost:8080/"
        },
        "outputId": "a9bc33f2-1148-4ee9-e5be-68e9b4561df8"
      },
      "source": [
        "import numpy as np\n",
        "np.array([2, 5, 3, 1, 4])"
      ],
      "execution_count": null,
      "outputs": [
        {
          "output_type": "execute_result",
          "data": {
            "text/plain": [
              "array([2, 5, 3, 1, 4])"
            ]
          },
          "metadata": {},
          "execution_count": 6
        }
      ]
    },
    {
      "cell_type": "markdown",
      "source": [
        "All elements in NumPy must have the same type. So if we have a floating (decimal) number in one of the elements, all the elements will be cast to a floating number."
      ],
      "metadata": {
        "id": "2gubHUs77z6F"
      }
    },
    {
      "cell_type": "code",
      "source": [
        "np.array([5.555, 1, 2, 3])"
      ],
      "metadata": {
        "colab": {
          "base_uri": "https://localhost:8080/"
        },
        "id": "51gc6J--7voX",
        "outputId": "a457a5b3-07ef-4bd8-df6f-dc57ec7d693f"
      },
      "execution_count": null,
      "outputs": [
        {
          "output_type": "execute_result",
          "data": {
            "text/plain": [
              "array([5.555, 1.   , 2.   , 3.   ])"
            ]
          },
          "metadata": {},
          "execution_count": 4
        }
      ]
    },
    {
      "cell_type": "markdown",
      "source": [
        "As you see from the array above, all the numbers are being cast into floating numbers."
      ],
      "metadata": {
        "id": "J-cE2I5Rbete"
      }
    },
    {
      "cell_type": "markdown",
      "source": [
        "Set the type of the elements of the array through dtype."
      ],
      "metadata": {
        "id": "1yF3_MWcb_MK"
      }
    },
    {
      "cell_type": "code",
      "source": [
        "np.array([1, 2, 3, 4], dtype='float32')"
      ],
      "metadata": {
        "colab": {
          "base_uri": "https://localhost:8080/"
        },
        "id": "yAwD4pQR73xW",
        "outputId": "1fb036fa-0d10-436c-d9f8-f1ce94feea3a"
      },
      "execution_count": null,
      "outputs": [
        {
          "output_type": "execute_result",
          "data": {
            "text/plain": [
              "array([1., 2., 3., 4.], dtype=float32)"
            ]
          },
          "metadata": {},
          "execution_count": 5
        }
      ]
    },
    {
      "cell_type": "markdown",
      "source": [
        "### Section 5a.1.2 Creation through a function\n"
      ],
      "metadata": {
        "id": "kynjm1SLcaV1"
      }
    },
    {
      "cell_type": "code",
      "source": [
        "np.zeros(5, dtype=float)"
      ],
      "metadata": {
        "colab": {
          "base_uri": "https://localhost:8080/"
        },
        "id": "HyHGjEkR8R1d",
        "outputId": "70a98a7c-283f-42cd-c1df-ec3c89d46987"
      },
      "execution_count": null,
      "outputs": [
        {
          "output_type": "execute_result",
          "data": {
            "text/plain": [
              "array([0., 0., 0., 0., 0.])"
            ]
          },
          "metadata": {},
          "execution_count": 8
        }
      ]
    },
    {
      "cell_type": "code",
      "source": [
        "np.ones((2, 5), dtype=float)"
      ],
      "metadata": {
        "colab": {
          "base_uri": "https://localhost:8080/"
        },
        "id": "CfLqQj-L8R3z",
        "outputId": "83048991-609e-40a8-e1c2-cd2c7e678ddc"
      },
      "execution_count": null,
      "outputs": [
        {
          "output_type": "execute_result",
          "data": {
            "text/plain": [
              "array([[1., 1., 1., 1., 1.],\n",
              "       [1., 1., 1., 1., 1.]])"
            ]
          },
          "metadata": {},
          "execution_count": 11
        }
      ]
    },
    {
      "cell_type": "code",
      "source": [
        "np.full((2, 5), 1.23)"
      ],
      "metadata": {
        "colab": {
          "base_uri": "https://localhost:8080/"
        },
        "id": "v2SabBOV8R6J",
        "outputId": "6046ac44-c604-4573-ba4c-c964c40a6293"
      },
      "execution_count": null,
      "outputs": [
        {
          "output_type": "execute_result",
          "data": {
            "text/plain": [
              "array([[1.23, 1.23, 1.23, 1.23, 1.23],\n",
              "       [1.23, 1.23, 1.23, 1.23, 1.23]])"
            ]
          },
          "metadata": {},
          "execution_count": 10
        }
      ]
    },
    {
      "cell_type": "markdown",
      "source": [
        "### Section 5a.1.3 Creation through range\n"
      ],
      "metadata": {
        "id": "16lPrGLjeu2F"
      }
    },
    {
      "cell_type": "markdown",
      "source": [
        "Create an array between 0 and 20 (non inclusive) whee the difference between the numbers is 2."
      ],
      "metadata": {
        "id": "WbgaA8a7eaJz"
      }
    },
    {
      "cell_type": "code",
      "source": [
        "np.arange(0, 20, 2)"
      ],
      "metadata": {
        "colab": {
          "base_uri": "https://localhost:8080/"
        },
        "id": "iUP2SFNT8R8j",
        "outputId": "71cc3221-e3d9-4a17-c298-f4e8b33f596f"
      },
      "execution_count": null,
      "outputs": [
        {
          "output_type": "execute_result",
          "data": {
            "text/plain": [
              "array([ 0,  2,  4,  6,  8, 10, 12, 14, 16, 18])"
            ]
          },
          "metadata": {},
          "execution_count": 15
        }
      ]
    },
    {
      "cell_type": "markdown",
      "source": [
        "Create an array of 10 values evenly spaced between 0 and 18.\n"
      ],
      "metadata": {
        "id": "GYx4f5xpeXWj"
      }
    },
    {
      "cell_type": "code",
      "source": [
        "np.linspace(0, 18, 10)"
      ],
      "metadata": {
        "colab": {
          "base_uri": "https://localhost:8080/"
        },
        "id": "wsK3ZQCk8SA3",
        "outputId": "3326f27d-c833-434c-e62b-4ca174ec5ac5"
      },
      "execution_count": null,
      "outputs": [
        {
          "output_type": "execute_result",
          "data": {
            "text/plain": [
              "array([ 0.,  2.,  4.,  6.,  8., 10., 12., 14., 16., 18.])"
            ]
          },
          "metadata": {},
          "execution_count": 14
        }
      ]
    },
    {
      "cell_type": "markdown",
      "source": [
        "### Section 5a.1.4 Creation through random function"
      ],
      "metadata": {
        "id": "HoeIvwdreyXU"
      }
    },
    {
      "cell_type": "markdown",
      "source": [
        "Create array 2 by 5, with random values between 0 and 1."
      ],
      "metadata": {
        "id": "vHucbN6be-es"
      }
    },
    {
      "cell_type": "code",
      "source": [
        "np.random.random((2, 5))"
      ],
      "metadata": {
        "colab": {
          "base_uri": "https://localhost:8080/"
        },
        "id": "abBxMhio8a_g",
        "outputId": "f07f00c7-3594-4a23-95d7-5f22d04d3ae7"
      },
      "execution_count": null,
      "outputs": [
        {
          "output_type": "execute_result",
          "data": {
            "text/plain": [
              "array([[0.57351231, 0.42966476, 0.71038471, 0.51620601, 0.11888219],\n",
              "       [0.94873952, 0.31726818, 0.74798847, 0.80668331, 0.68830432]])"
            ]
          },
          "metadata": {},
          "execution_count": 16
        }
      ]
    },
    {
      "cell_type": "markdown",
      "source": [
        "If you need it between eg 3 and 9:"
      ],
      "metadata": {
        "id": "LxhYxOhEfd-N"
      }
    },
    {
      "cell_type": "code",
      "source": [
        "upper = 9\n",
        "lower = 3\n",
        "\n",
        "np.random.random((2, 5)) * (upper - lower) + lower"
      ],
      "metadata": {
        "colab": {
          "base_uri": "https://localhost:8080/"
        },
        "id": "WVvsP2NbfFT6",
        "outputId": "2e933cfb-e5fa-4ee7-8913-05fab1547d97"
      },
      "execution_count": null,
      "outputs": [
        {
          "output_type": "execute_result",
          "data": {
            "text/plain": [
              "array([[4.34133936, 7.47302281, 5.19628002, 7.79213455, 7.97856028],\n",
              "       [3.65980181, 6.64480274, 8.08396002, 3.36039985, 4.50406058]])"
            ]
          },
          "metadata": {},
          "execution_count": 22
        }
      ]
    },
    {
      "cell_type": "markdown",
      "source": [
        "Create array 2 by 5, with under a normal distribution centered at 3 with std deviation of 9."
      ],
      "metadata": {
        "id": "rJdzQc-of02n"
      }
    },
    {
      "cell_type": "code",
      "source": [
        "np.random.normal(3, 9, (2, 5))"
      ],
      "metadata": {
        "colab": {
          "base_uri": "https://localhost:8080/"
        },
        "id": "A2AnpyoM8bCR",
        "outputId": "4389f023-9503-406b-8fad-64da57286e9a"
      },
      "execution_count": null,
      "outputs": [
        {
          "output_type": "execute_result",
          "data": {
            "text/plain": [
              "array([[  3.91521554,   7.7991163 , -10.54817637,   6.55411922,\n",
              "         14.65402889],\n",
              "       [ -2.31619832,  15.92887649,  -8.16846235,   9.7639678 ,\n",
              "          9.81054729]])"
            ]
          },
          "metadata": {},
          "execution_count": 24
        }
      ]
    },
    {
      "cell_type": "markdown",
      "source": [
        "Create array 2 by 5, with random values between 0 and 10 (non inclusive)."
      ],
      "metadata": {
        "id": "bOkuE7OjfPbv"
      }
    },
    {
      "cell_type": "code",
      "source": [
        "np.random.randint(0, 10, (2, 5))"
      ],
      "metadata": {
        "colab": {
          "base_uri": "https://localhost:8080/"
        },
        "id": "Lv8XidY-8bE_",
        "outputId": "50d2b4fd-35c2-40d8-ff18-2dc2998ee9d4"
      },
      "execution_count": null,
      "outputs": [
        {
          "output_type": "execute_result",
          "data": {
            "text/plain": [
              "array([[9, 6, 4, 4, 3],\n",
              "       [9, 1, 9, 8, 8]])"
            ]
          },
          "metadata": {},
          "execution_count": 25
        }
      ]
    },
    {
      "cell_type": "markdown",
      "source": [
        "Creation of Identity matrix."
      ],
      "metadata": {
        "id": "5d8gtwOMgTsH"
      }
    },
    {
      "cell_type": "code",
      "source": [
        "np.eye(5)"
      ],
      "metadata": {
        "colab": {
          "base_uri": "https://localhost:8080/"
        },
        "id": "EEaqWNIr8jWl",
        "outputId": "5ebaab82-90b8-4e30-b71f-a207db13686e"
      },
      "execution_count": null,
      "outputs": [
        {
          "output_type": "execute_result",
          "data": {
            "text/plain": [
              "array([[1., 0., 0., 0., 0.],\n",
              "       [0., 1., 0., 0., 0.],\n",
              "       [0., 0., 1., 0., 0.],\n",
              "       [0., 0., 0., 1., 0.],\n",
              "       [0., 0., 0., 0., 1.]])"
            ]
          },
          "metadata": {},
          "execution_count": 26
        }
      ]
    },
    {
      "cell_type": "markdown",
      "source": [
        "### Section 5a.2 NumPy Arrays Fundamentals"
      ],
      "metadata": {
        "id": "DOVIxgTuDAEv"
      }
    },
    {
      "cell_type": "markdown",
      "source": [
        "#### Section 5a.2.1 NumPy Arrays Indexing"
      ],
      "metadata": {
        "id": "MG6aepWYiHm9"
      }
    },
    {
      "cell_type": "code",
      "source": [
        "np.random.seed(5)\n",
        "\n",
        "np_array0 = np.random.randint(10, size=5)\n",
        "np_array1 = np.random.randint(10, size=(2, 5))\n",
        "np_array2 = np.random.randint(10, size=(2, 5, 3))"
      ],
      "metadata": {
        "id": "a1qdZQI7DEls"
      },
      "execution_count": null,
      "outputs": []
    },
    {
      "cell_type": "code",
      "source": [
        "print(f\"Number of Dimensions: {np_array2.ndim}\")\n",
        "print(f\"Th shape of the array: {np_array2.shape}\")\n",
        "print(f\"The number of entries in the array (4 * 5 * 6): {np_array2.size}\")"
      ],
      "metadata": {
        "colab": {
          "base_uri": "https://localhost:8080/"
        },
        "id": "9s2K5TE3DRWj",
        "outputId": "4bf0df2e-568c-4a2f-9e89-c620362e24b6"
      },
      "execution_count": null,
      "outputs": [
        {
          "output_type": "stream",
          "name": "stdout",
          "text": [
            "Number of Dimensions: 3\n",
            "Th shape of the array: (2, 5, 3)\n",
            "The number of entries in the array (4 * 5 * 6): 30\n"
          ]
        }
      ]
    },
    {
      "cell_type": "code",
      "source": [
        "np_array0"
      ],
      "metadata": {
        "colab": {
          "base_uri": "https://localhost:8080/"
        },
        "id": "UhbfLMVrDW3X",
        "outputId": "4b2d4596-1b6c-4444-f1cf-50ee79465038"
      },
      "execution_count": null,
      "outputs": [
        {
          "output_type": "execute_result",
          "data": {
            "text/plain": [
              "array([3, 6, 6, 0, 9])"
            ]
          },
          "metadata": {},
          "execution_count": 39
        }
      ]
    },
    {
      "cell_type": "code",
      "source": [
        "np_array0[0]"
      ],
      "metadata": {
        "colab": {
          "base_uri": "https://localhost:8080/"
        },
        "id": "-scZ6ryiDY3g",
        "outputId": "cdcdff3d-b92b-474a-8930-5874726b6e73"
      },
      "execution_count": null,
      "outputs": [
        {
          "output_type": "execute_result",
          "data": {
            "text/plain": [
              "3"
            ]
          },
          "metadata": {},
          "execution_count": 40
        }
      ]
    },
    {
      "cell_type": "code",
      "source": [
        "np_array1"
      ],
      "metadata": {
        "colab": {
          "base_uri": "https://localhost:8080/"
        },
        "id": "4d11isrZDcOd",
        "outputId": "920a2594-e9d2-4036-c2e5-7e16c940985a"
      },
      "execution_count": null,
      "outputs": [
        {
          "output_type": "execute_result",
          "data": {
            "text/plain": [
              "array([[8, 4, 7, 0, 0],\n",
              "       [7, 1, 5, 7, 0]])"
            ]
          },
          "metadata": {},
          "execution_count": 41
        }
      ]
    },
    {
      "cell_type": "code",
      "source": [
        "np_array1[0, 0]"
      ],
      "metadata": {
        "colab": {
          "base_uri": "https://localhost:8080/"
        },
        "id": "T_fhjPDXDcRt",
        "outputId": "3b4e2170-4a73-444a-cb88-63e4ff049ca2"
      },
      "execution_count": null,
      "outputs": [
        {
          "output_type": "execute_result",
          "data": {
            "text/plain": [
              "8"
            ]
          },
          "metadata": {},
          "execution_count": 42
        }
      ]
    },
    {
      "cell_type": "code",
      "source": [
        "np_array1[0, 1]"
      ],
      "metadata": {
        "colab": {
          "base_uri": "https://localhost:8080/"
        },
        "id": "k3V9mBehhiqY",
        "outputId": "ee80b1fd-9847-4eb3-a50c-a47b8001cd92"
      },
      "execution_count": null,
      "outputs": [
        {
          "output_type": "execute_result",
          "data": {
            "text/plain": [
              "4"
            ]
          },
          "metadata": {},
          "execution_count": 46
        }
      ]
    },
    {
      "cell_type": "code",
      "source": [
        "np_array1[1, 0]"
      ],
      "metadata": {
        "colab": {
          "base_uri": "https://localhost:8080/",
          "height": 167
        },
        "id": "98rV71X7hlhV",
        "outputId": "69c2ae8e-def1-42ed-f4a9-5dfb8392af5e"
      },
      "execution_count": null,
      "outputs": [
        {
          "output_type": "error",
          "ename": "NameError",
          "evalue": "ignored",
          "traceback": [
            "\u001b[0;31m---------------------------------------------------------------------------\u001b[0m",
            "\u001b[0;31mNameError\u001b[0m                                 Traceback (most recent call last)",
            "\u001b[0;32m<ipython-input-2-e7c4613af7e3>\u001b[0m in \u001b[0;36m<module>\u001b[0;34m\u001b[0m\n\u001b[0;32m----> 1\u001b[0;31m \u001b[0mnp_array1\u001b[0m\u001b[0;34m[\u001b[0m\u001b[0;36m1\u001b[0m\u001b[0;34m,\u001b[0m \u001b[0;36m0\u001b[0m\u001b[0;34m]\u001b[0m\u001b[0;34m\u001b[0m\u001b[0;34m\u001b[0m\u001b[0m\n\u001b[0m",
            "\u001b[0;31mNameError\u001b[0m: name 'np_array1' is not defined"
          ]
        }
      ]
    },
    {
      "cell_type": "code",
      "source": [
        "np_array1[1, -8]"
      ],
      "metadata": {
        "colab": {
          "base_uri": "https://localhost:8080/",
          "height": 167
        },
        "id": "HsrcIQ5YDcUb",
        "outputId": "921899a6-ca12-457c-d879-ade6969677c2"
      },
      "execution_count": null,
      "outputs": [
        {
          "output_type": "error",
          "ename": "NameError",
          "evalue": "ignored",
          "traceback": [
            "\u001b[0;31m---------------------------------------------------------------------------\u001b[0m",
            "\u001b[0;31mNameError\u001b[0m                                 Traceback (most recent call last)",
            "\u001b[0;32m<ipython-input-1-4aef62b43eb8>\u001b[0m in \u001b[0;36m<module>\u001b[0;34m\u001b[0m\n\u001b[0;32m----> 1\u001b[0;31m \u001b[0mnp_array1\u001b[0m\u001b[0;34m[\u001b[0m\u001b[0;36m1\u001b[0m\u001b[0;34m,\u001b[0m \u001b[0;34m-\u001b[0m\u001b[0;36m8\u001b[0m\u001b[0;34m]\u001b[0m\u001b[0;34m\u001b[0m\u001b[0;34m\u001b[0m\u001b[0m\n\u001b[0m",
            "\u001b[0;31mNameError\u001b[0m: name 'np_array1' is not defined"
          ]
        }
      ]
    },
    {
      "cell_type": "markdown",
      "source": [
        "#### Section 5a.2.2 NumPy Arrays Slicing"
      ],
      "metadata": {
        "id": "E61OAjIJiLqp"
      }
    },
    {
      "cell_type": "markdown",
      "source": [
        "The colon (:) character is used to access a slice of the array. The slice notation has three sections:\n",
        "\n",
        "```\n",
        "some_array[start:stop:step]\n",
        "```"
      ],
      "metadata": {
        "id": "w7DWtg4PDjMx"
      }
    },
    {
      "cell_type": "code",
      "source": [
        "np_array0"
      ],
      "metadata": {
        "colab": {
          "base_uri": "https://localhost:8080/"
        },
        "id": "4CjgOqowjelb",
        "outputId": "75adc0bf-4fa4-40ce-ab8d-3b2feb74c626"
      },
      "execution_count": null,
      "outputs": [
        {
          "output_type": "execute_result",
          "data": {
            "text/plain": [
              "array([3, 6, 6, 0, 9])"
            ]
          },
          "metadata": {},
          "execution_count": 53
        }
      ]
    },
    {
      "cell_type": "code",
      "source": [
        "np_array0[:2]"
      ],
      "metadata": {
        "colab": {
          "base_uri": "https://localhost:8080/"
        },
        "id": "2TiMZQIMDp5_",
        "outputId": "c4626e9b-0553-41f1-cbac-772216287fae"
      },
      "execution_count": null,
      "outputs": [
        {
          "output_type": "execute_result",
          "data": {
            "text/plain": [
              "array([3, 6])"
            ]
          },
          "metadata": {},
          "execution_count": 52
        }
      ]
    },
    {
      "cell_type": "markdown",
      "source": [
        "Every other element, starting at index 0. Hence we get indexes 0, 2 and 4."
      ],
      "metadata": {
        "id": "l7UPjcoYjnyv"
      }
    },
    {
      "cell_type": "code",
      "source": [
        "np_array0[0::2]"
      ],
      "metadata": {
        "colab": {
          "base_uri": "https://localhost:8080/"
        },
        "id": "-6rMX7PdDp8z",
        "outputId": "a826b45b-13d7-42fb-eae0-3afa01ba912c"
      },
      "execution_count": null,
      "outputs": [
        {
          "output_type": "execute_result",
          "data": {
            "text/plain": [
              "array([3, 6, 9])"
            ]
          },
          "metadata": {},
          "execution_count": 55
        }
      ]
    },
    {
      "cell_type": "markdown",
      "source": [
        "Reverse the elements in the array:"
      ],
      "metadata": {
        "id": "5DU6Ba8-jw5d"
      }
    },
    {
      "cell_type": "code",
      "source": [
        "np_array0[::-1]"
      ],
      "metadata": {
        "colab": {
          "base_uri": "https://localhost:8080/"
        },
        "id": "R2uuHu1wDvy6",
        "outputId": "993c84b7-7f08-4f1d-8525-9554d7ae1c2b"
      },
      "execution_count": null,
      "outputs": [
        {
          "output_type": "execute_result",
          "data": {
            "text/plain": [
              "array([9, 0, 6, 6, 3])"
            ]
          },
          "metadata": {},
          "execution_count": 56
        }
      ]
    },
    {
      "cell_type": "code",
      "source": [
        "np_array0[::-2]"
      ],
      "metadata": {
        "colab": {
          "base_uri": "https://localhost:8080/"
        },
        "id": "libLpFojkCAQ",
        "outputId": "10bea255-6878-4edf-d141-6a0d0c6227bb"
      },
      "execution_count": null,
      "outputs": [
        {
          "output_type": "execute_result",
          "data": {
            "text/plain": [
              "array([9, 6, 3])"
            ]
          },
          "metadata": {},
          "execution_count": 58
        }
      ]
    },
    {
      "cell_type": "markdown",
      "source": [
        "Reversed every other from index 3"
      ],
      "metadata": {
        "id": "ND29ldbUkKlE"
      }
    },
    {
      "cell_type": "code",
      "source": [
        "np_array0[3::-2]"
      ],
      "metadata": {
        "colab": {
          "base_uri": "https://localhost:8080/"
        },
        "id": "p_SGRfL2Dv1n",
        "outputId": "70a6317c-aece-4be3-e4f8-5e6079e037ec"
      },
      "execution_count": null,
      "outputs": [
        {
          "output_type": "execute_result",
          "data": {
            "text/plain": [
              "array([0, 6])"
            ]
          },
          "metadata": {},
          "execution_count": 59
        }
      ]
    },
    {
      "cell_type": "markdown",
      "source": [
        "Recall the array2 looks like the following:"
      ],
      "metadata": {
        "id": "0uNfLQEPkP3Y"
      }
    },
    {
      "cell_type": "code",
      "source": [
        "np_array1"
      ],
      "metadata": {
        "colab": {
          "base_uri": "https://localhost:8080/"
        },
        "id": "663rimIaDv4d",
        "outputId": "af3dcd60-3aaa-4f8c-d3da-cd3442afc9f2"
      },
      "execution_count": null,
      "outputs": [
        {
          "output_type": "execute_result",
          "data": {
            "text/plain": [
              "array([[8, 4, 7, 0, 0],\n",
              "       [7, 1, 5, 7, 0]])"
            ]
          },
          "metadata": {},
          "execution_count": 60
        }
      ]
    },
    {
      "cell_type": "code",
      "source": [
        "np_array1[:2, :3]"
      ],
      "metadata": {
        "colab": {
          "base_uri": "https://localhost:8080/"
        },
        "id": "a_9ByJtyDv60",
        "outputId": "888a2619-bb85-4130-eacd-d8d4654cd0f0"
      },
      "execution_count": null,
      "outputs": [
        {
          "output_type": "execute_result",
          "data": {
            "text/plain": [
              "array([[8, 4, 7],\n",
              "       [7, 1, 5]])"
            ]
          },
          "metadata": {},
          "execution_count": 61
        }
      ]
    },
    {
      "cell_type": "markdown",
      "source": [
        "Every other column"
      ],
      "metadata": {
        "id": "z3O6e1jIknxI"
      }
    },
    {
      "cell_type": "code",
      "source": [
        "np_array1[:3, ::2]"
      ],
      "metadata": {
        "colab": {
          "base_uri": "https://localhost:8080/"
        },
        "id": "E-_RNVUcDv9a",
        "outputId": "039ff9fc-3e82-4567-ab50-ba3bb0c8c9c9"
      },
      "execution_count": null,
      "outputs": [
        {
          "output_type": "execute_result",
          "data": {
            "text/plain": [
              "array([[8, 7, 0],\n",
              "       [7, 5, 0]])"
            ]
          },
          "metadata": {},
          "execution_count": 63
        }
      ]
    },
    {
      "cell_type": "markdown",
      "source": [
        "### Section 5a.3 Combining NumPy Arrays"
      ],
      "metadata": {
        "id": "kIPVeMy9D-Oo"
      }
    },
    {
      "cell_type": "code",
      "source": [
        "x = np_array0\n",
        "y = np_array0[::-1]"
      ],
      "metadata": {
        "id": "_ZN2fyB7EbM3"
      },
      "execution_count": null,
      "outputs": []
    },
    {
      "cell_type": "code",
      "source": [
        "np.concatenate([x, y])"
      ],
      "metadata": {
        "colab": {
          "base_uri": "https://localhost:8080/"
        },
        "id": "Ncbaq6RvlgGM",
        "outputId": "82a807f5-3536-4210-eb97-a9dbaaa587c9"
      },
      "execution_count": null,
      "outputs": [
        {
          "output_type": "execute_result",
          "data": {
            "text/plain": [
              "array([3, 6, 6, 0, 9, 9, 0, 6, 6, 3])"
            ]
          },
          "metadata": {},
          "execution_count": 78
        }
      ]
    },
    {
      "cell_type": "code",
      "source": [
        "np.hstack([x, y])"
      ],
      "metadata": {
        "colab": {
          "base_uri": "https://localhost:8080/"
        },
        "id": "Jv0vm8vHlhCV",
        "outputId": "2e709f23-fa49-493d-ccdd-2178bb88e42e"
      },
      "execution_count": null,
      "outputs": [
        {
          "output_type": "execute_result",
          "data": {
            "text/plain": [
              "array([3, 6, 6, 0, 9, 9, 0, 6, 6, 3])"
            ]
          },
          "metadata": {},
          "execution_count": 79
        }
      ]
    },
    {
      "cell_type": "code",
      "source": [
        "np.vstack([x, y])"
      ],
      "metadata": {
        "colab": {
          "base_uri": "https://localhost:8080/"
        },
        "id": "hVO7jvFPnYEi",
        "outputId": "78f8d2c8-e437-4977-f526-58131a039255"
      },
      "execution_count": null,
      "outputs": [
        {
          "output_type": "execute_result",
          "data": {
            "text/plain": [
              "array([[3, 6, 6, 0, 9],\n",
              "       [9, 0, 6, 6, 3]])"
            ]
          },
          "metadata": {},
          "execution_count": 80
        }
      ]
    },
    {
      "cell_type": "code",
      "source": [
        "np_array1"
      ],
      "metadata": {
        "colab": {
          "base_uri": "https://localhost:8080/"
        },
        "id": "_0si1dX7EbPs",
        "outputId": "68dbb416-9806-4213-a4dc-e0a64b28da44"
      },
      "execution_count": null,
      "outputs": [
        {
          "output_type": "execute_result",
          "data": {
            "text/plain": [
              "array([[8, 4, 7, 0, 0],\n",
              "       [7, 1, 5, 7, 0]])"
            ]
          },
          "metadata": {},
          "execution_count": 81
        }
      ]
    },
    {
      "cell_type": "code",
      "source": [
        "np.concatenate([np_array1, np_array1])"
      ],
      "metadata": {
        "colab": {
          "base_uri": "https://localhost:8080/"
        },
        "id": "XWwV7UFCEbSZ",
        "outputId": "f2c830f6-0a26-4658-c64b-38118e3c40b8"
      },
      "execution_count": null,
      "outputs": [
        {
          "output_type": "execute_result",
          "data": {
            "text/plain": [
              "array([[8, 4, 7, 0, 0],\n",
              "       [7, 1, 5, 7, 0],\n",
              "       [8, 4, 7, 0, 0],\n",
              "       [7, 1, 5, 7, 0]])"
            ]
          },
          "metadata": {},
          "execution_count": 83
        }
      ]
    },
    {
      "cell_type": "code",
      "source": [
        "np.concatenate([np_array1, np_array1], axis=1)"
      ],
      "metadata": {
        "colab": {
          "base_uri": "https://localhost:8080/"
        },
        "id": "L-jGdaz8En0u",
        "outputId": "ca37ea3b-61c3-4a0f-b84e-3372650f3644"
      },
      "execution_count": null,
      "outputs": [
        {
          "output_type": "execute_result",
          "data": {
            "text/plain": [
              "array([[8, 4, 7, 0, 0, 8, 4, 7, 0, 0],\n",
              "       [7, 1, 5, 7, 0, 7, 1, 5, 7, 0]])"
            ]
          },
          "metadata": {},
          "execution_count": 84
        }
      ]
    },
    {
      "cell_type": "code",
      "source": [
        "np.vstack([np_array0, np_array1])"
      ],
      "metadata": {
        "colab": {
          "base_uri": "https://localhost:8080/"
        },
        "id": "BzOtUI3kEuP0",
        "outputId": "41916d80-6f9b-4707-c733-aba2edf45cc4"
      },
      "execution_count": null,
      "outputs": [
        {
          "output_type": "execute_result",
          "data": {
            "text/plain": [
              "array([[3, 6, 6, 0, 9],\n",
              "       [8, 4, 7, 0, 0],\n",
              "       [7, 1, 5, 7, 0]])"
            ]
          },
          "metadata": {},
          "execution_count": 87
        }
      ]
    },
    {
      "cell_type": "code",
      "source": [
        "y = np.array([[99],\n",
        "              [99]])\n",
        "np.hstack([np_array1, y])"
      ],
      "metadata": {
        "colab": {
          "base_uri": "https://localhost:8080/"
        },
        "id": "WKTCDqvxEuTK",
        "outputId": "4f507ef3-141c-4c05-d229-c39daef37063"
      },
      "execution_count": null,
      "outputs": [
        {
          "output_type": "execute_result",
          "data": {
            "text/plain": [
              "array([[ 8,  4,  7,  0,  0, 99],\n",
              "       [ 7,  1,  5,  7,  0, 99]])"
            ]
          },
          "metadata": {},
          "execution_count": 88
        }
      ]
    },
    {
      "cell_type": "markdown",
      "source": [
        "### Section 5a.4 NumPy Functions"
      ],
      "metadata": {
        "id": "aVMImanVoIeD"
      }
    },
    {
      "cell_type": "code",
      "source": [
        "np_array4 = np.arange(1, 5)"
      ],
      "metadata": {
        "id": "8RBQFOmZoWsE"
      },
      "execution_count": null,
      "outputs": []
    },
    {
      "cell_type": "code",
      "source": [
        "print(\"np_array4     =\", np_array4)\n",
        "print(\"np_array4 + 5 =\", np_array4 + 5)\n",
        "print(\"np_array4 - 5 =\", np_array4 - 5)\n",
        "print(\"np_array4 * 2 =\", np_array4 * 2)\n",
        "print(\"np_array4 / 2 =\", np_array4 / 2)\n",
        "print(\"np_array4 // 2 =\", np_array4 // 2)  # floor division"
      ],
      "metadata": {
        "colab": {
          "base_uri": "https://localhost:8080/"
        },
        "id": "hZJZHNGkEuV-",
        "outputId": "f6152d44-9a3f-4bf7-8de8-a83c4e646b8c"
      },
      "execution_count": null,
      "outputs": [
        {
          "output_type": "stream",
          "name": "stdout",
          "text": [
            "np_array4     = [1 2 3 4]\n",
            "np_array4 + 5 = [6 7 8 9]\n",
            "np_array4 - 5 = [-4 -3 -2 -1]\n",
            "np_array4 * 2 = [2 4 6 8]\n",
            "np_array4 / 2 = [0.5 1.  1.5 2. ]\n",
            "np_array4 // 2 = [0 1 1 2]\n"
          ]
        }
      ]
    },
    {
      "cell_type": "code",
      "source": [
        "print(\"np_array4     =\", np_array4)\n",
        "print(\"e^np_array4   =\", np.exp(np_array4))\n",
        "print(\"2^np_array4   =\", np.exp2(np_array4))\n",
        "print(\"3^np_array4   =\", np.power(3, np_array4))"
      ],
      "metadata": {
        "colab": {
          "base_uri": "https://localhost:8080/"
        },
        "id": "UeNxwrkgFON0",
        "outputId": "7fa32104-77c8-4ab3-e148-b7f1d3e4010e"
      },
      "execution_count": null,
      "outputs": [
        {
          "output_type": "stream",
          "name": "stdout",
          "text": [
            "np_array4     = [1 2 3 4]\n",
            "e^np_array4   = [ 2.71828183  7.3890561  20.08553692 54.59815003]\n",
            "2^np_array4   = [ 2.  4.  8. 16.]\n",
            "3^np_array4   = [ 3  9 27 81]\n"
          ]
        }
      ]
    },
    {
      "cell_type": "code",
      "source": [
        "print(\"np_array4        =\", np_array4)\n",
        "print(\"ln(np_array4)    =\", np.log(np_array4))\n",
        "print(\"log2(np_array4)  =\", np.log2(np_array4))\n",
        "print(\"log10(np_array4) =\", np.log10(np_array4))"
      ],
      "metadata": {
        "colab": {
          "base_uri": "https://localhost:8080/"
        },
        "id": "aeJLdye0FOQQ",
        "outputId": "44737a6c-f780-44c8-a5ca-4a6096c523fa"
      },
      "execution_count": null,
      "outputs": [
        {
          "output_type": "stream",
          "name": "stdout",
          "text": [
            "np_array4        = [1 2 3 4]\n",
            "ln(np_array4)    = [0.         0.69314718 1.09861229 1.38629436]\n",
            "log2(np_array4)  = [0.        1.        1.5849625 2.       ]\n",
            "log10(np_array4) = [0.         0.30103    0.47712125 0.60205999]\n"
          ]
        }
      ]
    },
    {
      "cell_type": "code",
      "source": [
        "big_array = np.random.rand(1000000)\n",
        "%timeit sum(big_array)\n",
        "%timeit np.sum(big_array)"
      ],
      "metadata": {
        "colab": {
          "base_uri": "https://localhost:8080/"
        },
        "id": "-Muqk0ZJFjv4",
        "outputId": "b53c11c0-12da-48f0-f181-40687eae60be"
      },
      "execution_count": null,
      "outputs": [
        {
          "output_type": "stream",
          "name": "stdout",
          "text": [
            "88.3 ms ± 11.3 ms per loop (mean ± std. dev. of 7 runs, 10 loops each)\n",
            "382 µs ± 15.8 µs per loop (mean ± std. dev. of 7 runs, 1000 loops each)\n"
          ]
        }
      ]
    },
    {
      "cell_type": "code",
      "source": [
        "%timeit min(big_array)\n",
        "%timeit np.min(big_array)"
      ],
      "metadata": {
        "colab": {
          "base_uri": "https://localhost:8080/"
        },
        "id": "1fbs2RpuFmwh",
        "outputId": "3b9a73b1-3ce5-49a6-9662-4016ee850d5c"
      },
      "execution_count": null,
      "outputs": [
        {
          "output_type": "stream",
          "name": "stdout",
          "text": [
            "79.9 ms ± 25.9 ms per loop (mean ± std. dev. of 7 runs, 10 loops each)\n",
            "439 µs ± 1.99 µs per loop (mean ± std. dev. of 7 runs, 1000 loops each)\n"
          ]
        }
      ]
    },
    {
      "cell_type": "code",
      "source": [
        "np_array1"
      ],
      "metadata": {
        "colab": {
          "base_uri": "https://localhost:8080/"
        },
        "id": "8Lwu4q2QpNfT",
        "outputId": "dc417ff9-a685-4656-eda9-bb77845cab01"
      },
      "execution_count": null,
      "outputs": [
        {
          "output_type": "execute_result",
          "data": {
            "text/plain": [
              "array([[8, 4, 7, 0, 0],\n",
              "       [7, 1, 5, 7, 0]])"
            ]
          },
          "metadata": {},
          "execution_count": 104
        }
      ]
    },
    {
      "cell_type": "code",
      "source": [
        "np_array1.shape"
      ],
      "metadata": {
        "colab": {
          "base_uri": "https://localhost:8080/"
        },
        "id": "7TrOnk1TpUS4",
        "outputId": "697e2b63-b533-4835-980f-f5116f8ca719"
      },
      "execution_count": null,
      "outputs": [
        {
          "output_type": "execute_result",
          "data": {
            "text/plain": [
              "(2, 5)"
            ]
          },
          "metadata": {},
          "execution_count": 105
        }
      ]
    },
    {
      "cell_type": "code",
      "source": [
        "np_array1.min(axis=0)"
      ],
      "metadata": {
        "colab": {
          "base_uri": "https://localhost:8080/"
        },
        "id": "a1_hb7oBFsYy",
        "outputId": "f66886b7-f662-4537-c956-4d25b28cf28b"
      },
      "execution_count": null,
      "outputs": [
        {
          "output_type": "execute_result",
          "data": {
            "text/plain": [
              "array([7, 1, 5, 0, 0])"
            ]
          },
          "metadata": {},
          "execution_count": 106
        }
      ]
    },
    {
      "cell_type": "code",
      "source": [
        "np_array1.min(axis=1)"
      ],
      "metadata": {
        "colab": {
          "base_uri": "https://localhost:8080/"
        },
        "id": "G840ST9gpaTq",
        "outputId": "39d90ea1-30c9-40c1-ddf8-30a65fd8223a"
      },
      "execution_count": null,
      "outputs": [
        {
          "output_type": "execute_result",
          "data": {
            "text/plain": [
              "array([0, 0])"
            ]
          },
          "metadata": {},
          "execution_count": 107
        }
      ]
    },
    {
      "cell_type": "code",
      "source": [
        "np_array1.min()"
      ],
      "metadata": {
        "colab": {
          "base_uri": "https://localhost:8080/"
        },
        "id": "ffBU_fVdpgfs",
        "outputId": "61e98558-7100-4f7a-f819-dedb5c6359cf"
      },
      "execution_count": null,
      "outputs": [
        {
          "output_type": "execute_result",
          "data": {
            "text/plain": [
              "0"
            ]
          },
          "metadata": {},
          "execution_count": 108
        }
      ]
    },
    {
      "cell_type": "markdown",
      "source": [
        "The following table provides a list of useful aggregation functions available in NumPy:\n",
        "\n",
        "|Function Name      |   NaN-safe Version  | Description                                   |\n",
        "|-------------------|---------------------|-----------------------------------------------|\n",
        "| ``np.sum``        | ``np.nansum``       | Compute sum of elements                       |\n",
        "| ``np.prod``       | ``np.nanprod``      | Compute product of elements                   |\n",
        "| ``np.mean``       | ``np.nanmean``      | Compute mean of elements                      |\n",
        "| ``np.std``        | ``np.nanstd``       | Compute standard deviation                    |\n",
        "| ``np.var``        | ``np.nanvar``       | Compute variance                              |\n",
        "| ``np.min``        | ``np.nanmin``       | Find minimum value                            |\n",
        "| ``np.max``        | ``np.nanmax``       | Find maximum value                            |\n",
        "| ``np.argmin``     | ``np.nanargmin``    | Find index of minimum value                   |\n",
        "| ``np.argmax``     | ``np.nanargmax``    | Find index of maximum value                   |\n",
        "| ``np.median``     | ``np.nanmedian``    | Compute median of elements                    |\n",
        "| ``np.percentile`` | ``np.nanpercentile``| Compute rank-based statistics of elements     |\n",
        "| ``np.any``        | N/A                 | Evaluate whether any elements are true        |\n",
        "| ``np.all``        | N/A                 | Evaluate whether all elements are true        |"
      ],
      "metadata": {
        "id": "iXP4Kg1kFxiJ"
      }
    },
    {
      "cell_type": "markdown",
      "source": [
        "### Section 5a.5 Sorting Functions"
      ],
      "metadata": {
        "id": "Is7tf_YRp6D0"
      }
    },
    {
      "cell_type": "code",
      "source": [
        "medium_array = np.random.rand(10000)"
      ],
      "metadata": {
        "id": "AECsJThZrQlE"
      },
      "execution_count": null,
      "outputs": []
    },
    {
      "cell_type": "code",
      "source": [
        "import numpy as np\n",
        "\n",
        "def selection_sort(x):\n",
        "    for i in range(len(x)):\n",
        "        swap = i + np.argmin(x[i:])\n",
        "        (x[i], x[swap]) = (x[swap], x[i])\n",
        "    return x"
      ],
      "metadata": {
        "id": "ctET1FuQYmnv"
      },
      "execution_count": null,
      "outputs": []
    },
    {
      "cell_type": "code",
      "source": [
        "%timeit np.sort(big_array)"
      ],
      "metadata": {
        "colab": {
          "base_uri": "https://localhost:8080/"
        },
        "id": "M6v8Ar8hFsbD",
        "outputId": "e87d08d1-3282-4f7f-b63e-d833e75e526b"
      },
      "execution_count": null,
      "outputs": [
        {
          "output_type": "stream",
          "name": "stdout",
          "text": [
            "107 ms ± 6.87 ms per loop (mean ± std. dev. of 7 runs, 10 loops each)\n"
          ]
        }
      ]
    },
    {
      "cell_type": "code",
      "source": [
        "%timeit selection_sort(medium_array)"
      ],
      "metadata": {
        "colab": {
          "base_uri": "https://localhost:8080/"
        },
        "id": "1VNQ4A4hGgjc",
        "outputId": "35cbcf3a-b155-46f7-ce9e-a7b8e242a75f"
      },
      "execution_count": null,
      "outputs": [
        {
          "output_type": "stream",
          "name": "stdout",
          "text": [
            "103 ms ± 19.3 ms per loop (mean ± std. dev. of 7 runs, 10 loops each)\n"
          ]
        }
      ]
    },
    {
      "cell_type": "code",
      "source": [
        "np.sort(np_array1, axis=0)"
      ],
      "metadata": {
        "colab": {
          "base_uri": "https://localhost:8080/"
        },
        "id": "MrNVs7ChZZrk",
        "outputId": "ad4c68c0-e1cc-44a3-ad3e-9e004170770b"
      },
      "execution_count": null,
      "outputs": [
        {
          "output_type": "execute_result",
          "data": {
            "text/plain": [
              "array([[7, 1, 5, 0, 0],\n",
              "       [8, 4, 7, 7, 0]])"
            ]
          },
          "metadata": {},
          "execution_count": 114
        }
      ]
    },
    {
      "cell_type": "code",
      "source": [
        "np.sort(np_array1, axis=1)"
      ],
      "metadata": {
        "colab": {
          "base_uri": "https://localhost:8080/"
        },
        "id": "zrOxHFHQZZuB",
        "outputId": "a53627b4-41fd-4323-c92e-91806942bff3"
      },
      "execution_count": null,
      "outputs": [
        {
          "output_type": "execute_result",
          "data": {
            "text/plain": [
              "array([[0, 0, 4, 7, 8],\n",
              "       [0, 1, 5, 7, 7]])"
            ]
          },
          "metadata": {},
          "execution_count": 115
        }
      ]
    },
    {
      "cell_type": "markdown",
      "source": [
        "### Section 5a.6 Indexing"
      ],
      "metadata": {
        "id": "I8txqGogZvUo"
      }
    },
    {
      "cell_type": "code",
      "source": [
        "np_array1"
      ],
      "metadata": {
        "colab": {
          "base_uri": "https://localhost:8080/"
        },
        "id": "0Acv4xZMr6NH",
        "outputId": "9686564e-c0e4-4d97-e989-a149f6e7199b"
      },
      "execution_count": null,
      "outputs": [
        {
          "output_type": "execute_result",
          "data": {
            "text/plain": [
              "array([[8, 4, 7, 0, 0],\n",
              "       [7, 1, 5, 7, 0]])"
            ]
          },
          "metadata": {},
          "execution_count": 119
        }
      ]
    },
    {
      "cell_type": "code",
      "source": [
        "np_array1 < 3"
      ],
      "metadata": {
        "colab": {
          "base_uri": "https://localhost:8080/"
        },
        "id": "L5N1fZisZ1j7",
        "outputId": "41676103-d33c-4900-828f-a71464af89ae"
      },
      "execution_count": null,
      "outputs": [
        {
          "output_type": "execute_result",
          "data": {
            "text/plain": [
              "array([[False, False, False,  True,  True],\n",
              "       [False,  True, False, False,  True]])"
            ]
          },
          "metadata": {},
          "execution_count": 116
        }
      ]
    },
    {
      "cell_type": "code",
      "source": [
        "np_array1[np_array1 < 3]"
      ],
      "metadata": {
        "colab": {
          "base_uri": "https://localhost:8080/"
        },
        "id": "IqHDY83LrfBv",
        "outputId": "1353340d-f5e6-413c-9082-4cb91089fb7d"
      },
      "execution_count": null,
      "outputs": [
        {
          "output_type": "execute_result",
          "data": {
            "text/plain": [
              "array([0, 0, 1, 0])"
            ]
          },
          "metadata": {},
          "execution_count": 117
        }
      ]
    },
    {
      "cell_type": "code",
      "source": [
        "np.argwhere(np_array1 < 3)"
      ],
      "metadata": {
        "colab": {
          "base_uri": "https://localhost:8080/"
        },
        "id": "3s3TqlHcrkLR",
        "outputId": "e1c3edfa-36cd-46e6-ec54-fa90a0d4be9e"
      },
      "execution_count": null,
      "outputs": [
        {
          "output_type": "execute_result",
          "data": {
            "text/plain": [
              "array([[0, 3],\n",
              "       [0, 4],\n",
              "       [1, 1],\n",
              "       [1, 4]])"
            ]
          },
          "metadata": {},
          "execution_count": 118
        }
      ]
    },
    {
      "cell_type": "markdown",
      "source": [
        "https://www.hackerrank.com/2023-python-quiz04/"
      ],
      "metadata": {
        "id": "PxshIfI2K_-6"
      }
    },
    {
      "cell_type": "code",
      "source": [],
      "metadata": {
        "id": "FLeEAt8QLAsS"
      },
      "execution_count": null,
      "outputs": []
    }
  ]
}