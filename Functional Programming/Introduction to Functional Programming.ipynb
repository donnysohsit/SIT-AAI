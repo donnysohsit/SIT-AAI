{
  "cells": [
    {
      "cell_type": "markdown",
      "metadata": {
        "id": "-6mrHGld6zlb"
      },
      "source": [
        "## Section 6c: Introduction to Functional Programming"
      ]
    },
    {
      "cell_type": "markdown",
      "metadata": {
        "id": "44O78u-X6zle"
      },
      "source": [
        "Most of the time, we have been more exposed to the concept of object orientated programming or procedural programming. What OO programming does is that we work on the state of the instanatiated classes of the OO objects and manupilate them along the way. Procedural programming based on the subject of procedure calls.\n",
        "\n",
        "### Section6c.1 What is Functional Programming?\n",
        "\n",
        "In computer science, functional programming is a programming paradigm where programs are constructed by applying and composing functions. It is a declarative programming paradigm in which function definitions are trees of expressions that each return a value, rather than a sequence of imperative statements which change the state of the program.\n",
        "(source: wikipedia)\n",
        "\n",
        "### Section6c.2 Motivation to Functional Programming\n",
        "\n",
        "The main reason why functioning programming is being used because it can be used in distributed systems. Let's have a motivating example:\n",
        "\n",
        "Assume we have a log of recommended movies in my netflix account:"
      ]
    },
    {
      "cell_type": "code",
      "execution_count": null,
      "metadata": {
        "id": "rI0v3xRo6zlf"
      },
      "outputs": [],
      "source": [
        "movie_recommendation = [\n",
        "    \"dark\",\n",
        "    \"altered carbon\"\n",
        "    \"stranger things\",\n",
        "    \"witcher\",\n",
        "    \"money heist\",\n",
        "    \"altered carbon\"\n",
        "]"
      ]
    },
    {
      "cell_type": "markdown",
      "metadata": {
        "id": "wDxNdIvV6zlg"
      },
      "source": [
        "Suppose I want to find out how many times each movie was recommended to me. A way to do so is to write a function like this:"
      ]
    },
    {
      "cell_type": "code",
      "execution_count": null,
      "metadata": {
        "id": "hGSrq9186zlg"
      },
      "outputs": [],
      "source": [
        "num_recommendations = 0\n",
        "\n",
        "def count_recommendations(count_movie):\n",
        "    global num_recommendations\n",
        "    global movie_recommendation\n",
        "    for movie in movie_recommendation:\n",
        "        if movie == count_movie:\n",
        "            num_recommendations = num_recommendations + 1\n",
        "    return num_recommendations\n"
      ]
    },
    {
      "cell_type": "code",
      "execution_count": null,
      "metadata": {
        "id": "EFA92y2b6zlg",
        "outputId": "6d3be592-5a6e-4c6d-d4b0-1d0abb28f374",
        "colab": {
          "base_uri": "https://localhost:8080/"
        }
      },
      "outputs": [
        {
          "output_type": "execute_result",
          "data": {
            "text/plain": [
              "1"
            ]
          },
          "metadata": {},
          "execution_count": 3
        }
      ],
      "source": [
        "count_recommendations(\"altered carbon\")"
      ]
    },
    {
      "cell_type": "markdown",
      "metadata": {
        "id": "Su2gW4WD6zli"
      },
      "source": [
        "Using this function, you would note that everytime we run the count_recommendations function the count would increase, although the number of times altered carbon was recommended to me is only 2.\n",
        "\n",
        "Naturally, you would notice that the function is not very well written, but its to show a point that its quite easy to make such mistakes when you are running code on parallel machines, esp when machines need to be restarted."
      ]
    },
    {
      "cell_type": "markdown",
      "metadata": {
        "id": "6Bvt6a4n6zli"
      },
      "source": [
        "Functional programming works quite differentiately because it designs your functions to have no \"side effects\". What does this mean? Lets look at a few examples of typical programming styles and try to see if we are able to convert them to the functional style or not. Let's go through some of the examples.\n",
        "\n",
        "### Section6c.3 Examples of pure versus impure functions\n",
        "\n",
        "#### Example 1: Hello World\n",
        "The first example we evaluate is the typical \"Hello World\" function. A typical hello world function is written like this:"
      ]
    },
    {
      "cell_type": "code",
      "execution_count": null,
      "metadata": {
        "id": "i9I4629K6zli",
        "outputId": "40215c9e-b49d-4c91-a039-31348cc434dd",
        "colab": {
          "base_uri": "https://localhost:8080/"
        }
      },
      "outputs": [
        {
          "output_type": "stream",
          "name": "stdout",
          "text": [
            "hello python\n"
          ]
        }
      ],
      "source": [
        "# Hello World\n",
        "\n",
        "def hello_python():\n",
        "    print(\"hello python\")\n",
        "\n",
        "hello_python()"
      ]
    },
    {
      "cell_type": "markdown",
      "metadata": {
        "id": "BaKzisj76zlj"
      },
      "source": [
        "This function is not pure for several reasons. Some of these reasons include:\n",
        "\n",
        "<ul>\n",
        "<li>No input is being taken in, so it will have to require knowledge of what the function is supposed to print out.</li>\n",
        "    <li>It prints it out to stdout, which is typically a side effect.</li>\n",
        "</ul>\n",
        "\n",
        "Do note that typically it is impossible to eliminate impure functions from your code and they will eventually be necessary. However this way of programming aims to seperate your pure codes from your impure codes for easy debugging."
      ]
    },
    {
      "cell_type": "markdown",
      "metadata": {
        "id": "zAt0_EkF6zlj"
      },
      "source": [
        "#### Example 2: Remove last item\n",
        "\n",
        "The next example shows two functions which removes the last item from the list."
      ]
    },
    {
      "cell_type": "code",
      "execution_count": null,
      "metadata": {
        "id": "qgo5qh696zlk"
      },
      "outputs": [],
      "source": [
        "def remove_last_item_in_place(mylist):\n",
        "    mylist.pop(-1)  # This modifies mylist"
      ]
    },
    {
      "cell_type": "code",
      "execution_count": null,
      "metadata": {
        "id": "bjZhUf3x6zlk"
      },
      "outputs": [],
      "source": [
        "def remove_last_item_copy(mylist):\n",
        "    return mylist[:-1]  # This returns a copy of mylist"
      ]
    },
    {
      "cell_type": "markdown",
      "metadata": {
        "id": "Lzkn9ubh6zlk"
      },
      "source": [
        "Although both examples remove the last item from the list, in the first function, we remove only the items in the list and pops out and modifies the actual list. There is thus a \"side effect\" where the original list is changed.\n",
        "\n",
        "This is in contrast to the next function that returns a copy of the list, leaving the original list untouched. Hence having \"no side effect\".\n",
        "\n",
        "\n",
        "#### Example 3: Adding two numbers"
      ]
    },
    {
      "cell_type": "code",
      "execution_count": null,
      "metadata": {
        "id": "UG0xmSY06zlk",
        "outputId": "5fce608b-9df9-4088-aded-ace5c665f093",
        "colab": {
          "base_uri": "https://localhost:8080/"
        }
      },
      "outputs": [
        {
          "output_type": "stream",
          "name": "stdout",
          "text": [
            "11\n",
            "10\n"
          ]
        }
      ],
      "source": [
        "# Create a global variable `A`.\n",
        "global_variable = 5\n",
        "\n",
        "def impure_sum(b):\n",
        "    global global_variable\n",
        "    return b + global_variable\n",
        "\n",
        "def pure_sum(a, b):\n",
        "    return a + b\n",
        "\n",
        "print(impure_sum(6))\n",
        "print(pure_sum(4, 6))"
      ]
    },
    {
      "cell_type": "markdown",
      "metadata": {
        "id": "5ewRvq8G6zll"
      },
      "source": [
        "A easy way to think about impure functions is that they allow my functions to be stateless, depending purely on the input of the functions to achieve a certain output."
      ]
    },
    {
      "cell_type": "markdown",
      "metadata": {
        "id": "xNmZ9Y2u6zll"
      },
      "source": [
        "### Section6c.4 Immutable Data Structures"
      ]
    },
    {
      "cell_type": "markdown",
      "metadata": {
        "id": "O5hERIEl6zll"
      },
      "source": [
        "Recall that in our earlier section, we mentioned that in functional programming, there should not be any side effects which occur. Practically, this means that if we had to carry out a certain operation on a data structure, that data structure should not be changed. Rather, we should be returning a copy of the data structure, leaving the original data structure unchanged.\n",
        "\n",
        "In order to achieve that, we introduce the concept of an immutable data structure.\n",
        "\n",
        "However before that, let us do a quick recap once again some of the typical data structures popular in python.\n",
        "\n",
        "We have a list:"
      ]
    },
    {
      "cell_type": "code",
      "execution_count": null,
      "metadata": {
        "id": "jRZSGFyl6zll",
        "outputId": "03d42000-d943-4900-92b9-15d90fbd5f29",
        "colab": {
          "base_uri": "https://localhost:8080/"
        }
      },
      "outputs": [
        {
          "output_type": "stream",
          "name": "stdout",
          "text": [
            "apples\n",
            "pineapples\n"
          ]
        }
      ],
      "source": [
        "temp_list = [\"apples\", \"oranges\", \"strawberries\"]\n",
        "print(temp_list[0])\n",
        "temp_list[0] = 'pineapples'\n",
        "print(temp_list[0])"
      ]
    },
    {
      "cell_type": "markdown",
      "metadata": {
        "id": "nT-qQFxr6zll"
      },
      "source": [
        "We also have a dictionary:"
      ]
    },
    {
      "cell_type": "code",
      "execution_count": null,
      "metadata": {
        "id": "z4BSlDk-6zlm",
        "outputId": "76837910-066a-4b27-c9be-f7b923a5d1da",
        "colab": {
          "base_uri": "https://localhost:8080/"
        }
      },
      "outputs": [
        {
          "output_type": "stream",
          "name": "stdout",
          "text": [
            "{'main': 'noodle', 'fruit': 'apple', 'drinks': 'tea'}\n",
            "{'main': 'steak', 'fruit': 'apple', 'drinks': 'tea'}\n"
          ]
        }
      ],
      "source": [
        "temp_dict ={\n",
        "    \"main\": \"noodle\",\n",
        "    \"fruit\": \"apple\",\n",
        "    \"drinks\": \"tea\"\n",
        "}\n",
        "print(temp_dict)\n",
        "temp_dict[\"main\"] = \"steak\"\n",
        "print(temp_dict)"
      ]
    },
    {
      "cell_type": "markdown",
      "metadata": {
        "id": "dJNWsBM36zlm"
      },
      "source": [
        "Finally we saw in the last lesson we have a list of dictionaries:"
      ]
    },
    {
      "cell_type": "code",
      "execution_count": null,
      "metadata": {
        "id": "JoNgekIN6zlm",
        "outputId": "b5bf9f5a-5df8-489c-e639-1e281b8df121",
        "colab": {
          "base_uri": "https://localhost:8080/"
        }
      },
      "outputs": [
        {
          "output_type": "stream",
          "name": "stdout",
          "text": [
            "[{'calories': 500,\n",
            "  'drink': 'coffee',\n",
            "  'fruit': 'apples',\n",
            "  'main': 'bread',\n",
            "  'meal': 'breakfast'},\n",
            " {'calories': 300,\n",
            "  'drink': 'soda',\n",
            "  'fruit': 'grapes',\n",
            "  'meal': 'lunch',\n",
            "  'salad': 'noodle'},\n",
            " {'calories': 700,\n",
            "  'drink': 'sparkling water',\n",
            "  'fruit': 'watermelon',\n",
            "  'main': 'steak',\n",
            "  'meal': 'dinner'}]\n"
          ]
        }
      ],
      "source": [
        "from pprint import pprint\n",
        "daily_meal = [\n",
        "    {'meal': 'breakfast', 'main': 'bread', 'fruit': 'apples', 'drink': 'coffee', 'calories':500},\n",
        "    {'meal': 'lunch', 'salad': 'noodle', 'fruit': 'grapes', 'drink': 'soda', 'calories': 300},\n",
        "    {'meal': 'dinner', 'main': 'steak', 'fruit': 'watermelon', 'drink': 'sparkling water', 'calories': 700}\n",
        "]\n",
        "pprint(daily_meal)"
      ]
    },
    {
      "cell_type": "markdown",
      "metadata": {
        "id": "hHzK7wwh6zlm"
      },
      "source": [
        "Notice that the daily_meal list of dictionaries: is mutable and can be easily changed"
      ]
    },
    {
      "cell_type": "code",
      "execution_count": null,
      "metadata": {
        "id": "B574phwT6zln",
        "outputId": "b3481909-651f-4307-b548-2c4d46858a91",
        "colab": {
          "base_uri": "https://localhost:8080/"
        }
      },
      "outputs": [
        {
          "output_type": "stream",
          "name": "stdout",
          "text": [
            "[{'calories': 500,\n",
            "  'drink': 'coffee',\n",
            "  'fruit': 'apples',\n",
            "  'main': 'bread',\n",
            "  'meal': 'brunch'},\n",
            " {'calories': 300,\n",
            "  'drink': 'soda',\n",
            "  'fruit': 'grapes',\n",
            "  'meal': 'lunch',\n",
            "  'salad': 'noodle'},\n",
            " {'calories': 700,\n",
            "  'drink': 'sparkling water',\n",
            "  'fruit': 'watermelon',\n",
            "  'main': 'steak',\n",
            "  'meal': 'dinner'}]\n"
          ]
        }
      ],
      "source": [
        "daily_meal[0]['meal'] = 'brunch'\n",
        "pprint(daily_meal)"
      ]
    },
    {
      "cell_type": "markdown",
      "metadata": {
        "id": "wEA6LSux6zln"
      },
      "source": [
        "What we really want is to ensure that the data structures used are immutable, and for that we will use that of the collections library. Let's define first a factor method."
      ]
    },
    {
      "cell_type": "code",
      "execution_count": null,
      "metadata": {
        "id": "6uC-WU8w6zln"
      },
      "outputs": [],
      "source": [
        "import collections\n",
        "\n",
        "meal_collection = collections.namedtuple('meal', [\n",
        "    'meal',\n",
        "    'main',\n",
        "    'fruits',\n",
        "    'drink',\n",
        "    'calories'\n",
        "])"
      ]
    },
    {
      "cell_type": "code",
      "execution_count": null,
      "metadata": {
        "id": "BNh-ncOj6zln",
        "outputId": "3dd5fd3b-4d62-42ec-8857-0e26b99211c0",
        "colab": {
          "base_uri": "https://localhost:8080/"
        }
      },
      "outputs": [
        {
          "output_type": "execute_result",
          "data": {
            "text/plain": [
              "__main__.meal"
            ]
          },
          "metadata": {},
          "execution_count": 13
        }
      ],
      "source": [
        "meal_collection"
      ]
    },
    {
      "cell_type": "markdown",
      "metadata": {
        "id": "9dB8uo0g6zln"
      },
      "source": [
        "Now we can create a meal collection using the following:"
      ]
    },
    {
      "cell_type": "code",
      "execution_count": null,
      "metadata": {
        "id": "hzUQc1JA6zlo"
      },
      "outputs": [],
      "source": [
        "temp_meal = meal_collection(meal='breakfast', main='bread', fruits='apples', drink='coffee', calories=500)"
      ]
    },
    {
      "cell_type": "code",
      "execution_count": null,
      "metadata": {
        "id": "d8JiNQXI6zlo",
        "outputId": "de9cc768-8545-4e16-a5c8-48ea35081264",
        "colab": {
          "base_uri": "https://localhost:8080/",
          "height": 208
        }
      },
      "outputs": [
        {
          "output_type": "stream",
          "name": "stdout",
          "text": [
            "breakfast\n"
          ]
        },
        {
          "output_type": "error",
          "ename": "AttributeError",
          "evalue": "ignored",
          "traceback": [
            "\u001b[0;31m---------------------------------------------------------------------------\u001b[0m",
            "\u001b[0;31mAttributeError\u001b[0m                            Traceback (most recent call last)",
            "\u001b[0;32m<ipython-input-15-91db4bb0936b>\u001b[0m in \u001b[0;36m<module>\u001b[0;34m\u001b[0m\n\u001b[1;32m      1\u001b[0m \u001b[0mprint\u001b[0m\u001b[0;34m(\u001b[0m\u001b[0mtemp_meal\u001b[0m\u001b[0;34m.\u001b[0m\u001b[0mmeal\u001b[0m\u001b[0;34m)\u001b[0m\u001b[0;34m\u001b[0m\u001b[0;34m\u001b[0m\u001b[0m\n\u001b[0;32m----> 2\u001b[0;31m \u001b[0mtemp_meal\u001b[0m\u001b[0;34m.\u001b[0m\u001b[0mmeal\u001b[0m \u001b[0;34m=\u001b[0m \u001b[0;34m\"brunch\"\u001b[0m\u001b[0;34m\u001b[0m\u001b[0;34m\u001b[0m\u001b[0m\n\u001b[0m",
            "\u001b[0;31mAttributeError\u001b[0m: can't set attribute"
          ]
        }
      ],
      "source": [
        "print(temp_meal.meal)\n",
        "temp_meal.meal = \"brunch\""
      ]
    },
    {
      "cell_type": "code",
      "execution_count": null,
      "metadata": {
        "id": "xDUKg9NN6zlo",
        "outputId": "a776eb14-703a-4b39-bf32-f72d4406f5d1",
        "colab": {
          "base_uri": "https://localhost:8080/"
        }
      },
      "outputs": [
        {
          "output_type": "stream",
          "name": "stdout",
          "text": [
            "breakfast\n"
          ]
        }
      ],
      "source": [
        "print(temp_meal.meal)"
      ]
    },
    {
      "cell_type": "markdown",
      "metadata": {
        "id": "MrfdU6W_6zlo"
      },
      "source": [
        "Now let's set our meal for the day. It will be:"
      ]
    },
    {
      "cell_type": "code",
      "execution_count": null,
      "metadata": {
        "id": "FaWlgdgM6zlo"
      },
      "outputs": [],
      "source": [
        "meal_list = [\n",
        "    meal_collection(meal='breakfast', main='bread', fruits='apples', drink='coffee', calories=500),\n",
        "    meal_collection(meal='lunch', main='noodle', fruits='grapes', drink='soda', calories=300),\n",
        "    meal_collection(meal='dinner', main='steak', fruits='watermelon', drink='sparkling water', calories=700)\n",
        "]"
      ]
    },
    {
      "cell_type": "code",
      "execution_count": null,
      "metadata": {
        "id": "tQwJeBnB6zlp",
        "outputId": "8aa4775c-8585-415d-a8bc-a472e6a0dee3",
        "colab": {
          "base_uri": "https://localhost:8080/"
        }
      },
      "outputs": [
        {
          "output_type": "stream",
          "name": "stdout",
          "text": [
            "[meal(meal='breakfast', main='bread', fruits='apples', drink='coffee', calories=500),\n",
            " meal(meal='lunch', main='noodle', fruits='grapes', drink='soda', calories=300),\n",
            " meal(meal='dinner', main='steak', fruits='watermelon', drink='sparkling water', calories=700)]\n"
          ]
        }
      ],
      "source": [
        "pprint(meal_list)"
      ]
    },
    {
      "cell_type": "code",
      "execution_count": null,
      "metadata": {
        "id": "AdKSsmVG6zlp"
      },
      "outputs": [],
      "source": [
        "del meal_list[0]"
      ]
    },
    {
      "cell_type": "code",
      "execution_count": null,
      "metadata": {
        "id": "PrNpq-dE6zlp",
        "outputId": "b0813439-2134-40fa-ee14-d8bb27cd9273",
        "colab": {
          "base_uri": "https://localhost:8080/"
        }
      },
      "outputs": [
        {
          "output_type": "stream",
          "name": "stdout",
          "text": [
            "[meal(meal='lunch', main='noodle', fruits='grapes', drink='soda', calories=300),\n",
            " meal(meal='dinner', main='steak', fruits='watermelon', drink='sparkling water', calories=700)]\n"
          ]
        }
      ],
      "source": [
        "pprint(meal_list)"
      ]
    },
    {
      "cell_type": "markdown",
      "metadata": {
        "id": "XVKXoRD96zlp"
      },
      "source": [
        "However the list is still mutable. To resolve this, we use a tuple instead and that can be done by the following:"
      ]
    },
    {
      "cell_type": "code",
      "execution_count": null,
      "metadata": {
        "id": "xRdiqONb6zlp"
      },
      "outputs": [],
      "source": [
        "meal_list = [\n",
        "    meal_collection(meal='breakfast', main='bread', fruits='apples', drink='coffee', calories=500),\n",
        "    meal_collection(meal='lunch', main='noodle', fruits='grapes', drink='soda', calories=300),\n",
        "    meal_collection(meal='dinner', main='steak', fruits='watermelon', drink='sparkling water', calories=700)\n",
        "]\n",
        "meal_tuple = tuple(meal_list)"
      ]
    },
    {
      "cell_type": "code",
      "execution_count": null,
      "metadata": {
        "id": "3kXmV1xA6zlq",
        "outputId": "a962a947-d500-4908-a305-645c99a6fc40",
        "colab": {
          "base_uri": "https://localhost:8080/"
        }
      },
      "outputs": [
        {
          "output_type": "stream",
          "name": "stdout",
          "text": [
            "(meal(meal='breakfast', main='bread', fruits='apples', drink='coffee', calories=500),\n",
            " meal(meal='lunch', main='noodle', fruits='grapes', drink='soda', calories=300),\n",
            " meal(meal='dinner', main='steak', fruits='watermelon', drink='sparkling water', calories=700))\n"
          ]
        }
      ],
      "source": [
        "pprint(meal_tuple)"
      ]
    },
    {
      "cell_type": "markdown",
      "metadata": {
        "id": "WQA8kAmw6zlq"
      },
      "source": [
        "A better way is to define the tuple immediately instead of going through the list."
      ]
    },
    {
      "cell_type": "code",
      "execution_count": null,
      "metadata": {
        "id": "lbhI5xzl6zlq"
      },
      "outputs": [],
      "source": [
        "meal_tuple = (\n",
        "    meal_collection(meal='breakfast', main='bread', fruits='apples', drink='coffee', calories=500),\n",
        "    meal_collection(meal='lunch', main='noodle', fruits='grapes', drink='soda', calories=300),\n",
        "    meal_collection(meal='dinner', main='steak', fruits='watermelon', drink='sparkling water', calories=700)\n",
        ")"
      ]
    },
    {
      "cell_type": "code",
      "execution_count": null,
      "metadata": {
        "id": "ZcKnQs6O6zlq",
        "outputId": "ee8f43b1-ded9-483e-d685-9c8ec8ff94eb",
        "colab": {
          "base_uri": "https://localhost:8080/"
        }
      },
      "outputs": [
        {
          "output_type": "stream",
          "name": "stdout",
          "text": [
            "(meal(meal='breakfast', main='bread', fruits='apples', drink='coffee', calories=500),\n",
            " meal(meal='lunch', main='noodle', fruits='grapes', drink='soda', calories=300),\n",
            " meal(meal='dinner', main='steak', fruits='watermelon', drink='sparkling water', calories=700))\n"
          ]
        }
      ],
      "source": [
        "pprint(meal_tuple)"
      ]
    },
    {
      "cell_type": "code",
      "execution_count": null,
      "metadata": {
        "id": "w_9v5XyI6zlq",
        "outputId": "0ac2b278-5244-4f95-deec-8946fcad100e",
        "colab": {
          "base_uri": "https://localhost:8080/",
          "height": 171
        }
      },
      "outputs": [
        {
          "output_type": "error",
          "ename": "TypeError",
          "evalue": "ignored",
          "traceback": [
            "\u001b[0;31m---------------------------------------------------------------------------\u001b[0m",
            "\u001b[0;31mTypeError\u001b[0m                                 Traceback (most recent call last)",
            "\u001b[0;32m<ipython-input-25-02ddfce387b6>\u001b[0m in \u001b[0;36m<module>\u001b[0;34m\u001b[0m\n\u001b[0;32m----> 1\u001b[0;31m \u001b[0;32mdel\u001b[0m \u001b[0mmeal_tuple\u001b[0m\u001b[0;34m[\u001b[0m\u001b[0;36m0\u001b[0m\u001b[0;34m]\u001b[0m\u001b[0;34m\u001b[0m\u001b[0;34m\u001b[0m\u001b[0m\n\u001b[0m",
            "\u001b[0;31mTypeError\u001b[0m: 'tuple' object doesn't support item deletion"
          ]
        }
      ],
      "source": [
        "del meal_tuple[0]"
      ]
    },
    {
      "cell_type": "markdown",
      "metadata": {
        "id": "3kCRbPyF6zlr"
      },
      "source": [
        "Hence now we have our immutable data objects that can be used for functional programming (tuple of collections)"
      ]
    },
    {
      "cell_type": "markdown",
      "metadata": {
        "id": "84xvKGas6zlr"
      },
      "source": [
        "### Section6c.5 Lambda Functions"
      ]
    },
    {
      "cell_type": "markdown",
      "metadata": {
        "id": "Zgl2oZOM6zlr"
      },
      "source": [
        "Lambda functions can be seen as an inline function. The colon seperates between the input parameter and the expression. On the left side of the colon, you have the input parameters that the function is able to take. On the right side of the colon, you have the expression which operates on the input parameters. For instance:"
      ]
    },
    {
      "cell_type": "code",
      "execution_count": null,
      "metadata": {
        "id": "jjKylpXq6zlr",
        "outputId": "4e570ba5-52a2-420a-a315-1d762a5fc0f5",
        "colab": {
          "base_uri": "https://localhost:8080/"
        }
      },
      "outputs": [
        {
          "output_type": "stream",
          "name": "stdout",
          "text": [
            "10\n"
          ]
        }
      ],
      "source": [
        "x = lambda x : x * 2\n",
        "print(x(5))"
      ]
    },
    {
      "cell_type": "markdown",
      "metadata": {
        "id": "8LLf8_Yy6zlr"
      },
      "source": [
        "This expression function takes in one parameter, multiplies it by two and returns the value. Take another example, this time a lambda function which takes in two parameters."
      ]
    },
    {
      "cell_type": "code",
      "execution_count": null,
      "metadata": {
        "id": "kB0TdpH_6zlr",
        "outputId": "c168268d-dac9-406e-a513-502a5a9005cc",
        "colab": {
          "base_uri": "https://localhost:8080/"
        }
      },
      "outputs": [
        {
          "output_type": "stream",
          "name": "stdout",
          "text": [
            "30\n"
          ]
        }
      ],
      "source": [
        "x = lambda x, y : x * y\n",
        "print(x(5, 6))"
      ]
    },
    {
      "cell_type": "markdown",
      "metadata": {
        "id": "uejoKNyd6zls"
      },
      "source": [
        "This lambda operator is most often used with other functions such as map and filter, as we will soon see below."
      ]
    },
    {
      "cell_type": "markdown",
      "metadata": {
        "id": "B9ozqEQI6zls"
      },
      "source": [
        "### Section6c.6 Filter Functions"
      ]
    },
    {
      "cell_type": "markdown",
      "metadata": {
        "id": "yeyCtURB6zls"
      },
      "source": [
        "Filter allows us to perform a function over an iterable of things. It returns us an iterable which we can go through step by step through  a for loop"
      ]
    },
    {
      "cell_type": "code",
      "execution_count": null,
      "metadata": {
        "id": "FPkpUCRi6zls"
      },
      "outputs": [],
      "source": [
        "heavy_meal = filter(lambda x: x.calories > 500, meal_tuple)"
      ]
    },
    {
      "cell_type": "code",
      "execution_count": null,
      "metadata": {
        "id": "9loI6n-06zls",
        "outputId": "06d222f0-2f15-4dce-a890-0baf6f8331ca",
        "colab": {
          "base_uri": "https://localhost:8080/"
        }
      },
      "outputs": [
        {
          "output_type": "stream",
          "name": "stdout",
          "text": [
            "meal(meal='dinner', main='steak', fruits='watermelon', drink='sparkling water', calories=700)\n"
          ]
        }
      ],
      "source": [
        "for m in heavy_meal:\n",
        "    print(m)"
      ]
    },
    {
      "cell_type": "code",
      "execution_count": null,
      "metadata": {
        "id": "i-U5tkqR6zls",
        "outputId": "8d2b6e2e-bb55-4cf9-9688-ac9d2829458a",
        "colab": {
          "base_uri": "https://localhost:8080/"
        }
      },
      "outputs": [
        {
          "output_type": "stream",
          "name": "stdout",
          "text": [
            "(meal(meal='breakfast', main='bread', fruits='apples', drink='coffee', calories=500),)\n"
          ]
        }
      ],
      "source": [
        "pprint(tuple(filter(lambda x: x.meal == 'breakfast', meal_tuple)))"
      ]
    },
    {
      "cell_type": "markdown",
      "metadata": {
        "id": "hC90tvsP6zls"
      },
      "source": [
        "The procedural form will be:"
      ]
    },
    {
      "cell_type": "code",
      "execution_count": null,
      "metadata": {
        "id": "ElWFzdJW6zlt",
        "outputId": "f2358381-0159-42ef-dd7b-f40899fc513f",
        "colab": {
          "base_uri": "https://localhost:8080/"
        }
      },
      "outputs": [
        {
          "output_type": "stream",
          "name": "stdout",
          "text": [
            "meal(meal='breakfast', main='bread', fruits='apples', drink='coffee', calories=500)\n"
          ]
        }
      ],
      "source": [
        "for temp_meal in meal_tuple:\n",
        "    if temp_meal.meal == 'breakfast':\n",
        "        print(temp_meal)"
      ]
    },
    {
      "cell_type": "markdown",
      "metadata": {
        "id": "6pvo7gV26zlt"
      },
      "source": [
        "This form of programming is extremely crucial as we carry out parallel processing."
      ]
    },
    {
      "cell_type": "markdown",
      "metadata": {
        "id": "aKQb7rE_6zlt"
      },
      "source": [
        "The recommended \"pythonic\" way of doing is through a technique known as list comprehensions. You can carry out the following:"
      ]
    },
    {
      "cell_type": "code",
      "execution_count": null,
      "metadata": {
        "id": "pDcSPO-g6zlt",
        "outputId": "4d4aaf4e-2d35-4e54-f1dd-eb2bdb4196b6",
        "colab": {
          "base_uri": "https://localhost:8080/"
        }
      },
      "outputs": [
        {
          "output_type": "execute_result",
          "data": {
            "text/plain": [
              "[meal(meal='dinner', main='steak', fruits='watermelon', drink='sparkling water', calories=700)]"
            ]
          },
          "metadata": {},
          "execution_count": 32
        }
      ],
      "source": [
        "[x for x in meal_tuple if x.calories > 500]"
      ]
    },
    {
      "cell_type": "code",
      "execution_count": null,
      "metadata": {
        "id": "fGf2dqfj6zlt",
        "outputId": "208261a9-2633-430d-a39e-50b43e223dd6",
        "colab": {
          "base_uri": "https://localhost:8080/"
        }
      },
      "outputs": [
        {
          "output_type": "stream",
          "name": "stdout",
          "text": [
            "(meal(meal='dinner', main='steak', fruits='watermelon', drink='sparkling water', calories=700),)\n"
          ]
        }
      ],
      "source": [
        "pprint(tuple(x for x in meal_tuple if x.calories > 500))"
      ]
    },
    {
      "cell_type": "markdown",
      "metadata": {
        "id": "CgTGnfw06zlt"
      },
      "source": [
        "### Section6c.7 Map Functions"
      ]
    },
    {
      "cell_type": "markdown",
      "metadata": {
        "id": "PCDvtOXC6zlu"
      },
      "source": [
        "Map is similar to filter, but map allows us to make a certain change to manipulate the iterables that are passed in. In contrast, filter only extracts out the values from the iterables where the function returns true. Let's use the following example to illustrate that. Let's say we have an initially we have a list of numbers:"
      ]
    },
    {
      "cell_type": "code",
      "execution_count": null,
      "metadata": {
        "id": "HkOQwSf16zlu"
      },
      "outputs": [],
      "source": [
        "temp_list = [1,2,3,4,5]"
      ]
    },
    {
      "cell_type": "markdown",
      "metadata": {
        "id": "OKKhrbAm6zlu"
      },
      "source": [
        "If we are to run the filter command, we will return the values of the original list where the function returns true. Notice that the numbers are unchanged and (as every single value will return true in this case), the entire list is returned."
      ]
    },
    {
      "cell_type": "code",
      "execution_count": null,
      "metadata": {
        "id": "cqGgKZK56zlu",
        "outputId": "fd48c0df-2108-470b-94bc-f7349c8ae51e",
        "colab": {
          "base_uri": "https://localhost:8080/"
        }
      },
      "outputs": [
        {
          "output_type": "execute_result",
          "data": {
            "text/plain": [
              "[1, 2, 3, 4, 5]"
            ]
          },
          "metadata": {},
          "execution_count": 35
        }
      ],
      "source": [
        "list(filter(lambda x: x *2, temp_list))"
      ]
    },
    {
      "cell_type": "markdown",
      "metadata": {
        "id": "Thzo16pp6zlu"
      },
      "source": [
        "If we contrast the map function with the lambda function, in this case we notice that the values undergo the manupilation as stipulated in the lambda function and we have the values doubled."
      ]
    },
    {
      "cell_type": "code",
      "execution_count": null,
      "metadata": {
        "id": "ZP5kIuVJ6zlu",
        "outputId": "ae0f685c-4e86-49e3-f1f6-5e9e4535ff1b",
        "colab": {
          "base_uri": "https://localhost:8080/"
        }
      },
      "outputs": [
        {
          "output_type": "execute_result",
          "data": {
            "text/plain": [
              "[2, 4, 6, 8, 10]"
            ]
          },
          "metadata": {},
          "execution_count": 36
        }
      ],
      "source": [
        "list(map(lambda x: x *2, temp_list))"
      ]
    },
    {
      "cell_type": "markdown",
      "metadata": {
        "id": "mF1j6ZFc6zlv"
      },
      "source": [
        "Let's look back at the meal tuple again. Lets assume that we want to create just a list of dictionaries consisting of only the meal and the calories."
      ]
    },
    {
      "cell_type": "code",
      "execution_count": null,
      "metadata": {
        "id": "JLVfkEM_6zlv"
      },
      "outputs": [],
      "source": [
        "meal_tuple = (\n",
        "    meal_collection(meal='BreakFast', main='bread', fruits='apples', drink='coffee', calories=500),\n",
        "    meal_collection(meal='Lunch', main='noodle', fruits='grapes', drink='soda', calories=300),\n",
        "    meal_collection(meal='Dinner', main='steak', fruits='watermelon', drink='sparkling water', calories=700)\n",
        ")"
      ]
    },
    {
      "cell_type": "code",
      "execution_count": null,
      "metadata": {
        "id": "76Q-tOpk6zlv"
      },
      "outputs": [],
      "source": [
        "meal_calories = list(map(lambda x: {\"meal\": x.meal, \"calories\":x.calories}, meal_tuple))"
      ]
    },
    {
      "cell_type": "code",
      "execution_count": null,
      "metadata": {
        "id": "Pj4KAaB_6zlv",
        "outputId": "189e2933-e49e-4e26-ad6f-51f45ea1f97c",
        "colab": {
          "base_uri": "https://localhost:8080/"
        }
      },
      "outputs": [
        {
          "output_type": "execute_result",
          "data": {
            "text/plain": [
              "[{'meal': 'BreakFast', 'calories': 500},\n",
              " {'meal': 'Lunch', 'calories': 300},\n",
              " {'meal': 'Dinner', 'calories': 700}]"
            ]
          },
          "metadata": {},
          "execution_count": 39
        }
      ],
      "source": [
        "meal_calories"
      ]
    },
    {
      "cell_type": "markdown",
      "metadata": {
        "id": "i8TNjeUw6zlv"
      },
      "source": [
        "Suppose I want the meals to be in lower case, I can easily do the following:"
      ]
    },
    {
      "cell_type": "code",
      "execution_count": null,
      "metadata": {
        "id": "Z_va1OAJ6zlv"
      },
      "outputs": [],
      "source": [
        "meal_calories = list(map(lambda x: {\"meal\": x.meal.lower(), \"calories\":x.calories}, meal_tuple))"
      ]
    },
    {
      "cell_type": "code",
      "execution_count": null,
      "metadata": {
        "id": "Cb180zGR6zlw",
        "outputId": "4fd35cd3-da68-4bd5-cb42-e8b400e30b24",
        "colab": {
          "base_uri": "https://localhost:8080/"
        }
      },
      "outputs": [
        {
          "output_type": "execute_result",
          "data": {
            "text/plain": [
              "[{'meal': 'breakfast', 'calories': 500},\n",
              " {'meal': 'lunch', 'calories': 300},\n",
              " {'meal': 'dinner', 'calories': 700}]"
            ]
          },
          "metadata": {},
          "execution_count": 41
        }
      ],
      "source": [
        "meal_calories"
      ]
    },
    {
      "cell_type": "markdown",
      "metadata": {
        "id": "FxnE-NTo6zlw"
      },
      "source": [
        "To convert this to a list expression (the more pythonic way of doing it)"
      ]
    },
    {
      "cell_type": "code",
      "execution_count": null,
      "metadata": {
        "id": "JPBZx-aB6zlw",
        "outputId": "c86f6294-08de-42bf-e760-aa63360a1266",
        "colab": {
          "base_uri": "https://localhost:8080/"
        }
      },
      "outputs": [
        {
          "output_type": "execute_result",
          "data": {
            "text/plain": [
              "[{'meal': 'breakfast', 'calories': 500},\n",
              " {'meal': 'lunch', 'calories': 300},\n",
              " {'meal': 'dinner', 'calories': 700}]"
            ]
          },
          "metadata": {},
          "execution_count": 42
        }
      ],
      "source": [
        "[{\"meal\":x.meal.lower(), \"calories\":x.calories} for x in meal_tuple]"
      ]
    },
    {
      "cell_type": "markdown",
      "metadata": {
        "id": "I0iaNYOd6zlw"
      },
      "source": [
        "### Section6c.8 Reduce Functions"
      ]
    },
    {
      "cell_type": "markdown",
      "metadata": {
        "id": "DlgN3hbf6zlw"
      },
      "source": [
        "The reduce function comprises of three parameters, the first paramter is a function, and the second parameter is the iterable. The last parameter is the initial value. The reduce function will reduce the entire iterable into one single value. Let's say we want to calculate the number of calories I ate in the day, I would need to add up all the calories in the tuple"
      ]
    },
    {
      "cell_type": "code",
      "execution_count": null,
      "metadata": {
        "id": "Hhdr9U8e6zlw"
      },
      "outputs": [],
      "source": [
        "from functools import reduce"
      ]
    },
    {
      "cell_type": "code",
      "execution_count": null,
      "metadata": {
        "id": "bO89cst_6zlw",
        "outputId": "e40a74f5-03d4-411d-e66c-4966b044abfb",
        "colab": {
          "base_uri": "https://localhost:8080/"
        }
      },
      "outputs": [
        {
          "output_type": "execute_result",
          "data": {
            "text/plain": [
              "1500"
            ]
          },
          "metadata": {},
          "execution_count": 44
        }
      ],
      "source": [
        "reduce(lambda x, y: (x + y.calories), meal_tuple, 0)"
      ]
    },
    {
      "cell_type": "markdown",
      "metadata": {
        "id": "DbjSpArB6zlx"
      },
      "source": [
        "The list expression way to do it would be the following:"
      ]
    },
    {
      "cell_type": "code",
      "execution_count": null,
      "metadata": {
        "id": "XoiWrHx16zlx",
        "outputId": "0b9c7f9c-e635-46c4-e2e7-2ed9b3cf6a91",
        "colab": {
          "base_uri": "https://localhost:8080/"
        }
      },
      "outputs": [
        {
          "output_type": "execute_result",
          "data": {
            "text/plain": [
              "1500"
            ]
          },
          "metadata": {},
          "execution_count": 45
        }
      ],
      "source": [
        "sum(x.calories for x in meal_tuple)"
      ]
    },
    {
      "cell_type": "markdown",
      "metadata": {
        "id": "L0FUXyIA6zlx"
      },
      "source": [
        "### Section6c.9 Application of Functional Programming"
      ]
    },
    {
      "cell_type": "code",
      "execution_count": null,
      "metadata": {
        "id": "T9jdq9P46zlx",
        "outputId": "20658d27-92ba-4c68-cac6-38e9fca6aa37",
        "colab": {
          "base_uri": "https://localhost:8080/"
        }
      },
      "outputs": [
        {
          "output_type": "stream",
          "name": "stdout",
          "text": [
            "(meal(meal='BreakFast', main='bread', fruits='apples', drink='coffee', calories=500),\n",
            " meal(meal='Lunch', main='noodle', fruits='grapes', drink='soda', calories=300),\n",
            " meal(meal='Dinner', main='steak', fruits='watermelon', drink='sparkling water', calories=700),\n",
            " meal(meal='BreakFast', main='bread', fruits='apples', drink='coffee', calories=500),\n",
            " meal(meal='Lunch', main='noodle', fruits='grapes', drink='soda', calories=300),\n",
            " meal(meal='Dinner', main='steak', fruits='watermelon', drink='sparkling water', calories=700),\n",
            " meal(meal='BreakFast', main='bread', fruits='apples', drink='coffee', calories=500),\n",
            " meal(meal='Lunch', main='noodle', fruits='grapes', drink='soda', calories=300),\n",
            " meal(meal='Dinner', main='steak', fruits='watermelon', drink='sparkling water', calories=700),\n",
            " meal(meal='BreakFast', main='bread', fruits='apples', drink='coffee', calories=500),\n",
            " meal(meal='Lunch', main='noodle', fruits='grapes', drink='soda', calories=300),\n",
            " meal(meal='Dinner', main='steak', fruits='watermelon', drink='sparkling water', calories=700))\n",
            "Processing record BreakFastProcessing record Dinner\n",
            "\n",
            "Done record DinnerDone record BreakFast\n",
            "Processing record BreakFast\n",
            "\n",
            "Processing record Lunch\n",
            "Done record BreakFast\n",
            "Processing record Lunch\n",
            "Done record Lunch\n",
            "Processing record BreakFast\n",
            "Done record Lunch\n",
            "Processing record Dinner\n",
            "Done record BreakFast\n",
            "Processing record Lunch\n",
            "Done record Lunch\n",
            "Processing record Dinner\n",
            "Done record Dinner\n",
            "Processing record Lunch\n",
            "Done record Dinner\n",
            "Processing record BreakFast\n",
            "Done record Lunch\n",
            "Processing record Dinner\n",
            "Done record BreakFast\n",
            "Done record Dinner\n",
            "Time elapsed: 6.01588s\n"
          ]
        }
      ],
      "source": [
        "import timeit\n",
        "\n",
        "mysetup = '''\n",
        "\n",
        "import time\n",
        "import timeit\n",
        "import collections\n",
        "from pprint import pprint\n",
        "from multiprocessing.pool import ThreadPool as Pool\n",
        "\n",
        "meal_collection = collections.namedtuple('meal', [\n",
        "    'meal',\n",
        "    'main',\n",
        "    'fruits',\n",
        "    'drink',\n",
        "    'calories'\n",
        "])\n",
        "\n",
        "meal_tuple = (\n",
        "    meal_collection(meal='BreakFast', main='bread', fruits='apples', drink='coffee', calories=500),\n",
        "    meal_collection(meal='Lunch', main='noodle', fruits='grapes', drink='soda', calories=300),\n",
        "    meal_collection(meal='Dinner', main='steak', fruits='watermelon', drink='sparkling water', calories=700),\n",
        "    meal_collection(meal='BreakFast', main='bread', fruits='apples', drink='coffee', calories=500),\n",
        "    meal_collection(meal='Lunch', main='noodle', fruits='grapes', drink='soda', calories=300),\n",
        "    meal_collection(meal='Dinner', main='steak', fruits='watermelon', drink='sparkling water', calories=700),\n",
        "    meal_collection(meal='BreakFast', main='bread', fruits='apples', drink='coffee', calories=500),\n",
        "    meal_collection(meal='Lunch', main='noodle', fruits='grapes', drink='soda', calories=300),\n",
        "    meal_collection(meal='Dinner', main='steak', fruits='watermelon', drink='sparkling water', calories=700),\n",
        "    meal_collection(meal='BreakFast', main='bread', fruits='apples', drink='coffee', calories=500),\n",
        "    meal_collection(meal='Lunch', main='noodle', fruits='grapes', drink='soda', calories=300),\n",
        "    meal_collection(meal='Dinner', main='steak', fruits='watermelon', drink='sparkling water', calories=700),\n",
        ")\n",
        "\n",
        "pprint(meal_tuple)\n",
        "\n",
        "def temp_filter(x):\n",
        "    print(f'Processing record {x.meal}')\n",
        "    time.sleep(1)\n",
        "    temp_result = {'meal': x.meal, 'calories': x.calories}\n",
        "    print(f'Done record {x.meal}')\n",
        "    return (temp_result)\n",
        "'''\n",
        "\n",
        "mycode = '''\n",
        "pool = Pool()\n",
        "result = pool.map(temp_filter, meal_tuple)\n",
        "#result = tuple(map(\n",
        "#     temp_filter,\n",
        "#     meal_tuple\n",
        "#     ))\n",
        "'''\n",
        "\n",
        "time_elapsed = timeit.timeit(setup = mysetup, stmt=mycode, number =1)\n",
        "\n",
        "print(f'Time elapsed: {time_elapsed:.5f}s')\n",
        "# pprint(result)"
      ]
    },
    {
      "cell_type": "code",
      "execution_count": null,
      "metadata": {
        "id": "mtePMKBx6zlx"
      },
      "outputs": [],
      "source": []
    }
  ],
  "metadata": {
    "kernelspec": {
      "display_name": "Python 3",
      "language": "python",
      "name": "python3"
    },
    "language_info": {
      "codemirror_mode": {
        "name": "ipython",
        "version": 3
      },
      "file_extension": ".py",
      "mimetype": "text/x-python",
      "name": "python",
      "nbconvert_exporter": "python",
      "pygments_lexer": "ipython3",
      "version": "3.8.8"
    },
    "colab": {
      "provenance": []
    }
  },
  "nbformat": 4,
  "nbformat_minor": 0
}